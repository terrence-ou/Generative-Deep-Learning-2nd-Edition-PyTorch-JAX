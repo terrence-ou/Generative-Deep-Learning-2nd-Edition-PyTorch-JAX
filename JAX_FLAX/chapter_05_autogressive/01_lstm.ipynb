{
 "cells": [
  {
   "cell_type": "markdown",
   "id": "b4e1ee6e-4367-4ef1-b15c-9ad225053267",
   "metadata": {},
   "source": [
    "# LSTM on Recipe Data"
   ]
  },
  {
   "cell_type": "markdown",
   "id": "4a8e0b4f-1228-4eda-8842-9bf19873b034",
   "metadata": {},
   "source": [
    "**The notebook has been adapted from the notebook provided in David Foster's Generative Deep Learning, 2nd Edition.**\n",
    "\n",
    "- Book: [Amazon](https://www.amazon.com/Generative-Deep-Learning-Teaching-Machines/dp/1098134184/ref=sr_1_1?keywords=generative+deep+learning%2C+2nd+edition&qid=1684708209&sprefix=generative+de%2Caps%2C93&sr=8-1)\n",
    "- Original notebook (tensorflow and keras): [Github](https://github.com/davidADSP/Generative_Deep_Learning_2nd_Edition/blob/main/notebooks/05_autoregressive/01_lstm/lstm.ipynb)\n",
    "- Dataset: [Kaggle](https://www.kaggle.com/datasets/hugodarwood/epirecipes)"
   ]
  },
  {
   "cell_type": "code",
   "execution_count": 8,
   "id": "2d625ea0-486e-4619-ad9d-0ebbd7c24d04",
   "metadata": {},
   "outputs": [],
   "source": [
    "import re\n",
    "import string\n",
    "import json\n",
    "\n",
    "import numpy as np\n",
    "import jax\n",
    "import jax.numpy as jnp\n",
    "from tensorflow.data import Dataset\n",
    "from tensorflow.keras.layers import TextVectorization\n",
    "from tensorflow.keras import utils\n",
    "\n",
    "import flax.linen as nn"
   ]
  },
  {
   "cell_type": "markdown",
   "id": "ef76dd9c-8a94-4b81-907d-b0a64ee0c905",
   "metadata": {},
   "source": [
    "## 0. Train parameters"
   ]
  },
  {
   "cell_type": "code",
   "execution_count": 11,
   "id": "de4684fb-c1d3-41b8-b7da-4ea8da5dfa47",
   "metadata": {},
   "outputs": [],
   "source": [
    "DATA_DIR = '../../data/epirecipes/full_format_recipes.json'\n",
    "\n",
    "EMBEDDING_DIM = 100\n",
    "HIDDEN_DIM = 128\n",
    "VALIDATION_SPLIT = 0.2\n",
    "SEED = 1024\n",
    "BATCH_SIZE = 32\n",
    "EPOCHS = 30\n",
    "VOCAB_SIZE = 10000\n",
    "\n",
    "MAX_PAD_LEN = 200\n",
    "MAX_VAL_TOKENS = 100 # Max number of tokens when generating texts"
   ]
  },
  {
   "cell_type": "markdown",
   "id": "c7785935-9cdb-4b7f-87d4-c62df452fa08",
   "metadata": {},
   "source": [
    "## 1. Load dataset"
   ]
  },
  {
   "cell_type": "code",
   "execution_count": 3,
   "id": "0c07bf4e-9e45-4811-a65c-b0e5378aeeed",
   "metadata": {},
   "outputs": [],
   "source": [
    "def pad_punctuation(sentence):\n",
    "    sentence = re.sub(f'([{string.punctuation}])', r' \\1 ', sentence)\n",
    "    sentence = re.sub(' +', ' ', sentence)\n",
    "    return sentence"
   ]
  },
  {
   "cell_type": "code",
   "execution_count": 4,
   "id": "4ad38cac-1ae6-42f7-95ef-3a9bff45e293",
   "metadata": {},
   "outputs": [],
   "source": [
    "# load dataset\n",
    "with open(DATA_DIR, 'r+') as f:\n",
    "    recipe_data = json.load(f)"
   ]
  },
  {
   "cell_type": "code",
   "execution_count": 19,
   "id": "a6f19bd7-9d03-4f72-8191-7d082c22663d",
   "metadata": {},
   "outputs": [
    {
     "name": "stdout",
     "output_type": "stream",
     "text": [
      "Total recipe loaded: 20098\n"
     ]
    }
   ],
   "source": [
    "# preprocess dataset\n",
    "filtered_data = [\n",
    "    'Recipe for ' + x['title'] + ' | ' + ' '.join(x['directions'])\n",
    "    for x in recipe_data\n",
    "    if 'title' in x and x['title']\n",
    "    and 'directions' in x and x['directions']\n",
    "]\n",
    "\n",
    "text_ds = [pad_punctuation(sentence) for sentence in filtered_data]\n",
    "print(f'Total recipe loaded: {len(text_ds)}')"
   ]
  },
  {
   "cell_type": "code",
   "execution_count": 20,
   "id": "a0bc4013-f1cb-46ea-81d1-abc8017365dd",
   "metadata": {},
   "outputs": [
    {
     "name": "stdout",
     "output_type": "stream",
     "text": [
      "Sample data:\n",
      "Recipe for Clay - Pot Miso Chicken | Preheat oven to 500°F with rack in middle . Pat chicken dry , then roast , skin side up , in 1 layer in a 17 - by 12 - inch shallow baking pan until skin is golden brown , 35 to 40 minutes . While chicken roasts , soak wood ear mushrooms in 4 cups water until softened , about 15 minutes . Drain in a sieve , then rinse well and discard any hard pieces . Drain well , squeezing out excess water . Transfer roasted chicken to a bowl and pour pan juices through a fine - mesh sieve into a 1 - quart glass measure . Let stand until fat rises to top , 1 to 2 minutes , then skim off and discard fat . Add enough stock to bring total to 4 cups liquid . Reduce oven to 300°F and move rack to lower third . Peel burdock root , and , if more than 1 - inch - thick , halve lengthwise . Cut crosswise into 1 - inch pieces . Transfer burdock root to a bowl , then add vinegar and 2 cups water . Heat oil in a 7 - to 8 - quart heavy pot over medium - high heat until it shimmers , then sauté onions until softened and beginning to brown . Add shiitakes , ginger , and garlic and sauté until garlic is golden , 3 to 5 minutes . Add mirin and boil , stirring and scraping up any brown bits , 1 minute . Stir in miso and soy sauce , then stir in chicken , wood ear mushrooms , burdock ( drained ) , stock mixture , and remaining 4 cups water . Bring to a boil , skimming off any froth . Cover pot and braise in oven until chicken is tender , about 1 hour . Stir in mustard greens and continue to braise , covered , 5 minutes . Serve in shallow bowls . \n"
     ]
    }
   ],
   "source": [
    "print('Sample data:')\n",
    "sample_data = np.random.choice(text_ds)\n",
    "print(sample_data)"
   ]
  },
  {
   "cell_type": "markdown",
   "id": "a2809b15-a4bc-488c-a8cd-ae70f5fd1dae",
   "metadata": {},
   "source": [
    "## 2. Build vocabularies"
   ]
  },
  {
   "cell_type": "code",
   "execution_count": 21,
   "id": "ef8cf15a-6a3c-4b16-a7f5-06426b294859",
   "metadata": {},
   "outputs": [],
   "source": [
    "# conver texts list to tf dataset\n",
    "text_ds_tf = Dataset.from_tensor_slices(text_ds)\n",
    "\n",
    "vectorize_layer = TextVectorization(\n",
    "    standardize='lower',\n",
    "    max_tokens=VOCAB_SIZE,\n",
    "    output_mode='int',\n",
    "    output_sequence_length=MAX_PAD_LEN+1\n",
    ")"
   ]
  },
  {
   "cell_type": "code",
   "execution_count": 25,
   "id": "b1ccea64-db03-4e3b-b30c-6c2e4c88f92c",
   "metadata": {},
   "outputs": [
    {
     "name": "stdout",
     "output_type": "stream",
     "text": [
      "0: \n",
      "1: [UNK]\n",
      "2: .\n",
      "3: ,\n",
      "4: and\n",
      "5: to\n",
      "6: in\n",
      "7: the\n",
      "8: with\n",
      "9: a\n"
     ]
    }
   ],
   "source": [
    "vectorize_layer.adapt(text_ds_tf)\n",
    "vocab = vectorize_layer.get_vocabulary()\n",
    "\n",
    "# First 10 items in the vocabulary\n",
    "for i, word in enumerate(vocab[:10]):\n",
    "    print(f'{i}: {word}')"
   ]
  },
  {
   "cell_type": "code",
   "execution_count": 29,
   "id": "3c385672-4086-4ddb-8113-e9efd56c2c6e",
   "metadata": {},
   "outputs": [
    {
     "name": "stdout",
     "output_type": "stream",
     "text": [
      "Source text:\n",
      "Recipe for Clay - Pot Miso Chicken | Preheat oven to 500°F with rack in middle . Pat chicken dry , then roast , skin side up , in 1 layer in a 17 - by 12 - inch shallow baking pan until skin is golden brown , 35 to 40 minutes . While chicken roasts , soak wood ear mushrooms in 4 cups water until softened , about 15 minutes . Drain in a sieve , then rinse well and discard any hard pieces . Drain well , squeezing out excess water . Transfer roasted chicken to a bowl and pour pan juices through a fine - mesh sieve into a 1 - quart glass measure . Let stand until fat rises to top , 1 to 2 minutes , then skim off and discard fat . Add enough stock to bring total to 4 cups liquid . Reduce oven to 300°F and move rack to lower third . Peel burdock root , and , if more than 1 - inch - thick , halve lengthwise . Cut crosswise into 1 - inch pieces . Transfer burdock root to a bowl , then add vinegar and 2 cups water . Heat oil in a 7 - to 8 - quart heavy pot over medium - high heat until it shimmers , then sauté onions until softened and beginning to brown . Add shiitakes , ginger , and garlic and sauté until garlic is golden , 3 to 5 minutes . Add mirin and boil , stirring and scraping up any brown bits , 1 minute . Stir in miso and soy sauce , then stir in chicken , wood ear mushrooms , burdock ( drained ) , stock mixture , and remaining 4 cups water . Bring to a boil , skimming off any froth . Cover pot and braise in oven until chicken is tender , about 1 hour . Stir in mustard greens and continue to braise , covered , 5 minutes . Serve in shallow bowls . \n",
      "\n",
      "\n",
      "Mapped sample:\n",
      "[  26   16 3043   13  101 1291   83   27   86   47    5 1392    8  119\n",
      "    6  254    2  339   83  162    3   46  192    3  290   96   99    3\n",
      "    6   11  230    6    9 1466   13  180  194   13   53  344   58   44\n",
      "   10  290   38  100   91    3  607    5  520   12    2  317   83 2124\n",
      "    3  581 1695 3721  275    6   32  138   39   10  361    3   19  127\n",
      "   12    2  120    6    9  306    3   46  449  128    4  206  226 1023\n",
      "  220    2  120  128    3 1583  124  375   39    2   40  404   83    5\n",
      "    9   21    4  107   44  232  102    9  374   13  643  306   25    9\n",
      "   11   13  250  287  594    2   67  146   10  245 1839    5   72    3\n",
      "   11    5   15   12    3   46  888  161    4  206  245    2   18  228\n",
      "  300    5   84  485    5   32  138  143    2  153   47    5 1063    4\n",
      " 1383  119    5  587  438    2  175 5060  864    3    4    3   92  147\n",
      "  779   11   13   53   13  197    3  538  416    2   74  446   25   11\n",
      "   13   53  220    2   40 5060  864    5    9   21    3   46   18  190\n",
      "    4   15  138   39    2]\n"
     ]
    }
   ],
   "source": [
    "sample_data_tokenized = vectorize_layer(sample_data)\n",
    "print('Source text:')\n",
    "print(sample_data)\n",
    "print('\\n')\n",
    "print('Mapped sample:')\n",
    "print(sample_data_tokenized.numpy())"
   ]
  },
  {
   "cell_type": "code",
   "execution_count": null,
   "id": "934edd7d-4f83-4058-9b06-e2ad21245b70",
   "metadata": {},
   "outputs": [],
   "source": []
  }
 ],
 "metadata": {
  "kernelspec": {
   "display_name": "Python 3",
   "language": "python",
   "name": "python3"
  },
  "language_info": {
   "codemirror_mode": {
    "name": "ipython",
    "version": 3
   },
   "file_extension": ".py",
   "mimetype": "text/x-python",
   "name": "python",
   "nbconvert_exporter": "python",
   "pygments_lexer": "ipython3",
   "version": "3.9.0"
  }
 },
 "nbformat": 4,
 "nbformat_minor": 5
}
