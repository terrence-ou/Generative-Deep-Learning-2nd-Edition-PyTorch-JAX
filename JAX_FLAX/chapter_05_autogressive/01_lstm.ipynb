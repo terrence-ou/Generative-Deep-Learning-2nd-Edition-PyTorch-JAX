{
 "cells": [
  {
   "cell_type": "markdown",
   "id": "b4e1ee6e-4367-4ef1-b15c-9ad225053267",
   "metadata": {},
   "source": [
    "# LSTM on Recipe Data"
   ]
  },
  {
   "cell_type": "markdown",
   "id": "4a8e0b4f-1228-4eda-8842-9bf19873b034",
   "metadata": {},
   "source": [
    "**The notebook has been adapted from the notebook provided in David Foster's Generative Deep Learning, 2nd Edition.**\n",
    "\n",
    "- Book: [Amazon](https://www.amazon.com/Generative-Deep-Learning-Teaching-Machines/dp/1098134184/ref=sr_1_1?keywords=generative+deep+learning%2C+2nd+edition&qid=1684708209&sprefix=generative+de%2Caps%2C93&sr=8-1)\n",
    "- Original notebook (tensorflow and keras): [Github](https://github.com/davidADSP/Generative_Deep_Learning_2nd_Edition/blob/main/notebooks/05_autoregressive/01_lstm/lstm.ipynb)\n",
    "- Dataset: [Kaggle](https://www.kaggle.com/datasets/hugodarwood/epirecipes)"
   ]
  },
  {
   "cell_type": "code",
   "execution_count": 28,
   "id": "2d625ea0-486e-4619-ad9d-0ebbd7c24d04",
   "metadata": {},
   "outputs": [],
   "source": [
    "import re\n",
    "import string\n",
    "import json\n",
    "\n",
    "import numpy as np\n",
    "import jax\n",
    "import jax.numpy as jnp\n",
    "from tensorflow.data import Dataset\n",
    "from tensorflow.keras.layers import TextVectorization\n",
    "from tensorflow.keras import utils\n",
    "\n",
    "from flax import struct\n",
    "from flax.training import train_state\n",
    "import flax.linen as nn\n",
    "import optax\n",
    "\n",
    "from clu import metrics"
   ]
  },
  {
   "cell_type": "markdown",
   "id": "ef76dd9c-8a94-4b81-907d-b0a64ee0c905",
   "metadata": {},
   "source": [
    "## 0. Train parameters"
   ]
  },
  {
   "cell_type": "code",
   "execution_count": 15,
   "id": "de4684fb-c1d3-41b8-b7da-4ea8da5dfa47",
   "metadata": {},
   "outputs": [],
   "source": [
    "DATA_DIR = '../../data/epirecipes/full_format_recipes.json'\n",
    "\n",
    "EMBEDDING_DIM = 100\n",
    "HIDDEN_DIM = 128\n",
    "NUM_LSTM_LAYERS = 2\n",
    "VALIDATION_SPLIT = 0.2\n",
    "SEED = 1024\n",
    "BATCH_SIZE = 32\n",
    "EPOCHS = 30\n",
    "VOCAB_SIZE = 10000\n",
    "\n",
    "\n",
    "MAX_PAD_LEN = 200\n",
    "MAX_VAL_TOKENS = 100 # Max number of tokens when generating texts"
   ]
  },
  {
   "cell_type": "markdown",
   "id": "c7785935-9cdb-4b7f-87d4-c62df452fa08",
   "metadata": {},
   "source": [
    "## 1. Load dataset"
   ]
  },
  {
   "cell_type": "code",
   "execution_count": 3,
   "id": "0c07bf4e-9e45-4811-a65c-b0e5378aeeed",
   "metadata": {},
   "outputs": [],
   "source": [
    "def pad_punctuation(sentence):\n",
    "    sentence = re.sub(f'([{string.punctuation}])', r' \\1 ', sentence)\n",
    "    sentence = re.sub(' +', ' ', sentence)\n",
    "    return sentence"
   ]
  },
  {
   "cell_type": "code",
   "execution_count": 4,
   "id": "4ad38cac-1ae6-42f7-95ef-3a9bff45e293",
   "metadata": {},
   "outputs": [],
   "source": [
    "# load dataset\n",
    "with open(DATA_DIR, 'r+') as f:\n",
    "    recipe_data = json.load(f)"
   ]
  },
  {
   "cell_type": "code",
   "execution_count": 5,
   "id": "a6f19bd7-9d03-4f72-8191-7d082c22663d",
   "metadata": {},
   "outputs": [
    {
     "name": "stdout",
     "output_type": "stream",
     "text": [
      "Total recipe loaded: 20098\n"
     ]
    }
   ],
   "source": [
    "# preprocess dataset\n",
    "filtered_data = [\n",
    "    'Recipe for ' + x['title'] + ' | ' + ' '.join(x['directions'])\n",
    "    for x in recipe_data\n",
    "    if 'title' in x and x['title']\n",
    "    and 'directions' in x and x['directions']\n",
    "]\n",
    "\n",
    "text_ds = [pad_punctuation(sentence) for sentence in filtered_data]\n",
    "print(f'Total recipe loaded: {len(text_ds)}')"
   ]
  },
  {
   "cell_type": "code",
   "execution_count": 10,
   "id": "a0bc4013-f1cb-46ea-81d1-abc8017365dd",
   "metadata": {},
   "outputs": [
    {
     "name": "stdout",
     "output_type": "stream",
     "text": [
      "Sample data:\n",
      "Recipe for Greek - Style Shrimp | Heat oil in heavy large skillet over medium heat . Add onion and sauté until translucent , about 8 minutes . Add tomatoes , wine and oregano . Simmer until thickened , stirring occasionally , about 5 minutes . Add shrimp and stir until opaque , 3 minutes . Season with salt and pepper . Serve with rice . \n"
     ]
    }
   ],
   "source": [
    "print('Sample data:')\n",
    "sample_data = np.random.choice(text_ds)\n",
    "print(sample_data)"
   ]
  },
  {
   "cell_type": "markdown",
   "id": "a2809b15-a4bc-488c-a8cd-ae70f5fd1dae",
   "metadata": {},
   "source": [
    "## 2. Build vocabularies"
   ]
  },
  {
   "cell_type": "code",
   "execution_count": 7,
   "id": "ef8cf15a-6a3c-4b16-a7f5-06426b294859",
   "metadata": {},
   "outputs": [],
   "source": [
    "# conver texts list to tf dataset\n",
    "text_ds_tf = Dataset.from_tensor_slices(text_ds)\n",
    "\n",
    "vectorize_layer = TextVectorization(\n",
    "    standardize='lower',\n",
    "    max_tokens=VOCAB_SIZE,\n",
    "    output_mode='int',\n",
    "    output_sequence_length=MAX_PAD_LEN+1\n",
    ")"
   ]
  },
  {
   "cell_type": "code",
   "execution_count": 8,
   "id": "b1ccea64-db03-4e3b-b30c-6c2e4c88f92c",
   "metadata": {},
   "outputs": [
    {
     "name": "stdout",
     "output_type": "stream",
     "text": [
      "0: \n",
      "1: [UNK]\n",
      "2: .\n",
      "3: ,\n",
      "4: and\n",
      "5: to\n",
      "6: in\n",
      "7: the\n",
      "8: with\n",
      "9: a\n"
     ]
    }
   ],
   "source": [
    "vectorize_layer.adapt(text_ds_tf)\n",
    "vocab = vectorize_layer.get_vocabulary()\n",
    "\n",
    "# First 10 items in the vocabulary\n",
    "for i, word in enumerate(vocab[:10]):\n",
    "    print(f'{i}: {word}')"
   ]
  },
  {
   "cell_type": "code",
   "execution_count": 11,
   "id": "3c385672-4086-4ddb-8113-e9efd56c2c6e",
   "metadata": {},
   "outputs": [
    {
     "name": "stdout",
     "output_type": "stream",
     "text": [
      "Source text:\n",
      "Recipe for Greek - Style Shrimp | Heat oil in heavy large skillet over medium heat . Add onion and sauté until translucent , about 8 minutes . Add tomatoes , wine and oregano . Simmer until thickened , stirring occasionally , about 5 minutes . Add shrimp and stir until opaque , 3 minutes . Season with salt and pepper . Serve with rice . \n",
      "\n",
      "\n",
      "Mapped sample:\n",
      "[  26   16 1952   13 1032  261   27   17   37    6   78   30   56   20\n",
      "   29   17    2   18  115    4  130   10  861    3   19  113   12    2\n",
      "   18  182    3  249    4  639    2   70   10  426    3   48   90    3\n",
      "   19   59   12    2   18  261    4   42   10  696    3   36   12    2\n",
      "   63    8   24    4   33    2   68    8  205    2    0    0    0    0\n",
      "    0    0    0    0    0    0    0    0    0    0    0    0    0    0\n",
      "    0    0    0    0    0    0    0    0    0    0    0    0    0    0\n",
      "    0    0    0    0    0    0    0    0    0    0    0    0    0    0\n",
      "    0    0    0    0    0    0    0    0    0    0    0    0    0    0\n",
      "    0    0    0    0    0    0    0    0    0    0    0    0    0    0\n",
      "    0    0    0    0    0    0    0    0    0    0    0    0    0    0\n",
      "    0    0    0    0    0    0    0    0    0    0    0    0    0    0\n",
      "    0    0    0    0    0    0    0    0    0    0    0    0    0    0\n",
      "    0    0    0    0    0    0    0    0    0    0    0    0    0    0\n",
      "    0    0    0    0    0]\n"
     ]
    }
   ],
   "source": [
    "sample_data_tokenized = vectorize_layer(sample_data)\n",
    "print('Source text:')\n",
    "print(sample_data)\n",
    "print('\\n')\n",
    "print('Mapped sample:')\n",
    "print(sample_data_tokenized.numpy())"
   ]
  },
  {
   "cell_type": "markdown",
   "id": "8d4c4727-7bd6-49d3-a4b5-1ea3e37fd4bb",
   "metadata": {},
   "source": [
    "## 3. Create train/validation datasets"
   ]
  },
  {
   "cell_type": "code",
   "execution_count": 12,
   "id": "a717b2b3-68ce-4511-8c7a-6db64813f4ab",
   "metadata": {},
   "outputs": [],
   "source": [
    "def map_src_tgt(text):\n",
    "    tokenized_sentence = vectorize_layer(text)\n",
    "    src = tokenized_sentence[:-1]\n",
    "    tgt = tokenized_sentence[1:]\n",
    "    return src, tgt\n",
    "    \n",
    "\n",
    "def get_datasets(input_ds):\n",
    "    train_size = int(len(input_ds) * (1 - VALIDATION_SPLIT))\n",
    "    train_ds = input_ds.take(train_size)\n",
    "    valid_ds = input_ds.skip(train_size)\n",
    "    print(f'train size: {train_ds.cardinality()}, valid size: {valid_ds.cardinality()}')\n",
    "\n",
    "    train_ds = train_ds.map(map_src_tgt)\n",
    "    valid_ds = valid_ds.map(map_src_tgt)\n",
    "    \n",
    "    train_ds = train_ds.batch(BATCH_SIZE).shuffle(1024).prefetch(1)\n",
    "    valid_ds = valid_ds.batch(BATCH_SIZE).prefetch(1)\n",
    "\n",
    "    print(f'train batch: {train_ds.cardinality()}, valid batch: {valid_ds.cardinality()}')\n",
    "    return train_ds, valid_ds"
   ]
  },
  {
   "cell_type": "code",
   "execution_count": 13,
   "id": "c14bc2df-97b5-404c-b600-e6481f16a187",
   "metadata": {},
   "outputs": [
    {
     "name": "stdout",
     "output_type": "stream",
     "text": [
      "train size: 16078, valid size: 4020\n",
      "train batch: 503, valid batch: 126\n"
     ]
    }
   ],
   "source": [
    "train_ds, valid_ds = get_datasets(text_ds_tf)"
   ]
  },
  {
   "cell_type": "markdown",
   "id": "c93c4189-e96b-44d0-977e-c1eff2c61607",
   "metadata": {},
   "source": [
    "## 4. Build LSTM model"
   ]
  },
  {
   "cell_type": "code",
   "execution_count": 32,
   "id": "51f616bd-e50c-4c44-ab5b-fcfcc686bdfc",
   "metadata": {},
   "outputs": [
    {
     "name": "stdout",
     "output_type": "stream",
     "text": [
      "\n",
      "\u001b[3m                                              LSTM_model Summary                                              \u001b[0m\n",
      "┏━━━━━━━━━━━┳━━━━━━━━━━━━┳━━━━━━━━━━━━━━━━━━━━━━━━━┳━━━━━━━━━━━━━━━━━━━━━━━━━┳━━━━━━━━━━━━━━━━━━━━━━━━━━━━━━━┓\n",
      "┃\u001b[1m \u001b[0m\u001b[1mpath     \u001b[0m\u001b[1m \u001b[0m┃\u001b[1m \u001b[0m\u001b[1mmodule    \u001b[0m\u001b[1m \u001b[0m┃\u001b[1m \u001b[0m\u001b[1minputs                 \u001b[0m\u001b[1m \u001b[0m┃\u001b[1m \u001b[0m\u001b[1moutputs                \u001b[0m\u001b[1m \u001b[0m┃\u001b[1m \u001b[0m\u001b[1mparams                       \u001b[0m\u001b[1m \u001b[0m┃\n",
      "┡━━━━━━━━━━━╇━━━━━━━━━━━━╇━━━━━━━━━━━━━━━━━━━━━━━━━╇━━━━━━━━━━━━━━━━━━━━━━━━━╇━━━━━━━━━━━━━━━━━━━━━━━━━━━━━━━┩\n",
      "│           │ LSTM_model │ \u001b[2mint16\u001b[0m[32,200]           │ \u001b[2mfloat32\u001b[0m[32,200,10000]   │                               │\n",
      "├───────────┼────────────┼─────────────────────────┼─────────────────────────┼───────────────────────────────┤\n",
      "│ embed     │ Embed      │ \u001b[2mint16\u001b[0m[32,200]           │ \u001b[2mfloat32\u001b[0m[32,200,128]     │ embedding: \u001b[2mfloat32\u001b[0m[10000,128] │\n",
      "│           │            │                         │                         │                               │\n",
      "│           │            │                         │                         │ \u001b[1m1,280,000 \u001b[0m\u001b[1;2m(5.1 MB)\u001b[0m            │\n",
      "├───────────┼────────────┼─────────────────────────┼─────────────────────────┼───────────────────────────────┤\n",
      "│ lstm_0    │ LSTMCell   │ - - \u001b[2mfloat32\u001b[0m[32,200,128] │ - - \u001b[2mfloat32\u001b[0m[32,200,128] │                               │\n",
      "│           │            │   - \u001b[2mfloat32\u001b[0m[32,200,128] │   - \u001b[2mfloat32\u001b[0m[32,200,128] │                               │\n",
      "│           │            │ - \u001b[2mfloat32\u001b[0m[32,200,128]   │ - \u001b[2mfloat32\u001b[0m[32,200,128]   │                               │\n",
      "├───────────┼────────────┼─────────────────────────┼─────────────────────────┼───────────────────────────────┤\n",
      "│ lstm_0/ii │ Dense      │ \u001b[2mfloat32\u001b[0m[32,200,128]     │ \u001b[2mfloat32\u001b[0m[32,200,128]     │ kernel: \u001b[2mfloat32\u001b[0m[128,128]      │\n",
      "│           │            │                         │                         │                               │\n",
      "│           │            │                         │                         │ \u001b[1m16,384 \u001b[0m\u001b[1;2m(65.5 KB)\u001b[0m              │\n",
      "├───────────┼────────────┼─────────────────────────┼─────────────────────────┼───────────────────────────────┤\n",
      "│ lstm_0/hi │ Dense      │ \u001b[2mfloat32\u001b[0m[32,200,128]     │ \u001b[2mfloat32\u001b[0m[32,200,128]     │ bias: \u001b[2mfloat32\u001b[0m[128]            │\n",
      "│           │            │                         │                         │ kernel: \u001b[2mfloat32\u001b[0m[128,128]      │\n",
      "│           │            │                         │                         │                               │\n",
      "│           │            │                         │                         │ \u001b[1m16,512 \u001b[0m\u001b[1;2m(66.0 KB)\u001b[0m              │\n",
      "├───────────┼────────────┼─────────────────────────┼─────────────────────────┼───────────────────────────────┤\n",
      "│ lstm_0/if │ Dense      │ \u001b[2mfloat32\u001b[0m[32,200,128]     │ \u001b[2mfloat32\u001b[0m[32,200,128]     │ kernel: \u001b[2mfloat32\u001b[0m[128,128]      │\n",
      "│           │            │                         │                         │                               │\n",
      "│           │            │                         │                         │ \u001b[1m16,384 \u001b[0m\u001b[1;2m(65.5 KB)\u001b[0m              │\n",
      "├───────────┼────────────┼─────────────────────────┼─────────────────────────┼───────────────────────────────┤\n",
      "│ lstm_0/hf │ Dense      │ \u001b[2mfloat32\u001b[0m[32,200,128]     │ \u001b[2mfloat32\u001b[0m[32,200,128]     │ bias: \u001b[2mfloat32\u001b[0m[128]            │\n",
      "│           │            │                         │                         │ kernel: \u001b[2mfloat32\u001b[0m[128,128]      │\n",
      "│           │            │                         │                         │                               │\n",
      "│           │            │                         │                         │ \u001b[1m16,512 \u001b[0m\u001b[1;2m(66.0 KB)\u001b[0m              │\n",
      "├───────────┼────────────┼─────────────────────────┼─────────────────────────┼───────────────────────────────┤\n",
      "│ lstm_0/ig │ Dense      │ \u001b[2mfloat32\u001b[0m[32,200,128]     │ \u001b[2mfloat32\u001b[0m[32,200,128]     │ kernel: \u001b[2mfloat32\u001b[0m[128,128]      │\n",
      "│           │            │                         │                         │                               │\n",
      "│           │            │                         │                         │ \u001b[1m16,384 \u001b[0m\u001b[1;2m(65.5 KB)\u001b[0m              │\n",
      "├───────────┼────────────┼─────────────────────────┼─────────────────────────┼───────────────────────────────┤\n",
      "│ lstm_0/hg │ Dense      │ \u001b[2mfloat32\u001b[0m[32,200,128]     │ \u001b[2mfloat32\u001b[0m[32,200,128]     │ bias: \u001b[2mfloat32\u001b[0m[128]            │\n",
      "│           │            │                         │                         │ kernel: \u001b[2mfloat32\u001b[0m[128,128]      │\n",
      "│           │            │                         │                         │                               │\n",
      "│           │            │                         │                         │ \u001b[1m16,512 \u001b[0m\u001b[1;2m(66.0 KB)\u001b[0m              │\n",
      "├───────────┼────────────┼─────────────────────────┼─────────────────────────┼───────────────────────────────┤\n",
      "│ lstm_0/io │ Dense      │ \u001b[2mfloat32\u001b[0m[32,200,128]     │ \u001b[2mfloat32\u001b[0m[32,200,128]     │ kernel: \u001b[2mfloat32\u001b[0m[128,128]      │\n",
      "│           │            │                         │                         │                               │\n",
      "│           │            │                         │                         │ \u001b[1m16,384 \u001b[0m\u001b[1;2m(65.5 KB)\u001b[0m              │\n",
      "├───────────┼────────────┼─────────────────────────┼─────────────────────────┼───────────────────────────────┤\n",
      "│ lstm_0/ho │ Dense      │ \u001b[2mfloat32\u001b[0m[32,200,128]     │ \u001b[2mfloat32\u001b[0m[32,200,128]     │ bias: \u001b[2mfloat32\u001b[0m[128]            │\n",
      "│           │            │                         │                         │ kernel: \u001b[2mfloat32\u001b[0m[128,128]      │\n",
      "│           │            │                         │                         │                               │\n",
      "│           │            │                         │                         │ \u001b[1m16,512 \u001b[0m\u001b[1;2m(66.0 KB)\u001b[0m              │\n",
      "├───────────┼────────────┼─────────────────────────┼─────────────────────────┼───────────────────────────────┤\n",
      "│ lstm_1    │ LSTMCell   │ - - \u001b[2mfloat32\u001b[0m[32,200,128] │ - - \u001b[2mfloat32\u001b[0m[32,200,128] │                               │\n",
      "│           │            │   - \u001b[2mfloat32\u001b[0m[32,200,128] │   - \u001b[2mfloat32\u001b[0m[32,200,128] │                               │\n",
      "│           │            │ - \u001b[2mfloat32\u001b[0m[32,200,128]   │ - \u001b[2mfloat32\u001b[0m[32,200,128]   │                               │\n",
      "├───────────┼────────────┼─────────────────────────┼─────────────────────────┼───────────────────────────────┤\n",
      "│ lstm_1/ii │ Dense      │ \u001b[2mfloat32\u001b[0m[32,200,128]     │ \u001b[2mfloat32\u001b[0m[32,200,128]     │ kernel: \u001b[2mfloat32\u001b[0m[128,128]      │\n",
      "│           │            │                         │                         │                               │\n",
      "│           │            │                         │                         │ \u001b[1m16,384 \u001b[0m\u001b[1;2m(65.5 KB)\u001b[0m              │\n",
      "├───────────┼────────────┼─────────────────────────┼─────────────────────────┼───────────────────────────────┤\n",
      "│ lstm_1/hi │ Dense      │ \u001b[2mfloat32\u001b[0m[32,200,128]     │ \u001b[2mfloat32\u001b[0m[32,200,128]     │ bias: \u001b[2mfloat32\u001b[0m[128]            │\n",
      "│           │            │                         │                         │ kernel: \u001b[2mfloat32\u001b[0m[128,128]      │\n",
      "│           │            │                         │                         │                               │\n",
      "│           │            │                         │                         │ \u001b[1m16,512 \u001b[0m\u001b[1;2m(66.0 KB)\u001b[0m              │\n",
      "├───────────┼────────────┼─────────────────────────┼─────────────────────────┼───────────────────────────────┤\n",
      "│ lstm_1/if │ Dense      │ \u001b[2mfloat32\u001b[0m[32,200,128]     │ \u001b[2mfloat32\u001b[0m[32,200,128]     │ kernel: \u001b[2mfloat32\u001b[0m[128,128]      │\n",
      "│           │            │                         │                         │                               │\n",
      "│           │            │                         │                         │ \u001b[1m16,384 \u001b[0m\u001b[1;2m(65.5 KB)\u001b[0m              │\n",
      "├───────────┼────────────┼─────────────────────────┼─────────────────────────┼───────────────────────────────┤\n",
      "│ lstm_1/hf │ Dense      │ \u001b[2mfloat32\u001b[0m[32,200,128]     │ \u001b[2mfloat32\u001b[0m[32,200,128]     │ bias: \u001b[2mfloat32\u001b[0m[128]            │\n",
      "│           │            │                         │                         │ kernel: \u001b[2mfloat32\u001b[0m[128,128]      │\n",
      "│           │            │                         │                         │                               │\n",
      "│           │            │                         │                         │ \u001b[1m16,512 \u001b[0m\u001b[1;2m(66.0 KB)\u001b[0m              │\n",
      "├───────────┼────────────┼─────────────────────────┼─────────────────────────┼───────────────────────────────┤\n",
      "│ lstm_1/ig │ Dense      │ \u001b[2mfloat32\u001b[0m[32,200,128]     │ \u001b[2mfloat32\u001b[0m[32,200,128]     │ kernel: \u001b[2mfloat32\u001b[0m[128,128]      │\n",
      "│           │            │                         │                         │                               │\n",
      "│           │            │                         │                         │ \u001b[1m16,384 \u001b[0m\u001b[1;2m(65.5 KB)\u001b[0m              │\n",
      "├───────────┼────────────┼─────────────────────────┼─────────────────────────┼───────────────────────────────┤\n",
      "│ lstm_1/hg │ Dense      │ \u001b[2mfloat32\u001b[0m[32,200,128]     │ \u001b[2mfloat32\u001b[0m[32,200,128]     │ bias: \u001b[2mfloat32\u001b[0m[128]            │\n",
      "│           │            │                         │                         │ kernel: \u001b[2mfloat32\u001b[0m[128,128]      │\n",
      "│           │            │                         │                         │                               │\n",
      "│           │            │                         │                         │ \u001b[1m16,512 \u001b[0m\u001b[1;2m(66.0 KB)\u001b[0m              │\n",
      "├───────────┼────────────┼─────────────────────────┼─────────────────────────┼───────────────────────────────┤\n",
      "│ lstm_1/io │ Dense      │ \u001b[2mfloat32\u001b[0m[32,200,128]     │ \u001b[2mfloat32\u001b[0m[32,200,128]     │ kernel: \u001b[2mfloat32\u001b[0m[128,128]      │\n",
      "│           │            │                         │                         │                               │\n",
      "│           │            │                         │                         │ \u001b[1m16,384 \u001b[0m\u001b[1;2m(65.5 KB)\u001b[0m              │\n",
      "├───────────┼────────────┼─────────────────────────┼─────────────────────────┼───────────────────────────────┤\n",
      "│ lstm_1/ho │ Dense      │ \u001b[2mfloat32\u001b[0m[32,200,128]     │ \u001b[2mfloat32\u001b[0m[32,200,128]     │ bias: \u001b[2mfloat32\u001b[0m[128]            │\n",
      "│           │            │                         │                         │ kernel: \u001b[2mfloat32\u001b[0m[128,128]      │\n",
      "│           │            │                         │                         │                               │\n",
      "│           │            │                         │                         │ \u001b[1m16,512 \u001b[0m\u001b[1;2m(66.0 KB)\u001b[0m              │\n",
      "├───────────┼────────────┼─────────────────────────┼─────────────────────────┼───────────────────────────────┤\n",
      "│ dense     │ Dense      │ \u001b[2mfloat32\u001b[0m[32,200,128]     │ \u001b[2mfloat32\u001b[0m[32,200,10000]   │ bias: \u001b[2mfloat32\u001b[0m[10000]          │\n",
      "│           │            │                         │                         │ kernel: \u001b[2mfloat32\u001b[0m[128,10000]    │\n",
      "│           │            │                         │                         │                               │\n",
      "│           │            │                         │                         │ \u001b[1m1,290,000 \u001b[0m\u001b[1;2m(5.2 MB)\u001b[0m            │\n",
      "├───────────┼────────────┼─────────────────────────┼─────────────────────────┼───────────────────────────────┤\n",
      "│\u001b[1m \u001b[0m\u001b[1m         \u001b[0m\u001b[1m \u001b[0m│\u001b[1m \u001b[0m\u001b[1m          \u001b[0m\u001b[1m \u001b[0m│\u001b[1m \u001b[0m\u001b[1m                       \u001b[0m\u001b[1m \u001b[0m│\u001b[1m \u001b[0m\u001b[1m                  Total\u001b[0m\u001b[1m \u001b[0m│\u001b[1m \u001b[0m\u001b[1m2,833,168 \u001b[0m\u001b[1;2m(11.3 MB)\u001b[0m\u001b[1m          \u001b[0m\u001b[1m \u001b[0m│\n",
      "└───────────┴────────────┴─────────────────────────┴─────────────────────────┴───────────────────────────────┘\n",
      "\u001b[1m                                                                                                              \u001b[0m\n",
      "\u001b[1m                                    Total Parameters: 2,833,168 \u001b[0m\u001b[1;2m(11.3 MB)\u001b[0m\u001b[1m                                     \u001b[0m\n",
      "\n",
      "\n"
     ]
    }
   ],
   "source": [
    "class LSTM_model(nn.Module):\n",
    "\n",
    "    num_lstm_layers: int\n",
    "    \n",
    "    def setup(self):\n",
    "        self.embed = nn.Embed(num_embeddings=VOCAB_SIZE, features=HIDDEN_DIM)\n",
    "        self.lstm_layers = [nn.LSTMCell(name=f'lstm_{i}') for i in range(self.num_lstm_layers)]\n",
    "        self.dense = nn.Dense(features=VOCAB_SIZE)\n",
    "\n",
    "    def __call__(self, x):\n",
    "        # Embedding\n",
    "        x = self.embed(x)\n",
    "\n",
    "        # LSTM\n",
    "        for i in range(self.num_lstm_layers):\n",
    "            hidden_state = self.lstm_layers[i].initialize_carry(jax.random.PRNGKey(0), (BATCH_SIZE, MAX_PAD_LEN), HIDDEN_DIM)\n",
    "            _, x = self.lstm_layers[i](hidden_state, x)\n",
    "        \n",
    "        # Dense layer\n",
    "        x = self.dense(x)\n",
    "        x = nn.softmax(x) # activation\n",
    "        return x\n",
    "\n",
    "lstm_model = LSTM_model(NUM_LSTM_LAYERS)\n",
    "rng = jax.random.PRNGKey(0)\n",
    "\n",
    "print(lstm_model.tabulate(rng, jnp.ones((BATCH_SIZE, MAX_PAD_LEN), dtype=jnp.int16)))"
   ]
  },
  {
   "cell_type": "markdown",
   "id": "c655caae-b24f-4b7d-aaf2-0f23e42fb42c",
   "metadata": {},
   "source": [
    "## 5. Create `TrainState`"
   ]
  },
  {
   "cell_type": "code",
   "execution_count": 33,
   "id": "ad1c0d0f-8e64-4757-9c40-9e00a000f028",
   "metadata": {},
   "outputs": [],
   "source": [
    "@struct.dataclass\n",
    "class Metrics(metrics.Collection):\n",
    "    loss: metrics.Average.from_output('loss')\n",
    "\n",
    "class TrainState(train_state.TrainState):\n",
    "    metrics: Metrics\n",
    "\n",
    "\n",
    "def create_train_state(model, param_key, learning_rate):\n",
    "    # initialize model\n",
    "    params = model.init(param_key, jnp.ones((BATCH_SIZE, MAX_PAD_LEN), dtype=jnp.int16))\n",
    "    # initialize optimizer\n",
    "    tx = optax.adam(learning_rate=learning_rate)\n",
    "    return TrainState.create(\n",
    "            apply_fn=model.apply,\n",
    "            params=params,\n",
    "            tx=tx,\n",
    "            metrics=Metrics.empty())"
   ]
  },
  {
   "cell_type": "code",
   "execution_count": null,
   "id": "c2132455-13f2-4115-86ea-1fd1ddbb92f9",
   "metadata": {},
   "outputs": [],
   "source": []
  },
  {
   "cell_type": "code",
   "execution_count": 34,
   "id": "0ba8cf1f-9330-4a29-80b2-0c494b3327d2",
   "metadata": {},
   "outputs": [],
   "source": [
    "lstm_model = LSTM_model(NUM_LSTM_LAYERS)\n",
    "state = create_train_state(lstm_model, jax.random.PRNGKey(0), 1e-3)"
   ]
  },
  {
   "cell_type": "code",
   "execution_count": null,
   "id": "99ebe744-3b35-4473-9e8a-35d81238c7e9",
   "metadata": {},
   "outputs": [],
   "source": []
  }
 ],
 "metadata": {
  "kernelspec": {
   "display_name": "Python 3",
   "language": "python",
   "name": "python3"
  },
  "language_info": {
   "codemirror_mode": {
    "name": "ipython",
    "version": 3
   },
   "file_extension": ".py",
   "mimetype": "text/x-python",
   "name": "python",
   "nbconvert_exporter": "python",
   "pygments_lexer": "ipython3",
   "version": "3.9.0"
  }
 },
 "nbformat": 4,
 "nbformat_minor": 5
}
