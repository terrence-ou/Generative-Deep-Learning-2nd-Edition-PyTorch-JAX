{
 "cells": [
  {
   "cell_type": "markdown",
   "id": "55fed7f7-4df8-406e-9847-cd9fe42641ff",
   "metadata": {},
   "source": [
    "# DCGAN on Bricks Dataset"
   ]
  },
  {
   "cell_type": "markdown",
   "id": "36c0eea2-974b-422f-9f9c-e9a341c71b7c",
   "metadata": {},
   "source": [
    "**The notebook has been adapted from the notebook provided in David Foster's Generative Deep Learning, 2nd Edition.**\n",
    "\n",
    "- Book: [Amazon](https://www.amazon.com/Generative-Deep-Learning-Teaching-Machines/dp/1098134184/ref=sr_1_1?keywords=generative+deep+learning%2C+2nd+edition&qid=1684708209&sprefix=generative+de%2Caps%2C93&sr=8-1)\n",
    "- Original notebook (tensorflow and keras): [Github](https://github.com/davidADSP/Generative_Deep_Learning_2nd_Edition/blob/main/notebooks/04_gan/01_dcgan/dcgan.ipynb), Lincense: Apache-2.0\n",
    "- Dataset: [Kaggle](https://www.kaggle.com/datasets/joosthazelzet/lego-brick-images)"
   ]
  },
  {
   "cell_type": "code",
   "execution_count": 62,
   "id": "721ecd46-9259-4cf6-80a3-64fd3d31f259",
   "metadata": {},
   "outputs": [],
   "source": [
    "import numpy as np\n",
    "import matplotlib.pyplot as plt\n",
    "import time\n",
    "\n",
    "import tensorflow as tf\n",
    "from tensorflow.keras import utils\n",
    "from tensorflow.keras import metrics as Metrics\n",
    "\n",
    "import jax\n",
    "import jax.numpy as jnp\n",
    "\n",
    "import flax.linen as nn\n",
    "from flax.training import train_state\n",
    "\n",
    "import optax\n",
    "from clu import metrics"
   ]
  },
  {
   "cell_type": "markdown",
   "id": "74ab5bbc-986e-448c-a694-c7a25a767f32",
   "metadata": {},
   "source": [
    "## 0. Train Parameters"
   ]
  },
  {
   "cell_type": "code",
   "execution_count": 2,
   "id": "8f426fa0-f05a-4109-a913-4e4d48bcd0dc",
   "metadata": {},
   "outputs": [],
   "source": [
    "DATA_DIR = '../../data/Lego/dataset'\n",
    "IMAGE_SIZE = 64\n",
    "CHANNELS = 1\n",
    "BATCH_SIZE = 128\n",
    "Z_DIM = 100\n",
    "NOISE_PARAM = 0.1\n",
    "EPOCHS = 100\n",
    "ADAM_BETA_1 = 0.5\n",
    "ADAM_BETA_2 = 0.999\n",
    "LR = 2e-4"
   ]
  },
  {
   "cell_type": "markdown",
   "id": "2bbfd576-b43e-43ff-afca-f50d54c2dd2b",
   "metadata": {},
   "source": [
    "## 1. Prepare dataset"
   ]
  },
  {
   "cell_type": "code",
   "execution_count": 3,
   "id": "e1e91ffe-03d4-4ec5-ae66-56f6e4e74c5f",
   "metadata": {},
   "outputs": [],
   "source": [
    "# Convert images to tensors normalize them\n",
    "def preprocess(img):\n",
    "    img = (tf.cast(img, tf.float32) - 127.5) / 127.5\n",
    "    return img\n",
    "\n",
    "# Load lego dataset from directory\n",
    "def get_dataset():\n",
    "    train_ds = utils.image_dataset_from_directory(\n",
    "        directory=DATA_DIR,\n",
    "        labels=None,\n",
    "        color_mode='grayscale',\n",
    "        image_size=(IMAGE_SIZE, IMAGE_SIZE),\n",
    "        batch_size=None,\n",
    "        shuffle=True,\n",
    "        seed=1024,\n",
    "        interpolation='bilinear',\n",
    "    ) \n",
    "\n",
    "    train_ds = train_ds.map(lambda sample: preprocess(sample))\n",
    "    train_ds = train_ds.repeat(EPOCHS).shuffle(1024)\n",
    "    train_ds = train_ds.batch(BATCH_SIZE, drop_remainder=True).prefetch(1)\n",
    "\n",
    "    return train_ds"
   ]
  },
  {
   "cell_type": "code",
   "execution_count": 4,
   "id": "916d5155-23bd-4a33-8bd8-4a725dd5fbbb",
   "metadata": {},
   "outputs": [],
   "source": [
    "def display_imgs(imgs):\n",
    "    plt.figure(figsize=(16, 3))\n",
    "    for i in range(8):\n",
    "        ax = plt.subplot(1, 8, i+1)\n",
    "        ax.imshow(imgs[i], cmap='gray')\n",
    "        ax.axis('off')\n",
    "    plt.show()"
   ]
  },
  {
   "cell_type": "code",
   "execution_count": 5,
   "id": "85922d55-229b-4431-b6d5-0804efbb702f",
   "metadata": {},
   "outputs": [
    {
     "name": "stdout",
     "output_type": "stream",
     "text": [
      "Found 40000 files belonging to 1 classes.\n",
      "(128, 64, 64, 1)\n"
     ]
    },
    {
     "data": {
      "image/png": "[encoded data removed]",
      "text/plain": [
       "<Figure size 1152x216 with 8 Axes>"
      ]
     },
     "metadata": {
      "needs_background": "light"
     },
     "output_type": "display_data"
    }
   ],
   "source": [
    "check_ds = get_dataset()\n",
    "check_sample = next(iter(check_ds))\n",
    "print(check_sample.shape)\n",
    "display_imgs(check_sample)"
   ]
  },
  {
   "cell_type": "markdown",
   "id": "98a54f84-0389-4930-a4dc-519e4d6bdabc",
   "metadata": {},
   "source": [
    "## 2. Building GAN"
   ]
  },
  {
   "cell_type": "code",
   "execution_count": 6,
   "id": "ec156a94-5103-4d32-bb64-74e3e6966a6b",
   "metadata": {},
   "outputs": [
    {
     "name": "stdout",
     "output_type": "stream",
     "text": [
      "\n",
      "\u001b[3m                                                 Discriminator Summary                                                  \u001b[0m\n",
      "┏━━━━━━━━━━━━━┳━━━━━━━━━━━━━━━┳━━━━━━━━━━━━━━━━━━━━━━┳━━━━━━━━━━━━━━━━━━━━━━┳━━━━━━━━━━━━━━━━━━━━┳━━━━━━━━━━━━━━━━━━━━━┓\n",
      "┃\u001b[1m \u001b[0m\u001b[1mpath       \u001b[0m\u001b[1m \u001b[0m┃\u001b[1m \u001b[0m\u001b[1mmodule       \u001b[0m\u001b[1m \u001b[0m┃\u001b[1m \u001b[0m\u001b[1minputs              \u001b[0m\u001b[1m \u001b[0m┃\u001b[1m \u001b[0m\u001b[1moutputs             \u001b[0m\u001b[1m \u001b[0m┃\u001b[1m \u001b[0m\u001b[1mbatch_stats       \u001b[0m\u001b[1m \u001b[0m┃\u001b[1m \u001b[0m\u001b[1mparams             \u001b[0m\u001b[1m \u001b[0m┃\n",
      "┡━━━━━━━━━━━━━╇━━━━━━━━━━━━━━━╇━━━━━━━━━━━━━━━━━━━━━━╇━━━━━━━━━━━━━━━━━━━━━━╇━━━━━━━━━━━━━━━━━━━━╇━━━━━━━━━━━━━━━━━━━━━┩\n",
      "│             │ Discriminator │ - \u001b[2mfloat32\u001b[0m[1,64,64,1] │ \u001b[2mfloat32\u001b[0m[1,1]         │                    │                     │\n",
      "│             │               │ - train: False       │                      │                    │                     │\n",
      "├─────────────┼───────────────┼──────────────────────┼──────────────────────┼────────────────────┼─────────────────────┤\n",
      "│ Conv_0      │ Conv          │ \u001b[2mfloat32\u001b[0m[1,64,64,1]   │ \u001b[2mfloat32\u001b[0m[1,32,32,64]  │                    │ kernel:             │\n",
      "│             │               │                      │                      │                    │ \u001b[2mfloat32\u001b[0m[4,4,1,64]   │\n",
      "│             │               │                      │                      │                    │                     │\n",
      "│             │               │                      │                      │                    │ \u001b[1m1,024 \u001b[0m\u001b[1;2m(4.1 KB)\u001b[0m      │\n",
      "├─────────────┼───────────────┼──────────────────────┼──────────────────────┼────────────────────┼─────────────────────┤\n",
      "│ Dropout_0   │ Dropout       │ \u001b[2mfloat32\u001b[0m[1,32,32,64]  │ \u001b[2mfloat32\u001b[0m[1,32,32,64]  │                    │                     │\n",
      "├─────────────┼───────────────┼──────────────────────┼──────────────────────┼────────────────────┼─────────────────────┤\n",
      "│ Conv_1      │ Conv          │ \u001b[2mfloat32\u001b[0m[1,32,32,64]  │ \u001b[2mfloat32\u001b[0m[1,16,16,128] │                    │ kernel:             │\n",
      "│             │               │                      │                      │                    │ \u001b[2mfloat32\u001b[0m[4,4,64,128] │\n",
      "│             │               │                      │                      │                    │                     │\n",
      "│             │               │                      │                      │                    │ \u001b[1m131,072 \u001b[0m\u001b[1;2m(524.3 KB)\u001b[0m  │\n",
      "├─────────────┼───────────────┼──────────────────────┼──────────────────────┼────────────────────┼─────────────────────┤\n",
      "│ BatchNorm_0 │ BatchNorm     │ \u001b[2mfloat32\u001b[0m[1,16,16,128] │ \u001b[2mfloat32\u001b[0m[1,16,16,128] │ mean: \u001b[2mfloat32\u001b[0m[128] │ bias: \u001b[2mfloat32\u001b[0m[128]  │\n",
      "│             │               │                      │                      │ var: \u001b[2mfloat32\u001b[0m[128]  │ scale: \u001b[2mfloat32\u001b[0m[128] │\n",
      "│             │               │                      │                      │                    │                     │\n",
      "│             │               │                      │                      │ \u001b[1m256 \u001b[0m\u001b[1;2m(1.0 KB)\u001b[0m       │ \u001b[1m256 \u001b[0m\u001b[1;2m(1.0 KB)\u001b[0m        │\n",
      "├─────────────┼───────────────┼──────────────────────┼──────────────────────┼────────────────────┼─────────────────────┤\n",
      "│ Dropout_1   │ Dropout       │ \u001b[2mfloat32\u001b[0m[1,16,16,128] │ \u001b[2mfloat32\u001b[0m[1,16,16,128] │                    │                     │\n",
      "├─────────────┼───────────────┼──────────────────────┼──────────────────────┼────────────────────┼─────────────────────┤\n",
      "│ Conv_2      │ Conv          │ \u001b[2mfloat32\u001b[0m[1,16,16,128] │ \u001b[2mfloat32\u001b[0m[1,8,8,256]   │                    │ kernel:             │\n",
      "│             │               │                      │                      │                    │ \u001b[2mfloat32\u001b[0m[4,4,128,25… │\n",
      "│             │               │                      │                      │                    │                     │\n",
      "│             │               │                      │                      │                    │ \u001b[1m524,288 \u001b[0m\u001b[1;2m(2.1 MB)\u001b[0m    │\n",
      "├─────────────┼───────────────┼──────────────────────┼──────────────────────┼────────────────────┼─────────────────────┤\n",
      "│ BatchNorm_1 │ BatchNorm     │ \u001b[2mfloat32\u001b[0m[1,8,8,256]   │ \u001b[2mfloat32\u001b[0m[1,8,8,256]   │ mean: \u001b[2mfloat32\u001b[0m[256] │ bias: \u001b[2mfloat32\u001b[0m[256]  │\n",
      "│             │               │                      │                      │ var: \u001b[2mfloat32\u001b[0m[256]  │ scale: \u001b[2mfloat32\u001b[0m[256] │\n",
      "│             │               │                      │                      │                    │                     │\n",
      "│             │               │                      │                      │ \u001b[1m512 \u001b[0m\u001b[1;2m(2.0 KB)\u001b[0m       │ \u001b[1m512 \u001b[0m\u001b[1;2m(2.0 KB)\u001b[0m        │\n",
      "├─────────────┼───────────────┼──────────────────────┼──────────────────────┼────────────────────┼─────────────────────┤\n",
      "│ Dropout_2   │ Dropout       │ \u001b[2mfloat32\u001b[0m[1,8,8,256]   │ \u001b[2mfloat32\u001b[0m[1,8,8,256]   │                    │                     │\n",
      "├─────────────┼───────────────┼──────────────────────┼──────────────────────┼────────────────────┼─────────────────────┤\n",
      "│ Conv_3      │ Conv          │ \u001b[2mfloat32\u001b[0m[1,8,8,256]   │ \u001b[2mfloat32\u001b[0m[1,4,4,512]   │                    │ kernel:             │\n",
      "│             │               │                      │                      │                    │ \u001b[2mfloat32\u001b[0m[4,4,256,51… │\n",
      "│             │               │                      │                      │                    │                     │\n",
      "│             │               │                      │                      │                    │ \u001b[1m2,097,152 \u001b[0m\u001b[1;2m(8.4 MB)\u001b[0m  │\n",
      "├─────────────┼───────────────┼──────────────────────┼──────────────────────┼────────────────────┼─────────────────────┤\n",
      "│ BatchNorm_2 │ BatchNorm     │ \u001b[2mfloat32\u001b[0m[1,4,4,512]   │ \u001b[2mfloat32\u001b[0m[1,4,4,512]   │ mean: \u001b[2mfloat32\u001b[0m[512] │ bias: \u001b[2mfloat32\u001b[0m[512]  │\n",
      "│             │               │                      │                      │ var: \u001b[2mfloat32\u001b[0m[512]  │ scale: \u001b[2mfloat32\u001b[0m[512] │\n",
      "│             │               │                      │                      │                    │                     │\n",
      "│             │               │                      │                      │ \u001b[1m1,024 \u001b[0m\u001b[1;2m(4.1 KB)\u001b[0m     │ \u001b[1m1,024 \u001b[0m\u001b[1;2m(4.1 KB)\u001b[0m      │\n",
      "├─────────────┼───────────────┼──────────────────────┼──────────────────────┼────────────────────┼─────────────────────┤\n",
      "│ Dropout_3   │ Dropout       │ \u001b[2mfloat32\u001b[0m[1,4,4,512]   │ \u001b[2mfloat32\u001b[0m[1,4,4,512]   │                    │                     │\n",
      "├─────────────┼───────────────┼──────────────────────┼──────────────────────┼────────────────────┼─────────────────────┤\n",
      "│ Conv_4      │ Conv          │ \u001b[2mfloat32\u001b[0m[1,4,4,512]   │ \u001b[2mfloat32\u001b[0m[1,1,1,1]     │                    │ kernel:             │\n",
      "│             │               │                      │                      │                    │ \u001b[2mfloat32\u001b[0m[4,4,512,1]  │\n",
      "│             │               │                      │                      │                    │                     │\n",
      "│             │               │                      │                      │                    │ \u001b[1m8,192 \u001b[0m\u001b[1;2m(32.8 KB)\u001b[0m     │\n",
      "├─────────────┼───────────────┼──────────────────────┼──────────────────────┼────────────────────┼─────────────────────┤\n",
      "│\u001b[1m \u001b[0m\u001b[1m           \u001b[0m\u001b[1m \u001b[0m│\u001b[1m \u001b[0m\u001b[1m             \u001b[0m\u001b[1m \u001b[0m│\u001b[1m \u001b[0m\u001b[1m                    \u001b[0m\u001b[1m \u001b[0m│\u001b[1m \u001b[0m\u001b[1m               Total\u001b[0m\u001b[1m \u001b[0m│\u001b[1m \u001b[0m\u001b[1m1,792 \u001b[0m\u001b[1;2m(7.2 KB)\u001b[0m\u001b[1m    \u001b[0m\u001b[1m \u001b[0m│\u001b[1m \u001b[0m\u001b[1m2,763,520 \u001b[0m\u001b[1;2m(11.1 MB)\u001b[0m\u001b[1m \u001b[0m│\n",
      "└─────────────┴───────────────┴──────────────────────┴──────────────────────┴────────────────────┴─────────────────────┘\n",
      "\u001b[1m                                                                                                                        \u001b[0m\n",
      "\u001b[1m                                         Total Parameters: 2,765,312 \u001b[0m\u001b[1;2m(11.1 MB)\u001b[0m\u001b[1m                                          \u001b[0m\n",
      "\n",
      "\n"
     ]
    }
   ],
   "source": [
    "class Discriminator(nn.Module):\n",
    "\n",
    "    channel_list: tuple = (64, 128, 256, 512)\n",
    "    \n",
    "    @nn.compact\n",
    "    def __call__(self, x, train:bool):\n",
    "\n",
    "        # Convolutional layers\n",
    "        for i, features in enumerate(self.channel_list):\n",
    "            x = self.conv_block(x, features, i, train)\n",
    "\n",
    "        # Output layers\n",
    "        x = nn.Conv(features=1, kernel_size=(4, 4), strides=1, \n",
    "                    padding='valid', use_bias=False)(x)\n",
    "        x = x.reshape(-1, 1)\n",
    "        return x\n",
    "\n",
    "    # Downsampling convolution block\n",
    "    def conv_block(self, x, out_features, use_bn, train:bool):\n",
    "        x = nn.Conv(features=out_features, kernel_size=(4, 4), strides=2,\n",
    "                    padding='same', use_bias=False)(x)\n",
    "        \n",
    "        if use_bn:\n",
    "            x = nn.BatchNorm(use_running_average=not train, momentum=0.9)(x)\n",
    "        x = nn.leaky_relu(x, negative_slope=0.2)\n",
    "        x = nn.Dropout(rate=0.3, deterministic=not train)(x)\n",
    "        return x\n",
    "\n",
    "net_D = Discriminator()\n",
    "print(net_D.tabulate(jax.random.PRNGKey(0), jnp.ones((1, 64, 64, 1)), train=False, console_kwargs={'width': 120}))"
   ]
  },
  {
   "cell_type": "code",
   "execution_count": 7,
   "id": "2550b4a8-8fa8-4075-844e-feca65b877f3",
   "metadata": {},
   "outputs": [
    {
     "name": "stdout",
     "output_type": "stream",
     "text": [
      "\n",
      "\u001b[3m                                                   Generator Summary                                                    \u001b[0m\n",
      "┏━━━━━━━━━━━━━━━━━┳━━━━━━━━━━━━━━━┳━━━━━━━━━━━━━━━━━━━━┳━━━━━━━━━━━━━━━━━━━━┳━━━━━━━━━━━━━━━━━━━━┳━━━━━━━━━━━━━━━━━━━━━┓\n",
      "┃\u001b[1m \u001b[0m\u001b[1mpath           \u001b[0m\u001b[1m \u001b[0m┃\u001b[1m \u001b[0m\u001b[1mmodule       \u001b[0m\u001b[1m \u001b[0m┃\u001b[1m \u001b[0m\u001b[1minputs            \u001b[0m\u001b[1m \u001b[0m┃\u001b[1m \u001b[0m\u001b[1moutputs           \u001b[0m\u001b[1m \u001b[0m┃\u001b[1m \u001b[0m\u001b[1mbatch_stats       \u001b[0m\u001b[1m \u001b[0m┃\u001b[1m \u001b[0m\u001b[1mparams             \u001b[0m\u001b[1m \u001b[0m┃\n",
      "┡━━━━━━━━━━━━━━━━━╇━━━━━━━━━━━━━━━╇━━━━━━━━━━━━━━━━━━━━╇━━━━━━━━━━━━━━━━━━━━╇━━━━━━━━━━━━━━━━━━━━╇━━━━━━━━━━━━━━━━━━━━━┩\n",
      "│                 │ Generator     │ - \u001b[2mfloat32\u001b[0m[1,100]   │ \u001b[2mfloat32\u001b[0m[1,64,64,1] │                    │                     │\n",
      "│                 │               │ - train: False     │                    │                    │                     │\n",
      "├─────────────────┼───────────────┼────────────────────┼────────────────────┼────────────────────┼─────────────────────┤\n",
      "│ ConvTranspose_0 │ ConvTranspose │ \u001b[2mfloat32\u001b[0m[1,1,1,100] │ \u001b[2mfloat32\u001b[0m[1,4,4,512] │                    │ kernel:             │\n",
      "│                 │               │                    │                    │                    │ \u001b[2mfloat32\u001b[0m[4,4,100,51… │\n",
      "│                 │               │                    │                    │                    │                     │\n",
      "│                 │               │                    │                    │                    │ \u001b[1m819,200 \u001b[0m\u001b[1;2m(3.3 MB)\u001b[0m    │\n",
      "├─────────────────┼───────────────┼────────────────────┼────────────────────┼────────────────────┼─────────────────────┤\n",
      "│ BatchNorm_0     │ BatchNorm     │ \u001b[2mfloat32\u001b[0m[1,4,4,512] │ \u001b[2mfloat32\u001b[0m[1,4,4,512] │ mean: \u001b[2mfloat32\u001b[0m[512] │ bias: \u001b[2mfloat32\u001b[0m[512]  │\n",
      "│                 │               │                    │                    │ var: \u001b[2mfloat32\u001b[0m[512]  │ scale: \u001b[2mfloat32\u001b[0m[512] │\n",
      "│                 │               │                    │                    │                    │                     │\n",
      "│                 │               │                    │                    │ \u001b[1m1,024 \u001b[0m\u001b[1;2m(4.1 KB)\u001b[0m     │ \u001b[1m1,024 \u001b[0m\u001b[1;2m(4.1 KB)\u001b[0m      │\n",
      "├─────────────────┼───────────────┼────────────────────┼────────────────────┼────────────────────┼─────────────────────┤\n",
      "│ ConvTranspose_1 │ ConvTranspose │ \u001b[2mfloat32\u001b[0m[1,4,4,512] │ \u001b[2mfloat32\u001b[0m[1,8,8,256] │                    │ kernel:             │\n",
      "│                 │               │                    │                    │                    │ \u001b[2mfloat32\u001b[0m[4,4,512,25… │\n",
      "│                 │               │                    │                    │                    │                     │\n",
      "│                 │               │                    │                    │                    │ \u001b[1m2,097,152 \u001b[0m\u001b[1;2m(8.4 MB)\u001b[0m  │\n",
      "├─────────────────┼───────────────┼────────────────────┼────────────────────┼────────────────────┼─────────────────────┤\n",
      "│ BatchNorm_1     │ BatchNorm     │ \u001b[2mfloat32\u001b[0m[1,8,8,256] │ \u001b[2mfloat32\u001b[0m[1,8,8,256] │ mean: \u001b[2mfloat32\u001b[0m[256] │ bias: \u001b[2mfloat32\u001b[0m[256]  │\n",
      "│                 │               │                    │                    │ var: \u001b[2mfloat32\u001b[0m[256]  │ scale: \u001b[2mfloat32\u001b[0m[256] │\n",
      "│                 │               │                    │                    │                    │                     │\n",
      "│                 │               │                    │                    │ \u001b[1m512 \u001b[0m\u001b[1;2m(2.0 KB)\u001b[0m       │ \u001b[1m512 \u001b[0m\u001b[1;2m(2.0 KB)\u001b[0m        │\n",
      "├─────────────────┼───────────────┼────────────────────┼────────────────────┼────────────────────┼─────────────────────┤\n",
      "│ ConvTranspose_2 │ ConvTranspose │ \u001b[2mfloat32\u001b[0m[1,8,8,256] │ \u001b[2mfloat32\u001b[0m[1,16,16,1… │                    │ kernel:             │\n",
      "│                 │               │                    │                    │                    │ \u001b[2mfloat32\u001b[0m[4,4,256,12… │\n",
      "│                 │               │                    │                    │                    │                     │\n",
      "│                 │               │                    │                    │                    │ \u001b[1m524,288 \u001b[0m\u001b[1;2m(2.1 MB)\u001b[0m    │\n",
      "├─────────────────┼───────────────┼────────────────────┼────────────────────┼────────────────────┼─────────────────────┤\n",
      "│ BatchNorm_2     │ BatchNorm     │ \u001b[2mfloat32\u001b[0m[1,16,16,1… │ \u001b[2mfloat32\u001b[0m[1,16,16,1… │ mean: \u001b[2mfloat32\u001b[0m[128] │ bias: \u001b[2mfloat32\u001b[0m[128]  │\n",
      "│                 │               │                    │                    │ var: \u001b[2mfloat32\u001b[0m[128]  │ scale: \u001b[2mfloat32\u001b[0m[128] │\n",
      "│                 │               │                    │                    │                    │                     │\n",
      "│                 │               │                    │                    │ \u001b[1m256 \u001b[0m\u001b[1;2m(1.0 KB)\u001b[0m       │ \u001b[1m256 \u001b[0m\u001b[1;2m(1.0 KB)\u001b[0m        │\n",
      "├─────────────────┼───────────────┼────────────────────┼────────────────────┼────────────────────┼─────────────────────┤\n",
      "│ ConvTranspose_3 │ ConvTranspose │ \u001b[2mfloat32\u001b[0m[1,16,16,1… │ \u001b[2mfloat32\u001b[0m[1,32,32,6… │                    │ kernel:             │\n",
      "│                 │               │                    │                    │                    │ \u001b[2mfloat32\u001b[0m[4,4,128,64] │\n",
      "│                 │               │                    │                    │                    │                     │\n",
      "│                 │               │                    │                    │                    │ \u001b[1m131,072 \u001b[0m\u001b[1;2m(524.3 KB)\u001b[0m  │\n",
      "├─────────────────┼───────────────┼────────────────────┼────────────────────┼────────────────────┼─────────────────────┤\n",
      "│ BatchNorm_3     │ BatchNorm     │ \u001b[2mfloat32\u001b[0m[1,32,32,6… │ \u001b[2mfloat32\u001b[0m[1,32,32,6… │ mean: \u001b[2mfloat32\u001b[0m[64]  │ bias: \u001b[2mfloat32\u001b[0m[64]   │\n",
      "│                 │               │                    │                    │ var: \u001b[2mfloat32\u001b[0m[64]   │ scale: \u001b[2mfloat32\u001b[0m[64]  │\n",
      "│                 │               │                    │                    │                    │                     │\n",
      "│                 │               │                    │                    │ \u001b[1m128 \u001b[0m\u001b[1;2m(512 B)\u001b[0m        │ \u001b[1m128 \u001b[0m\u001b[1;2m(512 B)\u001b[0m         │\n",
      "├─────────────────┼───────────────┼────────────────────┼────────────────────┼────────────────────┼─────────────────────┤\n",
      "│ ConvTranspose_4 │ ConvTranspose │ \u001b[2mfloat32\u001b[0m[1,32,32,6… │ \u001b[2mfloat32\u001b[0m[1,64,64,1] │                    │ kernel:             │\n",
      "│                 │               │                    │                    │                    │ \u001b[2mfloat32\u001b[0m[4,4,64,1]   │\n",
      "│                 │               │                    │                    │                    │                     │\n",
      "│                 │               │                    │                    │                    │ \u001b[1m1,024 \u001b[0m\u001b[1;2m(4.1 KB)\u001b[0m      │\n",
      "├─────────────────┼───────────────┼────────────────────┼────────────────────┼────────────────────┼─────────────────────┤\n",
      "│\u001b[1m \u001b[0m\u001b[1m               \u001b[0m\u001b[1m \u001b[0m│\u001b[1m \u001b[0m\u001b[1m             \u001b[0m\u001b[1m \u001b[0m│\u001b[1m \u001b[0m\u001b[1m                  \u001b[0m\u001b[1m \u001b[0m│\u001b[1m \u001b[0m\u001b[1m             Total\u001b[0m\u001b[1m \u001b[0m│\u001b[1m \u001b[0m\u001b[1m1,920 \u001b[0m\u001b[1;2m(7.7 KB)\u001b[0m\u001b[1m    \u001b[0m\u001b[1m \u001b[0m│\u001b[1m \u001b[0m\u001b[1m3,574,656 \u001b[0m\u001b[1;2m(14.3 MB)\u001b[0m\u001b[1m \u001b[0m│\n",
      "└─────────────────┴───────────────┴────────────────────┴────────────────────┴────────────────────┴─────────────────────┘\n",
      "\u001b[1m                                                                                                                        \u001b[0m\n",
      "\u001b[1m                                         Total Parameters: 3,576,576 \u001b[0m\u001b[1;2m(14.3 MB)\u001b[0m\u001b[1m                                          \u001b[0m\n",
      "\n",
      "\n"
     ]
    }
   ],
   "source": [
    "class Generator(nn.Module):\n",
    "    z_dim: int\n",
    "    channel_list:tuple = (512, 256, 128, 64)\n",
    "\n",
    "    @nn.compact\n",
    "    def __call__(self, x, train:bool):\n",
    "        x = x.reshape(x.shape[0], 1, 1, x.shape[1])\n",
    "\n",
    "        # Transpose convolution layers\n",
    "        for i, features in enumerate(self.channel_list):\n",
    "            strides = 2 if i else 1\n",
    "            padding = 'SAME' if i else 'VALID'\n",
    "            x = self.transconv_block(x, features, strides, padding, train)\n",
    "\n",
    "        # Output layers\n",
    "        x = nn.ConvTranspose(features=CHANNELS, kernel_size=(4, 4), strides=(2, 2),\n",
    "                             padding='SAME', use_bias=False)(x)\n",
    "        x = nn.tanh(x)\n",
    "        return x\n",
    "        \n",
    "\n",
    "    def transconv_block(self, x, out_features, strides, padding:str, train:bool):\n",
    "        x = nn.ConvTranspose(features=out_features, kernel_size=(4, 4), strides=(strides, strides),\n",
    "                             padding=padding, use_bias=False)(x)\n",
    "        x = nn.BatchNorm(use_running_average=not train, momentum=0.9)(x)\n",
    "        x = nn.leaky_relu(x, negative_slope=0.2)\n",
    "        return x\n",
    "\n",
    "netG = Generator(Z_DIM)\n",
    "print(netG.tabulate(jax.random.PRNGKey(0), jnp.ones((1, Z_DIM)), train=False, console_kwargs={'width': 120}))"
   ]
  },
  {
   "cell_type": "markdown",
   "id": "3027dfb3-048d-4cc5-be85-3aa2effcb4c9",
   "metadata": {},
   "source": [
    "## 3. Functions for `TrainState`"
   ]
  },
  {
   "cell_type": "code",
   "execution_count": 8,
   "id": "af2acf17-b92c-4aac-b483-bcb8f927745e",
   "metadata": {},
   "outputs": [],
   "source": [
    "from typing import Any\n",
    "\n",
    "# adding batch_stats and dropout keys to the properities of the class\n",
    "class TrainState(train_state.TrainState):\n",
    "    batch_stats: Any # for batch normalization layers\n",
    "    key: jax.random.KeyArray = None # for dropout layers\n",
    "\n",
    "\n",
    "# funtion to create a train state for modules\n",
    "def create_train_state(module, init_array, \n",
    "                       params_key, dropout_key, \n",
    "                       learning_rate, train=False):\n",
    "    \"\"\"\n",
    "    module: flax module\n",
    "    init_array: jax.numpy.ones(shape=module_input_shape)\n",
    "    param_key, dropout_key: jax.random.PRNGkey(0)\n",
    "    \"\"\"\n",
    "\n",
    "    # Initialize the model with initialization array\n",
    "    variables = module.init(params_key, init_array, train=False)\n",
    "    params = variables['params']\n",
    "    batch_stats = variables['batch_stats']\n",
    "\n",
    "    # Create an optimizer\n",
    "    tx = optax.adam(learning_rate=learning_rate, b1=ADAM_BETA_1, b2=ADAM_BETA_2)\n",
    "\n",
    "    return TrainState.create(\n",
    "            apply_fn=module.apply,\n",
    "            params=params,\n",
    "            batch_stats=batch_stats,\n",
    "            key=dropout_key,\n",
    "            tx=tx\n",
    "            )"
   ]
  },
  {
   "cell_type": "markdown",
   "id": "f2e4a527-949a-41c8-ac97-7fcaa4f7c49f",
   "metadata": {},
   "source": [
    "## 4. Train step functions"
   ]
  },
  {
   "cell_type": "code",
   "execution_count": 51,
   "id": "4948d843-7a47-44a0-b29e-2c4a9de12fd1",
   "metadata": {},
   "outputs": [],
   "source": [
    "@jax.jit\n",
    "def generate_imgs(g_state, latents):\n",
    "    return g_state.apply_fn(\n",
    "        {'params': g_state.params, 'batch_stats': g_state.batch_stats},\n",
    "        latents,\n",
    "        train=False\n",
    "    )\n",
    "\n",
    "\n",
    "@jax.jit\n",
    "def train_disciminator(d_state, imgs, labels):\n",
    "    # fold in random keys for dropout layers\n",
    "    dropout_key = jax.random.fold_in(key=d_state.key, data=d_state.step)\n",
    "    \n",
    "    def loss_fn(params):\n",
    "        logits, updates = d_state.apply_fn(\n",
    "            {'params': params, 'batch_stats': d_state.batch_stats},\n",
    "            imgs,\n",
    "            train=True,\n",
    "            rngs={'dropout': dropout_key},\n",
    "            mutable=['batch_stats']\n",
    "        )\n",
    "        loss = optax.sigmoid_binary_cross_entropy(logits, labels).mean()\n",
    "        return loss, updates\n",
    "    \n",
    "    grad_fn = jax.value_and_grad(loss_fn, has_aux=True)\n",
    "    (loss, updates), grads = grad_fn(d_state.params)\n",
    "    d_state = d_state.apply_gradients(grads=grads)\n",
    "    # update batch norm stats\n",
    "    d_state = d_state.replace(batch_stats=updates['batch_stats'])\n",
    "    \n",
    "    return d_state\n",
    "\n",
    "\n",
    "@jax.jit\n",
    "def train_generator(d_state, g_state, latents, real_labels):\n",
    "\n",
    "    def loss_fn(params):\n",
    "        # Generate images\n",
    "        fake_imgs, updates = g_state.apply_fn(\n",
    "            {'params': params, 'batch_stats': g_state.batch_stats},\n",
    "            latents,\n",
    "            train=True,\n",
    "            mutable=['batch_stats']\n",
    "        )\n",
    "        # Predict generated images with the discriminator\n",
    "        logits = d_state.apply_fn(\n",
    "            {'params':d_state.params, 'batch_stats': d_state.batch_stats},\n",
    "            fake_imgs,\n",
    "            train=False\n",
    "        )\n",
    "        loss = optax.sigmoid_binary_cross_entropy(logits, real_labels).mean()\n",
    "        return loss, updates\n",
    "    \n",
    "    grad_fn = jax.value_and_grad(loss_fn, has_aux=True)\n",
    "    (loss, updates), grads = grad_fn(g_state.params)\n",
    "    g_state = g_state.apply_gradients(grads=grads)\n",
    "\n",
    "    # Update batch norm stats\n",
    "    g_state = g_state.replace(batch_stats=updates['batch_stats'])\n",
    "    return g_state\n",
    "\n",
    "\n",
    "@jax.jit\n",
    "def compute_metrics(*, d_state, g_state, \n",
    "                    real_imgs, fake_imgs, \n",
    "                    real_labels, fake_labels):\n",
    "\n",
    "    real_preds = d_state.apply_fn(\n",
    "        {'params': d_state.params, 'batch_stats': d_state.batch_stats},\n",
    "        real_imgs,\n",
    "        train=False\n",
    "    )\n",
    "\n",
    "    fake_preds = d_state.apply_fn(\n",
    "        {'params': d_state.params, 'batch_stats': d_state.batch_stats},\n",
    "        fake_imgs,\n",
    "        train=False\n",
    "    )\n",
    "\n",
    "    d_real_loss = optax.sigmoid_binary_cross_entropy(real_preds, real_preds).mean()\n",
    "    d_fake_loss = optax.sigmoid_binary_cross_entropy(fake_preds, fake_preds).mean()\n",
    "    d_loss = d_real_loss + d_fake_loss\n",
    "    g_loss = optax.sigmoid_binary_cross_entropy(fake_preds, real_preds).mean()\n",
    "    \n",
    "    return d_loss, g_loss, real_preds, fake_preds                    "
   ]
  },
  {
   "cell_type": "markdown",
   "id": "2d619d46-30a2-4f9f-92d8-cb992ca3af98",
   "metadata": {},
   "source": [
    "## 5. Load dataset and initialze the `TrainState` for both nets"
   ]
  },
  {
   "cell_type": "code",
   "execution_count": 52,
   "id": "9c339a0e-5f0f-441c-ad9e-6a6b9f7a963e",
   "metadata": {},
   "outputs": [
    {
     "name": "stdout",
     "output_type": "stream",
     "text": [
      "Found 40000 files belonging to 1 classes.\n"
     ]
    }
   ],
   "source": [
    "train_ds = get_dataset()\n",
    "\n",
    "tf.random.set_seed(10)\n",
    "\n",
    "root_key = jax.random.PRNGKey(0)\n",
    "d_param_key, g_param_key, dropout_key = jax.random.split(key=root_key, num=3)\n",
    "\n",
    "d_net = Discriminator()\n",
    "g_net = Generator(Z_DIM)\n",
    "\n",
    "d_state = create_train_state(d_net, jnp.ones(shape=(1, 64, 64, 1)), d_param_key, dropout_key, LR)\n",
    "g_state = create_train_state(g_net, jnp.ones(shape=(1, Z_DIM)), g_param_key, None, LR)"
   ]
  },
  {
   "cell_type": "markdown",
   "id": "7cb28c71-04d5-4a54-bd2f-0fc01f2c887a",
   "metadata": {},
   "source": [
    "## 6. Training"
   ]
  },
  {
   "cell_type": "code",
   "execution_count": 67,
   "id": "d4fefea1-70f2-4f51-89e8-797f20441855",
   "metadata": {},
   "outputs": [],
   "source": [
    "num_steps_per_epoch = train_ds.cardinality().numpy() // EPOCHS\n",
    "rng = jax.random.PRNGKey(0)\n",
    "\n",
    "train_metrics = {\n",
    "    'd_loss': Metrics.Mean(),\n",
    "    'g_loss': Metrics.Mean(),\n",
    "    'd_real_acc': Metrics.BinaryAccuracy(),\n",
    "    'd_fake_acc': Metrics.BinaryAccuracy(),\n",
    "    'g_acc': Metrics.BinaryAccuracy()\n",
    "}\n",
    "\n",
    "rng, key = jax.random.split(rng)\n",
    "real_labels = jnp.ones(shape=(BATCH_SIZE, 1))\n",
    "real_noisy_labels = real_labels + NOISE_PARAM * jax.random.normal(rng, shape=real_labels.shape)\n",
    "fake_labels = jnp.zeros(shape=(BATCH_SIZE, 1))\n",
    "fake_noisy_labels = fake_labels - NOISE_PARAM * jax.random.normal(rng, shape=fake_labels.shape)"
   ]
  },
  {
   "cell_type": "code",
   "execution_count": null,
   "id": "56bbf4f7-f459-4781-a33b-4fec7e356f05",
   "metadata": {},
   "outputs": [],
   "source": [
    "prev_time = time.time()\n",
    "\n",
    "\n",
    "for step, real_imgs in enumerate(train_ds.as_numpy_iterator()):\n",
    "    rng, key = jax.random.split(rng)\n",
    "    \n",
    "    latents = jax.random.normal(rng, shape=(2, BATCH_SIZE, Z_DIM))\n",
    "    fake_imgs = generate_imgs(g_state, latents[0])\n",
    "\n",
    "    # Update discriminator\n",
    "    d_state = train_disciminator(d_state, real_imgs, real_noisy_labels)\n",
    "    d_state = train_disciminator(d_state, fake_imgs, fake_noisy_labels)\n",
    "\n",
    "    # Update generator\n",
    "    g_state = train_generator(d_state, g_state, latents[1], real_labels)\n",
    "\n",
    "    # calculate train metrics every epoch\n",
    "    if (step + 1) % num_steps_per_epoch == 0:\n",
    "        # Clear metrics\n",
    "        \n",
    "        test_batch = train_ds.take(10)\n",
    "        \n",
    "        for test_imgs in test_batch.as_numpy_iterator():\n",
    "            pass\n",
    "\n",
    "        # Compute metrics"
   ]
  },
  {
   "cell_type": "code",
   "execution_count": 57,
   "id": "67c52bb3-7141-498b-b131-9006384fd994",
   "metadata": {},
   "outputs": [],
   "source": [
    "latents = jax.random.normal(jax.random.PRNGKey(0), shape=(BATCH_SIZE, Z_DIM))\n",
    "fake_imgs = generate_imgs(g_state, latents)\n",
    "\n",
    "real_labels = jnp.ones(shape=(BATCH_SIZE, 1))\n",
    "\n",
    "rng, key = jax.random.split(rng)\n",
    "real_noisy_labels = real_labels + NOISE_PARAM * jax.random.normal(rng, shape=real_labels.shape)\n",
    "fake_labels = jnp.zeros(shape=(BATCH_SIZE, 1))\n",
    "fake_noisy_labels = fake_labels - NOISE_PARAM * jax.random.normal(rng, shape=fake_labels.shape)\n",
    "\n",
    "# d_state = train_disciminator(d_state, real_imgs, real_labels)\n",
    "# d_state = train_disciminator(d_state, fake_imgs, fake_labels)\n",
    "\n",
    "# latents = jax.random.normal(jax.random.PRNGKey(0), shape=(BATCH_SIZE, Z_DIM))\n",
    "# g_state = train_generator(d_state, g_state, latents, real_labels)\n",
    "\n",
    "# d_loss, g_loss, real_preds, fake_preds = compute_metrics(d_state=d_state, g_state=g_state,fake_imgs=fake_imgs, real_imgs=real_imgs,\n",
    "#                                                         real_labels=real_labels, fake_labels=fake_labels)"
   ]
  },
  {
   "cell_type": "code",
   "execution_count": 77,
   "id": "54391a3b-e3eb-4f64-b604-591ca9bcb17a",
   "metadata": {},
   "outputs": [
    {
     "name": "stdout",
     "output_type": "stream",
     "text": [
      "[[-0.69622165 -1.8602761   1.0253826   0.24633065 -1.3455602  -1.5906265\n",
      "   0.00593245  0.6239486   0.22462466 -1.4013404 ]\n",
      " [ 1.8343586  -1.037358   -0.6075037  -0.01211531  1.390547    0.2944951\n",
      "   0.01563821 -0.5578707  -0.67001504 -0.42912287]]\n"
     ]
    }
   ],
   "source": [
    "latents = jax.random.normal(rng, shape=(2, 10))\n",
    "print(latents)"
   ]
  },
  {
   "cell_type": "code",
   "execution_count": 78,
   "id": "37e9e866-e5d3-4e8e-9df0-c274c4ec5fed",
   "metadata": {},
   "outputs": [
    {
     "name": "stdout",
     "output_type": "stream",
     "text": [
      "[-0.69622165 -1.8602761   1.0253826   0.24633065 -1.3455602  -1.5906265\n",
      "  0.00593245  0.6239486   0.22462466 -1.4013404 ]\n"
     ]
    }
   ],
   "source": []
  },
  {
   "cell_type": "code",
   "execution_count": null,
   "id": "8c1275c2-d73d-45cc-ac65-13638a1adfe2",
   "metadata": {},
   "outputs": [],
   "source": []
  }
 ],
 "metadata": {
  "kernelspec": {
   "display_name": "Python 3",
   "language": "python",
   "name": "python3"
  },
  "language_info": {
   "codemirror_mode": {
    "name": "ipython",
    "version": 3
   },
   "file_extension": ".py",
   "mimetype": "text/x-python",
   "name": "python",
   "nbconvert_exporter": "python",
   "pygments_lexer": "ipython3",
   "version": "3.9.0"
  }
 },
 "nbformat": 4,
 "nbformat_minor": 5
}
