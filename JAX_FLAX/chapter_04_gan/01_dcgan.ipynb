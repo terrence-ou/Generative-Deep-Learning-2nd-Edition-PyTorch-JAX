{
 "cells": [
  {
   "cell_type": "markdown",
   "id": "55fed7f7-4df8-406e-9847-cd9fe42641ff",
   "metadata": {},
   "source": [
    "# DCGAN on Bricks Dataset"
   ]
  },
  {
   "cell_type": "markdown",
   "id": "36c0eea2-974b-422f-9f9c-e9a341c71b7c",
   "metadata": {},
   "source": [
    "**The notebook has been adapted from the notebook provided in David Foster's Generative Deep Learning, 2nd Edition.**\n",
    "\n",
    "- Book: [Amazon](https://www.amazon.com/Generative-Deep-Learning-Teaching-Machines/dp/1098134184/ref=sr_1_1?keywords=generative+deep+learning%2C+2nd+edition&qid=1684708209&sprefix=generative+de%2Caps%2C93&sr=8-1)\n",
    "- Original notebook (tensorflow and keras): [Github](https://github.com/davidADSP/Generative_Deep_Learning_2nd_Edition/blob/main/notebooks/04_gan/01_dcgan/dcgan.ipynb), Lincense: Apache-2.0\n",
    "- Dataset: [Kaggle](https://www.kaggle.com/datasets/joosthazelzet/lego-brick-images)\n",
    "\n",
    "**This JAX/FLAX implementation also references [`bilal2vec`](https://github.com/bilal2vec)'s notebook -> [Link](https://github.com/bilal2vec/jax-dcgan)**"
   ]
  },
  {
   "cell_type": "markdown",
   "id": "3794b798-8282-49e8-8faa-6feda3e29274",
   "metadata": {},
   "source": [
    "## NOTE: This notebook is still in progress, there're many bugs here\n",
    "\n",
    "helpful links: https://github.com/google/flax/discussions/2420"
   ]
  },
  {
   "cell_type": "code",
   "execution_count": 1,
   "id": "721ecd46-9259-4cf6-80a3-64fd3d31f259",
   "metadata": {},
   "outputs": [],
   "source": [
    "import numpy as np\n",
    "import time\n",
    "from collections import defaultdict\n",
    "from IPython import display\n",
    "\n",
    "import matplotlib.pyplot as plt\n",
    "import tensorflow as tf\n",
    "from tensorflow.keras import utils\n",
    "from tensorflow.keras import metrics as Metrics\n",
    "\n",
    "import jax\n",
    "import jax.numpy as jnp\n",
    "from functools import partial\n",
    "\n",
    "import flax.linen as nn\n",
    "from flax.training import train_state\n",
    "\n",
    "import optax\n",
    "from clu import metrics"
   ]
  },
  {
   "cell_type": "markdown",
   "id": "74ab5bbc-986e-448c-a694-c7a25a767f32",
   "metadata": {},
   "source": [
    "## 0. Train Parameters"
   ]
  },
  {
   "cell_type": "code",
   "execution_count": 2,
   "id": "8f426fa0-f05a-4109-a913-4e4d48bcd0dc",
   "metadata": {},
   "outputs": [],
   "source": [
    "DATA_DIR = '../../data/Lego/dataset'\n",
    "IMAGE_SIZE = 64\n",
    "CHANNELS = 1\n",
    "BATCH_SIZE = 128\n",
    "Z_DIM = 100\n",
    "NOISE_PARAM = 0.1\n",
    "EPOCHS = 200\n",
    "ADAM_BETA_1 = 0.5\n",
    "ADAM_BETA_2 = 0.999\n",
    "LR = 2e-4"
   ]
  },
  {
   "cell_type": "markdown",
   "id": "2bbfd576-b43e-43ff-afca-f50d54c2dd2b",
   "metadata": {},
   "source": [
    "## 1. Prepare dataset"
   ]
  },
  {
   "cell_type": "code",
   "execution_count": 3,
   "id": "e1e91ffe-03d4-4ec5-ae66-56f6e4e74c5f",
   "metadata": {},
   "outputs": [],
   "source": [
    "# Convert images to tensors normalize them\n",
    "def preprocess(img):\n",
    "    img = (tf.cast(img, tf.float32) - 127.5) / 127.5\n",
    "    return img\n",
    "\n",
    "# Load lego dataset from directory\n",
    "def get_dataset():\n",
    "    train_ds = utils.image_dataset_from_directory(\n",
    "        directory=DATA_DIR,\n",
    "        labels=None,\n",
    "        color_mode='grayscale',\n",
    "        image_size=(IMAGE_SIZE, IMAGE_SIZE),\n",
    "        batch_size=None,\n",
    "        shuffle=True,\n",
    "        seed=1024,\n",
    "        interpolation='bilinear',\n",
    "    ) \n",
    "\n",
    "    train_ds = train_ds.map(lambda sample: preprocess(sample))\n",
    "    train_ds = train_ds.repeat(EPOCHS).shuffle(1024)\n",
    "    train_ds = train_ds.batch(BATCH_SIZE, drop_remainder=True).prefetch(1)\n",
    "\n",
    "    return train_ds"
   ]
  },
  {
   "cell_type": "code",
   "execution_count": 4,
   "id": "916d5155-23bd-4a33-8bd8-4a725dd5fbbb",
   "metadata": {},
   "outputs": [],
   "source": [
    "def display_imgs(imgs):\n",
    "    plt.figure(figsize=(16, 3))\n",
    "    for i in range(8):\n",
    "        ax = plt.subplot(1, 8, i+1)\n",
    "        ax.imshow(imgs[i], cmap='gray')\n",
    "        ax.axis('off')\n",
    "    plt.show()\n",
    "\n",
    "# plot training records\n",
    "def show_records(history):\n",
    "    plt.figure(figsize=(12, 3))\n",
    "    for i, key in enumerate(history):\n",
    "        ax = plt.subplot(1, len(history), i+1)\n",
    "        ax.plot(history[key])\n",
    "        ax.set_title(key)\n",
    "    plt.show()"
   ]
  },
  {
   "cell_type": "code",
   "execution_count": 5,
   "id": "85922d55-229b-4431-b6d5-0804efbb702f",
   "metadata": {},
   "outputs": [
    {
     "name": "stdout",
     "output_type": "stream",
     "text": [
      "Found 40000 files belonging to 1 classes.\n",
      "(128, 64, 64, 1)\n"
     ]
    },
    {
     "data": {
      "image/png": "[encoded data removed]",
      "text/plain": [
       "<Figure size 1152x216 with 8 Axes>"
      ]
     },
     "metadata": {
      "needs_background": "light"
     },
     "output_type": "display_data"
    }
   ],
   "source": [
    "check_ds = get_dataset()\n",
    "check_sample = next(iter(check_ds))\n",
    "print(check_sample.shape)\n",
    "display_imgs(check_sample)"
   ]
  },
  {
   "cell_type": "markdown",
   "id": "98a54f84-0389-4930-a4dc-519e4d6bdabc",
   "metadata": {},
   "source": [
    "## 2. Building GAN"
   ]
  },
  {
   "cell_type": "code",
   "execution_count": 6,
   "id": "ec156a94-5103-4d32-bb64-74e3e6966a6b",
   "metadata": {},
   "outputs": [],
   "source": [
    "class Discriminator(nn.Module):\n",
    "\n",
    "    channel_list: tuple = (64, 128, 256, 512)\n",
    "    \n",
    "    @nn.compact\n",
    "    def __call__(self, x, train:bool):\n",
    "\n",
    "        # Convolutional layers\n",
    "        for i, features in enumerate(self.channel_list):\n",
    "            x = self.conv_block(x, features, i, train)\n",
    "\n",
    "        # Output layers\n",
    "        x = nn.Conv(features=1, kernel_size=(4, 4), strides=1, \n",
    "                    padding='valid', use_bias=False)(x)\n",
    "        # x = nn.sigmoid(x)\n",
    "        x = x.reshape(-1, 1)\n",
    "        return x\n",
    "\n",
    "    # Downsampling convolution block\n",
    "    def conv_block(self, x, out_features, use_bn, train:bool):\n",
    "        x = nn.Conv(features=out_features, kernel_size=(4, 4), strides=2,\n",
    "                    padding='same', use_bias=False)(x)\n",
    "        \n",
    "        if use_bn:\n",
    "            x = nn.BatchNorm(use_running_average=not train, momentum=0.9)(x)\n",
    "        x = nn.leaky_relu(x, negative_slope=0.2)\n",
    "        x = nn.Dropout(rate=0.3, deterministic=not train)(x)\n",
    "        return x\n",
    "\n",
    "# net_D = Discriminator()\n",
    "# print(net_D.tabulate(jax.random.PRNGKey(0), jnp.ones((1, 64, 64, 1)), train=False, console_kwargs={'width': 100}))"
   ]
  },
  {
   "cell_type": "code",
   "execution_count": 7,
   "id": "2550b4a8-8fa8-4075-844e-feca65b877f3",
   "metadata": {},
   "outputs": [],
   "source": [
    "class Generator(nn.Module):\n",
    "    z_dim: int\n",
    "    channel_list:tuple = (512, 256, 128, 64)\n",
    "\n",
    "    @nn.compact\n",
    "    def __call__(self, x, train:bool):\n",
    "        x = x.reshape(x.shape[0], 1, 1, x.shape[1])\n",
    "\n",
    "        # Transpose convolution layers\n",
    "        for i, features in enumerate(self.channel_list):\n",
    "            strides = 2 if i else 1\n",
    "            padding = 'SAME' if i else 'VALID'\n",
    "            x = self.transconv_block(x, features, strides, padding, train)\n",
    "\n",
    "        # Output layers\n",
    "        x = nn.ConvTranspose(features=CHANNELS, kernel_size=(4, 4), strides=(2, 2),\n",
    "                             padding='SAME', use_bias=False)(x)\n",
    "        x = nn.tanh(x)\n",
    "        return x\n",
    "        \n",
    "\n",
    "    def transconv_block(self, x, out_features, strides, padding:str, train:bool):\n",
    "        x = nn.ConvTranspose(features=out_features, kernel_size=(4, 4), strides=(strides, strides),\n",
    "                             padding=padding, use_bias=False)(x)\n",
    "        x = nn.BatchNorm(use_running_average=not train, momentum=0.9)(x)\n",
    "        x = nn.leaky_relu(x, negative_slope=0.2)\n",
    "        return x\n",
    "\n",
    "# netG = Generator(Z_DIM)\n",
    "# print(netG.tabulate(jax.random.PRNGKey(0), jnp.ones((1, Z_DIM)), train=False, console_kwargs={'width': 100}))"
   ]
  },
  {
   "cell_type": "markdown",
   "id": "7f8a2ff3-4de0-4abd-b432-892257cf3e45",
   "metadata": {},
   "source": [
    "## 3. `Train State`"
   ]
  },
  {
   "cell_type": "code",
   "execution_count": 8,
   "id": "9a74a108-46e6-4d85-bc1f-9757e4067520",
   "metadata": {},
   "outputs": [],
   "source": [
    "from typing import Any\n",
    "\n",
    "# adding batch_stats and dropout keys to the properities of the class\n",
    "class TrainState(train_state.TrainState):\n",
    "    batch_stats: Any # for batch normalization layers\n",
    "    key: jax.random.KeyArray = None # for dropout layers\n",
    "\n",
    "\n",
    "# funtion to create a train state for modules\n",
    "def create_train_state(module, init_array, \n",
    "                       params_key, dropout_key, \n",
    "                       learning_rate, train=False):\n",
    "    \"\"\"\n",
    "    module: flax module\n",
    "    init_array: jax.numpy.ones(shape=module_input_shape)\n",
    "    param_key, dropout_key: jax.random.PRNGkey(0)\n",
    "    \"\"\"\n",
    "\n",
    "    # Initialize the model with initialization array\n",
    "    variables = module.init(params_key, init_array, train=train)\n",
    "    params = variables['params']\n",
    "    batch_stats = variables['batch_stats']\n",
    "\n",
    "    # Create an optimizer\n",
    "    tx = optax.adam(learning_rate=learning_rate, b1=ADAM_BETA_1, b2=ADAM_BETA_2)\n",
    "\n",
    "    return TrainState.create(\n",
    "            apply_fn=module.apply,\n",
    "            params=params,\n",
    "            batch_stats=batch_stats,\n",
    "            key=dropout_key,\n",
    "            tx=tx\n",
    "            )"
   ]
  },
  {
   "cell_type": "markdown",
   "id": "3027dfb3-048d-4cc5-be85-3aa2effcb4c9",
   "metadata": {},
   "source": [
    "## 4. Loss functions"
   ]
  },
  {
   "cell_type": "code",
   "execution_count": 9,
   "id": "8c1275c2-d73d-45cc-ac65-13638a1adfe2",
   "metadata": {},
   "outputs": [],
   "source": [
    "# Loss function for generator\n",
    "def g_loss_fn(g_state_params, d_state, real_imgs, rng):\n",
    "    latents = jax.random.normal(rng, shape=(BATCH_SIZE, Z_DIM))\n",
    "    fake_imgs, g_variables = g_state.apply_fn(\n",
    "                                {'params': g_state_params, 'batch_stats': g_state.batch_stats},\n",
    "                                latents,\n",
    "                                train=True,\n",
    "                                mutable=['batch_stats'])\n",
    "\n",
    "    dropout_train_key = jax.random.fold_in(key=d_state.key, data=d_state.step)\n",
    "    fake_preds, d_variables = d_state.apply_fn(\n",
    "                                {'params': d_state.params, 'batch_stats': d_state.batch_stats},\n",
    "                                fake_imgs,\n",
    "                                train=True,\n",
    "                                rngs={'dropout': dropout_train_key},\n",
    "                                mutable=['batch_stats'])\n",
    "\n",
    "    real_labels = jnp.ones(shape=(BATCH_SIZE,))\n",
    "    g_loss = optax.sigmoid_binary_cross_entropy(fake_preds.reshape(-1, ), real_labels).mean()\n",
    "    return g_loss, (g_variables, d_variables)\n",
    "\n",
    "\n",
    "# Loss function for discriminator\n",
    "def d_loss_fn(d_state_params, g_state, real_imgs, rng):\n",
    "    \n",
    "    # generate fake images\n",
    "    latents = jax.random.normal(rng, shape=(BATCH_SIZE, Z_DIM))\n",
    "    fake_imgs, g_variables = g_state.apply_fn(\n",
    "                            {'params': g_state.params, 'batch_stats': g_state.batch_stats},\n",
    "                            latents,\n",
    "                            train=True,\n",
    "                            mutable=['batch_stats'])\n",
    "\n",
    "    # get discriminator's preds on real images\n",
    "    dropout_train_key = jax.random.fold_in(key=d_state.key, data=d_state.step)\n",
    "    real_preds, d_variables = d_state.apply_fn(\n",
    "                            {'params': d_state_params, 'batch_stats': d_state.batch_stats},\n",
    "                            real_imgs,\n",
    "                            train=True,\n",
    "                            rngs={'dropout': dropout_train_key},\n",
    "                            mutable=['batch_stats'],)\n",
    "\n",
    "    # get discriminator's preds on fake images\n",
    "    dropout_train_key = jax.random.fold_in(key=d_state.key, data=d_state.step)\n",
    "    fake_preds, d_variables = d_state.apply_fn(\n",
    "                            {'params': d_state_params, 'batch_stats': d_state.batch_stats},\n",
    "                            fake_imgs,\n",
    "                            train=True,\n",
    "                            rngs={'dropout': dropout_train_key},\n",
    "                            mutable=['batch_stats'],)\n",
    "\n",
    "    # create real and fake labels\n",
    "    key_1, key_2 = jax.random.split(rng)\n",
    "    real_labels = jnp.ones_like(real_preds)\n",
    "    real_labels_noisy = real_labels + NOISE_PARAM * jax.random.normal(key_1, shape=real_labels.shape)\n",
    "    fake_labels = jnp.zeros_like(fake_preds)\n",
    "    fake_labels_noisy = fake_labels - NOISE_PARAM * jax.random.normal(key_2, shape=fake_labels.shape)\n",
    "\n",
    "    # Compute losses\n",
    "    real_loss = optax.sigmoid_binary_cross_entropy(real_preds.reshape(-1,), real_labels_noisy.reshape(-1,))\n",
    "    fake_loss = optax.sigmoid_binary_cross_entropy(fake_preds.reshape(-1,), fake_labels_noisy.reshape(-1,))\n",
    "    loss = (real_loss + fake_loss).mean()\n",
    "    return loss, (g_variables, d_variables)"
   ]
  },
  {
   "cell_type": "markdown",
   "id": "45d2a0a4-3690-4ed6-9bf6-1ca2c72647d6",
   "metadata": {},
   "source": [
    "## 5. Train step function"
   ]
  },
  {
   "cell_type": "code",
   "execution_count": 10,
   "id": "864537f9-e316-4be2-8f75-68f8da78b4bb",
   "metadata": {},
   "outputs": [],
   "source": [
    "@jax.jit\n",
    "def train_step(rng, g_state, d_state, real_imgs):\n",
    "    rng, rng_g, rng_d = jax.random.split(rng, num=3)\n",
    "\n",
    "    # create gradient functions\n",
    "    d_grad_fn = jax.value_and_grad(d_loss_fn, has_aux=True, allow_int=True)\n",
    "    g_grad_fn = jax.value_and_grad(g_loss_fn, has_aux=True, allow_int=True)\n",
    "\n",
    "    # update discriminator\n",
    "    (d_loss, (g_variables, d_variables)), d_grads = d_grad_fn(d_state.params, g_state, real_imgs, rng_d)\n",
    "    d_state = d_state.apply_gradients(grads=d_grads)\n",
    "    d_state = d_state.replace(batch_stats=d_variables['batch_stats'])\n",
    "    \n",
    "    # update generator\n",
    "    (g_loss, (g_variables, d_variables)), g_grads = g_grad_fn(g_state.params, d_state, real_imgs, rng_g)\n",
    "    g_state = g_state.apply_gradients(grads=g_grads)\n",
    "    g_state = g_state.replace(batch_stats=g_variables['batch_stats'])\n",
    "\n",
    "\n",
    "    return rng, g_state, d_state, g_loss, d_loss"
   ]
  },
  {
   "cell_type": "markdown",
   "id": "a597b75d-d64c-4eca-b806-0a8c75bfc3f7",
   "metadata": {},
   "source": [
    "## 6. Load datasets and create `train_stat`s"
   ]
  },
  {
   "cell_type": "code",
   "execution_count": 11,
   "id": "3b62bb93-bf6e-49b4-b2c4-b1e0911cd63c",
   "metadata": {},
   "outputs": [
    {
     "name": "stdout",
     "output_type": "stream",
     "text": [
      "Found 40000 files belonging to 1 classes.\n"
     ]
    }
   ],
   "source": [
    "train_metrics = {\n",
    "    'd_loss': Metrics.Mean(),\n",
    "    'g_loss': Metrics.Mean(),\n",
    "}\n",
    "\n",
    "train_ds = get_dataset()\n",
    "num_steps_per_epoch = train_ds.cardinality().numpy() // EPOCHS\n",
    "\n",
    "tf.random.set_seed(10)\n",
    "\n",
    "rng = jax.random.PRNGKey(0)\n",
    "d_param_key, g_param_key, dropout_key, rng = jax.random.split(key=rng, num=4)\n",
    "\n",
    "g_net = Generator(Z_DIM)\n",
    "d_net = Discriminator()\n",
    "\n",
    "g_state = create_train_state(g_net, jnp.ones(shape=(1, Z_DIM)), g_param_key, None, learning_rate=LR)\n",
    "d_state = create_train_state(d_net, jnp.ones(shape=(1, 64, 64, 1)), d_param_key, dropout_key, learning_rate=LR)"
   ]
  },
  {
   "cell_type": "code",
   "execution_count": null,
   "id": "e3a6c6cc-b2dd-4583-a677-41a42942a55b",
   "metadata": {},
   "outputs": [],
   "source": [
    "history = defaultdict(list)\n",
    "prev_time = time.time()\n",
    "\n",
    "for step, real_imgs in enumerate(train_ds.as_numpy_iterator()):\n",
    "    \n",
    "    rng, g_state, d_state, g_loss, d_loss = train_step(rng, g_state, d_state, real_imgs)  \n",
    "    train_metrics['d_loss'].update_state(d_loss)\n",
    "    train_metrics['g_loss'].update_state(g_loss)\n",
    "    \n",
    "    if (step + 1) % num_steps_per_epoch == 0:\n",
    "        history['d_loss'].append(train_metrics['d_loss'].result().numpy())\n",
    "        history['g_loss'].append(train_metrics['g_loss'].result().numpy())\n",
    "        \n",
    "        latents = jax.random.normal(rng, shape=(BATCH_SIZE, Z_DIM))\n",
    "        fake_imgs = g_state.apply_fn(\n",
    "                                    {'params': g_state.params, 'batch_stats': g_state.batch_stats},\n",
    "                                    latents, train=False)\n",
    "\n",
    "        display.clear_output(wait=True)\n",
    "        \n",
    "        curr_time = time.time()\n",
    "        curr_epoch = (step + 1) // num_steps_per_epoch\n",
    "        print('Epoch: {}\\tepoch time {:.2f} min'.format(curr_epoch, (curr_time - prev_time) / 60))\n",
    "        metrics = [f'{key}: {value.result().numpy():.4f} | ' for key, value in train_metrics.items()]\n",
    "        print('\\t', ''.join(metrics))\n",
    "        \n",
    "        display_imgs(fake_imgs)\n",
    "        show_records(history)\n",
    "\n",
    "        train_metrics['d_loss'].reset_state()\n",
    "        train_metrics['g_loss'].reset_state()\n",
    "        prev_time = curr_time"
   ]
  },
  {
   "cell_type": "markdown",
   "id": "6eaf527e-446d-4921-bced-1a072aaa8171",
   "metadata": {},
   "source": [
    "## 7. Generate new images"
   ]
  },
  {
   "cell_type": "code",
   "execution_count": null,
   "id": "eb78ef04-e343-43bd-91f6-e4d091a513b9",
   "metadata": {},
   "outputs": [],
   "source": [
    "# sample latent vector for normal distribution\n",
    "grid_width, grid_height = (10, 3)\n",
    "rng = jax.random.PRNGKey(0)\n",
    "latents = jax.random.normal(rng, shape=(grid_width * grid_height, Z_DIM))\n",
    "generated_imgs = g_state.apply_fn(\n",
    "                            {'params': g_state.params, 'batch_stats': g_state.batch_stats},\n",
    "                            latents,\n",
    "                            train=False)"
   ]
  },
  {
   "cell_type": "code",
   "execution_count": null,
   "id": "35942fad-1287-48c8-8b81-e3569ed5daff",
   "metadata": {},
   "outputs": [],
   "source": [
    "# Draw a plot of decoded images\n",
    "fig = plt.figure(figsize=(18, 5))\n",
    "fig.subplots_adjust(hspace=0.1, wspace=0.1)\n",
    "\n",
    "# Output the grid of faces\n",
    "for i in range(grid_width * grid_height):\n",
    "    ax = fig.add_subplot(grid_height, grid_width, i + 1)\n",
    "    ax.axis(\"off\")\n",
    "    ax.imshow(generated_imgs[i], cmap=\"gray\")"
   ]
  },
  {
   "cell_type": "markdown",
   "id": "fe6453fa-9a78-4871-9665-76a1d08b734c",
   "metadata": {},
   "source": [
    "## 8. Output matching"
   ]
  },
  {
   "cell_type": "code",
   "execution_count": null,
   "id": "50a1c1ec-9d58-4334-b27a-10de911b5c6b",
   "metadata": {},
   "outputs": [],
   "source": []
  },
  {
   "cell_type": "code",
   "execution_count": null,
   "id": "d7e37ced-c7fc-4d1b-8dac-b1c97c1c1bcb",
   "metadata": {},
   "outputs": [],
   "source": []
  }
 ],
 "metadata": {
  "kernelspec": {
   "display_name": "Python 3",
   "language": "python",
   "name": "python3"
  },
  "language_info": {
   "codemirror_mode": {
    "name": "ipython",
    "version": 3
   },
   "file_extension": ".py",
   "mimetype": "text/x-python",
   "name": "python",
   "nbconvert_exporter": "python",
   "pygments_lexer": "ipython3",
   "version": "3.9.0"
  }
 },
 "nbformat": 4,
 "nbformat_minor": 5
}
