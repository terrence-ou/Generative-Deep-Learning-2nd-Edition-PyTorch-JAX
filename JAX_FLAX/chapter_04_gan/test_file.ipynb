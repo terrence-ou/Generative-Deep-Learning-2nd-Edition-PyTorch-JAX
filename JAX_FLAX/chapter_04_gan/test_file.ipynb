{
 "cells": [
  {
   "cell_type": "code",
   "execution_count": 1,
   "id": "842f5002-36d8-4d5a-935d-4ae8f925479d",
   "metadata": {},
   "outputs": [],
   "source": [
    "import numpy as np\n",
    "import time\n",
    "from collections import defaultdict\n",
    "from IPython import display\n",
    "\n",
    "import matplotlib.pyplot as plt\n",
    "import tensorflow as tf\n",
    "from tensorflow.keras import utils\n",
    "from tensorflow.keras import metrics as Metrics\n",
    "\n",
    "import jax\n",
    "import jax.numpy as jnp\n",
    "from functools import partial\n",
    "\n",
    "from flax import struct\n",
    "import flax.linen as nn\n",
    "from flax.training import train_state\n",
    "\n",
    "import optax\n",
    "from clu import metrics"
   ]
  },
  {
   "cell_type": "code",
   "execution_count": 4,
   "id": "f932100d-98a9-4336-bea4-85714aff3d83",
   "metadata": {},
   "outputs": [],
   "source": [
    "@struct.dataclass\n",
    "class C_Metrics(metrics.Collection):\n",
    "    c_wass_loss: metrics.Average.from_output('c_wass_loss')\n",
    "    c_loss : metrics.Average.from_output('c_loss')\n",
    "    c_gp : metrics.Average.from_output('c_gp')"
   ]
  },
  {
   "cell_type": "code",
   "execution_count": 9,
   "id": "2e47622e-d2d9-4444-8397-bba71ad5bd99",
   "metadata": {},
   "outputs": [],
   "source": [
    "test = C_Metrics.single_from_model_output(\n",
    "            c_wass_loss = jnp.array([1, 2, 1]),\n",
    "            c_loss = jnp.array([1, 2, 1]),\n",
    "            c_gp = jnp.array([1, 2, 1]),\n",
    ")"
   ]
  },
  {
   "cell_type": "code",
   "execution_count": 10,
   "id": "224511e5-7b5e-4a41-9a9d-e645bde8e7ef",
   "metadata": {},
   "outputs": [
    {
     "data": {
      "text/plain": [
       "{'c_wass_loss': Array(1.3333334, dtype=float32),\n",
       " 'c_loss': Array(1.3333334, dtype=float32),\n",
       " 'c_gp': Array(1.3333334, dtype=float32)}"
      ]
     },
     "execution_count": 10,
     "metadata": {},
     "output_type": "execute_result"
    }
   ],
   "source": [
    "test.compute()"
   ]
  },
  {
   "cell_type": "code",
   "execution_count": null,
   "id": "c8f45fda-f496-4f6f-8e1c-48474039019f",
   "metadata": {},
   "outputs": [],
   "source": []
  }
 ],
 "metadata": {
  "kernelspec": {
   "display_name": "Python 3",
   "language": "python",
   "name": "python3"
  },
  "language_info": {
   "codemirror_mode": {
    "name": "ipython",
    "version": 3
   },
   "file_extension": ".py",
   "mimetype": "text/x-python",
   "name": "python",
   "nbconvert_exporter": "python",
   "pygments_lexer": "ipython3",
   "version": "3.9.0"
  }
 },
 "nbformat": 4,
 "nbformat_minor": 5
}
