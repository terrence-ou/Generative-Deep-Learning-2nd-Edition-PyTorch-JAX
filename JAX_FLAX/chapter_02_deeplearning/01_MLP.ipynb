{
 "cells": [
  {
   "cell_type": "markdown",
   "id": "b85bd387-c6f7-45df-8c28-c6a23b67b7b4",
   "metadata": {},
   "source": [
    "# Multilayer Perceptron (MLP)"
   ]
  },
  {
   "cell_type": "markdown",
   "id": "d47c537d-65e8-46a7-b55e-f42a543c8211",
   "metadata": {},
   "source": [
    "**The notebook has been adapted from the notebook provided in David Foster's Generative Deep Learning, 2nd Edition.**\n",
    "\n",
    "- Book: [Amazon](https://www.amazon.com/Generative-Deep-Learning-Teaching-Machines/dp/1098134184/ref=sr_1_1?keywords=generative+deep+learning%2C+2nd+edition&qid=1684708209&sprefix=generative+de%2Caps%2C93&sr=8-1)\n",
    "- Original notebook (tensorflow and keras): [Github](https://github.com/davidADSP/Generative_Deep_Learning_2nd_Edition/blob/main/notebooks/02_deeplearning/01_mlp/mlp.ipynb)"
   ]
  },
  {
   "cell_type": "code",
   "execution_count": 1,
   "id": "550a9b2e-2b07-40c7-8603-603a7891f3a4",
   "metadata": {},
   "outputs": [],
   "source": [
    "import tensorflow as tf\n",
    "import tensorflow_datasets as tfds\n",
    "\n",
    "import numpy as np\n",
    "import matplotlib.pyplot as plt\n",
    "\n",
    "# Import jax eco-system\n",
    "import jax\n",
    "import jax.numpy as jnp\n",
    "\n",
    "import flax.linen as nn\n",
    "from flax.training import train_state\n",
    "from flax import struct\n",
    "import optax\n",
    "\n",
    "from clu import metrics"
   ]
  },
  {
   "cell_type": "markdown",
   "id": "c6604be2-47ed-42b0-82f3-fb7234d8cf80",
   "metadata": {},
   "source": [
    "## 0. Train parameters"
   ]
  },
  {
   "cell_type": "code",
   "execution_count": 2,
   "id": "20038bb8-7c04-4594-9311-96ce13d95ee4",
   "metadata": {},
   "outputs": [],
   "source": [
    "NUM_CLASSES = 10\n",
    "BATCH_SIZE = 64\n",
    "NUM_EPOCHS = 10\n",
    "LR = 5e-4"
   ]
  },
  {
   "cell_type": "markdown",
   "id": "2d56f7d3-3eee-4f1e-a663-245a365b43bb",
   "metadata": {},
   "source": [
    "## 1. Prepare dataset"
   ]
  },
  {
   "cell_type": "code",
   "execution_count": 3,
   "id": "2472ab7d-aa13-4c5d-a20a-ce6d923e5b98",
   "metadata": {},
   "outputs": [],
   "source": [
    "# Get train/test datasets and convert them into iterable batches\n",
    "def get_datasets(num_epochs, batch_size):\n",
    "\n",
    "    # Dataset classes\n",
    "    classes = np.array([\n",
    "        \"airplane\",\n",
    "        \"automobile\",\n",
    "        \"bird\",\n",
    "        \"cat\",\n",
    "        \"deer\",\n",
    "        \"dog\",\n",
    "        \"frog\",\n",
    "        \"horse\",\n",
    "        \"ship\",\n",
    "        \"truck\",\n",
    "    ])\n",
    "    \n",
    "    # downoad Cifar-10 dataset\n",
    "    train_ds = tfds.load('cifar10', split='train')\n",
    "    test_ds = tfds.load('cifar10', split='test')\n",
    "\n",
    "    # Normalizing images and mapping them as tf tensor\n",
    "    train_ds = train_ds.map(lambda sample: {'image': (tf.cast(sample['image'], tf.float32) / 255.),\n",
    "                                            'label': sample['label']})\n",
    "    \n",
    "    test_ds = test_ds.map(lambda sample: {'image': tf.cast(sample['image'], tf.float32) / 255.,\n",
    "                                            'label': sample['label']})\n",
    "\n",
    "    # Tensorflow dataloader\n",
    "    train_ds = train_ds.repeat(num_epochs).shuffle(1024)\n",
    "    train_ds = train_ds.batch(batch_size, drop_remainder=True).prefetch(1)\n",
    "    test_ds = test_ds.shuffle(1024)\n",
    "    test_ds = test_ds.batch(batch_size, drop_remainder=True).prefetch(1)\n",
    "\n",
    "    return classes, train_ds, test_ds"
   ]
  },
  {
   "cell_type": "markdown",
   "id": "b10023c4-b6ca-4d6b-9980-8b10f9e039f9",
   "metadata": {},
   "source": [
    "checking datasets and labels."
   ]
  },
  {
   "cell_type": "code",
   "execution_count": 4,
   "id": "16dd9199-7d29-4c29-8100-a55532babedb",
   "metadata": {},
   "outputs": [
    {
     "data": {
      "image/png": "[encoded data removed]",
      "text/plain": [
       "<Figure size 864x360 with 2 Axes>"
      ]
     },
     "metadata": {
      "needs_background": "light"
     },
     "output_type": "display_data"
    }
   ],
   "source": [
    "classes, train_ds, test_ds = get_datasets(10, 32)\n",
    "\n",
    "# Get a single batch of data from both datasets\n",
    "check_train = next(iter(train_ds))\n",
    "check_test = next(iter(test_ds))\n",
    "\n",
    "fig, axes = plt.subplots(1, 2, figsize=(12, 5))\n",
    "# display the images and corresponded labels\n",
    "axes[0].imshow(check_train['image'][0])\n",
    "axes[0].set_xlabel(classes[check_train['label'][0].numpy()], fontsize=20)\n",
    "axes[1].imshow(check_test['image'][0])\n",
    "axes[1].set_xlabel(classes[check_test['label'][0].numpy()], fontsize=20)\n",
    "\n",
    "plt.show()"
   ]
  },
  {
   "cell_type": "code",
   "execution_count": 5,
   "id": "b8a2e830-2c21-4d78-8f4a-3cd483078191",
   "metadata": {},
   "outputs": [
    {
     "name": "stdout",
     "output_type": "stream",
     "text": [
      "(32, 32, 32, 3)\n"
     ]
    }
   ],
   "source": [
    "print(check_train['image'].numpy().shape)"
   ]
  },
  {
   "cell_type": "markdown",
   "id": "a1c88961-06ad-4d6a-ba21-dd4c33fc1645",
   "metadata": {},
   "source": [
    "## 2. Define the MLP network"
   ]
  },
  {
   "cell_type": "code",
   "execution_count": 6,
   "id": "f2c547c5-d543-42ea-a151-3a647dab18d9",
   "metadata": {},
   "outputs": [],
   "source": [
    "class MLP(nn.Module):\n",
    "    num_classes:int\n",
    "    \n",
    "    @nn.compact\n",
    "    def __call__(self, x):\n",
    "        x = x.reshape(x.shape[0], -1)\n",
    "        x = nn.Dense(features=200)(x)\n",
    "        x = nn.relu(x)\n",
    "        x = nn.Dense(features=150)(x)\n",
    "        x = nn.relu(x)\n",
    "        x = nn.Dense(features=self.num_classes)(x)\n",
    "        return x"
   ]
  },
  {
   "cell_type": "markdown",
   "id": "3d60265c-6bbc-44e5-9719-5ee26ddaf106",
   "metadata": {},
   "source": [
    "Model summary in JAX:"
   ]
  },
  {
   "cell_type": "code",
   "execution_count": 7,
   "id": "5cef8ff5-0f89-4a37-b58f-2f19722c965d",
   "metadata": {},
   "outputs": [
    {
     "name": "stdout",
     "output_type": "stream",
     "text": [
      "\n",
      "\u001b[3m                                     MLP Summary                                      \u001b[0m\n",
      "┏━━━━━━━━━┳━━━━━━━━┳━━━━━━━━━━━━━━━━━━━━┳━━━━━━━━━━━━━━━━┳━━━━━━━━━━━━━━━━━━━━━━━━━━━┓\n",
      "┃\u001b[1m \u001b[0m\u001b[1mpath   \u001b[0m\u001b[1m \u001b[0m┃\u001b[1m \u001b[0m\u001b[1mmodule\u001b[0m\u001b[1m \u001b[0m┃\u001b[1m \u001b[0m\u001b[1minputs            \u001b[0m\u001b[1m \u001b[0m┃\u001b[1m \u001b[0m\u001b[1moutputs       \u001b[0m\u001b[1m \u001b[0m┃\u001b[1m \u001b[0m\u001b[1mparams                   \u001b[0m\u001b[1m \u001b[0m┃\n",
      "┡━━━━━━━━━╇━━━━━━━━╇━━━━━━━━━━━━━━━━━━━━╇━━━━━━━━━━━━━━━━╇━━━━━━━━━━━━━━━━━━━━━━━━━━━┩\n",
      "│         │ MLP    │ \u001b[2mfloat32\u001b[0m[1,32,32,3] │ \u001b[2mfloat32\u001b[0m[1,10]  │                           │\n",
      "├─────────┼────────┼────────────────────┼────────────────┼───────────────────────────┤\n",
      "│ Dense_0 │ Dense  │ \u001b[2mfloat32\u001b[0m[1,3072]    │ \u001b[2mfloat32\u001b[0m[1,200] │ bias: \u001b[2mfloat32\u001b[0m[200]        │\n",
      "│         │        │                    │                │ kernel: \u001b[2mfloat32\u001b[0m[3072,200] │\n",
      "│         │        │                    │                │                           │\n",
      "│         │        │                    │                │ \u001b[1m614,600 \u001b[0m\u001b[1;2m(2.5 MB)\u001b[0m          │\n",
      "├─────────┼────────┼────────────────────┼────────────────┼───────────────────────────┤\n",
      "│ Dense_1 │ Dense  │ \u001b[2mfloat32\u001b[0m[1,200]     │ \u001b[2mfloat32\u001b[0m[1,150] │ bias: \u001b[2mfloat32\u001b[0m[150]        │\n",
      "│         │        │                    │                │ kernel: \u001b[2mfloat32\u001b[0m[200,150]  │\n",
      "│         │        │                    │                │                           │\n",
      "│         │        │                    │                │ \u001b[1m30,150 \u001b[0m\u001b[1;2m(120.6 KB)\u001b[0m         │\n",
      "├─────────┼────────┼────────────────────┼────────────────┼───────────────────────────┤\n",
      "│ Dense_2 │ Dense  │ \u001b[2mfloat32\u001b[0m[1,150]     │ \u001b[2mfloat32\u001b[0m[1,10]  │ bias: \u001b[2mfloat32\u001b[0m[10]         │\n",
      "│         │        │                    │                │ kernel: \u001b[2mfloat32\u001b[0m[150,10]   │\n",
      "│         │        │                    │                │                           │\n",
      "│         │        │                    │                │ \u001b[1m1,510 \u001b[0m\u001b[1;2m(6.0 KB)\u001b[0m            │\n",
      "├─────────┼────────┼────────────────────┼────────────────┼───────────────────────────┤\n",
      "│\u001b[1m \u001b[0m\u001b[1m       \u001b[0m\u001b[1m \u001b[0m│\u001b[1m \u001b[0m\u001b[1m      \u001b[0m\u001b[1m \u001b[0m│\u001b[1m \u001b[0m\u001b[1m                  \u001b[0m\u001b[1m \u001b[0m│\u001b[1m \u001b[0m\u001b[1m         Total\u001b[0m\u001b[1m \u001b[0m│\u001b[1m \u001b[0m\u001b[1m646,260 \u001b[0m\u001b[1;2m(2.6 MB)\u001b[0m\u001b[1m         \u001b[0m\u001b[1m \u001b[0m│\n",
      "└─────────┴────────┴────────────────────┴────────────────┴───────────────────────────┘\n",
      "\u001b[1m                                                                                      \u001b[0m\n",
      "\u001b[1m                          Total Parameters: 646,260 \u001b[0m\u001b[1;2m(2.6 MB)\u001b[0m\u001b[1m                          \u001b[0m\n",
      "\n",
      "\n"
     ]
    }
   ],
   "source": [
    "mlp = MLP(NUM_CLASSES)\n",
    "print(mlp.tabulate(jax.random.PRNGKey(0), jnp.ones((1, 32, 32, 3)))) # shape: (batch, h, w, channel)"
   ]
  },
  {
   "cell_type": "markdown",
   "id": "b6749d20-5eae-408f-bc2b-e520283e9b3b",
   "metadata": {},
   "source": [
    "## 3. Creating a `TrainState`"
   ]
  },
  {
   "cell_type": "markdown",
   "id": "34d148f0-c079-4200-bfaf-4c28ff33d893",
   "metadata": {},
   "source": [
    "A common pattern in Flax is to create a single dataclass that represents the entire training state, including step number, parameters, and optimizer state."
   ]
  },
  {
   "cell_type": "code",
   "execution_count": 8,
   "id": "2afb9556-6a75-4d43-9af7-3c6f8d866540",
   "metadata": {},
   "outputs": [],
   "source": [
    "@struct.dataclass\n",
    "class Metrics(metrics.Collection):\n",
    "    accuracy: metrics.Accuracy\n",
    "    loss: metrics.Average.from_output('loss')\n",
    "\n",
    "class TrainState(train_state.TrainState):\n",
    "    metrics: Metrics\n",
    "\n",
    "def create_train_state(module, rng, learning_rate):\n",
    "    # First initialize the model with random parameters\n",
    "    params = module.init(rng, jnp.ones([1, 32, 32, 3]))['params'] # module initialized as a FrozenDict\n",
    "    # Initialize optimizer\n",
    "    tx = optax.adam(learning_rate=learning_rate)\n",
    "    return TrainState.create(\n",
    "            apply_fn=module.apply,\n",
    "            params=params,\n",
    "            tx=tx,\n",
    "            metrics=Metrics.empty())"
   ]
  },
  {
   "cell_type": "markdown",
   "id": "778563f8-2b9a-4d64-b157-da11958bcf99",
   "metadata": {},
   "source": [
    "## 4. Train steps\n",
    "1. Evaluate the neural network with parameters and a batch of input images with `TrainState.apply_fn()`;\n",
    "2. Compute cross entropy loss using `optax.softmax_cross_entropy_with_integet_labels()`;\n",
    "3. Evaluate the gradient of the loss function using `jax.grad()`;\n",
    "4. Apply a pytree of gradients to the optimizer to update the model's parameter."
   ]
  },
  {
   "cell_type": "code",
   "execution_count": 9,
   "id": "1ce2ad16-2b65-4cb1-af96-8c9222434705",
   "metadata": {},
   "outputs": [],
   "source": [
    "@jax.jit\n",
    "def train_step(state, batch):\n",
    "    def loss_fn(params):\n",
    "        logits = state.apply_fn({'params': params}, batch['image'])\n",
    "        loss = optax.softmax_cross_entropy_with_integer_labels(\n",
    "            logits=logits, labels=batch['label']).mean()\n",
    "        return loss\n",
    "    grad_fn = jax.grad(loss_fn)\n",
    "    grads = grad_fn(state.params)\n",
    "    state = state.apply_gradients(grads=grads)\n",
    "    return state"
   ]
  },
  {
   "cell_type": "markdown",
   "id": "0e293c74-b95b-471a-bbc7-4692f8f2bb71",
   "metadata": {},
   "source": [
    "## 5. Computing metrics"
   ]
  },
  {
   "cell_type": "code",
   "execution_count": 10,
   "id": "f70a1a77-ecd0-46d9-b12d-52f799e7752b",
   "metadata": {},
   "outputs": [],
   "source": [
    "@jax.jit\n",
    "def compute_metrics(*, state, batch):\n",
    "    logits = state.apply_fn({'params': state.params}, batch['image'])\n",
    "    loss = optax.softmax_cross_entropy_with_integer_labels(\n",
    "        logits=logits, labels=batch['label']).mean()\n",
    "\n",
    "    metric_updates = state.metrics.single_from_model_output(\n",
    "        logits=logits, labels=batch['label'], loss=loss)\n",
    "    metrics = state.metrics.merge(metric_updates)\n",
    "    state = state.replace(metrics=metrics)\n",
    "    return state"
   ]
  },
  {
   "cell_type": "markdown",
   "id": "8a5a2dd1-8d9b-4e20-8cdd-7f6706c9928a",
   "metadata": {},
   "source": [
    "## 6. Load dataset and initialize the `TrainState`"
   ]
  },
  {
   "cell_type": "code",
   "execution_count": 11,
   "id": "53ebb95c-f72c-4aae-a733-c6931b2fd553",
   "metadata": {},
   "outputs": [],
   "source": [
    "classes, train_ds, test_ds = get_datasets(NUM_EPOCHS, BATCH_SIZE)\n",
    "\n",
    "tf.random.set_seed(0)\n",
    "init_rng = jax.random.PRNGKey(0)\n",
    "\n",
    "state = create_train_state(mlp, init_rng, LR)\n",
    "del init_rng"
   ]
  },
  {
   "cell_type": "markdown",
   "id": "c103b240-4817-4138-bbe5-89554251f830",
   "metadata": {},
   "source": [
    "## 7. Train and evaluate"
   ]
  },
  {
   "cell_type": "code",
   "execution_count": 12,
   "id": "1b5b5af2-2271-4496-aeb7-19fa79cce878",
   "metadata": {},
   "outputs": [],
   "source": [
    "num_steps_per_epoch = train_ds.cardinality().numpy() // NUM_EPOCHS\n",
    "\n",
    "metrics_history = {\n",
    "    'train_loss': [],\n",
    "    'train_accuracy': [],\n",
    "    'test_loss': [],\n",
    "    'test_accuracy': []\n",
    "}"
   ]
  },
  {
   "cell_type": "code",
   "execution_count": 13,
   "id": "74f2bb52-e31a-47aa-8a0c-e21782524fda",
   "metadata": {},
   "outputs": [
    {
     "name": "stdout",
     "output_type": "stream",
     "text": [
      "Epoch 1:\n",
      "\tTrain - loss: 1.8211729526519775, accuracy: 0.3462707996368408\n",
      "\tTest - loss: 1.7256948947906494, accuracy: 0.37600159645080566\n",
      "Epoch 2:\n",
      "\tTrain - loss: 1.639181137084961, accuracy: 0.41421255469322205\n",
      "\tTest - loss: 1.6100267171859741, accuracy: 0.4261818826198578\n",
      "Epoch 3:\n",
      "\tTrain - loss: 1.56049644947052, accuracy: 0.44512245059013367\n",
      "\tTest - loss: 1.592671275138855, accuracy: 0.43359375\n",
      "Epoch 4:\n",
      "\tTrain - loss: 1.5054287910461426, accuracy: 0.4640285074710846\n",
      "\tTest - loss: 1.5169360637664795, accuracy: 0.45713141560554504\n",
      "Epoch 5:\n",
      "\tTrain - loss: 1.4644094705581665, accuracy: 0.47893327474594116\n",
      "\tTest - loss: 1.5217669010162354, accuracy: 0.4546274244785309\n",
      "Epoch 6:\n",
      "\tTrain - loss: 1.4272505044937134, accuracy: 0.4924775958061218\n",
      "\tTest - loss: 1.477900743484497, accuracy: 0.4791666865348816\n",
      "Epoch 7:\n",
      "\tTrain - loss: 1.4003539085388184, accuracy: 0.5021407008171082\n",
      "\tTest - loss: 1.4589014053344727, accuracy: 0.4811698794364929\n",
      "Epoch 8:\n",
      "\tTrain - loss: 1.3722655773162842, accuracy: 0.5126440525054932\n",
      "\tTest - loss: 1.4588310718536377, accuracy: 0.4826722741127014\n",
      "Epoch 9:\n",
      "\tTrain - loss: 1.348306655883789, accuracy: 0.5192861557006836\n",
      "\tTest - loss: 1.4379491806030273, accuracy: 0.4858774244785309\n",
      "Epoch 10:\n",
      "\tTrain - loss: 1.3285967111587524, accuracy: 0.5270286798477173\n",
      "\tTest - loss: 1.4346727132797241, accuracy: 0.4949919879436493\n"
     ]
    }
   ],
   "source": [
    "for step, batch in enumerate(train_ds.as_numpy_iterator()):\n",
    "    state = train_step(state, batch)\n",
    "    state = compute_metrics(state=state, batch=batch)\n",
    "\n",
    "    if (step + 1) % num_steps_per_epoch == 0:\n",
    "        for metric, value in state.metrics.compute().items():\n",
    "            metrics_history[f'train_{metric}'].append(value)\n",
    "        state = state.replace(metrics=state.metrics.empty())\n",
    "\n",
    "        test_state = state\n",
    "        for test_batch in test_ds.as_numpy_iterator():\n",
    "            test_state = compute_metrics(state=test_state, batch=test_batch)\n",
    "\n",
    "        for metric, value in test_state.metrics.compute().items():\n",
    "            metrics_history[f'test_{metric}'].append(value)\n",
    "\n",
    "        print('Epoch {}:'.format((step + 1) // num_steps_per_epoch))\n",
    "        print(f'\\tTrain - loss: {metrics_history[\"train_loss\"][-1]}, accuracy: {metrics_history[\"train_accuracy\"][-1]}')\n",
    "        print(f'\\tTest - loss: {metrics_history[\"test_loss\"][-1]}, accuracy: {metrics_history[\"test_accuracy\"][-1]}')"
   ]
  },
  {
   "cell_type": "markdown",
   "id": "b70d9ea7-2019-420a-a033-66ecfdddd6fb",
   "metadata": {},
   "source": [
    "## 8. Visualize metrics"
   ]
  },
  {
   "cell_type": "code",
   "execution_count": 14,
   "id": "6b523d70-348d-453d-8742-b5011b1bbc37",
   "metadata": {},
   "outputs": [
    {
     "data": {
      "image/png": "[encoded data removed]",
      "text/plain": [
       "<Figure size 1080x360 with 2 Axes>"
      ]
     },
     "metadata": {
      "needs_background": "light"
     },
     "output_type": "display_data"
    },
    {
     "data": {
      "text/plain": [
       "<Figure size 432x288 with 0 Axes>"
      ]
     },
     "metadata": {},
     "output_type": "display_data"
    }
   ],
   "source": [
    "fig, (ax1, ax2) = plt.subplots(1, 2, figsize=(15, 5))\n",
    "ax1.set_title('Loss')\n",
    "ax2.set_title('Accuracy')\n",
    "for dataset in ('train', 'test'):\n",
    "    ax1.plot(metrics_history[f'{dataset}_loss'], label=f'{dataset}_loss')\n",
    "    ax2.plot(metrics_history[f'{dataset}_accuracy'], label=f'{dataset}_accuracy')\n",
    "\n",
    "ax1.legend()\n",
    "ax2.legend()\n",
    "plt.show()\n",
    "plt.clf()"
   ]
  },
  {
   "cell_type": "markdown",
   "id": "866d1f83-f636-41ec-b662-376be8972571",
   "metadata": {},
   "source": [
    "## 9. Check predictions"
   ]
  },
  {
   "cell_type": "code",
   "execution_count": 15,
   "id": "32ba3a99-0d66-4237-9fbe-b0836fff2e5d",
   "metadata": {},
   "outputs": [],
   "source": [
    "test_batch = tfds.as_numpy(next(iter(test_ds)))\n",
    "\n",
    "logits = state.apply_fn({'params': state.params}, test_batch['image'])\n",
    "preds = logits.argmax(-1)\n",
    "\n",
    "true_labels = test_batch['label']\n",
    "imgs = test_batch['image']"
   ]
  },
  {
   "cell_type": "code",
   "execution_count": 16,
   "id": "d3e67152-1bbb-4019-8a97-97833160d241",
   "metadata": {},
   "outputs": [
    {
     "data": {
      "image/png": "[encoded data removed]",
      "text/plain": [
       "<Figure size 1080x360 with 6 Axes>"
      ]
     },
     "metadata": {
      "needs_background": "light"
     },
     "output_type": "display_data"
    }
   ],
   "source": [
    "num_to_show = 6\n",
    "indices = np.random.choice(np.arange(len(imgs)), num_to_show, replace=True)\n",
    "\n",
    "fig = plt.figure(figsize=(15, 5))\n",
    "fig.subplots_adjust(hspace=0.2, wspace=0.2)\n",
    "\n",
    "for i, idx in enumerate(indices):\n",
    "    img = imgs[i]\n",
    "    ax = fig.add_subplot(1, num_to_show, i+1, label='test')\n",
    "    ax.axis('off')\n",
    "    \n",
    "    pred_class = classes[preds[i]]\n",
    "    true_class = classes[true_labels[i]]\n",
    "    \n",
    "    ax.imshow(img)\n",
    "    ax.set_title(f'act={true_class}\\npred={pred_class}')\n",
    "\n",
    "plt.show()"
   ]
  }
 ],
 "metadata": {
  "kernelspec": {
   "display_name": "Python 3",
   "language": "python",
   "name": "python3"
  },
  "language_info": {
   "codemirror_mode": {
    "name": "ipython",
    "version": 3
   },
   "file_extension": ".py",
   "mimetype": "text/x-python",
   "name": "python",
   "nbconvert_exporter": "python",
   "pygments_lexer": "ipython3",
   "version": "3.9.0"
  }
 },
 "nbformat": 4,
 "nbformat_minor": 5
}
