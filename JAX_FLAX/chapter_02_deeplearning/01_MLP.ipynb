{
 "cells": [
  {
   "cell_type": "markdown",
   "id": "b85bd387-c6f7-45df-8c28-c6a23b67b7b4",
   "metadata": {},
   "source": [
    "# Multilayer Perceptron (MLP)"
   ]
  },
  {
   "cell_type": "code",
   "execution_count": 14,
   "id": "550a9b2e-2b07-40c7-8603-603a7891f3a4",
   "metadata": {},
   "outputs": [],
   "source": [
    "import tensorflow as tf\n",
    "import tensorflow_datasets as tfds\n",
    "\n",
    "import numpy as np\n",
    "import matplotlib.pyplot as plt\n",
    "\n",
    "# Import jax eco-system\n",
    "import jax\n",
    "import jax.numpy as jnp\n",
    "\n",
    "import flax.linen as nn\n",
    "from flax.training import train_state\n",
    "from flax import struct\n",
    "import optax\n",
    "\n",
    "from clu import metrics"
   ]
  },
  {
   "cell_type": "markdown",
   "id": "c6604be2-47ed-42b0-82f3-fb7234d8cf80",
   "metadata": {},
   "source": [
    "## 0. Train parameters"
   ]
  },
  {
   "cell_type": "code",
   "execution_count": 8,
   "id": "20038bb8-7c04-4594-9311-96ce13d95ee4",
   "metadata": {},
   "outputs": [],
   "source": [
    "NUM_CLASSES = 10\n",
    "BATCH_SIZE = 64"
   ]
  },
  {
   "cell_type": "markdown",
   "id": "2d56f7d3-3eee-4f1e-a663-245a365b43bb",
   "metadata": {},
   "source": [
    "## 1. Prepare dataset"
   ]
  },
  {
   "cell_type": "code",
   "execution_count": 9,
   "id": "2472ab7d-aa13-4c5d-a20a-ce6d923e5b98",
   "metadata": {},
   "outputs": [],
   "source": [
    "# Get train/test datasets and convert them into iterable batches\n",
    "def get_datasets(num_epochs, batch_size):\n",
    "\n",
    "    # Dataset classes\n",
    "    classes = np.array([\n",
    "        \"airplane\",\n",
    "        \"automobile\",\n",
    "        \"bird\",\n",
    "        \"cat\",\n",
    "        \"deer\",\n",
    "        \"dog\",\n",
    "        \"frog\",\n",
    "        \"horse\",\n",
    "        \"ship\",\n",
    "        \"truck\",\n",
    "    ])\n",
    "    \n",
    "    # downoad Cifar-10 dataset\n",
    "    train_ds = tfds.load('cifar10', split='train')\n",
    "    test_ds = tfds.load('cifar10', split='test')\n",
    "\n",
    "    # Normalizing images and mapping them as tf tensor\n",
    "    train_ds = train_ds.map(lambda sample: {'image': (tf.cast(sample['image'], tf.float32) / 255.),\n",
    "                                            'label': sample['label']})\n",
    "    \n",
    "    test_ds = test_ds.map(lambda sample: {'image': tf.cast(sample['image'], tf.float32) / 255.,\n",
    "                                            'label': sample['label']})\n",
    "\n",
    "    # Tensorflow dataloader\n",
    "    train_ds = train_ds.repeat(num_epochs).shuffle(1024)\n",
    "    train_ds = train_ds.batch(batch_size, drop_remainder=True).prefetch(1)\n",
    "    test_ds = test_ds.shuffle(1024)\n",
    "    test_ds = test_ds.batch(batch_size, drop_remainder=True).prefetch(1)\n",
    "\n",
    "    return classes, train_ds, test_ds"
   ]
  },
  {
   "cell_type": "markdown",
   "id": "b10023c4-b6ca-4d6b-9980-8b10f9e039f9",
   "metadata": {},
   "source": [
    "checking datasets and labels. The images looks very blur because we've normalized them."
   ]
  },
  {
   "cell_type": "code",
   "execution_count": 10,
   "id": "16dd9199-7d29-4c29-8100-a55532babedb",
   "metadata": {},
   "outputs": [
    {
     "data": {
      "image/png": "[encoded data removed]",
      "text/plain": [
       "<Figure size 864x360 with 2 Axes>"
      ]
     },
     "metadata": {
      "needs_background": "light"
     },
     "output_type": "display_data"
    }
   ],
   "source": [
    "classes, train_ds, test_ds = get_datasets(10, 32)\n",
    "\n",
    "# Get a single batch of data from both datasets\n",
    "check_train = next(iter(train_ds))\n",
    "check_test = next(iter(test_ds))\n",
    "\n",
    "fig, axes = plt.subplots(1, 2, figsize=(12, 5))\n",
    "# display the images and corresponded labels\n",
    "axes[0].imshow(check_train['image'][0])\n",
    "axes[0].set_xlabel(classes[check_train['label'][0].numpy()], fontsize=20)\n",
    "axes[1].imshow(check_test['image'][0])\n",
    "axes[1].set_xlabel(classes[check_test['label'][0].numpy()], fontsize=20)\n",
    "\n",
    "plt.show()"
   ]
  },
  {
   "cell_type": "code",
   "execution_count": 11,
   "id": "b8a2e830-2c21-4d78-8f4a-3cd483078191",
   "metadata": {},
   "outputs": [
    {
     "name": "stdout",
     "output_type": "stream",
     "text": [
      "(32, 32, 32, 3)\n"
     ]
    }
   ],
   "source": [
    "print(check_train['image'].numpy().shape)"
   ]
  },
  {
   "cell_type": "markdown",
   "id": "a1c88961-06ad-4d6a-ba21-dd4c33fc1645",
   "metadata": {},
   "source": [
    "## 2. Define the MLP network"
   ]
  },
  {
   "cell_type": "code",
   "execution_count": 12,
   "id": "f2c547c5-d543-42ea-a151-3a647dab18d9",
   "metadata": {},
   "outputs": [],
   "source": [
    "class MLP(nn.Module):\n",
    "    num_classes:int\n",
    "    \n",
    "    @nn.compact\n",
    "    def __call__(self, x):\n",
    "        x = x.reshape(x.shape[0], -1)\n",
    "        x = nn.Dense(features=200)(x)\n",
    "        x = nn.relu(x)\n",
    "        x = nn.Dense(features=150)(x)\n",
    "        x = nn.relu(x)\n",
    "        x = nn.Dense(features=self.num_classes)\n",
    "        return x"
   ]
  },
  {
   "cell_type": "markdown",
   "id": "3d60265c-6bbc-44e5-9719-5ee26ddaf106",
   "metadata": {},
   "source": [
    "Model summary in JAX:"
   ]
  },
  {
   "cell_type": "code",
   "execution_count": 13,
   "id": "5cef8ff5-0f89-4a37-b58f-2f19722c965d",
   "metadata": {},
   "outputs": [
    {
     "name": "stdout",
     "output_type": "stream",
     "text": [
      "\n",
      "\u001b[3m                                     MLP Summary                                      \u001b[0m\n",
      "┏━━━━━━━━━┳━━━━━━━━┳━━━━━━━━━━━━━━━━━━━━┳━━━━━━━━━━━━━━━━┳━━━━━━━━━━━━━━━━━━━━━━━━━━━┓\n",
      "┃\u001b[1m \u001b[0m\u001b[1mpath   \u001b[0m\u001b[1m \u001b[0m┃\u001b[1m \u001b[0m\u001b[1mmodule\u001b[0m\u001b[1m \u001b[0m┃\u001b[1m \u001b[0m\u001b[1minputs            \u001b[0m\u001b[1m \u001b[0m┃\u001b[1m \u001b[0m\u001b[1moutputs       \u001b[0m\u001b[1m \u001b[0m┃\u001b[1m \u001b[0m\u001b[1mparams                   \u001b[0m\u001b[1m \u001b[0m┃\n",
      "┡━━━━━━━━━╇━━━━━━━━╇━━━━━━━━━━━━━━━━━━━━╇━━━━━━━━━━━━━━━━╇━━━━━━━━━━━━━━━━━━━━━━━━━━━┩\n",
      "│         │ MLP    │ \u001b[2mfloat32\u001b[0m[1,32,32,3] │ \u001b[2mfloat32\u001b[0m[]      │                           │\n",
      "├─────────┼────────┼────────────────────┼────────────────┼───────────────────────────┤\n",
      "│ Dense_0 │ Dense  │ \u001b[2mfloat32\u001b[0m[1,3072]    │ \u001b[2mfloat32\u001b[0m[1,200] │ bias: \u001b[2mfloat32\u001b[0m[200]        │\n",
      "│         │        │                    │                │ kernel: \u001b[2mfloat32\u001b[0m[3072,200] │\n",
      "│         │        │                    │                │                           │\n",
      "│         │        │                    │                │ \u001b[1m614,600 \u001b[0m\u001b[1;2m(2.5 MB)\u001b[0m          │\n",
      "├─────────┼────────┼────────────────────┼────────────────┼───────────────────────────┤\n",
      "│ Dense_1 │ Dense  │ \u001b[2mfloat32\u001b[0m[1,200]     │ \u001b[2mfloat32\u001b[0m[1,150] │ bias: \u001b[2mfloat32\u001b[0m[150]        │\n",
      "│         │        │                    │                │ kernel: \u001b[2mfloat32\u001b[0m[200,150]  │\n",
      "│         │        │                    │                │                           │\n",
      "│         │        │                    │                │ \u001b[1m30,150 \u001b[0m\u001b[1;2m(120.6 KB)\u001b[0m         │\n",
      "├─────────┼────────┼────────────────────┼────────────────┼───────────────────────────┤\n",
      "│\u001b[1m \u001b[0m\u001b[1m       \u001b[0m\u001b[1m \u001b[0m│\u001b[1m \u001b[0m\u001b[1m      \u001b[0m\u001b[1m \u001b[0m│\u001b[1m \u001b[0m\u001b[1m                  \u001b[0m\u001b[1m \u001b[0m│\u001b[1m \u001b[0m\u001b[1m         Total\u001b[0m\u001b[1m \u001b[0m│\u001b[1m \u001b[0m\u001b[1m644,750 \u001b[0m\u001b[1;2m(2.6 MB)\u001b[0m\u001b[1m         \u001b[0m\u001b[1m \u001b[0m│\n",
      "└─────────┴────────┴────────────────────┴────────────────┴───────────────────────────┘\n",
      "\u001b[1m                                                                                      \u001b[0m\n",
      "\u001b[1m                          Total Parameters: 644,750 \u001b[0m\u001b[1;2m(2.6 MB)\u001b[0m\u001b[1m                          \u001b[0m\n",
      "\n",
      "\n"
     ]
    }
   ],
   "source": [
    "mlp = MLP(NUM_CLASSES)\n",
    "print(mlp.tabulate(jax.random.PRNGKey(0), jnp.ones((1, 32, 32, 3)))) # shape: (batch, h, w, channel)"
   ]
  },
  {
   "cell_type": "markdown",
   "id": "b6749d20-5eae-408f-bc2b-e520283e9b3b",
   "metadata": {},
   "source": [
    "## 3. Creating a `TrainState`"
   ]
  },
  {
   "cell_type": "markdown",
   "id": "34d148f0-c079-4200-bfaf-4c28ff33d893",
   "metadata": {},
   "source": [
    "A common pattern in Flax is to create a single dataclass that represents the entire training state, including step number, parameters, and optimizer state."
   ]
  },
  {
   "cell_type": "code",
   "execution_count": 15,
   "id": "2afb9556-6a75-4d43-9af7-3c6f8d866540",
   "metadata": {},
   "outputs": [],
   "source": [
    "@struct.dataclass\n",
    "class Metrics(metrics.Collection):\n",
    "    accuracy: metrics.Accuracy\n",
    "    loss: metrics.Average.from_output('loss')\n",
    "\n",
    "class TrainState(train_state.TrainState):\n",
    "    metrics: Metrics\n",
    "\n",
    "def create_train_state(module, rng, learning_rate):\n",
    "    # First initialize the model with random parameters\n",
    "    params = module.init(rng, jnp.ones([1, 32, 32, 3]))['params'] # module initialized as a FrozenDict\n",
    "    # Initialize optimizer\n",
    "    tx = optax.adam(learning_rate=learning_rate)\n",
    "    return TrainState.create(\n",
    "            apply_fn=module.apply,\n",
    "            params=params,\n",
    "            tx=tx,\n",
    "            metrics=Metrics.empty())"
   ]
  },
  {
   "cell_type": "code",
   "execution_count": null,
   "id": "1a997abc-2f2f-47d0-8635-784b07cea7f7",
   "metadata": {},
   "outputs": [],
   "source": []
  }
 ],
 "metadata": {
  "kernelspec": {
   "display_name": "Python 3",
   "language": "python",
   "name": "python3"
  },
  "language_info": {
   "codemirror_mode": {
    "name": "ipython",
    "version": 3
   },
   "file_extension": ".py",
   "mimetype": "text/x-python",
   "name": "python",
   "nbconvert_exporter": "python",
   "pygments_lexer": "ipython3",
   "version": "3.9.0"
  }
 },
 "nbformat": 4,
 "nbformat_minor": 5
}
