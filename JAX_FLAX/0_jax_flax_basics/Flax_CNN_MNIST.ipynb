{
 "cells": [
  {
   "cell_type": "markdown",
   "id": "ecfc63a3-9916-4e94-b3eb-48a634dfdfce",
   "metadata": {},
   "source": [
    "# Train MNIST dataset with PyTorch Data Loading and flax"
   ]
  },
  {
   "cell_type": "markdown",
   "id": "bc8d54d5-1ed8-4d08-9607-169c1c267a31",
   "metadata": {},
   "source": [
    "## 1. Loading data"
   ]
  },
  {
   "cell_type": "code",
   "execution_count": 1,
   "id": "e9bcaf2c-256e-4310-9628-a84be1a4ad4b",
   "metadata": {
    "editable": true,
    "slideshow": {
     "slide_type": ""
    },
    "tags": []
   },
   "outputs": [],
   "source": [
    "import tensorflow_datasets as tfds\n",
    "import tensorflow as tf\n",
    "import matplotlib.pyplot as plt"
   ]
  },
  {
   "cell_type": "code",
   "execution_count": 2,
   "id": "94625779-c030-4f99-9938-5a41e2ed5507",
   "metadata": {},
   "outputs": [],
   "source": [
    "def get_datasets(num_epochs, batch_size):\n",
    "    # Load MNIST train and test datasets into memory\n",
    "    train_ds = tfds.load('mnist', split='train')\n",
    "    test_ds = tfds.load('mnist', split='test')\n",
    "\n",
    "    train_ds = train_ds.map(lambda sample: {'image': tf.cast(sample['image'], tf.float32) / 255.,\n",
    "                                            'label': sample['label']}) # Normalize train set\n",
    "    test_ds = test_ds.map(lambda sample: {'image': tf.cast(sample['image'], tf.float32) / 255.,\n",
    "                                            'label': sample['label']})\n",
    "\n",
    "    train_ds = train_ds.repeat(num_epochs).shuffle(1024)\n",
    "    train_ds = train_ds.batch(batch_size, drop_remainder=True).prefetch(1) # prefetch next sample to improve latency\n",
    "    test_ds = test_ds.shuffle(1024)\n",
    "    test_ds = test_ds.batch(batch_size, drop_remainder=True).prefetch(1)\n",
    "\n",
    "    return train_ds, test_ds"
   ]
  },
  {
   "cell_type": "code",
   "execution_count": 3,
   "id": "c5c1cfb6-de10-4c61-bce8-14ce73b7ab00",
   "metadata": {},
   "outputs": [
    {
     "name": "stdout",
     "output_type": "stream",
     "text": [
      "2\n"
     ]
    },
    {
     "data": {
      "image/png": "[encoded data removed]",
      "text/plain": [
       "<Figure size 432x288 with 1 Axes>"
      ]
     },
     "metadata": {
      "needs_background": "light"
     },
     "output_type": "display_data"
    }
   ],
   "source": [
    "train_ds, test_ds = get_datasets(10, 32)\n",
    "check_train = next(iter(train_ds))\n",
    "print(check_train['label'][0].numpy())\n",
    "plt.imshow(check_train['image'][0])\n",
    "plt.plot()\n",
    "pass\n",
    "# check_test = test_ds['image'][0]"
   ]
  },
  {
   "cell_type": "markdown",
   "id": "09d12549-3699-403b-9530-b10ae9c2cfba",
   "metadata": {},
   "source": [
    "## 2. Define a network"
   ]
  },
  {
   "cell_type": "code",
   "execution_count": 4,
   "id": "62b5ba71-9cbb-49c3-89b0-fdde689e335b",
   "metadata": {},
   "outputs": [],
   "source": [
    "from flax import linen as nn # Linen API\n",
    "\n",
    "class CNN(nn.Module):\n",
    "\n",
    "    @nn.compact\n",
    "    def __call__(self, x):\n",
    "        x = nn.Conv(features=32, kernel_size=(3, 3))(x)\n",
    "        x = nn.relu(x)\n",
    "        x = nn.avg_pool(x, window_shape=(2, 2), strides=(2, 2))\n",
    "        x = nn.Conv(features=64, kernel_size=(3, 3))(x)\n",
    "        x = nn.relu(x)\n",
    "        x = nn.avg_pool(x, window_shape=(2, 2), strides=(2, 2))\n",
    "        x = x.reshape((x.shape[0], -1)) # flatten\n",
    "        x = nn.Dense(features=256)(x)\n",
    "        x = nn.relu(x)\n",
    "        x = nn.Dense(features=10)(x)\n",
    "        return x"
   ]
  },
  {
   "cell_type": "markdown",
   "id": "a5b66559-bcb0-43cc-b3fb-aeb96eabda5e",
   "metadata": {},
   "source": [
    "## 3. View Model Layers"
   ]
  },
  {
   "cell_type": "code",
   "execution_count": 5,
   "id": "2d4ee06a-2453-49a1-b550-263e017b745a",
   "metadata": {},
   "outputs": [
    {
     "name": "stdout",
     "output_type": "stream",
     "text": [
      "\n",
      "\u001b[3m                                         CNN Summary                                         \u001b[0m\n",
      "┏━━━━━━━━━┳━━━━━━━━┳━━━━━━━━━━━━━━━━━━━━━┳━━━━━━━━━━━━━━━━━━━━━┳━━━━━━━━━━━━━━━━━━━━━━━━━━━━┓\n",
      "┃\u001b[1m \u001b[0m\u001b[1mpath   \u001b[0m\u001b[1m \u001b[0m┃\u001b[1m \u001b[0m\u001b[1mmodule\u001b[0m\u001b[1m \u001b[0m┃\u001b[1m \u001b[0m\u001b[1minputs             \u001b[0m\u001b[1m \u001b[0m┃\u001b[1m \u001b[0m\u001b[1moutputs            \u001b[0m\u001b[1m \u001b[0m┃\u001b[1m \u001b[0m\u001b[1mparams                    \u001b[0m\u001b[1m \u001b[0m┃\n",
      "┡━━━━━━━━━╇━━━━━━━━╇━━━━━━━━━━━━━━━━━━━━━╇━━━━━━━━━━━━━━━━━━━━━╇━━━━━━━━━━━━━━━━━━━━━━━━━━━━┩\n",
      "│         │ CNN    │ \u001b[2mfloat32\u001b[0m[1,28,28,1]  │ \u001b[2mfloat32\u001b[0m[1,10]       │                            │\n",
      "├─────────┼────────┼─────────────────────┼─────────────────────┼────────────────────────────┤\n",
      "│ Conv_0  │ Conv   │ \u001b[2mfloat32\u001b[0m[1,28,28,1]  │ \u001b[2mfloat32\u001b[0m[1,28,28,32] │ bias: \u001b[2mfloat32\u001b[0m[32]          │\n",
      "│         │        │                     │                     │ kernel: \u001b[2mfloat32\u001b[0m[3,3,1,32]  │\n",
      "│         │        │                     │                     │                            │\n",
      "│         │        │                     │                     │ \u001b[1m320 \u001b[0m\u001b[1;2m(1.3 KB)\u001b[0m               │\n",
      "├─────────┼────────┼─────────────────────┼─────────────────────┼────────────────────────────┤\n",
      "│ Conv_1  │ Conv   │ \u001b[2mfloat32\u001b[0m[1,14,14,32] │ \u001b[2mfloat32\u001b[0m[1,14,14,64] │ bias: \u001b[2mfloat32\u001b[0m[64]          │\n",
      "│         │        │                     │                     │ kernel: \u001b[2mfloat32\u001b[0m[3,3,32,64] │\n",
      "│         │        │                     │                     │                            │\n",
      "│         │        │                     │                     │ \u001b[1m18,496 \u001b[0m\u001b[1;2m(74.0 KB)\u001b[0m           │\n",
      "├─────────┼────────┼─────────────────────┼─────────────────────┼────────────────────────────┤\n",
      "│ Dense_0 │ Dense  │ \u001b[2mfloat32\u001b[0m[1,3136]     │ \u001b[2mfloat32\u001b[0m[1,256]      │ bias: \u001b[2mfloat32\u001b[0m[256]         │\n",
      "│         │        │                     │                     │ kernel: \u001b[2mfloat32\u001b[0m[3136,256]  │\n",
      "│         │        │                     │                     │                            │\n",
      "│         │        │                     │                     │ \u001b[1m803,072 \u001b[0m\u001b[1;2m(3.2 MB)\u001b[0m           │\n",
      "├─────────┼────────┼─────────────────────┼─────────────────────┼────────────────────────────┤\n",
      "│ Dense_1 │ Dense  │ \u001b[2mfloat32\u001b[0m[1,256]      │ \u001b[2mfloat32\u001b[0m[1,10]       │ bias: \u001b[2mfloat32\u001b[0m[10]          │\n",
      "│         │        │                     │                     │ kernel: \u001b[2mfloat32\u001b[0m[256,10]    │\n",
      "│         │        │                     │                     │                            │\n",
      "│         │        │                     │                     │ \u001b[1m2,570 \u001b[0m\u001b[1;2m(10.3 KB)\u001b[0m            │\n",
      "├─────────┼────────┼─────────────────────┼─────────────────────┼────────────────────────────┤\n",
      "│\u001b[1m \u001b[0m\u001b[1m       \u001b[0m\u001b[1m \u001b[0m│\u001b[1m \u001b[0m\u001b[1m      \u001b[0m\u001b[1m \u001b[0m│\u001b[1m \u001b[0m\u001b[1m                   \u001b[0m\u001b[1m \u001b[0m│\u001b[1m \u001b[0m\u001b[1m              Total\u001b[0m\u001b[1m \u001b[0m│\u001b[1m \u001b[0m\u001b[1m824,458 \u001b[0m\u001b[1;2m(3.3 MB)\u001b[0m\u001b[1m          \u001b[0m\u001b[1m \u001b[0m│\n",
      "└─────────┴────────┴─────────────────────┴─────────────────────┴────────────────────────────┘\n",
      "\u001b[1m                                                                                             \u001b[0m\n",
      "\u001b[1m                             Total Parameters: 824,458 \u001b[0m\u001b[1;2m(3.3 MB)\u001b[0m\u001b[1m                              \u001b[0m\n",
      "\n",
      "\n"
     ]
    }
   ],
   "source": [
    "import jax\n",
    "import jax.numpy as jnp\n",
    "\n",
    "cnn = CNN()\n",
    "print(cnn.tabulate(jax.random.PRNGKey(0), jnp.ones((1, 28, 28, 1)))) # (batch, h, w, channel)"
   ]
  },
  {
   "cell_type": "markdown",
   "id": "336ec999-777c-42ac-8f54-50a05a8f157f",
   "metadata": {},
   "source": [
    "## 4. Create a `TrainState`"
   ]
  },
  {
   "cell_type": "markdown",
   "id": "0dd8dcfc-9207-4f0f-b9e8-6f9d6c7e9b35",
   "metadata": {},
   "source": [
    "A common pattern in Flax is to create a single dataclass that represents the entire training state, including step number, parameters, and optimizer state."
   ]
  },
  {
   "cell_type": "code",
   "execution_count": 6,
   "id": "a5696a40-cffa-40d0-9e24-0e0dacda35bb",
   "metadata": {},
   "outputs": [],
   "source": [
    "from clu import metrics\n",
    "from flax.training import train_state # Useful dataclass to keep train state\n",
    "from flax import struct               # Flas dataclass\n",
    "import optax                          # Common loss functions and optimizers"
   ]
  },
  {
   "cell_type": "code",
   "execution_count": 7,
   "id": "57c618df-e2e4-48f0-bb8c-01c7815d3f77",
   "metadata": {},
   "outputs": [],
   "source": [
    "@struct.dataclass\n",
    "class Metrics(metrics.Collection):\n",
    "    accuracy: metrics.Accuracy\n",
    "    loss: metrics.Average.from_output('loss')"
   ]
  },
  {
   "cell_type": "code",
   "execution_count": 8,
   "id": "0c0ae24f-2196-413d-85c0-aa6e829f27c1",
   "metadata": {},
   "outputs": [],
   "source": [
    "class TrainState(train_state.TrainState):\n",
    "    metrics: Metrics\n",
    "\n",
    "def create_train_state(module, rng, learning_rate, momentum):\n",
    "    params = module.init(rng, jnp.ones([1, 28, 28, 1]))['params'] # initializing parameters by passing a template image\n",
    "    tx = optax.sgd(learning_rate, momentum)\n",
    "    return TrainState.create(\n",
    "            apply_fn=module.apply,\n",
    "            params=params,\n",
    "            tx=tx,\n",
    "            metrics=Metrics.empty())"
   ]
  },
  {
   "cell_type": "markdown",
   "id": "6afb41de-d4b9-4c78-86ec-adbb47f0c3c2",
   "metadata": {},
   "source": [
    "## 5. Training step"
   ]
  },
  {
   "cell_type": "markdown",
   "id": "2b72b63d-087c-48e5-8801-badfb6405f77",
   "metadata": {},
   "source": [
    "A function that:\n",
    "- Evaluates the neural network given the parameters and a batch of input images with `TrainState.apply_fn`;\n",
    "- Computes the cross entropy loss, using the predefined `optax.softmax_cross_entropy_with_integer_labels()`. Note that this function expects integer labels, so there is no need to convert labels to onehot encoding.\n",
    "- Evaluates the gradient of the loss function using `jax.grad`.\n",
    "- Applies a pytree of gradients to the optimizer to update the model's parameters."
   ]
  },
  {
   "cell_type": "code",
   "execution_count": 9,
   "id": "25d0cb97-9f48-4b35-9df3-aa58b02ab591",
   "metadata": {},
   "outputs": [],
   "source": [
    "@jax.jit\n",
    "def train_step(state, batch):\n",
    "    def loss_fn(params):\n",
    "        logits = state.apply_fn({'params': params}, batch['image'])\n",
    "        loss = optax.softmax_cross_entropy_with_integer_labels(\n",
    "            logits=logits, labels=batch['label']).mean()\n",
    "        return loss\n",
    "    grad_fn = jax.grad(loss_fn)\n",
    "    grads = grad_fn(state.params)\n",
    "    state = state.apply_gradients(grads=grads)\n",
    "    return state"
   ]
  },
  {
   "cell_type": "markdown",
   "id": "32439cdc-a9a8-4dfe-8983-a2a0b8905cb5",
   "metadata": {},
   "source": [
    "## 6. Metric computation"
   ]
  },
  {
   "cell_type": "code",
   "execution_count": 10,
   "id": "ed1cfecc-31a6-4ba2-9109-5ee2d18466d4",
   "metadata": {},
   "outputs": [],
   "source": [
    "@jax.jit\n",
    "def compute_metrics(*, state, batch):\n",
    "    logits = state.apply_fn({'params': state.params}, batch['image'])\n",
    "    loss = optax.softmax_cross_entropy_with_integer_labels(\n",
    "        logits=logits, labels=batch['label']).mean()\n",
    "    metric_updates = state.metrics.single_from_model_output(\n",
    "        logits=logits, labels=batch['label'], loss=loss)\n",
    "    metrics = state.metrics.merge(metric_updates)\n",
    "    state = state.replace(metrics=metrics)\n",
    "    return state"
   ]
  },
  {
   "cell_type": "markdown",
   "id": "75827ecb-6d87-4291-8725-f1739e9b2266",
   "metadata": {},
   "source": [
    "## 7. Set Seed and train params"
   ]
  },
  {
   "cell_type": "code",
   "execution_count": 11,
   "id": "f4dbb101-4f92-4526-9270-7360e1987fe1",
   "metadata": {},
   "outputs": [],
   "source": [
    "num_epochs = 10\n",
    "batch_size = 128\n",
    "\n",
    "train_ds, test_ds = get_datasets(num_epochs, batch_size)\n",
    "\n",
    "tf.random.set_seed(0)\n",
    "init_rng = jax.random.PRNGKey(0)"
   ]
  },
  {
   "cell_type": "markdown",
   "id": "8b7b4255-c0c6-4c66-9b90-98842da44d07",
   "metadata": {},
   "source": [
    "## 8. Initialize the `TrainState`"
   ]
  },
  {
   "cell_type": "code",
   "execution_count": 12,
   "id": "8b02f948-fa64-4ba5-a34d-de6b9f84084b",
   "metadata": {},
   "outputs": [],
   "source": [
    "learning_rate = 0.01\n",
    "momentum = 0.9\n",
    "\n",
    "state = create_train_state(cnn, init_rng, learning_rate, momentum)\n",
    "del init_rng"
   ]
  },
  {
   "cell_type": "markdown",
   "id": "834cc95f-f4c6-4cf8-9ceb-805767da3e8d",
   "metadata": {},
   "source": [
    "## 9. Train and evaluate"
   ]
  },
  {
   "cell_type": "code",
   "execution_count": 13,
   "id": "dc90b62c-0824-4b25-947e-73869cb609f9",
   "metadata": {},
   "outputs": [],
   "source": [
    "num_steps_per_epoch = train_ds.cardinality().numpy() // num_epochs"
   ]
  },
  {
   "cell_type": "code",
   "execution_count": 14,
   "id": "51ca607c-6f06-4eec-bdb9-4cd85fcb6514",
   "metadata": {},
   "outputs": [],
   "source": [
    "metrics_history = {\n",
    "    'train_loss': [],\n",
    "    'train_accuracy': [],\n",
    "    'test_loss': [],\n",
    "    'test_accuracy': []\n",
    "}"
   ]
  },
  {
   "cell_type": "code",
   "execution_count": 15,
   "id": "b6209845-7b04-4df0-a186-9309c6438013",
   "metadata": {},
   "outputs": [
    {
     "name": "stdout",
     "output_type": "stream",
     "text": [
      "train epoch: 1, loss: 0.42252734303474426, accuracy: 87.71034240722656\n",
      "test epoch: 1, loss: 0.1691657304763794, accuracy: 95.09214782714844\n",
      "train epoch: 2, loss: 0.13199836015701294, accuracy: 96.16387176513672\n",
      "test epoch: 2, loss: 0.11770690977573395, accuracy: 96.34414672851562\n",
      "train epoch: 3, loss: 0.08899277448654175, accuracy: 97.39583587646484\n",
      "test epoch: 3, loss: 0.08596248924732208, accuracy: 97.24559020996094\n",
      "train epoch: 4, loss: 0.06940664350986481, accuracy: 97.94171142578125\n",
      "test epoch: 4, loss: 0.07717248797416687, accuracy: 97.67628479003906\n",
      "train epoch: 5, loss: 0.05698379501700401, accuracy: 98.3306655883789\n",
      "test epoch: 5, loss: 0.06578734517097473, accuracy: 97.74639892578125\n",
      "train epoch: 6, loss: 0.04825502261519432, accuracy: 98.56103515625\n",
      "test epoch: 6, loss: 0.054210320115089417, accuracy: 98.19711303710938\n",
      "train epoch: 7, loss: 0.04317473620176315, accuracy: 98.73130798339844\n",
      "test epoch: 7, loss: 0.05865626037120819, accuracy: 98.0068130493164\n",
      "train epoch: 8, loss: 0.03839241713285446, accuracy: 98.85150146484375\n",
      "test epoch: 8, loss: 0.044329963624477386, accuracy: 98.68789672851562\n",
      "train epoch: 9, loss: 0.033647168427705765, accuracy: 99.00508117675781\n",
      "test epoch: 9, loss: 0.04522082954645157, accuracy: 98.49759674072266\n",
      "train epoch: 10, loss: 0.03010069951415062, accuracy: 99.1152572631836\n",
      "test epoch: 10, loss: 0.04470283165574074, accuracy: 98.53765869140625\n"
     ]
    }
   ],
   "source": [
    "for step, batch in enumerate(train_ds.as_numpy_iterator()):\n",
    "    state = train_step(state, batch)\n",
    "    state = compute_metrics(state=state, batch=batch)\n",
    "\n",
    "    if (step + 1) % num_steps_per_epoch == 0:\n",
    "        for metric, value in state.metrics.compute().items():\n",
    "            metrics_history[f'train_{metric}'].append(value)\n",
    "        state = state.replace(metrics=state.metrics.empty())\n",
    "\n",
    "        test_state = state\n",
    "        for test_batch in test_ds.as_numpy_iterator():\n",
    "            test_state = compute_metrics(state=test_state, batch=test_batch)\n",
    "\n",
    "        for metric, value in test_state.metrics.compute().items():\n",
    "            metrics_history[f'test_{metric}'].append(value)\n",
    "\n",
    "        print(f\"train epoch: {(step+1) // num_steps_per_epoch}, \"\n",
    "          f\"loss: {metrics_history['train_loss'][-1]}, \"\n",
    "          f\"accuracy: {metrics_history['train_accuracy'][-1] * 100}\")\n",
    "        print(f\"test epoch: {(step+1) // num_steps_per_epoch}, \"\n",
    "          f\"loss: {metrics_history['test_loss'][-1]}, \"\n",
    "          f\"accuracy: {metrics_history['test_accuracy'][-1] * 100}\")"
   ]
  },
  {
   "cell_type": "markdown",
   "id": "983cb888-2ea2-4af8-bca7-ce7a097d56c6",
   "metadata": {},
   "source": [
    "## 10. Visualize metrics"
   ]
  },
  {
   "cell_type": "code",
   "execution_count": 16,
   "id": "2cbe4f91-8b24-40ab-a4df-b4dacfc215b1",
   "metadata": {},
   "outputs": [
    {
     "data": {
      "image/png": "[encoded data removed]",
      "text/plain": [
       "<Figure size 1080x360 with 2 Axes>"
      ]
     },
     "metadata": {
      "needs_background": "light"
     },
     "output_type": "display_data"
    },
    {
     "data": {
      "text/plain": [
       "<Figure size 432x288 with 0 Axes>"
      ]
     },
     "metadata": {},
     "output_type": "display_data"
    }
   ],
   "source": [
    "fig, (ax1, ax2) = plt.subplots(1, 2, figsize=(15, 5))\n",
    "ax1.set_title('Loss')\n",
    "ax2.set_title('Accuracy')\n",
    "for dataset in ('train', 'test'):\n",
    "    ax1.plot(metrics_history[f'{dataset}_loss'], label=f'{dataset}_loss')\n",
    "    ax2.plot(metrics_history[f'{dataset}_accuracy'], label=f'{dataset}_accuracy')\n",
    "\n",
    "ax1.legend()\n",
    "ax2.legend()\n",
    "plt.show()\n",
    "plt.clf()"
   ]
  }
 ],
 "metadata": {
  "kernelspec": {
   "display_name": "Python 3",
   "language": "python",
   "name": "python3"
  },
  "language_info": {
   "codemirror_mode": {
    "name": "ipython",
    "version": 3
   },
   "file_extension": ".py",
   "mimetype": "text/x-python",
   "name": "python",
   "nbconvert_exporter": "python",
   "pygments_lexer": "ipython3",
   "version": "3.9.0"
  }
 },
 "nbformat": 4,
 "nbformat_minor": 5
}
