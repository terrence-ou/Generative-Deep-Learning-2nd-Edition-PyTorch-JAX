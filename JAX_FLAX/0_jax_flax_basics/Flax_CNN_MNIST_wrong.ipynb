{
 "cells": [
  {
   "cell_type": "markdown",
   "id": "ecfc63a3-9916-4e94-b3eb-48a634dfdfce",
   "metadata": {},
   "source": [
    "# Train MNIST dataset with PyTorch Data Loading and flax"
   ]
  },
  {
   "cell_type": "markdown",
   "id": "bc8d54d5-1ed8-4d08-9607-169c1c267a31",
   "metadata": {},
   "source": [
    "## 1. Loading data"
   ]
  },
  {
   "cell_type": "code",
   "execution_count": 57,
   "id": "e9bcaf2c-256e-4310-9628-a84be1a4ad4b",
   "metadata": {
    "editable": true,
    "slideshow": {
     "slide_type": ""
    },
    "tags": []
   },
   "outputs": [],
   "source": [
    "import numpy as np\n",
    "import torch\n",
    "from torch.utils import data\n",
    "from torchvision.datasets import MNIST\n",
    "\n",
    "from jax import numpy as jnp"
   ]
  },
  {
   "cell_type": "code",
   "execution_count": 58,
   "id": "94625779-c030-4f99-9938-5a41e2ed5507",
   "metadata": {},
   "outputs": [],
   "source": [
    "def numpy_collate(batch):\n",
    "    if isinstance(batch[0], np.ndarray):\n",
    "        return np.stack(batch)\n",
    "    elif isinstance(batch[0], (tuple, list)):\n",
    "        transposed = zip(*batch)\n",
    "        return [numpy_collate(samples) for samples in transposed]\n",
    "    else:\n",
    "        return np.array(batch)\n",
    "\n",
    "class NumpyLoader(data.DataLoader):\n",
    "  def __init__(self, dataset, batch_size=1,\n",
    "                shuffle=False, sampler=None,\n",
    "                batch_sampler=None, num_workers=0,\n",
    "                pin_memory=False, drop_last=False,\n",
    "                timeout=0, worker_init_fn=None):\n",
    "    super(self.__class__, self).__init__(dataset,\n",
    "        batch_size=batch_size,\n",
    "        shuffle=shuffle,\n",
    "        sampler=sampler,\n",
    "        batch_sampler=batch_sampler,\n",
    "        num_workers=num_workers,\n",
    "        collate_fn=numpy_collate,\n",
    "        pin_memory=pin_memory,\n",
    "        drop_last=drop_last,\n",
    "        timeout=timeout,\n",
    "        worker_init_fn=worker_init_fn)\n",
    "\n",
    "class FlattenAndCast(object):\n",
    "  def __call__(self, pic):\n",
    "    return np.expand_dims(np.array(pic, dtype=jnp.float32), axis=-1) / 255.0\n",
    "    # return np.array(pic, dtype=jnp.float32) "
   ]
  },
  {
   "cell_type": "code",
   "execution_count": 59,
   "id": "8e88d6b9-7e56-4d6d-8f32-ce8ccbe883fb",
   "metadata": {},
   "outputs": [],
   "source": [
    "batch_size = 128\n",
    "\n",
    "# Define dataset\n",
    "mnist_dataset = MNIST(root='./data', download=True, transform=FlattenAndCast())\n",
    "mnist_dataset_test = MNIST(root='./data', download=True, train=False, transform=FlattenAndCast())\n",
    "\n",
    "# train_images = jnp.array(mnist_dataset.data) / 255.0\n",
    "# train_labels = jnp.array(mnist_dataset.targets)\n",
    "\n",
    "# test_images = jnp.array(mnist_dataset_test.data) / 255.0\n",
    "# test_labels = jnp.array(mnist_dataset_test.targets)\n",
    "\n",
    "train_loader = NumpyLoader(dataset=mnist_dataset, \n",
    "                            batch_size=batch_size,\n",
    "                            shuffle=True,\n",
    "                            num_workers=0)\n",
    "test_loader = NumpyLoader(dataset=mnist_dataset_test,\n",
    "                          batch_size=batch_size,\n",
    "                          num_workers=0)"
   ]
  },
  {
   "cell_type": "code",
   "execution_count": 60,
   "id": "b85f9752-e8ec-4cc7-9886-db79cf22ea93",
   "metadata": {},
   "outputs": [
    {
     "name": "stdout",
     "output_type": "stream",
     "text": [
      "7\n"
     ]
    },
    {
     "data": {
      "image/png": "[encoded data removed]",
      "text/plain": [
       "<Figure size 640x480 with 1 Axes>"
      ]
     },
     "metadata": {},
     "output_type": "display_data"
    }
   ],
   "source": [
    "from matplotlib import pyplot as plt\n",
    "\n",
    "test=next(iter(test_loader))\n",
    "img = test[0][0]\n",
    "print(test[1][0])\n",
    "plt.imshow(img)\n",
    "plt.show()"
   ]
  },
  {
   "cell_type": "markdown",
   "id": "09d12549-3699-403b-9530-b10ae9c2cfba",
   "metadata": {},
   "source": [
    "## 2. Define a network"
   ]
  },
  {
   "cell_type": "code",
   "execution_count": 61,
   "id": "62b5ba71-9cbb-49c3-89b0-fdde689e335b",
   "metadata": {},
   "outputs": [],
   "source": [
    "from flax import linen as nn # Linen API\n",
    "\n",
    "class CNN(nn.Module):\n",
    "\n",
    "    @nn.compact\n",
    "    def __call__(self, x):\n",
    "        x = nn.Conv(features=32, kernel_size=(3, 3))(x)\n",
    "        x = nn.relu(x)\n",
    "        x = nn.avg_pool(x, window_shape=(2, 2), strides=(2, 2))\n",
    "        x = nn.Conv(features=64, kernel_size=(3, 3))(x)\n",
    "        x = nn.relu(x)\n",
    "        x = nn.avg_pool(x, window_shape=(2, 2), strides=(2, 2))\n",
    "        x = x.reshape((x.shape[0], -1)) # flatten\n",
    "        x = nn.Dense(features=256)(x)\n",
    "        x = nn.relu(x)\n",
    "        x = nn.Dense(features=10)(x)\n",
    "        return x"
   ]
  },
  {
   "cell_type": "markdown",
   "id": "a5b66559-bcb0-43cc-b3fb-aeb96eabda5e",
   "metadata": {},
   "source": [
    "## 3. View Model Layers"
   ]
  },
  {
   "cell_type": "code",
   "execution_count": 62,
   "id": "2d4ee06a-2453-49a1-b550-263e017b745a",
   "metadata": {},
   "outputs": [
    {
     "name": "stdout",
     "output_type": "stream",
     "text": [
      "\n",
      "\u001b[3m                                  CNN Summary                                   \u001b[0m\n",
      "┏━━━━━━━━━┳━━━━━━━━┳━━━━━━━━━━━━━━━━━━━┳━━━━━━━━━━━━━━━━━━━┳━━━━━━━━━━━━━━━━━━━┓\n",
      "┃\u001b[1m \u001b[0m\u001b[1mpath   \u001b[0m\u001b[1m \u001b[0m┃\u001b[1m \u001b[0m\u001b[1mmodule\u001b[0m\u001b[1m \u001b[0m┃\u001b[1m \u001b[0m\u001b[1minputs           \u001b[0m\u001b[1m \u001b[0m┃\u001b[1m \u001b[0m\u001b[1moutputs          \u001b[0m\u001b[1m \u001b[0m┃\u001b[1m \u001b[0m\u001b[1mparams           \u001b[0m\u001b[1m \u001b[0m┃\n",
      "┡━━━━━━━━━╇━━━━━━━━╇━━━━━━━━━━━━━━━━━━━╇━━━━━━━━━━━━━━━━━━━╇━━━━━━━━━━━━━━━━━━━┩\n",
      "│         │ CNN    │ \u001b[2mfloat32\u001b[0m[1,28,28,… │ \u001b[2mfloat32\u001b[0m[1,10]     │                   │\n",
      "├─────────┼────────┼───────────────────┼───────────────────┼───────────────────┤\n",
      "│ Conv_0  │ Conv   │ \u001b[2mfloat32\u001b[0m[1,28,28,… │ \u001b[2mfloat32\u001b[0m[1,28,28,… │ bias: \u001b[2mfloat32\u001b[0m[32] │\n",
      "│         │        │                   │                   │ kernel:           │\n",
      "│         │        │                   │                   │ \u001b[2mfloat32\u001b[0m[3,3,1,32] │\n",
      "│         │        │                   │                   │                   │\n",
      "│         │        │                   │                   │ \u001b[1m320 \u001b[0m\u001b[1;2m(1.3 KB)\u001b[0m      │\n",
      "├─────────┼────────┼───────────────────┼───────────────────┼───────────────────┤\n",
      "│ Conv_1  │ Conv   │ \u001b[2mfloat32\u001b[0m[1,14,14,… │ \u001b[2mfloat32\u001b[0m[1,14,14,… │ bias: \u001b[2mfloat32\u001b[0m[64] │\n",
      "│         │        │                   │                   │ kernel:           │\n",
      "│         │        │                   │                   │ \u001b[2mfloat32\u001b[0m[3,3,32,6… │\n",
      "│         │        │                   │                   │                   │\n",
      "│         │        │                   │                   │ \u001b[1m18,496 \u001b[0m\u001b[1;2m(74.0 KB)\u001b[0m  │\n",
      "├─────────┼────────┼───────────────────┼───────────────────┼───────────────────┤\n",
      "│ Dense_0 │ Dense  │ \u001b[2mfloat32\u001b[0m[1,3136]   │ \u001b[2mfloat32\u001b[0m[1,256]    │ bias:             │\n",
      "│         │        │                   │                   │ \u001b[2mfloat32\u001b[0m[256]      │\n",
      "│         │        │                   │                   │ kernel:           │\n",
      "│         │        │                   │                   │ \u001b[2mfloat32\u001b[0m[3136,256] │\n",
      "│         │        │                   │                   │                   │\n",
      "│         │        │                   │                   │ \u001b[1m803,072 \u001b[0m\u001b[1;2m(3.2 MB)\u001b[0m  │\n",
      "├─────────┼────────┼───────────────────┼───────────────────┼───────────────────┤\n",
      "│ Dense_1 │ Dense  │ \u001b[2mfloat32\u001b[0m[1,256]    │ \u001b[2mfloat32\u001b[0m[1,10]     │ bias: \u001b[2mfloat32\u001b[0m[10] │\n",
      "│         │        │                   │                   │ kernel:           │\n",
      "│         │        │                   │                   │ \u001b[2mfloat32\u001b[0m[256,10]   │\n",
      "│         │        │                   │                   │                   │\n",
      "│         │        │                   │                   │ \u001b[1m2,570 \u001b[0m\u001b[1;2m(10.3 KB)\u001b[0m   │\n",
      "├─────────┼────────┼───────────────────┼───────────────────┼───────────────────┤\n",
      "│\u001b[1m \u001b[0m\u001b[1m       \u001b[0m\u001b[1m \u001b[0m│\u001b[1m \u001b[0m\u001b[1m      \u001b[0m\u001b[1m \u001b[0m│\u001b[1m \u001b[0m\u001b[1m                 \u001b[0m\u001b[1m \u001b[0m│\u001b[1m \u001b[0m\u001b[1m            Total\u001b[0m\u001b[1m \u001b[0m│\u001b[1m \u001b[0m\u001b[1m824,458 \u001b[0m\u001b[1;2m(3.3 MB)\u001b[0m\u001b[1m \u001b[0m\u001b[1m \u001b[0m│\n",
      "└─────────┴────────┴───────────────────┴───────────────────┴───────────────────┘\n",
      "\u001b[1m                                                                                \u001b[0m\n",
      "\u001b[1m                       Total Parameters: 824,458 \u001b[0m\u001b[1;2m(3.3 MB)\u001b[0m\u001b[1m                       \u001b[0m\n",
      "\n",
      "\n"
     ]
    }
   ],
   "source": [
    "import jax\n",
    "import jax.numpy as jnp\n",
    "\n",
    "cnn = CNN()\n",
    "print(cnn.tabulate(jax.random.PRNGKey(0), jnp.ones((1, 28, 28, 1)))) # (batch, h, w, channel)"
   ]
  },
  {
   "cell_type": "markdown",
   "id": "336ec999-777c-42ac-8f54-50a05a8f157f",
   "metadata": {},
   "source": [
    "## 4. Create a `TrainState`"
   ]
  },
  {
   "cell_type": "markdown",
   "id": "0dd8dcfc-9207-4f0f-b9e8-6f9d6c7e9b35",
   "metadata": {},
   "source": [
    "A common pattern in Flax is to create a single dataclass that represents the entire training state, including step number, parameters, and optimizer state."
   ]
  },
  {
   "cell_type": "code",
   "execution_count": 63,
   "id": "a5696a40-cffa-40d0-9e24-0e0dacda35bb",
   "metadata": {},
   "outputs": [],
   "source": [
    "from clu import metrics\n",
    "from flax.training import train_state # Useful dataclass to keep train state\n",
    "from flax import struct               # Flas dataclass\n",
    "import optax                          # Common loss functions and optimizers"
   ]
  },
  {
   "cell_type": "code",
   "execution_count": 64,
   "id": "57c618df-e2e4-48f0-bb8c-01c7815d3f77",
   "metadata": {},
   "outputs": [],
   "source": [
    "@struct.dataclass\n",
    "class Metrics(metrics.Collection):\n",
    "    accuracy: metrics.Accuracy\n",
    "    loss: metrics.Average.from_output('loss')"
   ]
  },
  {
   "cell_type": "code",
   "execution_count": 65,
   "id": "0c0ae24f-2196-413d-85c0-aa6e829f27c1",
   "metadata": {},
   "outputs": [],
   "source": [
    "class TrainState(train_state.TrainState):\n",
    "    metrics: Metrics\n",
    "\n",
    "def create_train_state(module, rng, learning_rate, momentum):\n",
    "    params = module.init(rng, jnp.ones([1, 28, 28, 1]))['params'] # initializing parameters by passing a template image\n",
    "    tx = optax.sgd(learning_rate, momentum)\n",
    "    return TrainState.create(\n",
    "            apply_fn=module.apply,\n",
    "            params=params,\n",
    "            tx=tx,\n",
    "            metrics=Metrics.empty())"
   ]
  },
  {
   "cell_type": "markdown",
   "id": "6afb41de-d4b9-4c78-86ec-adbb47f0c3c2",
   "metadata": {},
   "source": [
    "## 5. Training step"
   ]
  },
  {
   "cell_type": "markdown",
   "id": "2b72b63d-087c-48e5-8801-badfb6405f77",
   "metadata": {},
   "source": [
    "A function that:\n",
    "- Evaluates the neural network given the parameters and a batch of input images with `TrainState.apply_fn`;\n",
    "- Computes the cross entropy loss, using the predefined `optax.softmax_cross_entropy_with_integer_labels()`. Note that this function expects integer labels, so there is no need to convert labels to onehot encoding.\n",
    "- Evaluates the gradient of the loss function using `jax.grad`.\n",
    "- Applies a pytree of gradients to the optimizer to update the model's parameters."
   ]
  },
  {
   "cell_type": "code",
   "execution_count": 46,
   "id": "25d0cb97-9f48-4b35-9df3-aa58b02ab591",
   "metadata": {},
   "outputs": [],
   "source": [
    "@jax.jit\n",
    "def train_step(state, images, targets):\n",
    "    def loss_fn(params):\n",
    "        logits = state.apply_fn({'params': params}, images)\n",
    "        loss = optax.softmax_cross_entropy_with_integer_labels(logits=logits, labels=targets).mean()\n",
    "        return loss\n",
    "    grad_fn = jax.grad(loss_fn)\n",
    "    grads = grad_fn(state.params)\n",
    "    state = state.apply_gradients(grads=grads)\n",
    "    return state"
   ]
  },
  {
   "cell_type": "markdown",
   "id": "32439cdc-a9a8-4dfe-8983-a2a0b8905cb5",
   "metadata": {},
   "source": [
    "## 6. Metric computation"
   ]
  },
  {
   "cell_type": "code",
   "execution_count": 47,
   "id": "ed1cfecc-31a6-4ba2-9109-5ee2d18466d4",
   "metadata": {},
   "outputs": [],
   "source": [
    "@jax.jit\n",
    "def compute_metrics(*, state, images, targets):\n",
    "    logits = state.apply_fn({'params': state.params}, images)\n",
    "    loss = optax.softmax_cross_entropy_with_integer_labels(logits=logits, labels=targets).mean()\n",
    "    metric_updates = state.metrics.single_from_model_output(\n",
    "        logits=logits, labels=targets, loss=loss\n",
    "    )\n",
    "    metrics = state.metrics.merge(metric_updates)\n",
    "    state = state.replace(metrics=metrics)\n",
    "    return state"
   ]
  },
  {
   "cell_type": "markdown",
   "id": "75827ecb-6d87-4291-8725-f1739e9b2266",
   "metadata": {},
   "source": [
    "## 7. Set Seed and train params"
   ]
  },
  {
   "cell_type": "code",
   "execution_count": 48,
   "id": "f4dbb101-4f92-4526-9270-7360e1987fe1",
   "metadata": {},
   "outputs": [],
   "source": [
    "num_epochs = 10\n",
    "learning_rate = 0.01\n",
    "momentum = 0.9\n",
    "\n",
    "torch.manual_seed(0)\n",
    "init_rng = jax.random.PRNGKey(0)"
   ]
  },
  {
   "cell_type": "markdown",
   "id": "8b7b4255-c0c6-4c66-9b90-98842da44d07",
   "metadata": {},
   "source": [
    "## 8. Initialize the `TrainState`"
   ]
  },
  {
   "cell_type": "code",
   "execution_count": 49,
   "id": "8b02f948-fa64-4ba5-a34d-de6b9f84084b",
   "metadata": {},
   "outputs": [],
   "source": [
    "state = create_train_state(cnn, init_rng, learning_rate, momentum)\n",
    "del init_rng"
   ]
  },
  {
   "cell_type": "markdown",
   "id": "834cc95f-f4c6-4cf8-9ceb-805767da3e8d",
   "metadata": {},
   "source": [
    "## 9. Train and evaluate"
   ]
  },
  {
   "cell_type": "code",
   "execution_count": 50,
   "id": "dc90b62c-0824-4b25-947e-73869cb609f9",
   "metadata": {},
   "outputs": [],
   "source": [
    "num_steps_per_epoch = len(train_loader)"
   ]
  },
  {
   "cell_type": "code",
   "execution_count": 51,
   "id": "51ca607c-6f06-4eec-bdb9-4cd85fcb6514",
   "metadata": {},
   "outputs": [],
   "source": [
    "metrics_history = {\n",
    "    'train_loss': [],\n",
    "    'train_accuracy': [],\n",
    "    'test_loss': [],\n",
    "    'test_accuracy': []\n",
    "}"
   ]
  },
  {
   "cell_type": "code",
   "execution_count": null,
   "id": "b6209845-7b04-4df0-a186-9309c6438013",
   "metadata": {},
   "outputs": [],
   "source": [
    "for curr_epoch in range(num_epochs):\n",
    "    for i, (images, targets) in enumerate(train_loader):\n",
    "        # Run optimization steps over training batches and compute batch metrics\n",
    "        state = train_step(state, images, targets)\n",
    "        state = compute_metrics(state=state, images=images, targets=targets)\n",
    "    \n",
    "    for metric, value in state.metrics.compute().items():\n",
    "        metrics_history[f'train_{metric}'].append(value)\n",
    "        \n",
    "    state = state.replace(metrics=state.metrics.empty())\n",
    "\n",
    "    # test_state = state\n",
    "    # for images, targets in enumerate(test_loader):\n",
    "    #     test_state = compute_metrics(state=test_state, images=images, targets=targets)\n",
    "\n",
    "    # for metric, value in test_state.metrics.compute().items():\n",
    "    #     metrics_history[f'test_{metric}'].append(value)\n",
    "\n",
    "    print(f'Epoch: {curr_epoch + 1}:')\n",
    "    print(f'\\tTrain Metrics: Loss={metrics_history[\"train_loss\"][-1]:.4f}, Accuracy={metrics_history[\"train_accuracy\"][-1]*100:.4f}')\n",
    "    # print(f'\\tTest Metrics: Loss={metrics_history[\"test_loss\"][-1]:.4f}, Accuracy={metrics_history[\"test_accuracy\"][-1]:.4f}')"
   ]
  },
  {
   "cell_type": "code",
   "execution_count": null,
   "id": "9c451329-dc1c-49ec-b13f-fec0706ee15e",
   "metadata": {},
   "outputs": [],
   "source": []
  }
 ],
 "metadata": {
  "kernelspec": {
   "display_name": "Python 3 (ipykernel)",
   "language": "python",
   "name": "python3"
  },
  "language_info": {
   "codemirror_mode": {
    "name": "ipython",
    "version": 3
   },
   "file_extension": ".py",
   "mimetype": "text/x-python",
   "name": "python",
   "nbconvert_exporter": "python",
   "pygments_lexer": "ipython3",
   "version": "3.9.0"
  }
 },
 "nbformat": 4,
 "nbformat_minor": 5
}
