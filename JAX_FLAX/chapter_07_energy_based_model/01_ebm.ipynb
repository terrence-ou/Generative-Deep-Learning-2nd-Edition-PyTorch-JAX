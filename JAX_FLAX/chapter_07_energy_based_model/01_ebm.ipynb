{
 "cells": [
  {
   "cell_type": "markdown",
   "id": "149f4744-522c-4514-ac6d-0a71f94920ce",
   "metadata": {},
   "source": [
    "# Energy-based Model (In-progress)\n",
    "\n",
    "**The notebook has been adapted from the notebook provided in David Foster's Generative Deep Learning, 2nd Edition.**\n",
    "- Book: [Amazon](https://www.amazon.com/Generative-Deep-Learning-Teaching-Machines/dp/1098134184?keywords=generative+deep+learning,+2nd+edition&qid=1684708209&sprefix=generative+de,aps,93&sr=8-1)\n",
    "- Original notebook (tensorflow and keras): [Github](https://github.com/davidADSP/Generative_Deep_Learning_2nd_Edition/blob/main/notebooks/07_ebm/01_ebm/ebm.ipynb)"
   ]
  },
  {
   "cell_type": "code",
   "execution_count": 1,
   "id": "ced0082a-7774-49f8-95f9-637820666b00",
   "metadata": {},
   "outputs": [],
   "source": [
    "import random\n",
    "import collections\n",
    "from IPython import display\n",
    "from tqdm.notebook import tqdm\n",
    "\n",
    "import numpy as np\n",
    "\n",
    "import os\n",
    "os.environ['TF_CPP_MIN_LOG_LEVEL'] = '3' \n",
    "import tensorflow as tf\n",
    "from tensorflow.keras import datasets\n",
    "\n",
    "import jax\n",
    "from jax import numpy as jnp\n",
    "\n",
    "from matplotlib import pyplot as plt"
   ]
  },
  {
   "cell_type": "markdown",
   "id": "deb16883-163f-446e-bca6-3f45e997b83d",
   "metadata": {},
   "source": [
    "## 0. Training Parameter"
   ]
  },
  {
   "cell_type": "code",
   "execution_count": 2,
   "id": "10a8204c-1726-4682-8ba6-d91a170f8e3d",
   "metadata": {},
   "outputs": [],
   "source": [
    "CHANNELS = 1\n",
    "STEP_SIZE = 10\n",
    "STEPS = 60\n",
    "NOISE = 5e-3\n",
    "ALPHA = 0.1\n",
    "GRADIENT_CLIP = 3e-2\n",
    "BATCH_SIZE = 128\n",
    "BUFFER_SIZE = 8192\n",
    "LEARNING_RATE = 1e-4\n",
    "EPOCHS = 60"
   ]
  },
  {
   "cell_type": "markdown",
   "id": "fbea2d35-ae4f-4817-bc07-e198b607c86f",
   "metadata": {},
   "source": [
    "## 1. Preparing MNIST Dataset"
   ]
  },
  {
   "cell_type": "code",
   "execution_count": 5,
   "id": "216cd17b-af5b-41d7-859e-b3aef1f39370",
   "metadata": {},
   "outputs": [],
   "source": [
    "def preprocess(imgs):\n",
    "    imgs = (imgs.astype(\"float32\") - 127.5) / 127.5\n",
    "    imgs = np.pad(imgs, ((0, 0), (2, 2), (2, 2)), constant_values = -1.0)\n",
    "    imgs = np.expand_dims(imgs, axis=-1)\n",
    "    return imgs\n",
    "\n",
    "def get_dataset():\n",
    "    (train_ds, _), (test_ds, _) = datasets.mnist.load_data()\n",
    "    train_ds = preprocess(train_ds)\n",
    "    test_ds = preprocess(test_ds)\n",
    "\n",
    "    train_ds = tf.data.Dataset.from_tensor_slices(train_ds).shuffle(1024).batch(BATCH_SIZE)\n",
    "    test_ds = tf.data.Dataset.from_tensor_slices(test_ds).batch(BATCH_SIZE)\n",
    "\n",
    "    return train_ds, test_ds"
   ]
  },
  {
   "cell_type": "code",
   "execution_count": 7,
   "id": "8c3dbcbf-b639-42ca-a0dc-5ce6bad04e7a",
   "metadata": {},
   "outputs": [],
   "source": [
    "sample_ds, _ = get_dataset()\n",
    "sample_batch = next(sample_ds.as_numpy_iterator())"
   ]
  },
  {
   "cell_type": "code",
   "execution_count": 8,
   "id": "c015bf0c-3397-4d37-8a04-92c723567e12",
   "metadata": {},
   "outputs": [
    {
     "name": "stdout",
     "output_type": "stream",
     "text": [
      "(128, 32, 32, 1)\n"
     ]
    }
   ],
   "source": [
    "print(sample_batch.shape)"
   ]
  },
  {
   "cell_type": "code",
   "execution_count": null,
   "id": "c342630c-37fe-4959-9d4f-7ea7fead66a6",
   "metadata": {},
   "outputs": [],
   "source": []
  }
 ],
 "metadata": {
  "kernelspec": {
   "display_name": "Python 3 (ipykernel)",
   "language": "python",
   "name": "python3"
  },
  "language_info": {
   "codemirror_mode": {
    "name": "ipython",
    "version": 3
   },
   "file_extension": ".py",
   "mimetype": "text/x-python",
   "name": "python",
   "nbconvert_exporter": "python",
   "pygments_lexer": "ipython3",
   "version": "3.9.18"
  }
 },
 "nbformat": 4,
 "nbformat_minor": 5
}
