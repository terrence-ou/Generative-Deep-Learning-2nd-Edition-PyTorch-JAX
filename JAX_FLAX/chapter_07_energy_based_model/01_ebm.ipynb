{
 "cells": [
  {
   "cell_type": "markdown",
   "id": "149f4744-522c-4514-ac6d-0a71f94920ce",
   "metadata": {},
   "source": [
    "# Energy-based Model (In-progress)\n",
    "\n",
    "**The notebook has been adapted from the notebook provided in David Foster's Generative Deep Learning, 2nd Edition.**\n",
    "- Book: [Amazon](https://www.amazon.com/Generative-Deep-Learning-Teaching-Machines/dp/1098134184?keywords=generative+deep+learning,+2nd+edition&qid=1684708209&sprefix=generative+de,aps,93&sr=8-1)\n",
    "- Original notebook (tensorflow and keras): [Github](https://github.com/davidADSP/Generative_Deep_Learning_2nd_Edition/blob/main/notebooks/07_ebm/01_ebm/ebm.ipynb)"
   ]
  },
  {
   "cell_type": "code",
   "execution_count": 1,
   "id": "ced0082a-7774-49f8-95f9-637820666b00",
   "metadata": {},
   "outputs": [],
   "source": [
    "import os\n",
    "os.environ['TF_CPP_MIN_LOG_LEVEL'] = '3' \n",
    "\n",
    "import random\n",
    "import collections\n",
    "from typing import Any\n",
    "from IPython import display\n",
    "from tqdm.notebook import tqdm\n",
    "import numpy as np\n",
    "\n",
    "import tensorflow as tf\n",
    "from tensorflow.keras import datasets\n",
    "\n",
    "from functools import partial\n",
    "\n",
    "import jax\n",
    "from jax import numpy as jnp\n",
    "from flax import struct\n",
    "import flax.linen as nn\n",
    "from flax.training import train_state\n",
    "\n",
    "import optax\n",
    "from clu import metrics\n",
    "\n",
    "from matplotlib import pyplot as plt"
   ]
  },
  {
   "cell_type": "markdown",
   "id": "deb16883-163f-446e-bca6-3f45e997b83d",
   "metadata": {},
   "source": [
    "## 0. Training Parameter"
   ]
  },
  {
   "cell_type": "code",
   "execution_count": 2,
   "id": "10a8204c-1726-4682-8ba6-d91a170f8e3d",
   "metadata": {},
   "outputs": [],
   "source": [
    "IMG_SIZE = 32\n",
    "CHANNELS = 1\n",
    "STEP_SIZE = 10\n",
    "STEPS = 60\n",
    "NOISE = 5e-3\n",
    "ALPHA = 0.1\n",
    "GRADIENT_CLIP = 3e-2\n",
    "BATCH_SIZE = 128\n",
    "BUFFER_SIZE = 8192\n",
    "LEARNING_RATE = 1e-4\n",
    "EPOCHS = 60\n",
    "\n",
    "# kwargs for model's tabulate function\n",
    "console_kwargs = {\"width\": 100, \n",
    "                  \"force_terminal\": False, \n",
    "                  \"force_jupyter\": True,\n",
    "                  \"soft_wrap\": True}"
   ]
  },
  {
   "cell_type": "markdown",
   "id": "fbea2d35-ae4f-4817-bc07-e198b607c86f",
   "metadata": {},
   "source": [
    "## 1. Preparing MNIST Dataset"
   ]
  },
  {
   "cell_type": "code",
   "execution_count": 3,
   "id": "216cd17b-af5b-41d7-859e-b3aef1f39370",
   "metadata": {},
   "outputs": [],
   "source": [
    "def preprocess(imgs):\n",
    "    imgs = (imgs.astype(\"float32\") - 127.5) / 127.5\n",
    "    imgs = np.pad(imgs, ((0, 0), (2, 2), (2, 2)), constant_values = -1.0)\n",
    "    imgs = np.expand_dims(imgs, axis=-1)\n",
    "    return imgs\n",
    "\n",
    "def get_dataset():\n",
    "    (train_ds, _), (test_ds, _) = datasets.mnist.load_data()\n",
    "    train_ds = preprocess(train_ds)\n",
    "    test_ds = preprocess(test_ds)\n",
    "\n",
    "    train_ds = tf.data.Dataset.from_tensor_slices(train_ds).shuffle(1024).batch(BATCH_SIZE)\n",
    "    test_ds = tf.data.Dataset.from_tensor_slices(test_ds).batch(BATCH_SIZE)\n",
    "\n",
    "    return train_ds, test_ds"
   ]
  },
  {
   "cell_type": "code",
   "execution_count": 4,
   "id": "8c3dbcbf-b639-42ca-a0dc-5ce6bad04e7a",
   "metadata": {},
   "outputs": [
    {
     "name": "stdout",
     "output_type": "stream",
     "text": [
      "(128, 32, 32, 1)\n"
     ]
    }
   ],
   "source": [
    "sample_ds, _ = get_dataset()\n",
    "sample_batch = next(sample_ds.as_numpy_iterator())\n",
    "print(sample_batch.shape)"
   ]
  },
  {
   "cell_type": "markdown",
   "id": "d2e15d65-f22b-4fa1-bc5f-66fb8bfd9dce",
   "metadata": {},
   "source": [
    "## 2. Build Energy Function $E(x)$"
   ]
  },
  {
   "cell_type": "code",
   "execution_count": 5,
   "id": "6eafdb53-446d-4b65-88f4-dc13d18283fb",
   "metadata": {},
   "outputs": [],
   "source": [
    "class Energy(nn.Module):\n",
    "\n",
    "    num_conv_layers:int = 4\n",
    "    # Flax module does not acceptable mutable properties\n",
    "    channels:tuple = tuple([16, 32, 64, 64])\n",
    "    kernels:tuple = tuple([5, 3, 3, 3])\n",
    "\n",
    "    def setup(self):\n",
    "        layers = []\n",
    "        for i in range(self.num_conv_layers):\n",
    "            layers.append(nn.Conv(features=self.channels[i],\n",
    "                                  kernel_size=(self.kernels[i], self.kernels[i]),\n",
    "                                  strides=2,\n",
    "                                  padding=\"same\"))\n",
    "            layers.append(nn.activation.swish)\n",
    "        \n",
    "        self.conv_layers = nn.Sequential(layers)\n",
    "        self.liner_layers = nn.Sequential([nn.Dense(64),\n",
    "                                           nn.activation.swish,\n",
    "                                           nn.Dense(1)])\n",
    "        \n",
    "\n",
    "    def __call__(self, x):\n",
    "        x = self.conv_layers(x)\n",
    "        x = x.reshape(x.shape[0], -1)\n",
    "        return self.liner_layers(x)"
   ]
  },
  {
   "cell_type": "code",
   "execution_count": 6,
   "id": "54df992f-787a-420d-9de8-d0308917bf21",
   "metadata": {},
   "outputs": [
    {
     "data": {
      "text/html": [
       "<pre style=\"white-space:pre;overflow-x:auto;line-height:normal;font-family:Menlo,'DejaVu Sans Mono',consolas,'Courier New',monospace\"><span style=\"font-style: italic\">                                           Energy Summary                                           </span>\n",
       "┏━━━━━━━━━━━━━━━━━━━━━┳━━━━━━━━━━━━┳━━━━━━━━━━━━━━━━━━━━┳━━━━━━━━━━━━━━━━━━━━━┳━━━━━━━━━━━━━━━━━━━━┓\n",
       "┃<span style=\"font-weight: bold\"> path                </span>┃<span style=\"font-weight: bold\"> module     </span>┃<span style=\"font-weight: bold\"> inputs             </span>┃<span style=\"font-weight: bold\"> outputs             </span>┃<span style=\"font-weight: bold\"> params             </span>┃\n",
       "┡━━━━━━━━━━━━━━━━━━━━━╇━━━━━━━━━━━━╇━━━━━━━━━━━━━━━━━━━━╇━━━━━━━━━━━━━━━━━━━━━╇━━━━━━━━━━━━━━━━━━━━┩\n",
       "│                     │ Energy     │ <span style=\"color: #7f7f7f; text-decoration-color: #7f7f7f\">float32</span>[1,32,32,1] │ <span style=\"color: #7f7f7f; text-decoration-color: #7f7f7f\">float32</span>[1,1]        │                    │\n",
       "├─────────────────────┼────────────┼────────────────────┼─────────────────────┼────────────────────┤\n",
       "│ conv_layers         │ Sequential │ <span style=\"color: #7f7f7f; text-decoration-color: #7f7f7f\">float32</span>[1,32,32,1] │ <span style=\"color: #7f7f7f; text-decoration-color: #7f7f7f\">float32</span>[1,2,2,64]   │                    │\n",
       "├─────────────────────┼────────────┼────────────────────┼─────────────────────┼────────────────────┤\n",
       "│ conv_layers/layers… │ Conv       │ <span style=\"color: #7f7f7f; text-decoration-color: #7f7f7f\">float32</span>[1,32,32,1] │ <span style=\"color: #7f7f7f; text-decoration-color: #7f7f7f\">float32</span>[1,16,16,16] │ bias: <span style=\"color: #7f7f7f; text-decoration-color: #7f7f7f\">float32</span>[16]  │\n",
       "│                     │            │                    │                     │ kernel:            │\n",
       "│                     │            │                    │                     │ <span style=\"color: #7f7f7f; text-decoration-color: #7f7f7f\">float32</span>[5,5,1,16]  │\n",
       "│                     │            │                    │                     │                    │\n",
       "│                     │            │                    │                     │ <span style=\"font-weight: bold\">416 </span><span style=\"color: #7f7f7f; text-decoration-color: #7f7f7f; font-weight: bold\">(1.7 KB)</span>       │\n",
       "├─────────────────────┼────────────┼────────────────────┼─────────────────────┼────────────────────┤\n",
       "│ conv_layers/layers… │ Conv       │ <span style=\"color: #7f7f7f; text-decoration-color: #7f7f7f\">float32</span>[1,16,16,1… │ <span style=\"color: #7f7f7f; text-decoration-color: #7f7f7f\">float32</span>[1,8,8,32]   │ bias: <span style=\"color: #7f7f7f; text-decoration-color: #7f7f7f\">float32</span>[32]  │\n",
       "│                     │            │                    │                     │ kernel:            │\n",
       "│                     │            │                    │                     │ <span style=\"color: #7f7f7f; text-decoration-color: #7f7f7f\">float32</span>[3,3,16,32] │\n",
       "│                     │            │                    │                     │                    │\n",
       "│                     │            │                    │                     │ <span style=\"font-weight: bold\">4,640 </span><span style=\"color: #7f7f7f; text-decoration-color: #7f7f7f; font-weight: bold\">(18.6 KB)</span>    │\n",
       "├─────────────────────┼────────────┼────────────────────┼─────────────────────┼────────────────────┤\n",
       "│ conv_layers/layers… │ Conv       │ <span style=\"color: #7f7f7f; text-decoration-color: #7f7f7f\">float32</span>[1,8,8,32]  │ <span style=\"color: #7f7f7f; text-decoration-color: #7f7f7f\">float32</span>[1,4,4,64]   │ bias: <span style=\"color: #7f7f7f; text-decoration-color: #7f7f7f\">float32</span>[64]  │\n",
       "│                     │            │                    │                     │ kernel:            │\n",
       "│                     │            │                    │                     │ <span style=\"color: #7f7f7f; text-decoration-color: #7f7f7f\">float32</span>[3,3,32,64] │\n",
       "│                     │            │                    │                     │                    │\n",
       "│                     │            │                    │                     │ <span style=\"font-weight: bold\">18,496 </span><span style=\"color: #7f7f7f; text-decoration-color: #7f7f7f; font-weight: bold\">(74.0 KB)</span>   │\n",
       "├─────────────────────┼────────────┼────────────────────┼─────────────────────┼────────────────────┤\n",
       "│ conv_layers/layers… │ Conv       │ <span style=\"color: #7f7f7f; text-decoration-color: #7f7f7f\">float32</span>[1,4,4,64]  │ <span style=\"color: #7f7f7f; text-decoration-color: #7f7f7f\">float32</span>[1,2,2,64]   │ bias: <span style=\"color: #7f7f7f; text-decoration-color: #7f7f7f\">float32</span>[64]  │\n",
       "│                     │            │                    │                     │ kernel:            │\n",
       "│                     │            │                    │                     │ <span style=\"color: #7f7f7f; text-decoration-color: #7f7f7f\">float32</span>[3,3,64,64] │\n",
       "│                     │            │                    │                     │                    │\n",
       "│                     │            │                    │                     │ <span style=\"font-weight: bold\">36,928 </span><span style=\"color: #7f7f7f; text-decoration-color: #7f7f7f; font-weight: bold\">(147.7 KB)</span>  │\n",
       "├─────────────────────┼────────────┼────────────────────┼─────────────────────┼────────────────────┤\n",
       "│ liner_layers        │ Sequential │ <span style=\"color: #7f7f7f; text-decoration-color: #7f7f7f\">float32</span>[1,256]     │ <span style=\"color: #7f7f7f; text-decoration-color: #7f7f7f\">float32</span>[1,1]        │                    │\n",
       "├─────────────────────┼────────────┼────────────────────┼─────────────────────┼────────────────────┤\n",
       "│ liner_layers/layer… │ Dense      │ <span style=\"color: #7f7f7f; text-decoration-color: #7f7f7f\">float32</span>[1,256]     │ <span style=\"color: #7f7f7f; text-decoration-color: #7f7f7f\">float32</span>[1,64]       │ bias: <span style=\"color: #7f7f7f; text-decoration-color: #7f7f7f\">float32</span>[64]  │\n",
       "│                     │            │                    │                     │ kernel:            │\n",
       "│                     │            │                    │                     │ <span style=\"color: #7f7f7f; text-decoration-color: #7f7f7f\">float32</span>[256,64]    │\n",
       "│                     │            │                    │                     │                    │\n",
       "│                     │            │                    │                     │ <span style=\"font-weight: bold\">16,448 </span><span style=\"color: #7f7f7f; text-decoration-color: #7f7f7f; font-weight: bold\">(65.8 KB)</span>   │\n",
       "├─────────────────────┼────────────┼────────────────────┼─────────────────────┼────────────────────┤\n",
       "│ liner_layers/layer… │ Dense      │ <span style=\"color: #7f7f7f; text-decoration-color: #7f7f7f\">float32</span>[1,64]      │ <span style=\"color: #7f7f7f; text-decoration-color: #7f7f7f\">float32</span>[1,1]        │ bias: <span style=\"color: #7f7f7f; text-decoration-color: #7f7f7f\">float32</span>[1]   │\n",
       "│                     │            │                    │                     │ kernel:            │\n",
       "│                     │            │                    │                     │ <span style=\"color: #7f7f7f; text-decoration-color: #7f7f7f\">float32</span>[64,1]      │\n",
       "│                     │            │                    │                     │                    │\n",
       "│                     │            │                    │                     │ <span style=\"font-weight: bold\">65 </span><span style=\"color: #7f7f7f; text-decoration-color: #7f7f7f; font-weight: bold\">(260 B)</span>         │\n",
       "├─────────────────────┼────────────┼────────────────────┼─────────────────────┼────────────────────┤\n",
       "│<span style=\"font-weight: bold\">                     </span>│<span style=\"font-weight: bold\">            </span>│<span style=\"font-weight: bold\">                    </span>│<span style=\"font-weight: bold\">               Total </span>│<span style=\"font-weight: bold\"> 76,993 </span><span style=\"color: #7f7f7f; text-decoration-color: #7f7f7f; font-weight: bold\">(308.0 KB)</span><span style=\"font-weight: bold\">  </span>│\n",
       "└─────────────────────┴────────────┴────────────────────┴─────────────────────┴────────────────────┘\n",
       "<span style=\"font-weight: bold\">                                                                                                    </span>\n",
       "<span style=\"font-weight: bold\">                                Total Parameters: 76,993 </span><span style=\"color: #7f7f7f; text-decoration-color: #7f7f7f; font-weight: bold\">(308.0 KB)</span><span style=\"font-weight: bold\">                                 </span>\n",
       "</pre>\n"
      ],
      "text/plain": [
       "\u001b[3m                                           Energy Summary                                           \u001b[0m\n",
       "┏━━━━━━━━━━━━━━━━━━━━━┳━━━━━━━━━━━━┳━━━━━━━━━━━━━━━━━━━━┳━━━━━━━━━━━━━━━━━━━━━┳━━━━━━━━━━━━━━━━━━━━┓\n",
       "┃\u001b[1m \u001b[0m\u001b[1mpath               \u001b[0m\u001b[1m \u001b[0m┃\u001b[1m \u001b[0m\u001b[1mmodule    \u001b[0m\u001b[1m \u001b[0m┃\u001b[1m \u001b[0m\u001b[1minputs            \u001b[0m\u001b[1m \u001b[0m┃\u001b[1m \u001b[0m\u001b[1moutputs            \u001b[0m\u001b[1m \u001b[0m┃\u001b[1m \u001b[0m\u001b[1mparams            \u001b[0m\u001b[1m \u001b[0m┃\n",
       "┡━━━━━━━━━━━━━━━━━━━━━╇━━━━━━━━━━━━╇━━━━━━━━━━━━━━━━━━━━╇━━━━━━━━━━━━━━━━━━━━━╇━━━━━━━━━━━━━━━━━━━━┩\n",
       "│                     │ Energy     │ \u001b[2mfloat32\u001b[0m[1,32,32,1] │ \u001b[2mfloat32\u001b[0m[1,1]        │                    │\n",
       "├─────────────────────┼────────────┼────────────────────┼─────────────────────┼────────────────────┤\n",
       "│ conv_layers         │ Sequential │ \u001b[2mfloat32\u001b[0m[1,32,32,1] │ \u001b[2mfloat32\u001b[0m[1,2,2,64]   │                    │\n",
       "├─────────────────────┼────────────┼────────────────────┼─────────────────────┼────────────────────┤\n",
       "│ conv_layers/layers… │ Conv       │ \u001b[2mfloat32\u001b[0m[1,32,32,1] │ \u001b[2mfloat32\u001b[0m[1,16,16,16] │ bias: \u001b[2mfloat32\u001b[0m[16]  │\n",
       "│                     │            │                    │                     │ kernel:            │\n",
       "│                     │            │                    │                     │ \u001b[2mfloat32\u001b[0m[5,5,1,16]  │\n",
       "│                     │            │                    │                     │                    │\n",
       "│                     │            │                    │                     │ \u001b[1m416 \u001b[0m\u001b[1;2m(1.7 KB)\u001b[0m       │\n",
       "├─────────────────────┼────────────┼────────────────────┼─────────────────────┼────────────────────┤\n",
       "│ conv_layers/layers… │ Conv       │ \u001b[2mfloat32\u001b[0m[1,16,16,1… │ \u001b[2mfloat32\u001b[0m[1,8,8,32]   │ bias: \u001b[2mfloat32\u001b[0m[32]  │\n",
       "│                     │            │                    │                     │ kernel:            │\n",
       "│                     │            │                    │                     │ \u001b[2mfloat32\u001b[0m[3,3,16,32] │\n",
       "│                     │            │                    │                     │                    │\n",
       "│                     │            │                    │                     │ \u001b[1m4,640 \u001b[0m\u001b[1;2m(18.6 KB)\u001b[0m    │\n",
       "├─────────────────────┼────────────┼────────────────────┼─────────────────────┼────────────────────┤\n",
       "│ conv_layers/layers… │ Conv       │ \u001b[2mfloat32\u001b[0m[1,8,8,32]  │ \u001b[2mfloat32\u001b[0m[1,4,4,64]   │ bias: \u001b[2mfloat32\u001b[0m[64]  │\n",
       "│                     │            │                    │                     │ kernel:            │\n",
       "│                     │            │                    │                     │ \u001b[2mfloat32\u001b[0m[3,3,32,64] │\n",
       "│                     │            │                    │                     │                    │\n",
       "│                     │            │                    │                     │ \u001b[1m18,496 \u001b[0m\u001b[1;2m(74.0 KB)\u001b[0m   │\n",
       "├─────────────────────┼────────────┼────────────────────┼─────────────────────┼────────────────────┤\n",
       "│ conv_layers/layers… │ Conv       │ \u001b[2mfloat32\u001b[0m[1,4,4,64]  │ \u001b[2mfloat32\u001b[0m[1,2,2,64]   │ bias: \u001b[2mfloat32\u001b[0m[64]  │\n",
       "│                     │            │                    │                     │ kernel:            │\n",
       "│                     │            │                    │                     │ \u001b[2mfloat32\u001b[0m[3,3,64,64] │\n",
       "│                     │            │                    │                     │                    │\n",
       "│                     │            │                    │                     │ \u001b[1m36,928 \u001b[0m\u001b[1;2m(147.7 KB)\u001b[0m  │\n",
       "├─────────────────────┼────────────┼────────────────────┼─────────────────────┼────────────────────┤\n",
       "│ liner_layers        │ Sequential │ \u001b[2mfloat32\u001b[0m[1,256]     │ \u001b[2mfloat32\u001b[0m[1,1]        │                    │\n",
       "├─────────────────────┼────────────┼────────────────────┼─────────────────────┼────────────────────┤\n",
       "│ liner_layers/layer… │ Dense      │ \u001b[2mfloat32\u001b[0m[1,256]     │ \u001b[2mfloat32\u001b[0m[1,64]       │ bias: \u001b[2mfloat32\u001b[0m[64]  │\n",
       "│                     │            │                    │                     │ kernel:            │\n",
       "│                     │            │                    │                     │ \u001b[2mfloat32\u001b[0m[256,64]    │\n",
       "│                     │            │                    │                     │                    │\n",
       "│                     │            │                    │                     │ \u001b[1m16,448 \u001b[0m\u001b[1;2m(65.8 KB)\u001b[0m   │\n",
       "├─────────────────────┼────────────┼────────────────────┼─────────────────────┼────────────────────┤\n",
       "│ liner_layers/layer… │ Dense      │ \u001b[2mfloat32\u001b[0m[1,64]      │ \u001b[2mfloat32\u001b[0m[1,1]        │ bias: \u001b[2mfloat32\u001b[0m[1]   │\n",
       "│                     │            │                    │                     │ kernel:            │\n",
       "│                     │            │                    │                     │ \u001b[2mfloat32\u001b[0m[64,1]      │\n",
       "│                     │            │                    │                     │                    │\n",
       "│                     │            │                    │                     │ \u001b[1m65 \u001b[0m\u001b[1;2m(260 B)\u001b[0m         │\n",
       "├─────────────────────┼────────────┼────────────────────┼─────────────────────┼────────────────────┤\n",
       "│\u001b[1m \u001b[0m\u001b[1m                   \u001b[0m\u001b[1m \u001b[0m│\u001b[1m \u001b[0m\u001b[1m          \u001b[0m\u001b[1m \u001b[0m│\u001b[1m \u001b[0m\u001b[1m                  \u001b[0m\u001b[1m \u001b[0m│\u001b[1m \u001b[0m\u001b[1m              Total\u001b[0m\u001b[1m \u001b[0m│\u001b[1m \u001b[0m\u001b[1m76,993 \u001b[0m\u001b[1;2m(308.0 KB)\u001b[0m\u001b[1m \u001b[0m\u001b[1m \u001b[0m│\n",
       "└─────────────────────┴────────────┴────────────────────┴─────────────────────┴────────────────────┘\n",
       "\u001b[1m                                                                                                    \u001b[0m\n",
       "\u001b[1m                                Total Parameters: 76,993 \u001b[0m\u001b[1;2m(308.0 KB)\u001b[0m\u001b[1m                                 \u001b[0m\n"
      ]
     },
     "metadata": {},
     "output_type": "display_data"
    },
    {
     "name": "stdout",
     "output_type": "stream",
     "text": [
      "\n",
      "\n",
      "\n"
     ]
    }
   ],
   "source": [
    "print(Energy().tabulate(jax.random.PRNGKey(0), jnp.ones((1, 32, 32, 1)), console_kwargs=console_kwargs))"
   ]
  },
  {
   "cell_type": "markdown",
   "id": "231af8ba-3bd9-4afc-a058-33236345d69d",
   "metadata": {},
   "source": [
    "## 3. Setting Up Langevin Sampler"
   ]
  },
  {
   "cell_type": "code",
   "execution_count": 7,
   "id": "9437d4a3-01e9-4525-a0be-8d722df44e42",
   "metadata": {},
   "outputs": [],
   "source": [
    "@jax.jit\n",
    "def take_step(state, input_imgs, rng):\n",
    "    \n",
    "    @jax.grad\n",
    "    def grad_fn(input_imgs):\n",
    "        return state.apply_fn({\"params\": state.params},\n",
    "                              input_imgs).sum()\n",
    "        \n",
    "    # step 1, add noise to the input image\n",
    "    key, rng = jax.random.split(rng, 2)\n",
    "    noise = jax.random.normal(key, shape=input_imgs.shape) * NOISE\n",
    "    input_imgs += noise\n",
    "\n",
    "    # step 2, get gradients for the current input\n",
    "    grads = grad_fn(input_imgs)\n",
    "    grads = jnp.clip(grads, a_min=-GRADIENT_CLIP, a_max=GRADIENT_CLIP)\n",
    "\n",
    "    # step 3, apply gradients to the current input\n",
    "    input_imgs += STEP_SIZE * grads + noise\n",
    "    return input_imgs, rng\n",
    "    \n",
    "\n",
    "def generate_samples(state, rng, input_imgs, steps, step_size, return_img_per_step=False):\n",
    "    if return_img_per_step:\n",
    "        imgs_per_step = []\n",
    "    \n",
    "    for _ in range(steps):\n",
    "        input_imgs, rng = take_step(state, input_imgs, rng)\n",
    "\n",
    "        if return_img_per_step:\n",
    "            imgs_per_step.append(np.array(input_imgs))\n",
    "\n",
    "    if return_img_per_step:\n",
    "        return np.stack(imgs_per_step, axis=0)\n",
    "    else:\n",
    "        return input_imgs"
   ]
  },
  {
   "cell_type": "markdown",
   "id": "01e05563-fba4-4e57-9129-1f9cd0cbebd7",
   "metadata": {},
   "source": [
    "## 4. Setting up Buffer to Store Examples"
   ]
  },
  {
   "cell_type": "code",
   "execution_count": 8,
   "id": "414edf45-54d8-4cfb-a1ce-cf5c2776b591",
   "metadata": {},
   "outputs": [],
   "source": [
    "class Buffer:\n",
    "\n",
    "    sample_size:int = BATCH_SIZE\n",
    "    channels:int = CHANNELS\n",
    "    img_size:int = IMG_SIZE\n",
    "    buffer_size:int = BUFFER_SIZE\n",
    "    rng:Any = jax.random.PRNGKey(0)\n",
    "\n",
    "    def __init__(self):\n",
    "        self.examples = []\n",
    "        for _ in range(self.sample_size):\n",
    "            self.examples.append(\n",
    "                np.random.uniform(low=-1.0, high=1.0, size=(1, self.img_size, self.img_size, self.channels))\n",
    "            )\n",
    "        self.generate_samples = generate_samples\n",
    "\n",
    "    def sample_new_exmps(self, state, steps, step_size):\n",
    "        key, self.rng = jax.random.split(self.rng, 2)\n",
    "        n_new = np.random.binomial(self.sample_size, 0.05)\n",
    "        rand_imgs = np.random.uniform(low=-1.0, \n",
    "                                      high=1.0, \n",
    "                                      size=(n_new, self.img_size, self.img_size, self.channels))\n",
    "        old_imgs = np.concatenate(random.choices(self.examples, k=self.sample_size-n_new), axis=0)\n",
    "        input_imgs = np.concatenate([rand_imgs, old_imgs], axis=0)\n",
    "\n",
    "        input_imgs = self.generate_samples(state, key, input_imgs, steps, step_size)\n",
    "        input_imgs = np.array(input_imgs)\n",
    "        self.examples = list(np.split(input_imgs,\n",
    "                                      indices_or_sections=self.sample_size,\n",
    "                                      axis=0)) + self.examples\n",
    "        self.examples = self.examples[:self.buffer_size]\n",
    "        return input_imgs"
   ]
  },
  {
   "cell_type": "markdown",
   "id": "23a9ee06-de2e-4140-9ad6-aef14e33b8e5",
   "metadata": {},
   "source": [
    "## 5. Setting up EBM `TrainState`"
   ]
  },
  {
   "cell_type": "code",
   "execution_count": 9,
   "id": "ef2e9705-c063-4439-b79e-4a165f8e1e60",
   "metadata": {},
   "outputs": [],
   "source": [
    "@struct.dataclass\n",
    "class TrainMetrics(metrics.Collection):\n",
    "    loss: metrics.Average.from_output(\"loss\")\n",
    "    cdiv_loss: metrics.Average.from_output(\"cdiv_loss\")\n",
    "    reg_loss: metrics.Average.from_output(\"reg_loss\")\n",
    "    real: metrics.Average.from_output(\"real\")\n",
    "    fake: metrics.Average.from_output(\"fake\")\n",
    "\n",
    "@struct.dataclass\n",
    "class ValidMetrics(metrics.Collection):\n",
    "    cdiv_loss: metrics.Average.from_output(\"cdiv_loss\")\n",
    "    real: metrics.Average.from_output(\"real\")\n",
    "    fake: metrics.Average.from_output(\"fake\")\n",
    "\n",
    "\n",
    "# EBM state class inherits flax's TrainState class\n",
    "class EBM_state(train_state.TrainState):\n",
    "    train_metrics: TrainMetrics\n",
    "    valid_metrics: ValidMetrics\n",
    "\n",
    "\n",
    "def create_ebm_state(model, params_key, lr=LEARNING_RATE):\n",
    "    \n",
    "    params = model.init(params_key, jnp.ones((1, IMG_SIZE, IMG_SIZE, CHANNELS)))[\"params\"]\n",
    "    tx = optax.adamw(learning_rate=lr)\n",
    "    \n",
    "    return EBM_state.create(\n",
    "                apply_fn = model.apply,\n",
    "                params=params,\n",
    "                tx=tx,\n",
    "                train_metrics=TrainMetrics.empty(),\n",
    "                valid_metrics=ValidMetrics.empty())"
   ]
  },
  {
   "cell_type": "markdown",
   "id": "a1e194db-cc93-4c7a-a884-aeafc987e366",
   "metadata": {},
   "source": [
    "## 6. Functions for Training, Validation, and Image Generation"
   ]
  },
  {
   "cell_type": "markdown",
   "id": "11befe79-3730-4ed0-aae8-a454f56986b4",
   "metadata": {},
   "source": [
    "- Train"
   ]
  },
  {
   "cell_type": "code",
   "execution_count": 10,
   "id": "6590c06d-0b2c-4a97-86bd-6c8ee0227612",
   "metadata": {},
   "outputs": [],
   "source": [
    "@jax.jit\n",
    "def emb_forward(state, input_imgs):\n",
    "    # loss function\n",
    "    def loss_fn(params, state):\n",
    "        output = state.apply_fn({\"params\":params}, input_imgs)\n",
    "        real_out, fake_out = jnp.split(output, indices_or_sections=2)\n",
    "\n",
    "        reg_loss = ALPHA * (real_out ** 2 + fake_out ** 2).mean()\n",
    "        cdiv_loss = fake_out.mean() - real_out.mean()\n",
    "        loss = reg_loss + cdiv_loss\n",
    "        \n",
    "        metrics_updates = state.train_metrics.single_from_model_output(\n",
    "                                reg_loss = reg_loss,\n",
    "                                cdiv_loss = cdiv_loss,\n",
    "                                loss = loss,\n",
    "                                real = real_out.mean(),\n",
    "                                fake = fake_out.mean())\n",
    "\n",
    "        train_metrics = state.train_metrics.merge(metrics_updates)\n",
    "        state = state.replace(train_metrics=train_metrics)\n",
    "        return loss, state\n",
    "\n",
    "    grad_fn = jax.value_and_grad(loss_fn, has_aux=True)\n",
    "    (loss, state), grads = grad_fn(state.params, state)\n",
    "    \n",
    "    state = state.apply_gradients(grads=grads)\n",
    "    return state\n",
    "\n",
    "\n",
    "# train a single batch\n",
    "def train_step(batch, state):\n",
    "    real_imgs = batch.copy()\n",
    "    noise = np.random.normal(size=real_imgs.shape) * NOISE\n",
    "    real_imgs += noise\n",
    "    real_imgs = real_imgs.clip(min=-1.0, max=1.0)\n",
    "    fake_imgs = buffer.sample_new_exmps(state, STEPS, STEP_SIZE)\n",
    "    input_imgs = np.concatenate([real_imgs, fake_imgs], axis=0)\n",
    "\n",
    "    state = emb_forward(state, input_imgs)\n",
    "    del real_imgs, fake_imgs, input_imgs\n",
    "\n",
    "    return state"
   ]
  },
  {
   "cell_type": "markdown",
   "id": "0064dd43-984d-415c-b180-4ce05ba2d086",
   "metadata": {},
   "source": [
    "- Validation"
   ]
  },
  {
   "cell_type": "code",
   "execution_count": 11,
   "id": "a35ee05e-3e0f-4ae9-9e0f-33e81ebe1c24",
   "metadata": {},
   "outputs": [],
   "source": [
    "def validate(batch, test_state):\n",
    "    real_imgs = batch\n",
    "    fake_imgs = np.random.uniform(low=-1.0, high=1.0, size=real_imgs.shape)\n",
    "    input_imgs = np.concatenate([real_imgs, fake_imgs], axis=0)\n",
    "    output = test_state.apply_fn({\"params\": test_state.params}, input_imgs)\n",
    "    real_out, fake_out = np.split(output, indices_or_sections=2)\n",
    "    cdiv_loss = fake_out.mean() - real_out.mean()\n",
    "\n",
    "    metrics_updates = test_state.valid_metrics.single_from_model_output(\n",
    "                        cdiv_loss=cdiv_loss,\n",
    "                        real = real_out.mean(),\n",
    "                        fake = fake_out.mean())\n",
    "    valid_metrics = test_state.valid_metrics.merge(metrics_updates)\n",
    "    test_state = test_state.replace(valid_metrics=valid_metrics)\n",
    "    return test_state"
   ]
  },
  {
   "cell_type": "markdown",
   "id": "fb93b5ba-3994-4039-b8a4-e2173c633c71",
   "metadata": {},
   "source": [
    "- Generate"
   ]
  },
  {
   "cell_type": "code",
   "execution_count": 12,
   "id": "f37f06ea-18da-4418-a6d5-6b6d1d3e0a94",
   "metadata": {},
   "outputs": [],
   "source": [
    "def show_generative_process(state, rng, num_samples=1, show_process=True, imgs_per_row=3):\n",
    "    start_imgs = np.random.uniform(low=-1.0, \n",
    "                                   high=1.0, \n",
    "                                   size=(num_samples, IMG_SIZE, IMG_SIZE, CHANNELS))\n",
    "    new_imgs = generate_samples(state, rng, start_imgs, 1000, STEP_SIZE, show_process)\n",
    "    new_imgs = np.array(new_imgs)\n",
    "    sequence = (0, 1, 3, 5, 10, 30, 50, 100, 300, 999)\n",
    "\n",
    "    for j in range(num_samples):\n",
    "        plt.figure(figsize=(16, 3))\n",
    "        for i in range(len(sequence)):\n",
    "            ax = plt.subplot(1, len(sequence), i+1)\n",
    "            img = np.clip(new_imgs[sequence[i], j], a_min=-1.0, a_max=1.0)\n",
    "            ax.imshow(img, cmap=\"gray\")\n",
    "            ax.axis(\"off\")\n",
    "            ax.set_title(sequence[i])\n",
    "        plt.show()"
   ]
  },
  {
   "cell_type": "markdown",
   "id": "0c0ee5d2-106a-4f3c-86db-0b4aa131fe27",
   "metadata": {},
   "source": [
    "## 7. Train EBM"
   ]
  },
  {
   "cell_type": "code",
   "execution_count": 13,
   "id": "bdae7920-7e92-481b-93fd-fd3dadf333e9",
   "metadata": {},
   "outputs": [],
   "source": [
    "energy_model = Energy()\n",
    "buffer = Buffer()\n",
    "rng = jax.random.PRNGKey(0)\n",
    "ebm_state = create_ebm_state(energy_model, rng)\n",
    "train_ds, test_ds = get_dataset()\n",
    "\n",
    "# for metrics\n",
    "train_batch_num = int(train_ds.cardinality())\n",
    "test_batch_num = int(test_ds.cardinality())\n",
    "train_history = collections.defaultdict(list)\n",
    "valid_history = collections.defaultdict(list)"
   ]
  },
  {
   "cell_type": "code",
   "execution_count": 14,
   "id": "29b024c8-d9b5-4fab-bd04-1a8f7c3c9b4f",
   "metadata": {},
   "outputs": [
    {
     "name": "stdout",
     "output_type": "stream",
     "text": [
      "Epoch:  60\n"
     ]
    },
    {
     "data": {
      "image/png": "[encoded data removed]",
      "text/plain": [
       "<Figure size 1600x300 with 5 Axes>"
      ]
     },
     "metadata": {},
     "output_type": "display_data"
    },
    {
     "data": {
      "image/png": "[encoded data removed]",
      "text/plain": [
       "<Figure size 1600x300 with 10 Axes>"
      ]
     },
     "metadata": {},
     "output_type": "display_data"
    }
   ],
   "source": [
    "for epoch in range(EPOCHS):\n",
    "\n",
    "    for batch in tqdm(train_ds.as_numpy_iterator(), total=train_batch_num):\n",
    "        ebm_state = train_step(batch, ebm_state)\n",
    "\n",
    "    test_state = ebm_state\n",
    "    for batch in tqdm(test_ds.as_numpy_iterator(), total=test_batch_num):\n",
    "        test_state = validate(batch, test_state)\n",
    "\n",
    "    \n",
    "    print(\"\\nEpoch: \", epoch + 1)\n",
    "    for metric, value in ebm_state.train_metrics.compute().items():\n",
    "        train_history[metric].append(value)\n",
    "    for metric, value in test_state.valid_metrics.compute().items():\n",
    "        valid_history[metric].append(value)\n",
    "\n",
    "    ebm_state = ebm_state.replace(train_metrics=ebm_state.train_metrics.empty(),\n",
    "                                  valid_metrics=ebm_state.valid_metrics.empty())\n",
    "\n",
    "    # visualization\n",
    "    display.clear_output(wait=True)\n",
    "    \n",
    "    print(\"Epoch: \", epoch + 1)\n",
    "    # visualize metrics\n",
    "    plt.figure(figsize=(16, 3))\n",
    "    for i, key in enumerate(train_history):\n",
    "        ax = plt.subplot(1, len(train_history), i + 1)\n",
    "        ax.plot(train_history[key], c=\"tomato\")\n",
    "        if key in valid_history:\n",
    "            ax.plot(valid_history[key], c=\"steelblue\")\n",
    "        ax.set_title(key)\n",
    "    plt.show()\n",
    "    \n",
    "    show_generative_process(ebm_state, rng, 1)"
   ]
  },
  {
   "cell_type": "code",
   "execution_count": null,
   "id": "5df062bb-87e8-44e6-9c75-c7fc5ef5260d",
   "metadata": {},
   "outputs": [],
   "source": []
  },
  {
   "cell_type": "code",
   "execution_count": null,
   "id": "c85a4009-f18d-4d3f-bc2d-9d8a9870476a",
   "metadata": {},
   "outputs": [],
   "source": []
  }
 ],
 "metadata": {
  "kernelspec": {
   "display_name": "Python 3 (ipykernel)",
   "language": "python",
   "name": "python3"
  },
  "language_info": {
   "codemirror_mode": {
    "name": "ipython",
    "version": 3
   },
   "file_extension": ".py",
   "mimetype": "text/x-python",
   "name": "python",
   "nbconvert_exporter": "python",
   "pygments_lexer": "ipython3",
   "version": "3.9.18"
  }
 },
 "nbformat": 4,
 "nbformat_minor": 5
}
