{
 "cells": [
  {
   "cell_type": "markdown",
   "id": "149f4744-522c-4514-ac6d-0a71f94920ce",
   "metadata": {},
   "source": [
    "# Energy-based Model (In-progress)\n",
    "\n",
    "**The notebook has been adapted from the notebook provided in David Foster's Generative Deep Learning, 2nd Edition.**\n",
    "- Book: [Amazon](https://www.amazon.com/Generative-Deep-Learning-Teaching-Machines/dp/1098134184?keywords=generative+deep+learning,+2nd+edition&qid=1684708209&sprefix=generative+de,aps,93&sr=8-1)\n",
    "- Original notebook (tensorflow and keras): [Github](https://github.com/davidADSP/Generative_Deep_Learning_2nd_Edition/blob/main/notebooks/07_ebm/01_ebm/ebm.ipynb)"
   ]
  },
  {
   "cell_type": "code",
   "execution_count": 1,
   "id": "ced0082a-7774-49f8-95f9-637820666b00",
   "metadata": {},
   "outputs": [],
   "source": [
    "import os\n",
    "os.environ['TF_CPP_MIN_LOG_LEVEL'] = '3' \n",
    "\n",
    "import random\n",
    "import collections\n",
    "from typing import Any\n",
    "from IPython import display\n",
    "from tqdm.notebook import tqdm\n",
    "import numpy as np\n",
    "\n",
    "import tensorflow as tf\n",
    "from tensorflow.keras import datasets\n",
    "\n",
    "from functools import partial\n",
    "\n",
    "import jax\n",
    "from jax import numpy as jnp\n",
    "from flax import struct\n",
    "import flax.linen as nn\n",
    "from flax.training import train_state\n",
    "\n",
    "import optax\n",
    "from clu import metrics\n",
    "\n",
    "from matplotlib import pyplot as plt"
   ]
  },
  {
   "cell_type": "markdown",
   "id": "deb16883-163f-446e-bca6-3f45e997b83d",
   "metadata": {},
   "source": [
    "## 0. Training Parameter"
   ]
  },
  {
   "cell_type": "code",
   "execution_count": 2,
   "id": "10a8204c-1726-4682-8ba6-d91a170f8e3d",
   "metadata": {},
   "outputs": [],
   "source": [
    "IMG_SIZE = 32\n",
    "CHANNELS = 1\n",
    "STEP_SIZE = 10\n",
    "STEPS = 60\n",
    "NOISE = 5e-3\n",
    "ALPHA = 0.1\n",
    "GRADIENT_CLIP = 3e-2\n",
    "BATCH_SIZE = 128\n",
    "BUFFER_SIZE = 8192\n",
    "LEARNING_RATE = 1e-4\n",
    "EPOCHS = 60\n",
    "\n",
    "# kwargs for model's tabulate function\n",
    "console_kwargs = {\"width\": 100, \n",
    "                  \"force_terminal\": False, \n",
    "                  \"force_jupyter\": True,\n",
    "                  \"soft_wrap\": True}"
   ]
  },
  {
   "cell_type": "markdown",
   "id": "fbea2d35-ae4f-4817-bc07-e198b607c86f",
   "metadata": {},
   "source": [
    "## 1. Preparing MNIST Dataset"
   ]
  },
  {
   "cell_type": "code",
   "execution_count": 3,
   "id": "216cd17b-af5b-41d7-859e-b3aef1f39370",
   "metadata": {},
   "outputs": [],
   "source": [
    "def preprocess(imgs):\n",
    "    imgs = (imgs.astype(\"float32\") - 127.5) / 127.5\n",
    "    imgs = np.pad(imgs, ((0, 0), (2, 2), (2, 2)), constant_values = -1.0)\n",
    "    imgs = np.expand_dims(imgs, axis=-1)\n",
    "    return imgs\n",
    "\n",
    "def get_dataset():\n",
    "    (train_ds, _), (test_ds, _) = datasets.mnist.load_data()\n",
    "    train_ds = preprocess(train_ds)\n",
    "    test_ds = preprocess(test_ds)\n",
    "\n",
    "    train_ds = tf.data.Dataset.from_tensor_slices(train_ds).shuffle(1024).batch(BATCH_SIZE)\n",
    "    test_ds = tf.data.Dataset.from_tensor_slices(test_ds).batch(BATCH_SIZE)\n",
    "\n",
    "    return train_ds, test_ds"
   ]
  },
  {
   "cell_type": "code",
   "execution_count": 4,
   "id": "8c3dbcbf-b639-42ca-a0dc-5ce6bad04e7a",
   "metadata": {},
   "outputs": [
    {
     "name": "stdout",
     "output_type": "stream",
     "text": [
      "(128, 32, 32, 1)\n"
     ]
    }
   ],
   "source": [
    "sample_ds, _ = get_dataset()\n",
    "sample_batch = next(sample_ds.as_numpy_iterator())\n",
    "print(sample_batch.shape)"
   ]
  },
  {
   "cell_type": "markdown",
   "id": "d2e15d65-f22b-4fa1-bc5f-66fb8bfd9dce",
   "metadata": {},
   "source": [
    "## 2. Build Energy Function $E(x)$"
   ]
  },
  {
   "cell_type": "code",
   "execution_count": 5,
   "id": "6eafdb53-446d-4b65-88f4-dc13d18283fb",
   "metadata": {},
   "outputs": [],
   "source": [
    "class Energy(nn.Module):\n",
    "\n",
    "    num_conv_layers:int = 4\n",
    "    # Flax module does not acceptable mutable properties\n",
    "    channels:tuple = tuple([16, 32, 64, 64])\n",
    "    kernels:tuple = tuple([5, 3, 3, 3])\n",
    "\n",
    "    def setup(self):\n",
    "        layers = []\n",
    "        for i in range(self.num_conv_layers):\n",
    "            layers.append(nn.Conv(features=self.channels[i],\n",
    "                                  kernel_size=(self.kernels[i], self.kernels[i]),\n",
    "                                  strides=2,\n",
    "                                  padding=\"same\"))\n",
    "            layers.append(nn.activation.swish)\n",
    "        \n",
    "        self.conv_layers = nn.Sequential(layers)\n",
    "        self.liner_layers = nn.Sequential([nn.Dense(64),\n",
    "                                           nn.activation.swish,\n",
    "                                           nn.Dense(1)])\n",
    "        \n",
    "\n",
    "    def __call__(self, x):\n",
    "        x = self.conv_layers(x)\n",
    "        x = x.reshape(x.shape[0], -1)\n",
    "        return self.liner_layers(x)"
   ]
  },
  {
   "cell_type": "code",
   "execution_count": 6,
   "id": "54df992f-787a-420d-9de8-d0308917bf21",
   "metadata": {},
   "outputs": [
    {
     "data": {
      "text/html": [
       "<pre style=\"white-space:pre;overflow-x:auto;line-height:normal;font-family:Menlo,'DejaVu Sans Mono',consolas,'Courier New',monospace\"><span style=\"font-style: italic\">                                           Energy Summary                                           </span>\n",
       "┏━━━━━━━━━━━━━━━━━━━━━┳━━━━━━━━━━━━┳━━━━━━━━━━━━━━━━━━━━┳━━━━━━━━━━━━━━━━━━━━━┳━━━━━━━━━━━━━━━━━━━━┓\n",
       "┃<span style=\"font-weight: bold\"> path                </span>┃<span style=\"font-weight: bold\"> module     </span>┃<span style=\"font-weight: bold\"> inputs             </span>┃<span style=\"font-weight: bold\"> outputs             </span>┃<span style=\"font-weight: bold\"> params             </span>┃\n",
       "┡━━━━━━━━━━━━━━━━━━━━━╇━━━━━━━━━━━━╇━━━━━━━━━━━━━━━━━━━━╇━━━━━━━━━━━━━━━━━━━━━╇━━━━━━━━━━━━━━━━━━━━┩\n",
       "│                     │ Energy     │ <span style=\"color: #7f7f7f; text-decoration-color: #7f7f7f\">float32</span>[1,32,32,1] │ <span style=\"color: #7f7f7f; text-decoration-color: #7f7f7f\">float32</span>[1,1]        │                    │\n",
       "├─────────────────────┼────────────┼────────────────────┼─────────────────────┼────────────────────┤\n",
       "│ conv_layers         │ Sequential │ <span style=\"color: #7f7f7f; text-decoration-color: #7f7f7f\">float32</span>[1,32,32,1] │ <span style=\"color: #7f7f7f; text-decoration-color: #7f7f7f\">float32</span>[1,2,2,64]   │                    │\n",
       "├─────────────────────┼────────────┼────────────────────┼─────────────────────┼────────────────────┤\n",
       "│ conv_layers/layers… │ Conv       │ <span style=\"color: #7f7f7f; text-decoration-color: #7f7f7f\">float32</span>[1,32,32,1] │ <span style=\"color: #7f7f7f; text-decoration-color: #7f7f7f\">float32</span>[1,16,16,16] │ bias: <span style=\"color: #7f7f7f; text-decoration-color: #7f7f7f\">float32</span>[16]  │\n",
       "│                     │            │                    │                     │ kernel:            │\n",
       "│                     │            │                    │                     │ <span style=\"color: #7f7f7f; text-decoration-color: #7f7f7f\">float32</span>[5,5,1,16]  │\n",
       "│                     │            │                    │                     │                    │\n",
       "│                     │            │                    │                     │ <span style=\"font-weight: bold\">416 </span><span style=\"color: #7f7f7f; text-decoration-color: #7f7f7f; font-weight: bold\">(1.7 KB)</span>       │\n",
       "├─────────────────────┼────────────┼────────────────────┼─────────────────────┼────────────────────┤\n",
       "│ conv_layers/layers… │ Conv       │ <span style=\"color: #7f7f7f; text-decoration-color: #7f7f7f\">float32</span>[1,16,16,1… │ <span style=\"color: #7f7f7f; text-decoration-color: #7f7f7f\">float32</span>[1,8,8,32]   │ bias: <span style=\"color: #7f7f7f; text-decoration-color: #7f7f7f\">float32</span>[32]  │\n",
       "│                     │            │                    │                     │ kernel:            │\n",
       "│                     │            │                    │                     │ <span style=\"color: #7f7f7f; text-decoration-color: #7f7f7f\">float32</span>[3,3,16,32] │\n",
       "│                     │            │                    │                     │                    │\n",
       "│                     │            │                    │                     │ <span style=\"font-weight: bold\">4,640 </span><span style=\"color: #7f7f7f; text-decoration-color: #7f7f7f; font-weight: bold\">(18.6 KB)</span>    │\n",
       "├─────────────────────┼────────────┼────────────────────┼─────────────────────┼────────────────────┤\n",
       "│ conv_layers/layers… │ Conv       │ <span style=\"color: #7f7f7f; text-decoration-color: #7f7f7f\">float32</span>[1,8,8,32]  │ <span style=\"color: #7f7f7f; text-decoration-color: #7f7f7f\">float32</span>[1,4,4,64]   │ bias: <span style=\"color: #7f7f7f; text-decoration-color: #7f7f7f\">float32</span>[64]  │\n",
       "│                     │            │                    │                     │ kernel:            │\n",
       "│                     │            │                    │                     │ <span style=\"color: #7f7f7f; text-decoration-color: #7f7f7f\">float32</span>[3,3,32,64] │\n",
       "│                     │            │                    │                     │                    │\n",
       "│                     │            │                    │                     │ <span style=\"font-weight: bold\">18,496 </span><span style=\"color: #7f7f7f; text-decoration-color: #7f7f7f; font-weight: bold\">(74.0 KB)</span>   │\n",
       "├─────────────────────┼────────────┼────────────────────┼─────────────────────┼────────────────────┤\n",
       "│ conv_layers/layers… │ Conv       │ <span style=\"color: #7f7f7f; text-decoration-color: #7f7f7f\">float32</span>[1,4,4,64]  │ <span style=\"color: #7f7f7f; text-decoration-color: #7f7f7f\">float32</span>[1,2,2,64]   │ bias: <span style=\"color: #7f7f7f; text-decoration-color: #7f7f7f\">float32</span>[64]  │\n",
       "│                     │            │                    │                     │ kernel:            │\n",
       "│                     │            │                    │                     │ <span style=\"color: #7f7f7f; text-decoration-color: #7f7f7f\">float32</span>[3,3,64,64] │\n",
       "│                     │            │                    │                     │                    │\n",
       "│                     │            │                    │                     │ <span style=\"font-weight: bold\">36,928 </span><span style=\"color: #7f7f7f; text-decoration-color: #7f7f7f; font-weight: bold\">(147.7 KB)</span>  │\n",
       "├─────────────────────┼────────────┼────────────────────┼─────────────────────┼────────────────────┤\n",
       "│ liner_layers        │ Sequential │ <span style=\"color: #7f7f7f; text-decoration-color: #7f7f7f\">float32</span>[1,256]     │ <span style=\"color: #7f7f7f; text-decoration-color: #7f7f7f\">float32</span>[1,1]        │                    │\n",
       "├─────────────────────┼────────────┼────────────────────┼─────────────────────┼────────────────────┤\n",
       "│ liner_layers/layer… │ Dense      │ <span style=\"color: #7f7f7f; text-decoration-color: #7f7f7f\">float32</span>[1,256]     │ <span style=\"color: #7f7f7f; text-decoration-color: #7f7f7f\">float32</span>[1,64]       │ bias: <span style=\"color: #7f7f7f; text-decoration-color: #7f7f7f\">float32</span>[64]  │\n",
       "│                     │            │                    │                     │ kernel:            │\n",
       "│                     │            │                    │                     │ <span style=\"color: #7f7f7f; text-decoration-color: #7f7f7f\">float32</span>[256,64]    │\n",
       "│                     │            │                    │                     │                    │\n",
       "│                     │            │                    │                     │ <span style=\"font-weight: bold\">16,448 </span><span style=\"color: #7f7f7f; text-decoration-color: #7f7f7f; font-weight: bold\">(65.8 KB)</span>   │\n",
       "├─────────────────────┼────────────┼────────────────────┼─────────────────────┼────────────────────┤\n",
       "│ liner_layers/layer… │ Dense      │ <span style=\"color: #7f7f7f; text-decoration-color: #7f7f7f\">float32</span>[1,64]      │ <span style=\"color: #7f7f7f; text-decoration-color: #7f7f7f\">float32</span>[1,1]        │ bias: <span style=\"color: #7f7f7f; text-decoration-color: #7f7f7f\">float32</span>[1]   │\n",
       "│                     │            │                    │                     │ kernel:            │\n",
       "│                     │            │                    │                     │ <span style=\"color: #7f7f7f; text-decoration-color: #7f7f7f\">float32</span>[64,1]      │\n",
       "│                     │            │                    │                     │                    │\n",
       "│                     │            │                    │                     │ <span style=\"font-weight: bold\">65 </span><span style=\"color: #7f7f7f; text-decoration-color: #7f7f7f; font-weight: bold\">(260 B)</span>         │\n",
       "├─────────────────────┼────────────┼────────────────────┼─────────────────────┼────────────────────┤\n",
       "│<span style=\"font-weight: bold\">                     </span>│<span style=\"font-weight: bold\">            </span>│<span style=\"font-weight: bold\">                    </span>│<span style=\"font-weight: bold\">               Total </span>│<span style=\"font-weight: bold\"> 76,993 </span><span style=\"color: #7f7f7f; text-decoration-color: #7f7f7f; font-weight: bold\">(308.0 KB)</span><span style=\"font-weight: bold\">  </span>│\n",
       "└─────────────────────┴────────────┴────────────────────┴─────────────────────┴────────────────────┘\n",
       "<span style=\"font-weight: bold\">                                                                                                    </span>\n",
       "<span style=\"font-weight: bold\">                                Total Parameters: 76,993 </span><span style=\"color: #7f7f7f; text-decoration-color: #7f7f7f; font-weight: bold\">(308.0 KB)</span><span style=\"font-weight: bold\">                                 </span>\n",
       "</pre>\n"
      ],
      "text/plain": [
       "\u001b[3m                                           Energy Summary                                           \u001b[0m\n",
       "┏━━━━━━━━━━━━━━━━━━━━━┳━━━━━━━━━━━━┳━━━━━━━━━━━━━━━━━━━━┳━━━━━━━━━━━━━━━━━━━━━┳━━━━━━━━━━━━━━━━━━━━┓\n",
       "┃\u001b[1m \u001b[0m\u001b[1mpath               \u001b[0m\u001b[1m \u001b[0m┃\u001b[1m \u001b[0m\u001b[1mmodule    \u001b[0m\u001b[1m \u001b[0m┃\u001b[1m \u001b[0m\u001b[1minputs            \u001b[0m\u001b[1m \u001b[0m┃\u001b[1m \u001b[0m\u001b[1moutputs            \u001b[0m\u001b[1m \u001b[0m┃\u001b[1m \u001b[0m\u001b[1mparams            \u001b[0m\u001b[1m \u001b[0m┃\n",
       "┡━━━━━━━━━━━━━━━━━━━━━╇━━━━━━━━━━━━╇━━━━━━━━━━━━━━━━━━━━╇━━━━━━━━━━━━━━━━━━━━━╇━━━━━━━━━━━━━━━━━━━━┩\n",
       "│                     │ Energy     │ \u001b[2mfloat32\u001b[0m[1,32,32,1] │ \u001b[2mfloat32\u001b[0m[1,1]        │                    │\n",
       "├─────────────────────┼────────────┼────────────────────┼─────────────────────┼────────────────────┤\n",
       "│ conv_layers         │ Sequential │ \u001b[2mfloat32\u001b[0m[1,32,32,1] │ \u001b[2mfloat32\u001b[0m[1,2,2,64]   │                    │\n",
       "├─────────────────────┼────────────┼────────────────────┼─────────────────────┼────────────────────┤\n",
       "│ conv_layers/layers… │ Conv       │ \u001b[2mfloat32\u001b[0m[1,32,32,1] │ \u001b[2mfloat32\u001b[0m[1,16,16,16] │ bias: \u001b[2mfloat32\u001b[0m[16]  │\n",
       "│                     │            │                    │                     │ kernel:            │\n",
       "│                     │            │                    │                     │ \u001b[2mfloat32\u001b[0m[5,5,1,16]  │\n",
       "│                     │            │                    │                     │                    │\n",
       "│                     │            │                    │                     │ \u001b[1m416 \u001b[0m\u001b[1;2m(1.7 KB)\u001b[0m       │\n",
       "├─────────────────────┼────────────┼────────────────────┼─────────────────────┼────────────────────┤\n",
       "│ conv_layers/layers… │ Conv       │ \u001b[2mfloat32\u001b[0m[1,16,16,1… │ \u001b[2mfloat32\u001b[0m[1,8,8,32]   │ bias: \u001b[2mfloat32\u001b[0m[32]  │\n",
       "│                     │            │                    │                     │ kernel:            │\n",
       "│                     │            │                    │                     │ \u001b[2mfloat32\u001b[0m[3,3,16,32] │\n",
       "│                     │            │                    │                     │                    │\n",
       "│                     │            │                    │                     │ \u001b[1m4,640 \u001b[0m\u001b[1;2m(18.6 KB)\u001b[0m    │\n",
       "├─────────────────────┼────────────┼────────────────────┼─────────────────────┼────────────────────┤\n",
       "│ conv_layers/layers… │ Conv       │ \u001b[2mfloat32\u001b[0m[1,8,8,32]  │ \u001b[2mfloat32\u001b[0m[1,4,4,64]   │ bias: \u001b[2mfloat32\u001b[0m[64]  │\n",
       "│                     │            │                    │                     │ kernel:            │\n",
       "│                     │            │                    │                     │ \u001b[2mfloat32\u001b[0m[3,3,32,64] │\n",
       "│                     │            │                    │                     │                    │\n",
       "│                     │            │                    │                     │ \u001b[1m18,496 \u001b[0m\u001b[1;2m(74.0 KB)\u001b[0m   │\n",
       "├─────────────────────┼────────────┼────────────────────┼─────────────────────┼────────────────────┤\n",
       "│ conv_layers/layers… │ Conv       │ \u001b[2mfloat32\u001b[0m[1,4,4,64]  │ \u001b[2mfloat32\u001b[0m[1,2,2,64]   │ bias: \u001b[2mfloat32\u001b[0m[64]  │\n",
       "│                     │            │                    │                     │ kernel:            │\n",
       "│                     │            │                    │                     │ \u001b[2mfloat32\u001b[0m[3,3,64,64] │\n",
       "│                     │            │                    │                     │                    │\n",
       "│                     │            │                    │                     │ \u001b[1m36,928 \u001b[0m\u001b[1;2m(147.7 KB)\u001b[0m  │\n",
       "├─────────────────────┼────────────┼────────────────────┼─────────────────────┼────────────────────┤\n",
       "│ liner_layers        │ Sequential │ \u001b[2mfloat32\u001b[0m[1,256]     │ \u001b[2mfloat32\u001b[0m[1,1]        │                    │\n",
       "├─────────────────────┼────────────┼────────────────────┼─────────────────────┼────────────────────┤\n",
       "│ liner_layers/layer… │ Dense      │ \u001b[2mfloat32\u001b[0m[1,256]     │ \u001b[2mfloat32\u001b[0m[1,64]       │ bias: \u001b[2mfloat32\u001b[0m[64]  │\n",
       "│                     │            │                    │                     │ kernel:            │\n",
       "│                     │            │                    │                     │ \u001b[2mfloat32\u001b[0m[256,64]    │\n",
       "│                     │            │                    │                     │                    │\n",
       "│                     │            │                    │                     │ \u001b[1m16,448 \u001b[0m\u001b[1;2m(65.8 KB)\u001b[0m   │\n",
       "├─────────────────────┼────────────┼────────────────────┼─────────────────────┼────────────────────┤\n",
       "│ liner_layers/layer… │ Dense      │ \u001b[2mfloat32\u001b[0m[1,64]      │ \u001b[2mfloat32\u001b[0m[1,1]        │ bias: \u001b[2mfloat32\u001b[0m[1]   │\n",
       "│                     │            │                    │                     │ kernel:            │\n",
       "│                     │            │                    │                     │ \u001b[2mfloat32\u001b[0m[64,1]      │\n",
       "│                     │            │                    │                     │                    │\n",
       "│                     │            │                    │                     │ \u001b[1m65 \u001b[0m\u001b[1;2m(260 B)\u001b[0m         │\n",
       "├─────────────────────┼────────────┼────────────────────┼─────────────────────┼────────────────────┤\n",
       "│\u001b[1m \u001b[0m\u001b[1m                   \u001b[0m\u001b[1m \u001b[0m│\u001b[1m \u001b[0m\u001b[1m          \u001b[0m\u001b[1m \u001b[0m│\u001b[1m \u001b[0m\u001b[1m                  \u001b[0m\u001b[1m \u001b[0m│\u001b[1m \u001b[0m\u001b[1m              Total\u001b[0m\u001b[1m \u001b[0m│\u001b[1m \u001b[0m\u001b[1m76,993 \u001b[0m\u001b[1;2m(308.0 KB)\u001b[0m\u001b[1m \u001b[0m\u001b[1m \u001b[0m│\n",
       "└─────────────────────┴────────────┴────────────────────┴─────────────────────┴────────────────────┘\n",
       "\u001b[1m                                                                                                    \u001b[0m\n",
       "\u001b[1m                                Total Parameters: 76,993 \u001b[0m\u001b[1;2m(308.0 KB)\u001b[0m\u001b[1m                                 \u001b[0m\n"
      ]
     },
     "metadata": {},
     "output_type": "display_data"
    },
    {
     "name": "stdout",
     "output_type": "stream",
     "text": [
      "\n",
      "\n",
      "\n"
     ]
    }
   ],
   "source": [
    "print(Energy().tabulate(jax.random.PRNGKey(0), jnp.ones((1, 32, 32, 1)), console_kwargs=console_kwargs))"
   ]
  },
  {
   "cell_type": "markdown",
   "id": "231af8ba-3bd9-4afc-a058-33236345d69d",
   "metadata": {},
   "source": [
    "## 3. Setting Up Langevin Sampler"
   ]
  },
  {
   "cell_type": "code",
   "execution_count": 7,
   "id": "9437d4a3-01e9-4525-a0be-8d722df44e42",
   "metadata": {},
   "outputs": [],
   "source": [
    "@jax.jit\n",
    "def take_step(state, input_imgs, rng):\n",
    "    \n",
    "    @jax.grad\n",
    "    def grad_fn(input_imgs):\n",
    "        return state.apply_fn({\"params\": state.params},\n",
    "                              input_imgs).sum()\n",
    "        \n",
    "    # step 1, add noise to the input image\n",
    "    key, rng = jax.random.split(rng, 2)\n",
    "    noise = jax.random.normal(key, shape=input_imgs.shape) * NOISE\n",
    "    input_imgs += noise\n",
    "    input_imgs = jnp.clip(input_imgs, a_min=-1.0, a_max=1.0)\n",
    "\n",
    "    # step 2, get gradients for the current input\n",
    "    grads = grad_fn(input_imgs)\n",
    "    grads = jnp.clip(grads, a_min=-GRADIENT_CLIP, a_max=GRADIENT_CLIP)\n",
    "\n",
    "    # step 3, apply gradients to the current input\n",
    "    input_imgs += STEP_SIZE * grads + noise\n",
    "    input_imgs = jnp.clip(input_imgs, a_min=-1.0, a_max=1.0)\n",
    "    return input_imgs, rng\n",
    "    \n",
    "\n",
    "\n",
    "def generate_samples(state, rng, input_imgs, steps, step_size, return_img_per_step=False):\n",
    "\n",
    "    # @jax.grad\n",
    "    # def grad_fn(input_imgs):\n",
    "    #     return state.apply_fn({\"params\": state.params},\n",
    "    #                           input_imgs).sum()\n",
    "\n",
    "    # for jit compiling purpose, we don't init the imgs_per_step array \n",
    "    # if not returning the generating sequence\n",
    "    if return_img_per_step:\n",
    "        imgs_per_step = []\n",
    "    \n",
    "    for _ in range(steps):\n",
    "        # # step 1, add noise to the input image\n",
    "        # key, rng = jax.random.split(rng, 2)\n",
    "        # noise = jax.random.normal(key, shape=input_imgs.shape)\n",
    "        # input_imgs += noise\n",
    "        # input_imgs = jnp.clip(input_imgs, a_min=-1.0, a_max=1.0)\n",
    "\n",
    "        # # step 2, get gradients for the current input\n",
    "        # grads = grad_fn(input_imgs)\n",
    "        # grads = jnp.clip(grads, a_min=-GRADIENT_CLIP, a_max=GRADIENT_CLIP)\n",
    "\n",
    "        # # step 3, apply gradients to the current input\n",
    "        # input_imgs += grads\n",
    "        # input_imgs = jnp.clip(input_imgs, a_min=-1.0, a_max=1.0)\n",
    "        input_imgs, rng = take_step(state, input_imgs, rng)\n",
    "\n",
    "        if return_img_per_step:\n",
    "            imgs_per_step.append(np.array(input_imgs))\n",
    "\n",
    "    if return_img_per_step:\n",
    "        return np.stack(imgs_per_step, axis=0)\n",
    "    else:\n",
    "        return input_imgs"
   ]
  },
  {
   "cell_type": "markdown",
   "id": "01e05563-fba4-4e57-9129-1f9cd0cbebd7",
   "metadata": {},
   "source": [
    "## 4. Setting up Buffer to Store Examples"
   ]
  },
  {
   "cell_type": "code",
   "execution_count": 8,
   "id": "414edf45-54d8-4cfb-a1ce-cf5c2776b591",
   "metadata": {},
   "outputs": [],
   "source": [
    "class Buffer:\n",
    "\n",
    "    sample_size:int = BATCH_SIZE\n",
    "    channels:int = CHANNELS\n",
    "    img_size:int = IMG_SIZE\n",
    "    buffer_size:int = BUFFER_SIZE\n",
    "    rng:Any = jax.random.PRNGKey(0)\n",
    "\n",
    "    def __init__(self):\n",
    "        self.examples = []\n",
    "        for _ in range(self.sample_size):\n",
    "            self.examples.append(\n",
    "                np.random.uniform(low=-1.0, high=1.0, size=(1, self.img_size, self.img_size, self.channels))\n",
    "            )\n",
    "        self.generate_samples = jax.jit(generate_samples, static_argnums=(3, 4, 5))\n",
    "\n",
    "    def sample_new_exmps(self, state, steps, step_size):\n",
    "        n_new = np.random.binomial(self.sample_size, 0.05)\n",
    "        rand_imgs = np.random.uniform(low=-1.0, \n",
    "                                      high=1.0, \n",
    "                                      size=(n_new, self.img_size, self.img_size, self.channels))\n",
    "        old_imgs = np.concatenate(random.choices(self.examples, k=self.sample_size-n_new), axis=0)\n",
    "        input_imgs = np.concatenate([rand_imgs, old_imgs], axis=0)\n",
    "\n",
    "        input_imgs = self.generate_samples(state, self.rng, input_imgs, steps, step_size)\n",
    "        input_imgs = np.array(input_imgs)\n",
    "        self.examples = np.split(input_imgs, \n",
    "                                 indices_or_sections=self.sample_size,\n",
    "                                 axis=0) + self.examples\n",
    "        self.examples = self.examples[:self.buffer_size]\n",
    "        return input_imgs"
   ]
  },
  {
   "cell_type": "markdown",
   "id": "23a9ee06-de2e-4140-9ad6-aef14e33b8e5",
   "metadata": {},
   "source": [
    "## 5. Setting up EBM `TrainState`"
   ]
  },
  {
   "cell_type": "code",
   "execution_count": 9,
   "id": "ef2e9705-c063-4439-b79e-4a165f8e1e60",
   "metadata": {},
   "outputs": [],
   "source": [
    "@struct.dataclass\n",
    "class TrainMetrics(metrics.Collection):\n",
    "    loss: metrics.Average.from_output(\"loss\")\n",
    "    cdiv_loss: metrics.Average.from_output(\"cdiv_loss\")\n",
    "    reg_loss: metrics.Average.from_output(\"reg_loss\")\n",
    "    real: metrics.Average.from_output(\"real\")\n",
    "    fake: metrics.Average.from_output(\"fake\")\n",
    "\n",
    "@struct.dataclass\n",
    "class ValidMetrics(metrics.Collection):\n",
    "    cdiv_loss: metrics.Average.from_output(\"cdiv_loss\")\n",
    "    real: metrics.Average.from_output(\"real\")\n",
    "    fake: metrics.Average.from_output(\"fake\")\n",
    "\n",
    "\n",
    "# EBM state class inherits flax's TrainState class\n",
    "class EBM_state(train_state.TrainState):\n",
    "    train_metrics: TrainMetrics\n",
    "    valid_metrics: ValidMetrics\n",
    "\n",
    "\n",
    "def create_ebm_state(model, params_key, lr=LEARNING_RATE):\n",
    "\n",
    "    params = model.init(params_key, jnp.ones((1, IMG_SIZE, IMG_SIZE, CHANNELS)))[\"params\"]\n",
    "    tx = optax.adam(learning_rate=lr)\n",
    "\n",
    "    return EBM_state.create(\n",
    "                apply_fn = model.apply,\n",
    "                params=params,\n",
    "                tx=tx,\n",
    "                train_metrics=TrainMetrics.empty(),\n",
    "                valid_metrics=ValidMetrics.empty())"
   ]
  },
  {
   "cell_type": "markdown",
   "id": "a1e194db-cc93-4c7a-a884-aeafc987e366",
   "metadata": {},
   "source": [
    "## 6. Functions for Training, Validation, and Image Generation"
   ]
  },
  {
   "cell_type": "markdown",
   "id": "11befe79-3730-4ed0-aae8-a454f56986b4",
   "metadata": {},
   "source": [
    "- Train"
   ]
  },
  {
   "cell_type": "code",
   "execution_count": 10,
   "id": "6590c06d-0b2c-4a97-86bd-6c8ee0227612",
   "metadata": {},
   "outputs": [],
   "source": [
    "@jax.jit\n",
    "def emb_forward(state, input_imgs):\n",
    "    # loss function\n",
    "    def loss_fn(params, state):\n",
    "        output = state.apply_fn({\"params\":params}, input_imgs)\n",
    "        real_out, fake_out = jnp.split(output, indices_or_sections=2)\n",
    "\n",
    "        reg_loss = ALPHA * (real_out ** 2 + fake_out ** 2).mean()\n",
    "        cdiv_loss = fake_out.mean() - real_out.mean()\n",
    "        loss = reg_loss + cdiv_loss\n",
    "        \n",
    "        metrics_updates = state.train_metrics.single_from_model_output(\n",
    "                                reg_loss = reg_loss,\n",
    "                                cdiv_loss = cdiv_loss,\n",
    "                                loss = loss,\n",
    "                                real = real_out.mean(),\n",
    "                                fake = fake_out.mean())\n",
    "\n",
    "        train_metrics = state.train_metrics.merge(metrics_updates)\n",
    "        state = state.replace(train_metrics=train_metrics)\n",
    "        return loss, state\n",
    "\n",
    "    grad_fn = jax.value_and_grad(loss_fn, has_aux=True)\n",
    "    (loss, state), grads = grad_fn(state.params, state)\n",
    "    state = state.apply_gradients(grads=grads)\n",
    "    return state\n",
    "\n",
    "\n",
    "# train a single batch\n",
    "def train_step(batch, state):\n",
    "    real_imgs = batch.copy()\n",
    "    noise = np.random.normal(size=real_imgs.shape) * NOISE\n",
    "    real_imgs += noise\n",
    "    real_imgs = real_imgs.clip(min=-1.0, max=1.0)\n",
    "    fake_imgs = buffer.sample_new_exmps(state, STEPS, STEP_SIZE)\n",
    "    input_imgs = np.concatenate([real_imgs, fake_imgs], axis=0)\n",
    "\n",
    "    state = emb_forward(state, input_imgs)\n",
    "    del real_imgs, fake_imgs, input_imgs\n",
    "\n",
    "    return state"
   ]
  },
  {
   "cell_type": "markdown",
   "id": "0064dd43-984d-415c-b180-4ce05ba2d086",
   "metadata": {},
   "source": [
    "- Validation"
   ]
  },
  {
   "cell_type": "code",
   "execution_count": 11,
   "id": "a35ee05e-3e0f-4ae9-9e0f-33e81ebe1c24",
   "metadata": {},
   "outputs": [],
   "source": [
    "def validate(batch, test_state):\n",
    "    real_imgs = batch\n",
    "    fake_imgs = np.random.uniform(low=-1.0, high=1.0, size=real_imgs.shape)\n",
    "    input_imgs = np.concatenate([real_imgs, fake_imgs], axis=0)\n",
    "    output = test_state.apply_fn({\"params\": test_state.params}, input_imgs)\n",
    "    real_out, fake_out = np.split(output, indices_or_sections=2)\n",
    "    cdiv_loss = fake_out.mean() - real_out.mean()\n",
    "\n",
    "    metrics_updates = test_state.valid_metrics.single_from_model_output(\n",
    "                        cdiv_loss=cdiv_loss,\n",
    "                        real = real_out.mean(),\n",
    "                        fake = fake_out.mean())\n",
    "    valid_metrics = test_state.valid_metrics.merge(metrics_updates)\n",
    "    test_state = test_state.replace(valid_metrics=valid_metrics)\n",
    "    return test_state"
   ]
  },
  {
   "cell_type": "markdown",
   "id": "fb93b5ba-3994-4039-b8a4-e2173c633c71",
   "metadata": {},
   "source": [
    "- Generate"
   ]
  },
  {
   "cell_type": "code",
   "execution_count": 12,
   "id": "f37f06ea-18da-4418-a6d5-6b6d1d3e0a94",
   "metadata": {},
   "outputs": [],
   "source": [
    "def show_generative_process(state, rng, num_samples=1, show_process=True, imgs_per_row=3):\n",
    "    start_imgs = np.random.uniform(low=-1.0, \n",
    "                                   high=1.0, \n",
    "                                   size=(num_samples, IMG_SIZE, IMG_SIZE, CHANNELS))\n",
    "    new_imgs = generate_samples(state, rng, start_imgs, 1000, STEP_SIZE, show_process)\n",
    "    new_imgs = np.array(new_imgs)\n",
    "    print(new_imgs.shape)\n",
    "    sequence = (0, 1, 3, 5, 10, 30, 50, 100, 300, 999)\n",
    "\n",
    "    for j in range(num_samples):\n",
    "        plt.figure(figsize=(16, 3))\n",
    "        for i in range(len(sequence)):\n",
    "            ax = plt.subplot(1, len(sequence), i+1)\n",
    "            ax.imshow(new_imgs[sequence[i], j])\n",
    "            ax.axis(\"off\")\n",
    "        plt.show()"
   ]
  },
  {
   "cell_type": "markdown",
   "id": "0c0ee5d2-106a-4f3c-86db-0b4aa131fe27",
   "metadata": {},
   "source": [
    "## 7. Train EBM"
   ]
  },
  {
   "cell_type": "code",
   "execution_count": 13,
   "id": "bdae7920-7e92-481b-93fd-fd3dadf333e9",
   "metadata": {},
   "outputs": [],
   "source": [
    "energy_model = Energy()\n",
    "buffer = Buffer()\n",
    "rng = jax.random.PRNGKey(0)\n",
    "ebm_state = create_ebm_state(energy_model, rng)\n",
    "train_ds, test_ds = get_dataset()"
   ]
  },
  {
   "cell_type": "code",
   "execution_count": 14,
   "id": "29b024c8-d9b5-4fab-bd04-1a8f7c3c9b4f",
   "metadata": {},
   "outputs": [
    {
     "data": {
      "application/vnd.jupyter.widget-view+json": {
       "model_id": "5721106cf5804959976146bbcb61dfc1",
       "version_major": 2,
       "version_minor": 0
      },
      "text/plain": [
       "0it [00:00, ?it/s]"
      ]
     },
     "metadata": {},
     "output_type": "display_data"
    },
    {
     "data": {
      "application/vnd.jupyter.widget-view+json": {
       "model_id": "61a587f80d554a35b35b852326ad61a8",
       "version_major": 2,
       "version_minor": 0
      },
      "text/plain": [
       "0it [00:00, ?it/s]"
      ]
     },
     "metadata": {},
     "output_type": "display_data"
    },
    {
     "name": "stdout",
     "output_type": "stream",
     "text": [
      "\n",
      "Epoch:  1\n",
      "loss -0.047096148\n",
      "cdiv_loss -0.11046823\n",
      "reg_loss 0.06337209\n",
      "real 0.55674136\n",
      "fake 0.44627345\n",
      "\n",
      "\n",
      "cdiv_loss -1.0569917\n",
      "real 0.6405614\n",
      "fake -0.4164304\n"
     ]
    },
    {
     "data": {
      "application/vnd.jupyter.widget-view+json": {
       "model_id": "0bda3b2c9cd9495ebe389460595f25e9",
       "version_major": 2,
       "version_minor": 0
      },
      "text/plain": [
       "0it [00:00, ?it/s]"
      ]
     },
     "metadata": {},
     "output_type": "display_data"
    },
    {
     "data": {
      "application/vnd.jupyter.widget-view+json": {
       "model_id": "284f07b6355f43c39afd2bedef05e55a",
       "version_major": 2,
       "version_minor": 0
      },
      "text/plain": [
       "0it [00:00, ?it/s]"
      ]
     },
     "metadata": {},
     "output_type": "display_data"
    },
    {
     "name": "stdout",
     "output_type": "stream",
     "text": [
      "\n",
      "Epoch:  2\n",
      "loss -0.100922294\n",
      "cdiv_loss -0.15576157\n",
      "reg_loss 0.054839186\n",
      "real 0.2520085\n",
      "fake 0.09624707\n",
      "\n",
      "\n",
      "cdiv_loss -7.0047193\n",
      "real -0.0071576633\n",
      "fake -7.0118775\n"
     ]
    },
    {
     "data": {
      "application/vnd.jupyter.widget-view+json": {
       "model_id": "54d811d652944bcab5e58de7bb816f51",
       "version_major": 2,
       "version_minor": 0
      },
      "text/plain": [
       "0it [00:00, ?it/s]"
      ]
     },
     "metadata": {},
     "output_type": "display_data"
    },
    {
     "data": {
      "application/vnd.jupyter.widget-view+json": {
       "model_id": "0f3c0f0255aa457bbd781ca4f4c3ef4f",
       "version_major": 2,
       "version_minor": 0
      },
      "text/plain": [
       "0it [00:00, ?it/s]"
      ]
     },
     "metadata": {},
     "output_type": "display_data"
    },
    {
     "name": "stdout",
     "output_type": "stream",
     "text": [
      "\n",
      "Epoch:  3\n",
      "loss 0.0032931918\n",
      "cdiv_loss 0.003129101\n",
      "reg_loss 0.00016409055\n",
      "real 5.0548417e-05\n",
      "fake 0.0031796498\n",
      "\n",
      "\n",
      "cdiv_loss -6.356221\n",
      "real 0.0037428152\n",
      "fake -6.352479\n"
     ]
    },
    {
     "data": {
      "application/vnd.jupyter.widget-view+json": {
       "model_id": "8ace4fd82644409ea37c1bcc605e4b4c",
       "version_major": 2,
       "version_minor": 0
      },
      "text/plain": [
       "0it [00:00, ?it/s]"
      ]
     },
     "metadata": {},
     "output_type": "display_data"
    },
    {
     "data": {
      "application/vnd.jupyter.widget-view+json": {
       "model_id": "2a5afde96463423f8f921c8616c52ce2",
       "version_major": 2,
       "version_minor": 0
      },
      "text/plain": [
       "0it [00:00, ?it/s]"
      ]
     },
     "metadata": {},
     "output_type": "display_data"
    },
    {
     "name": "stdout",
     "output_type": "stream",
     "text": [
      "\n",
      "Epoch:  4\n",
      "loss 0.0016147009\n",
      "cdiv_loss 0.001474491\n",
      "reg_loss 0.00014021012\n",
      "real 0.0005068196\n",
      "fake 0.0019813112\n",
      "\n",
      "\n",
      "cdiv_loss -6.1621537\n",
      "real 0.0047107264\n",
      "fake -6.1574416\n"
     ]
    },
    {
     "data": {
      "application/vnd.jupyter.widget-view+json": {
       "model_id": "2820a148e70e4927a2fbea23a76febcc",
       "version_major": 2,
       "version_minor": 0
      },
      "text/plain": [
       "0it [00:00, ?it/s]"
      ]
     },
     "metadata": {},
     "output_type": "display_data"
    },
    {
     "data": {
      "application/vnd.jupyter.widget-view+json": {
       "model_id": "56430ae036e7423ba1f141ee5f6bd04c",
       "version_major": 2,
       "version_minor": 0
      },
      "text/plain": [
       "0it [00:00, ?it/s]"
      ]
     },
     "metadata": {},
     "output_type": "display_data"
    },
    {
     "ename": "KeyboardInterrupt",
     "evalue": "",
     "output_type": "error",
     "traceback": [
      "\u001b[0;31m---------------------------------------------------------------------------\u001b[0m",
      "\u001b[0;31mKeyboardInterrupt\u001b[0m                         Traceback (most recent call last)",
      "Cell \u001b[0;32mIn[14], line 8\u001b[0m\n\u001b[1;32m      6\u001b[0m test_state \u001b[38;5;241m=\u001b[39m ebm_state\n\u001b[1;32m      7\u001b[0m \u001b[38;5;28;01mfor\u001b[39;00m _, batch \u001b[38;5;129;01min\u001b[39;00m \u001b[38;5;28menumerate\u001b[39m(tqdm(test_ds\u001b[38;5;241m.\u001b[39mas_numpy_iterator())):\n\u001b[0;32m----> 8\u001b[0m     test_state \u001b[38;5;241m=\u001b[39m \u001b[43mvalidate\u001b[49m\u001b[43m(\u001b[49m\u001b[43mbatch\u001b[49m\u001b[43m,\u001b[49m\u001b[43m \u001b[49m\u001b[43mtest_state\u001b[49m\u001b[43m)\u001b[49m\n\u001b[1;32m     10\u001b[0m \u001b[38;5;28mprint\u001b[39m(\u001b[38;5;124m\"\u001b[39m\u001b[38;5;130;01m\\n\u001b[39;00m\u001b[38;5;124mEpoch: \u001b[39m\u001b[38;5;124m\"\u001b[39m, epoch \u001b[38;5;241m+\u001b[39m \u001b[38;5;241m1\u001b[39m)\n\u001b[1;32m     11\u001b[0m \u001b[38;5;28;01mfor\u001b[39;00m metric, value \u001b[38;5;129;01min\u001b[39;00m ebm_state\u001b[38;5;241m.\u001b[39mtrain_metrics\u001b[38;5;241m.\u001b[39mcompute()\u001b[38;5;241m.\u001b[39mitems():\n",
      "Cell \u001b[0;32mIn[11], line 9\u001b[0m, in \u001b[0;36mvalidate\u001b[0;34m(batch, test_state)\u001b[0m\n\u001b[1;32m      6\u001b[0m real_out, fake_out \u001b[38;5;241m=\u001b[39m np\u001b[38;5;241m.\u001b[39msplit(output, indices_or_sections\u001b[38;5;241m=\u001b[39m\u001b[38;5;241m2\u001b[39m)\n\u001b[1;32m      7\u001b[0m cdiv_loss \u001b[38;5;241m=\u001b[39m fake_out\u001b[38;5;241m.\u001b[39mmean() \u001b[38;5;241m-\u001b[39m real_out\u001b[38;5;241m.\u001b[39mmean()\n\u001b[0;32m----> 9\u001b[0m metrics_updates \u001b[38;5;241m=\u001b[39m \u001b[43mtest_state\u001b[49m\u001b[38;5;241;43m.\u001b[39;49m\u001b[43mvalid_metrics\u001b[49m\u001b[38;5;241;43m.\u001b[39;49m\u001b[43msingle_from_model_output\u001b[49m\u001b[43m(\u001b[49m\n\u001b[1;32m     10\u001b[0m \u001b[43m                    \u001b[49m\u001b[43mcdiv_loss\u001b[49m\u001b[38;5;241;43m=\u001b[39;49m\u001b[43mcdiv_loss\u001b[49m\u001b[43m,\u001b[49m\n\u001b[1;32m     11\u001b[0m \u001b[43m                    \u001b[49m\u001b[43mreal\u001b[49m\u001b[43m \u001b[49m\u001b[38;5;241;43m=\u001b[39;49m\u001b[43m \u001b[49m\u001b[43mreal_out\u001b[49m\u001b[38;5;241;43m.\u001b[39;49m\u001b[43mmean\u001b[49m\u001b[43m(\u001b[49m\u001b[43m)\u001b[49m\u001b[43m,\u001b[49m\n\u001b[1;32m     12\u001b[0m \u001b[43m                    \u001b[49m\u001b[43mfake\u001b[49m\u001b[43m \u001b[49m\u001b[38;5;241;43m=\u001b[39;49m\u001b[43m \u001b[49m\u001b[43mfake_out\u001b[49m\u001b[38;5;241;43m.\u001b[39;49m\u001b[43mmean\u001b[49m\u001b[43m(\u001b[49m\u001b[43m)\u001b[49m\u001b[43m)\u001b[49m\n\u001b[1;32m     13\u001b[0m valid_metrics \u001b[38;5;241m=\u001b[39m test_state\u001b[38;5;241m.\u001b[39mvalid_metrics\u001b[38;5;241m.\u001b[39mmerge(metrics_updates)\n\u001b[1;32m     14\u001b[0m test_state \u001b[38;5;241m=\u001b[39m test_state\u001b[38;5;241m.\u001b[39mreplace(valid_metrics\u001b[38;5;241m=\u001b[39mvalid_metrics)\n",
      "File \u001b[0;32m~/miniconda3/envs/GDL_JAX/lib/python3.9/site-packages/clu/metrics.py:536\u001b[0m, in \u001b[0;36mCollection.single_from_model_output\u001b[0;34m(cls, **kwargs)\u001b[0m\n\u001b[1;32m    523\u001b[0m \u001b[38;5;129m@classmethod\u001b[39m\n\u001b[1;32m    524\u001b[0m \u001b[38;5;28;01mdef\u001b[39;00m \u001b[38;5;21msingle_from_model_output\u001b[39m(\u001b[38;5;28mcls\u001b[39m, \u001b[38;5;241m*\u001b[39m\u001b[38;5;241m*\u001b[39mkwargs) \u001b[38;5;241m-\u001b[39m\u001b[38;5;241m>\u001b[39m \u001b[38;5;124m\"\u001b[39m\u001b[38;5;124mCollection\u001b[39m\u001b[38;5;124m\"\u001b[39m:\n\u001b[1;32m    525\u001b[0m \u001b[38;5;250m  \u001b[39m\u001b[38;5;124;03m\"\"\"Creates a `Collection` from model outputs.\u001b[39;00m\n\u001b[1;32m    526\u001b[0m \n\u001b[1;32m    527\u001b[0m \u001b[38;5;124;03m  Note: This function should only be called when metrics are collected in a\u001b[39;00m\n\u001b[0;32m   (...)\u001b[0m\n\u001b[1;32m    534\u001b[0m \u001b[38;5;124;03m    A metric collection from provided `kwargs` model outputs.\u001b[39;00m\n\u001b[1;32m    535\u001b[0m \u001b[38;5;124;03m  \"\"\"\u001b[39;00m\n\u001b[0;32m--> 536\u001b[0m   \u001b[38;5;28;01mreturn\u001b[39;00m \u001b[38;5;28;43mcls\u001b[39;49m\u001b[38;5;241;43m.\u001b[39;49m\u001b[43m_from_model_output\u001b[49m\u001b[43m(\u001b[49m\u001b[38;5;241;43m*\u001b[39;49m\u001b[38;5;241;43m*\u001b[39;49m\u001b[43mkwargs\u001b[49m\u001b[43m)\u001b[49m\n",
      "File \u001b[0;32m~/miniconda3/envs/GDL_JAX/lib/python3.9/site-packages/clu/metrics.py:518\u001b[0m, in \u001b[0;36mCollection._from_model_output\u001b[0;34m(cls, **kwargs)\u001b[0m\n\u001b[1;32m    513\u001b[0m \u001b[38;5;129m@classmethod\u001b[39m\n\u001b[1;32m    514\u001b[0m \u001b[38;5;28;01mdef\u001b[39;00m \u001b[38;5;21m_from_model_output\u001b[39m(\u001b[38;5;28mcls\u001b[39m, \u001b[38;5;241m*\u001b[39m\u001b[38;5;241m*\u001b[39mkwargs) \u001b[38;5;241m-\u001b[39m\u001b[38;5;241m>\u001b[39m \u001b[38;5;124m\"\u001b[39m\u001b[38;5;124mCollection\u001b[39m\u001b[38;5;124m\"\u001b[39m:\n\u001b[1;32m    515\u001b[0m \u001b[38;5;250m  \u001b[39m\u001b[38;5;124;03m\"\"\"Creates a `Collection` from model outputs.\"\"\"\u001b[39;00m\n\u001b[1;32m    516\u001b[0m   \u001b[38;5;28;01mreturn\u001b[39;00m \u001b[38;5;28mcls\u001b[39m(\n\u001b[1;32m    517\u001b[0m       _reduction_counter\u001b[38;5;241m=\u001b[39m_ReductionCounter(jnp\u001b[38;5;241m.\u001b[39marray(\u001b[38;5;241m1\u001b[39m, dtype\u001b[38;5;241m=\u001b[39mjnp\u001b[38;5;241m.\u001b[39mint32)),\n\u001b[0;32m--> 518\u001b[0m       \u001b[38;5;241m*\u001b[39m\u001b[38;5;241m*\u001b[39m{\n\u001b[1;32m    519\u001b[0m           metric_name: metric\u001b[38;5;241m.\u001b[39mfrom_model_output(\u001b[38;5;241m*\u001b[39m\u001b[38;5;241m*\u001b[39mkwargs)\n\u001b[1;32m    520\u001b[0m           \u001b[38;5;28;01mfor\u001b[39;00m metric_name, metric \u001b[38;5;129;01min\u001b[39;00m \u001b[38;5;28mcls\u001b[39m\u001b[38;5;241m.\u001b[39m\u001b[38;5;18m__annotations__\u001b[39m\u001b[38;5;241m.\u001b[39mitems()\n\u001b[1;32m    521\u001b[0m       })\n",
      "File \u001b[0;32m~/miniconda3/envs/GDL_JAX/lib/python3.9/site-packages/clu/metrics.py:519\u001b[0m, in \u001b[0;36m<dictcomp>\u001b[0;34m(.0)\u001b[0m\n\u001b[1;32m    513\u001b[0m \u001b[38;5;129m@classmethod\u001b[39m\n\u001b[1;32m    514\u001b[0m \u001b[38;5;28;01mdef\u001b[39;00m \u001b[38;5;21m_from_model_output\u001b[39m(\u001b[38;5;28mcls\u001b[39m, \u001b[38;5;241m*\u001b[39m\u001b[38;5;241m*\u001b[39mkwargs) \u001b[38;5;241m-\u001b[39m\u001b[38;5;241m>\u001b[39m \u001b[38;5;124m\"\u001b[39m\u001b[38;5;124mCollection\u001b[39m\u001b[38;5;124m\"\u001b[39m:\n\u001b[1;32m    515\u001b[0m \u001b[38;5;250m  \u001b[39m\u001b[38;5;124;03m\"\"\"Creates a `Collection` from model outputs.\"\"\"\u001b[39;00m\n\u001b[1;32m    516\u001b[0m   \u001b[38;5;28;01mreturn\u001b[39;00m \u001b[38;5;28mcls\u001b[39m(\n\u001b[1;32m    517\u001b[0m       _reduction_counter\u001b[38;5;241m=\u001b[39m_ReductionCounter(jnp\u001b[38;5;241m.\u001b[39marray(\u001b[38;5;241m1\u001b[39m, dtype\u001b[38;5;241m=\u001b[39mjnp\u001b[38;5;241m.\u001b[39mint32)),\n\u001b[1;32m    518\u001b[0m       \u001b[38;5;241m*\u001b[39m\u001b[38;5;241m*\u001b[39m{\n\u001b[0;32m--> 519\u001b[0m           metric_name: \u001b[43mmetric\u001b[49m\u001b[38;5;241;43m.\u001b[39;49m\u001b[43mfrom_model_output\u001b[49m\u001b[43m(\u001b[49m\u001b[38;5;241;43m*\u001b[39;49m\u001b[38;5;241;43m*\u001b[39;49m\u001b[43mkwargs\u001b[49m\u001b[43m)\u001b[49m\n\u001b[1;32m    520\u001b[0m           \u001b[38;5;28;01mfor\u001b[39;00m metric_name, metric \u001b[38;5;129;01min\u001b[39;00m \u001b[38;5;28mcls\u001b[39m\u001b[38;5;241m.\u001b[39m\u001b[38;5;18m__annotations__\u001b[39m\u001b[38;5;241m.\u001b[39mitems()\n\u001b[1;32m    521\u001b[0m       })\n",
      "File \u001b[0;32m~/miniconda3/envs/GDL_JAX/lib/python3.9/site-packages/clu/metrics.py:297\u001b[0m, in \u001b[0;36mMetric.from_output.<locals>.FromOutput.from_model_output\u001b[0;34m(cls, **model_output)\u001b[0m\n\u001b[1;32m    292\u001b[0m   logging\u001b[38;5;241m.\u001b[39mwarning(\n\u001b[1;32m    293\u001b[0m       \u001b[38;5;124m\"\u001b[39m\u001b[38;5;124mIgnoring mask for model output \u001b[39m\u001b[38;5;124m'\u001b[39m\u001b[38;5;132;01m%s\u001b[39;00m\u001b[38;5;124m'\u001b[39m\u001b[38;5;124m because of shape mismatch: \u001b[39m\u001b[38;5;124m\"\u001b[39m\n\u001b[1;32m    294\u001b[0m       \u001b[38;5;124m\"\u001b[39m\u001b[38;5;124moutput.shape=\u001b[39m\u001b[38;5;132;01m%s\u001b[39;00m\u001b[38;5;124m vs. mask.shape=\u001b[39m\u001b[38;5;132;01m%s\u001b[39;00m\u001b[38;5;124m\"\u001b[39m, name, output\u001b[38;5;241m.\u001b[39mshape,\n\u001b[1;32m    295\u001b[0m       mask\u001b[38;5;241m.\u001b[39mshape)\n\u001b[1;32m    296\u001b[0m   mask \u001b[38;5;241m=\u001b[39m \u001b[38;5;28;01mNone\u001b[39;00m\n\u001b[0;32m--> 297\u001b[0m \u001b[38;5;28;01mreturn\u001b[39;00m \u001b[38;5;28;43msuper\u001b[39;49m\u001b[43m(\u001b[49m\u001b[43m)\u001b[49m\u001b[38;5;241;43m.\u001b[39;49m\u001b[43mfrom_model_output\u001b[49m\u001b[43m(\u001b[49m\u001b[43moutput\u001b[49m\u001b[43m,\u001b[49m\u001b[43m \u001b[49m\u001b[43mmask\u001b[49m\u001b[38;5;241;43m=\u001b[39;49m\u001b[43mmask\u001b[49m\u001b[43m)\u001b[49m\n",
      "File \u001b[0;32m~/miniconda3/envs/GDL_JAX/lib/python3.9/site-packages/clu/metrics.py:747\u001b[0m, in \u001b[0;36mAverage.from_model_output\u001b[0;34m(cls, values, mask, **_)\u001b[0m\n\u001b[1;32m    744\u001b[0m mask \u001b[38;5;241m=\u001b[39m mask\u001b[38;5;241m.\u001b[39mastype(\u001b[38;5;28mbool\u001b[39m)\n\u001b[1;32m    745\u001b[0m utils\u001b[38;5;241m.\u001b[39mcheck_param(mask, dtype\u001b[38;5;241m=\u001b[39m\u001b[38;5;28mbool\u001b[39m, ndim\u001b[38;5;241m=\u001b[39mvalues\u001b[38;5;241m.\u001b[39mndim)\n\u001b[1;32m    746\u001b[0m \u001b[38;5;28;01mreturn\u001b[39;00m \u001b[38;5;28mcls\u001b[39m(\n\u001b[0;32m--> 747\u001b[0m     total\u001b[38;5;241m=\u001b[39mjnp\u001b[38;5;241m.\u001b[39mwhere(mask, values, \u001b[43mjnp\u001b[49m\u001b[38;5;241;43m.\u001b[39;49m\u001b[43mzeros_like\u001b[49m\u001b[43m(\u001b[49m\u001b[43mvalues\u001b[49m\u001b[43m)\u001b[49m)\u001b[38;5;241m.\u001b[39msum(),\n\u001b[1;32m    748\u001b[0m     count\u001b[38;5;241m=\u001b[39mjnp\u001b[38;5;241m.\u001b[39mwhere(mask, jnp\u001b[38;5;241m.\u001b[39mones_like(values, dtype\u001b[38;5;241m=\u001b[39mjnp\u001b[38;5;241m.\u001b[39mint32),\n\u001b[1;32m    749\u001b[0m                     jnp\u001b[38;5;241m.\u001b[39mzeros_like(values, dtype\u001b[38;5;241m=\u001b[39mjnp\u001b[38;5;241m.\u001b[39mint32))\u001b[38;5;241m.\u001b[39msum(),\n\u001b[1;32m    750\u001b[0m )\n",
      "File \u001b[0;32m~/miniconda3/envs/GDL_JAX/lib/python3.9/site-packages/jax/_src/numpy/lax_numpy.py:2108\u001b[0m, in \u001b[0;36mzeros_like\u001b[0;34m(a, dtype, shape)\u001b[0m\n\u001b[1;32m   2106\u001b[0m \u001b[38;5;28;01mif\u001b[39;00m shape \u001b[38;5;129;01mis\u001b[39;00m \u001b[38;5;129;01mnot\u001b[39;00m \u001b[38;5;28;01mNone\u001b[39;00m:\n\u001b[1;32m   2107\u001b[0m   shape \u001b[38;5;241m=\u001b[39m canonicalize_shape(shape)\n\u001b[0;32m-> 2108\u001b[0m \u001b[38;5;28;01mreturn\u001b[39;00m \u001b[43mlax\u001b[49m\u001b[38;5;241;43m.\u001b[39;49m\u001b[43mfull_like\u001b[49m\u001b[43m(\u001b[49m\u001b[43ma\u001b[49m\u001b[43m,\u001b[49m\u001b[43m \u001b[49m\u001b[38;5;241;43m0\u001b[39;49m\u001b[43m,\u001b[49m\u001b[43m \u001b[49m\u001b[43mdtype\u001b[49m\u001b[43m,\u001b[49m\u001b[43m \u001b[49m\u001b[43mshape\u001b[49m\u001b[43m)\u001b[49m\n",
      "File \u001b[0;32m~/miniconda3/envs/GDL_JAX/lib/python3.9/site-packages/jax/_src/lax/lax.py:1358\u001b[0m, in \u001b[0;36mfull_like\u001b[0;34m(x, fill_value, dtype, shape)\u001b[0m\n\u001b[1;32m   1356\u001b[0m \u001b[38;5;28;01mif\u001b[39;00m dtypes\u001b[38;5;241m.\u001b[39missubdtype(dtype, dtypes\u001b[38;5;241m.\u001b[39mextended):\n\u001b[1;32m   1357\u001b[0m   \u001b[38;5;28;01mreturn\u001b[39;00m dtype\u001b[38;5;241m.\u001b[39m_rules\u001b[38;5;241m.\u001b[39mfull(fill_shape, fill_value, dtype)  \u001b[38;5;66;03m# type: ignore[union-attr]\u001b[39;00m\n\u001b[0;32m-> 1358\u001b[0m val \u001b[38;5;241m=\u001b[39m \u001b[43mfull\u001b[49m\u001b[43m(\u001b[49m\u001b[43mfill_shape\u001b[49m\u001b[43m,\u001b[49m\u001b[43m \u001b[49m\u001b[43m_convert_element_type\u001b[49m\u001b[43m(\u001b[49m\u001b[43mfill_value\u001b[49m\u001b[43m,\u001b[49m\u001b[43m \u001b[49m\u001b[43mdtype\u001b[49m\u001b[43m,\u001b[49m\u001b[43m \u001b[49m\u001b[43mweak_type\u001b[49m\u001b[43m)\u001b[49m\u001b[43m)\u001b[49m\n\u001b[1;32m   1359\u001b[0m \u001b[38;5;66;03m# If the sharding is SingleDeviceSharding then don't take the `if` branch\u001b[39;00m\n\u001b[1;32m   1360\u001b[0m \u001b[38;5;66;03m# because `val` is already an array with SingleDeviceSharding making this an\u001b[39;00m\n\u001b[1;32m   1361\u001b[0m \u001b[38;5;66;03m# optimization.\u001b[39;00m\n\u001b[0;32m   (...)\u001b[0m\n\u001b[1;32m   1364\u001b[0m \u001b[38;5;66;03m# (so it works in staged-out code as well as 'eager' code). Related to\u001b[39;00m\n\u001b[1;32m   1365\u001b[0m \u001b[38;5;66;03m# equi-sharding.\u001b[39;00m\n\u001b[1;32m   1366\u001b[0m \u001b[38;5;28;01mif\u001b[39;00m shape \u001b[38;5;129;01mis\u001b[39;00m \u001b[38;5;28;01mNone\u001b[39;00m \u001b[38;5;129;01mand\u001b[39;00m \u001b[38;5;28misinstance\u001b[39m(x, array\u001b[38;5;241m.\u001b[39mArrayImpl):\n",
      "File \u001b[0;32m~/miniconda3/envs/GDL_JAX/lib/python3.9/site-packages/jax/_src/lax/lax.py:1210\u001b[0m, in \u001b[0;36mfull\u001b[0;34m(shape, fill_value, dtype)\u001b[0m\n\u001b[1;32m   1208\u001b[0m dtype \u001b[38;5;241m=\u001b[39m dtypes\u001b[38;5;241m.\u001b[39mcanonicalize_dtype(dtype \u001b[38;5;129;01mor\u001b[39;00m _dtype(fill_value))\n\u001b[1;32m   1209\u001b[0m fill_value \u001b[38;5;241m=\u001b[39m _convert_element_type(fill_value, dtype, weak_type)\n\u001b[0;32m-> 1210\u001b[0m \u001b[38;5;28;01mreturn\u001b[39;00m \u001b[43mbroadcast\u001b[49m\u001b[43m(\u001b[49m\u001b[43mfill_value\u001b[49m\u001b[43m,\u001b[49m\u001b[43m \u001b[49m\u001b[43mshape\u001b[49m\u001b[43m)\u001b[49m\n",
      "File \u001b[0;32m~/miniconda3/envs/GDL_JAX/lib/python3.9/site-packages/jax/_src/lax/lax.py:772\u001b[0m, in \u001b[0;36mbroadcast\u001b[0;34m(operand, sizes)\u001b[0m\n\u001b[1;32m    758\u001b[0m \u001b[38;5;250m\u001b[39m\u001b[38;5;124;03m\"\"\"Broadcasts an array, adding new leading dimensions\u001b[39;00m\n\u001b[1;32m    759\u001b[0m \n\u001b[1;32m    760\u001b[0m \u001b[38;5;124;03mArgs:\u001b[39;00m\n\u001b[0;32m   (...)\u001b[0m\n\u001b[1;32m    769\u001b[0m \u001b[38;5;124;03m  jax.lax.broadcast_in_dim : add new dimensions at any location in the array shape.\u001b[39;00m\n\u001b[1;32m    770\u001b[0m \u001b[38;5;124;03m\"\"\"\u001b[39;00m\n\u001b[1;32m    771\u001b[0m dims \u001b[38;5;241m=\u001b[39m \u001b[38;5;28mtuple\u001b[39m(\u001b[38;5;28mrange\u001b[39m(\u001b[38;5;28mlen\u001b[39m(sizes), \u001b[38;5;28mlen\u001b[39m(sizes) \u001b[38;5;241m+\u001b[39m np\u001b[38;5;241m.\u001b[39mndim(operand)))\n\u001b[0;32m--> 772\u001b[0m \u001b[38;5;28;01mreturn\u001b[39;00m \u001b[43mbroadcast_in_dim\u001b[49m\u001b[43m(\u001b[49m\u001b[43moperand\u001b[49m\u001b[43m,\u001b[49m\u001b[43m \u001b[49m\u001b[38;5;28;43mtuple\u001b[39;49m\u001b[43m(\u001b[49m\u001b[43msizes\u001b[49m\u001b[43m)\u001b[49m\u001b[43m \u001b[49m\u001b[38;5;241;43m+\u001b[39;49m\u001b[43m \u001b[49m\u001b[43mnp\u001b[49m\u001b[38;5;241;43m.\u001b[39;49m\u001b[43mshape\u001b[49m\u001b[43m(\u001b[49m\u001b[43moperand\u001b[49m\u001b[43m)\u001b[49m\u001b[43m,\u001b[49m\u001b[43m \u001b[49m\u001b[43mdims\u001b[49m\u001b[43m)\u001b[49m\n",
      "File \u001b[0;32m~/miniconda3/envs/GDL_JAX/lib/python3.9/site-packages/jax/_src/lax/lax.py:801\u001b[0m, in \u001b[0;36mbroadcast_in_dim\u001b[0;34m(operand, shape, broadcast_dimensions)\u001b[0m\n\u001b[1;32m    799\u001b[0m \u001b[38;5;28;01melse\u001b[39;00m:\n\u001b[1;32m    800\u001b[0m   dyn_shape, static_shape \u001b[38;5;241m=\u001b[39m [], shape  \u001b[38;5;66;03m# type: ignore\u001b[39;00m\n\u001b[0;32m--> 801\u001b[0m \u001b[38;5;28;01mreturn\u001b[39;00m \u001b[43mbroadcast_in_dim_p\u001b[49m\u001b[38;5;241;43m.\u001b[39;49m\u001b[43mbind\u001b[49m\u001b[43m(\u001b[49m\n\u001b[1;32m    802\u001b[0m \u001b[43m    \u001b[49m\u001b[43moperand\u001b[49m\u001b[43m,\u001b[49m\u001b[43m \u001b[49m\u001b[38;5;241;43m*\u001b[39;49m\u001b[43mdyn_shape\u001b[49m\u001b[43m,\u001b[49m\u001b[43m \u001b[49m\u001b[43mshape\u001b[49m\u001b[38;5;241;43m=\u001b[39;49m\u001b[38;5;28;43mtuple\u001b[39;49m\u001b[43m(\u001b[49m\u001b[43mstatic_shape\u001b[49m\u001b[43m)\u001b[49m\u001b[43m,\u001b[49m\n\u001b[1;32m    803\u001b[0m \u001b[43m    \u001b[49m\u001b[43mbroadcast_dimensions\u001b[49m\u001b[38;5;241;43m=\u001b[39;49m\u001b[38;5;28;43mtuple\u001b[39;49m\u001b[43m(\u001b[49m\u001b[43mbroadcast_dimensions\u001b[49m\u001b[43m)\u001b[49m\u001b[43m)\u001b[49m\n",
      "File \u001b[0;32m~/miniconda3/envs/GDL_JAX/lib/python3.9/site-packages/jax/_src/core.py:386\u001b[0m, in \u001b[0;36mPrimitive.bind\u001b[0;34m(self, *args, **params)\u001b[0m\n\u001b[1;32m    383\u001b[0m \u001b[38;5;28;01mdef\u001b[39;00m \u001b[38;5;21mbind\u001b[39m(\u001b[38;5;28mself\u001b[39m, \u001b[38;5;241m*\u001b[39margs, \u001b[38;5;241m*\u001b[39m\u001b[38;5;241m*\u001b[39mparams):\n\u001b[1;32m    384\u001b[0m   \u001b[38;5;28;01massert\u001b[39;00m (\u001b[38;5;129;01mnot\u001b[39;00m config\u001b[38;5;241m.\u001b[39mjax_enable_checks \u001b[38;5;129;01mor\u001b[39;00m\n\u001b[1;32m    385\u001b[0m           \u001b[38;5;28mall\u001b[39m(\u001b[38;5;28misinstance\u001b[39m(arg, Tracer) \u001b[38;5;129;01mor\u001b[39;00m valid_jaxtype(arg) \u001b[38;5;28;01mfor\u001b[39;00m arg \u001b[38;5;129;01min\u001b[39;00m args)), args\n\u001b[0;32m--> 386\u001b[0m   \u001b[38;5;28;01mreturn\u001b[39;00m \u001b[38;5;28;43mself\u001b[39;49m\u001b[38;5;241;43m.\u001b[39;49m\u001b[43mbind_with_trace\u001b[49m\u001b[43m(\u001b[49m\u001b[43mfind_top_trace\u001b[49m\u001b[43m(\u001b[49m\u001b[43margs\u001b[49m\u001b[43m)\u001b[49m\u001b[43m,\u001b[49m\u001b[43m \u001b[49m\u001b[43margs\u001b[49m\u001b[43m,\u001b[49m\u001b[43m \u001b[49m\u001b[43mparams\u001b[49m\u001b[43m)\u001b[49m\n",
      "File \u001b[0;32m~/miniconda3/envs/GDL_JAX/lib/python3.9/site-packages/jax/_src/core.py:389\u001b[0m, in \u001b[0;36mPrimitive.bind_with_trace\u001b[0;34m(self, trace, args, params)\u001b[0m\n\u001b[1;32m    388\u001b[0m \u001b[38;5;28;01mdef\u001b[39;00m \u001b[38;5;21mbind_with_trace\u001b[39m(\u001b[38;5;28mself\u001b[39m, trace, args, params):\n\u001b[0;32m--> 389\u001b[0m   out \u001b[38;5;241m=\u001b[39m \u001b[43mtrace\u001b[49m\u001b[38;5;241;43m.\u001b[39;49m\u001b[43mprocess_primitive\u001b[49m\u001b[43m(\u001b[49m\u001b[38;5;28;43mself\u001b[39;49m\u001b[43m,\u001b[49m\u001b[43m \u001b[49m\u001b[38;5;28;43mmap\u001b[39;49m\u001b[43m(\u001b[49m\u001b[43mtrace\u001b[49m\u001b[38;5;241;43m.\u001b[39;49m\u001b[43mfull_raise\u001b[49m\u001b[43m,\u001b[49m\u001b[43m \u001b[49m\u001b[43margs\u001b[49m\u001b[43m)\u001b[49m\u001b[43m,\u001b[49m\u001b[43m \u001b[49m\u001b[43mparams\u001b[49m\u001b[43m)\u001b[49m\n\u001b[1;32m    390\u001b[0m   \u001b[38;5;28;01mreturn\u001b[39;00m \u001b[38;5;28mmap\u001b[39m(full_lower, out) \u001b[38;5;28;01mif\u001b[39;00m \u001b[38;5;28mself\u001b[39m\u001b[38;5;241m.\u001b[39mmultiple_results \u001b[38;5;28;01melse\u001b[39;00m full_lower(out)\n",
      "File \u001b[0;32m~/miniconda3/envs/GDL_JAX/lib/python3.9/site-packages/jax/_src/core.py:821\u001b[0m, in \u001b[0;36mEvalTrace.process_primitive\u001b[0;34m(self, primitive, tracers, params)\u001b[0m\n\u001b[1;32m    820\u001b[0m \u001b[38;5;28;01mdef\u001b[39;00m \u001b[38;5;21mprocess_primitive\u001b[39m(\u001b[38;5;28mself\u001b[39m, primitive, tracers, params):\n\u001b[0;32m--> 821\u001b[0m   \u001b[38;5;28;01mreturn\u001b[39;00m \u001b[43mprimitive\u001b[49m\u001b[38;5;241;43m.\u001b[39;49m\u001b[43mimpl\u001b[49m\u001b[43m(\u001b[49m\u001b[38;5;241;43m*\u001b[39;49m\u001b[43mtracers\u001b[49m\u001b[43m,\u001b[49m\u001b[43m \u001b[49m\u001b[38;5;241;43m*\u001b[39;49m\u001b[38;5;241;43m*\u001b[39;49m\u001b[43mparams\u001b[49m\u001b[43m)\u001b[49m\n",
      "File \u001b[0;32m~/miniconda3/envs/GDL_JAX/lib/python3.9/site-packages/jax/_src/dispatch.py:143\u001b[0m, in \u001b[0;36mapply_primitive\u001b[0;34m(prim, *args, **params)\u001b[0m\n\u001b[1;32m    139\u001b[0m   msg \u001b[38;5;241m=\u001b[39m pjit\u001b[38;5;241m.\u001b[39m_device_assignment_mismatch_error(\n\u001b[1;32m    140\u001b[0m       prim\u001b[38;5;241m.\u001b[39mname, fails, args, \u001b[38;5;124m'\u001b[39m\u001b[38;5;124mjit\u001b[39m\u001b[38;5;124m'\u001b[39m, arg_names)\n\u001b[1;32m    141\u001b[0m   \u001b[38;5;28;01mraise\u001b[39;00m \u001b[38;5;167;01mValueError\u001b[39;00m(msg) \u001b[38;5;28;01mfrom\u001b[39;00m \u001b[38;5;28;01mNone\u001b[39;00m\n\u001b[0;32m--> 143\u001b[0m \u001b[38;5;28;01mreturn\u001b[39;00m \u001b[43mcompiled_fun\u001b[49m\u001b[43m(\u001b[49m\u001b[38;5;241;43m*\u001b[39;49m\u001b[43margs\u001b[49m\u001b[43m)\u001b[49m\n",
      "File \u001b[0;32m~/miniconda3/envs/GDL_JAX/lib/python3.9/site-packages/jax/_src/dispatch.py:226\u001b[0m, in \u001b[0;36mxla_primitive_callable.<locals>.<lambda>\u001b[0;34m(*args, **kw)\u001b[0m\n\u001b[1;32m    222\u001b[0m compiled \u001b[38;5;241m=\u001b[39m _xla_callable_uncached(\n\u001b[1;32m    223\u001b[0m     lu\u001b[38;5;241m.\u001b[39mwrap_init(prim_fun), prim\u001b[38;5;241m.\u001b[39mname, donated_invars, \u001b[38;5;28;01mFalse\u001b[39;00m, in_avals,\n\u001b[1;32m    224\u001b[0m     orig_in_shardings)\n\u001b[1;32m    225\u001b[0m \u001b[38;5;28;01mif\u001b[39;00m \u001b[38;5;129;01mnot\u001b[39;00m prim\u001b[38;5;241m.\u001b[39mmultiple_results:\n\u001b[0;32m--> 226\u001b[0m   \u001b[38;5;28;01mreturn\u001b[39;00m \u001b[38;5;28;01mlambda\u001b[39;00m \u001b[38;5;241m*\u001b[39margs, \u001b[38;5;241m*\u001b[39m\u001b[38;5;241m*\u001b[39mkw: \u001b[43mcompiled\u001b[49m\u001b[43m(\u001b[49m\u001b[38;5;241;43m*\u001b[39;49m\u001b[43margs\u001b[49m\u001b[43m,\u001b[49m\u001b[43m \u001b[49m\u001b[38;5;241;43m*\u001b[39;49m\u001b[38;5;241;43m*\u001b[39;49m\u001b[43mkw\u001b[49m\u001b[43m)\u001b[49m[\u001b[38;5;241m0\u001b[39m]\n\u001b[1;32m    227\u001b[0m \u001b[38;5;28;01melse\u001b[39;00m:\n\u001b[1;32m    228\u001b[0m   \u001b[38;5;28;01mreturn\u001b[39;00m compiled\n",
      "File \u001b[0;32m~/miniconda3/envs/GDL_JAX/lib/python3.9/site-packages/jax/_src/profiler.py:314\u001b[0m, in \u001b[0;36mannotate_function.<locals>.wrapper\u001b[0;34m(*args, **kwargs)\u001b[0m\n\u001b[1;32m    311\u001b[0m \u001b[38;5;129m@wraps\u001b[39m(func)\n\u001b[1;32m    312\u001b[0m \u001b[38;5;28;01mdef\u001b[39;00m \u001b[38;5;21mwrapper\u001b[39m(\u001b[38;5;241m*\u001b[39margs, \u001b[38;5;241m*\u001b[39m\u001b[38;5;241m*\u001b[39mkwargs):\n\u001b[1;32m    313\u001b[0m   \u001b[38;5;28;01mwith\u001b[39;00m TraceAnnotation(name, \u001b[38;5;241m*\u001b[39m\u001b[38;5;241m*\u001b[39mdecorator_kwargs):\n\u001b[0;32m--> 314\u001b[0m     \u001b[38;5;28;01mreturn\u001b[39;00m \u001b[43mfunc\u001b[49m\u001b[43m(\u001b[49m\u001b[38;5;241;43m*\u001b[39;49m\u001b[43margs\u001b[49m\u001b[43m,\u001b[49m\u001b[43m \u001b[49m\u001b[38;5;241;43m*\u001b[39;49m\u001b[38;5;241;43m*\u001b[39;49m\u001b[43mkwargs\u001b[49m\u001b[43m)\u001b[49m\n\u001b[1;32m    315\u001b[0m   \u001b[38;5;28;01mreturn\u001b[39;00m wrapper\n",
      "File \u001b[0;32m~/miniconda3/envs/GDL_JAX/lib/python3.9/site-packages/jax/_src/interpreters/pxla.py:1229\u001b[0m, in \u001b[0;36mExecuteReplicated.__call__\u001b[0;34m(self, *args)\u001b[0m\n\u001b[1;32m   1224\u001b[0m   \u001b[38;5;28mself\u001b[39m\u001b[38;5;241m.\u001b[39m_handle_token_bufs(\n\u001b[1;32m   1225\u001b[0m       results\u001b[38;5;241m.\u001b[39mdisassemble_prefix_into_single_device_arrays(\n\u001b[1;32m   1226\u001b[0m           \u001b[38;5;28mlen\u001b[39m(\u001b[38;5;28mself\u001b[39m\u001b[38;5;241m.\u001b[39mordered_effects)),\n\u001b[1;32m   1227\u001b[0m       results\u001b[38;5;241m.\u001b[39mconsume_token())\n\u001b[1;32m   1228\u001b[0m \u001b[38;5;28;01melse\u001b[39;00m:\n\u001b[0;32m-> 1229\u001b[0m   results \u001b[38;5;241m=\u001b[39m \u001b[38;5;28;43mself\u001b[39;49m\u001b[38;5;241;43m.\u001b[39;49m\u001b[43mxla_executable\u001b[49m\u001b[38;5;241;43m.\u001b[39;49m\u001b[43mexecute_sharded\u001b[49m\u001b[43m(\u001b[49m\u001b[43minput_bufs\u001b[49m\u001b[43m)\u001b[49m\n\u001b[1;32m   1230\u001b[0m \u001b[38;5;28;01mif\u001b[39;00m dispatch\u001b[38;5;241m.\u001b[39mneeds_check_special():\n\u001b[1;32m   1231\u001b[0m   out_arrays \u001b[38;5;241m=\u001b[39m results\u001b[38;5;241m.\u001b[39mdisassemble_into_single_device_arrays()\n",
      "\u001b[0;31mKeyboardInterrupt\u001b[0m: "
     ]
    }
   ],
   "source": [
    "for epoch in range(EPOCHS):\n",
    "\n",
    "    for _, batch in enumerate(tqdm(train_ds.as_numpy_iterator())):\n",
    "        ebm_state = train_step(batch, ebm_state)\n",
    "\n",
    "    test_state = ebm_state\n",
    "    for _, batch in enumerate(tqdm(test_ds.as_numpy_iterator())):\n",
    "        test_state = validate(batch, test_state)\n",
    "\n",
    "    print(\"\\nEpoch: \", epoch + 1)\n",
    "    for metric, value in ebm_state.train_metrics.compute().items():\n",
    "        print(metric, value)\n",
    "    print(\"\\n\")\n",
    "    for metric, value in test_state.valid_metrics.compute().items():\n",
    "        print(metric, value)\n",
    "\n",
    "    ebm_state = ebm_state.replace(train_metrics=ebm_state.train_metrics.empty(),\n",
    "                                  valid_metrics=ebm_state.valid_metrics.empty())\n"
   ]
  },
  {
   "cell_type": "code",
   "execution_count": 15,
   "id": "1b6c7f5c-c024-403c-b404-26c6ce2ce8c8",
   "metadata": {},
   "outputs": [
    {
     "name": "stdout",
     "output_type": "stream",
     "text": [
      "(1000, 1, 32, 32, 1)\n"
     ]
    },
    {
     "data": {
      "image/png": "[encoded data removed]",
      "text/plain": [
       "<Figure size 1600x300 with 10 Axes>"
      ]
     },
     "metadata": {},
     "output_type": "display_data"
    }
   ],
   "source": [
    "show_generative_process(ebm_state, rng)"
   ]
  },
  {
   "cell_type": "code",
   "execution_count": null,
   "id": "81529942-0a14-4e24-a859-e88ee1768985",
   "metadata": {},
   "outputs": [],
   "source": []
  }
 ],
 "metadata": {
  "kernelspec": {
   "display_name": "Python 3 (ipykernel)",
   "language": "python",
   "name": "python3"
  },
  "language_info": {
   "codemirror_mode": {
    "name": "ipython",
    "version": 3
   },
   "file_extension": ".py",
   "mimetype": "text/x-python",
   "name": "python",
   "nbconvert_exporter": "python",
   "pygments_lexer": "ipython3",
   "version": "3.9.18"
  }
 },
 "nbformat": 4,
 "nbformat_minor": 5
}
