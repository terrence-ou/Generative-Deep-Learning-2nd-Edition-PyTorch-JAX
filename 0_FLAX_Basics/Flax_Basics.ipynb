{
 "cells": [
  {
   "cell_type": "code",
   "execution_count": 7,
   "id": "aa3f446b",
   "metadata": {},
   "outputs": [],
   "source": [
    "import jax\n",
    "from jax import jit\n",
    "from typing import Any, Callable, Sequence\n",
    "from jax import lax, random, numpy as jnp\n",
    "from flax.core import freeze, unfreeze\n",
    "from flax import linen as nn"
   ]
  },
  {
   "cell_type": "markdown",
   "id": "829956ed",
   "metadata": {},
   "source": [
    "# 1. Linear Regression with Flax"
   ]
  },
  {
   "cell_type": "code",
   "execution_count": 8,
   "id": "4f21d256",
   "metadata": {},
   "outputs": [],
   "source": [
    "#create a dense layer instance\n",
    "model = nn.Dense(features=5)"
   ]
  },
  {
   "cell_type": "markdown",
   "id": "97f73c66",
   "metadata": {},
   "source": [
    "### Model parameters & initialization"
   ]
  },
  {
   "cell_type": "code",
   "execution_count": 11,
   "id": "940ac31d",
   "metadata": {},
   "outputs": [
    {
     "data": {
      "text/plain": [
       "FrozenDict({\n",
       "    params: {\n",
       "        bias: (5,),\n",
       "        kernel: (10, 5),\n",
       "    },\n",
       "})"
      ]
     },
     "execution_count": 11,
     "metadata": {},
     "output_type": "execute_result"
    }
   ],
   "source": [
    "key1, key2 = random.split(random.PRNGKey(0))\n",
    "x = random.normal(key1, (10, )) # this x is used to trigger shape inference\n",
    "params = model.init(key2, x)\n",
    "jax.tree_map(lambda x: x.shape, params)"
   ]
  },
  {
   "cell_type": "markdown",
   "id": "83342cd0",
   "metadata": {},
   "source": [
    "Parameters are stored in a `FrozenDict` instance which deal with the function nature of JAX by preventing any mutation of the underlying dict and making the user aware of it."
   ]
  },
  {
   "cell_type": "code",
   "execution_count": 12,
   "id": "ca573d7a",
   "metadata": {
    "scrolled": false
   },
   "outputs": [
    {
     "name": "stdout",
     "output_type": "stream",
     "text": [
      "FrozenDict({\n",
      "    params: {\n",
      "        kernel: Array([[ 2.35571593e-01, -1.71652630e-01, -4.45728898e-02,\n",
      "                -4.68043625e-01,  4.54595298e-01],\n",
      "               [-6.87736511e-01,  3.67835432e-01, -1.79262117e-01,\n",
      "                 1.29276216e-01, -2.42580175e-01],\n",
      "               [ 2.02303097e-01, -2.49465629e-01,  2.74955630e-01,\n",
      "                 4.73488301e-01, -1.98002532e-01],\n",
      "               [ 2.74478376e-01, -1.21369645e-01, -2.25361690e-01,\n",
      "                -4.78193611e-01, -9.63979959e-02],\n",
      "               [-6.19886220e-02, -1.72743499e-01,  2.96947401e-04,\n",
      "                -7.17593431e-01,  2.00894251e-01],\n",
      "               [-5.60321212e-01,  3.27208459e-01,  1.06281511e-01,\n",
      "                 1.28758654e-01,  1.16973273e-01],\n",
      "               [ 1.82219014e-01,  1.11444041e-01, -1.62924170e-01,\n",
      "                 3.24953273e-02, -1.67053357e-01],\n",
      "               [ 4.31294084e-01,  2.08004534e-01,  1.47714198e-01,\n",
      "                -8.51502791e-02, -1.26487076e-01],\n",
      "               [ 3.29497337e-01,  1.08470373e-01, -4.01340097e-01,\n",
      "                 1.66956067e-01,  5.74723661e-01],\n",
      "               [-3.84744763e-01, -3.75315577e-01, -5.35782166e-02,\n",
      "                -2.51350939e-01, -4.78640795e-01]], dtype=float32),\n",
      "        bias: Array([0., 0., 0., 0., 0.], dtype=float32),\n",
      "    },\n",
      "})\n"
     ]
    }
   ],
   "source": [
    "print(params)"
   ]
  },
  {
   "cell_type": "code",
   "execution_count": 14,
   "id": "682d4b56",
   "metadata": {},
   "outputs": [
    {
     "name": "stdout",
     "output_type": "stream",
     "text": [
      "Dense(\n",
      "    # attributes\n",
      "    features = 5\n",
      "    use_bias = True\n",
      "    dtype = None\n",
      "    param_dtype = float32\n",
      "    precision = None\n",
      "    kernel_init = init\n",
      "    bias_init = zeros\n",
      "    dot_general = dot_general\n",
      ")\n"
     ]
    }
   ],
   "source": [
    "print(model)"
   ]
  },
  {
   "cell_type": "markdown",
   "id": "d84b57fd",
   "metadata": {},
   "source": [
    "### Gradient Descent"
   ]
  },
  {
   "cell_type": "code",
   "execution_count": 13,
   "id": "db0a5ba3",
   "metadata": {},
   "outputs": [
    {
     "name": "stdout",
     "output_type": "stream",
     "text": [
      "x shape:  (20, 10) ; y shape (20, 5)\n"
     ]
    }
   ],
   "source": [
    "# Set problem dimensions\n",
    "n_samples = 20\n",
    "x_dim = 10\n",
    "y_dim = 5\n",
    "\n",
    "# Generate random ground truth W and b\n",
    "key = random.PRNGKey(0)\n",
    "k1, k2 = random.split(key)\n",
    "W = random.normal(k1, (x_dim, y_dim))\n",
    "b = random.normal(k2, (y_dim,))\n",
    "\n",
    "# Store the parameters in a pytree\n",
    "true_params = freeze({'params':{'bias': b, 'kernel': W}})\n",
    "\n",
    "# Generate samples with additional noise\n",
    "key_sample, key_noise = random.split(k1)\n",
    "x_samples = random.normal(key_sample, (n_samples, x_dim))\n",
    "y_samples = jnp.dot(x_samples, W) + b + 0.1 * random.normal(key_noise, (n_samples, y_dim))\n",
    "print('x shape: ', x_samples.shape, '; y shape', y_samples.shape)"
   ]
  },
  {
   "cell_type": "code",
   "execution_count": null,
   "id": "6ab35b3d",
   "metadata": {},
   "outputs": [],
   "source": []
  }
 ],
 "metadata": {
  "kernelspec": {
   "display_name": "Python 3 (ipykernel)",
   "language": "python",
   "name": "python3"
  },
  "language_info": {
   "codemirror_mode": {
    "name": "ipython",
    "version": 3
   },
   "file_extension": ".py",
   "mimetype": "text/x-python",
   "name": "python",
   "nbconvert_exporter": "python",
   "pygments_lexer": "ipython3",
   "version": "3.9.0"
  }
 },
 "nbformat": 4,
 "nbformat_minor": 5
}
