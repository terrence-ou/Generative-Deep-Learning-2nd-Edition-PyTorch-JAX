{
 "cells": [
  {
   "cell_type": "code",
   "execution_count": 1,
   "id": "51d5259f-b02f-4da4-9460-fb170bd09479",
   "metadata": {},
   "outputs": [],
   "source": [
    "import jax\n",
    "import jax.numpy as jnp\n",
    "from jax import grad, jit, vmap\n",
    "from jax import random"
   ]
  },
  {
   "cell_type": "markdown",
   "id": "0d823bfa-d1f5-4064-b893-f61a732ac062",
   "metadata": {},
   "source": [
    "# 1. Multiplying Matrices"
   ]
  },
  {
   "cell_type": "code",
   "execution_count": 2,
   "id": "8fff3db3-261c-44ed-a3a7-b20a8b23620d",
   "metadata": {},
   "outputs": [
    {
     "name": "stdout",
     "output_type": "stream",
     "text": [
      "[0 0]\n",
      "[-0.3721109   0.26423115 -0.18252768 -0.7368197  -0.44030377 -0.1521442\n",
      " -0.67135346 -0.5908641   0.73168886  0.5673026 ]\n"
     ]
    }
   ],
   "source": [
    "key = random.PRNGKey(0)\n",
    "x = random.normal(key, (10,))\n",
    "print(key)\n",
    "print(x)"
   ]
  },
  {
   "cell_type": "markdown",
   "id": "41df0856-9553-4c47-b863-e2e36c88f889",
   "metadata": {},
   "source": [
    "Time taken for multiply matrices on JAX and Numpy"
   ]
  },
  {
   "cell_type": "code",
   "execution_count": 3,
   "id": "92bebbda-4f1f-49c4-bfec-685f45539baf",
   "metadata": {},
   "outputs": [
    {
     "name": "stdout",
     "output_type": "stream",
     "text": [
      "2.65 ms ± 36 µs per loop (mean ± std. dev. of 7 runs, 100 loops each)\n"
     ]
    }
   ],
   "source": [
    "size = 3000\n",
    "x = random.normal(key, (size, size), dtype=jnp.float32)\n",
    "%timeit jnp.dot(x, x.T).block_until_ready()"
   ]
  },
  {
   "cell_type": "code",
   "execution_count": 4,
   "id": "9ef8182b-dbe9-419e-9839-0adecd67cd6e",
   "metadata": {},
   "outputs": [
    {
     "name": "stdout",
     "output_type": "stream",
     "text": [
      "20.4 ms ± 475 µs per loop (mean ± std. dev. of 7 runs, 100 loops each)\n"
     ]
    }
   ],
   "source": [
    "import numpy as np\n",
    "x = np.random.normal(size=(size, size)).astype(np.float32)\n",
    "\n",
    "# Note here we actually using jnp to compute np array. In this case, np array should first been move to CUDA\n",
    "%timeit jnp.dot(x, x.T).block_until_ready()"
   ]
  },
  {
   "cell_type": "markdown",
   "id": "82514b77-a31c-4c59-9bd5-724f39ada595",
   "metadata": {},
   "source": [
    "Use `device_put` to ensure NDArray is backed by the device memory"
   ]
  },
  {
   "cell_type": "code",
   "execution_count": 5,
   "id": "9c5b3f83-5d06-43c2-9842-4bf1d408862b",
   "metadata": {},
   "outputs": [
    {
     "name": "stdout",
     "output_type": "stream",
     "text": [
      "2.62 ms ± 31 µs per loop (mean ± std. dev. of 7 runs, 100 loops each)\n"
     ]
    }
   ],
   "source": [
    "from jax import device_put\n",
    "\n",
    "x = np.random.normal(size=(size, size)).astype(np.float32)\n",
    "x = device_put(x)\n",
    "%timeit jnp.dot(x, x.T).block_until_ready()"
   ]
  },
  {
   "cell_type": "markdown",
   "id": "cdc3b0f2-2f81-4171-8b9e-87a07bc363f1",
   "metadata": {},
   "source": [
    "# 2. Using `jit()` to speed up function"
   ]
  },
  {
   "cell_type": "markdown",
   "id": "8ae0d768-9264-4fce-b2c0-ed581664fcc7",
   "metadata": {},
   "source": [
    "- JAX dispatches kernels to GPU one operation at a time;\n",
    "- `@jit` helps compile multiple operations together using XLA"
   ]
  },
  {
   "cell_type": "code",
   "execution_count": 6,
   "id": "8b6d63e1-2d29-4339-9fcf-15993a6e5a00",
   "metadata": {},
   "outputs": [
    {
     "name": "stdout",
     "output_type": "stream",
     "text": [
      "1.39 ms ± 531 µs per loop (mean ± std. dev. of 7 runs, 1 loop each)\n"
     ]
    }
   ],
   "source": [
    "def selu(x, alpha=1.67, lmbda=1.05):\n",
    "    return lmbda * jnp.where(x > 0, x, alpha * jnp.exp(x) - alpha)\n",
    "\n",
    "x = random.normal(key, (1000000,))\n",
    "%timeit selu(x).block_until_ready()"
   ]
  },
  {
   "cell_type": "code",
   "execution_count": 7,
   "id": "bb7bdc86-e359-485a-8b2e-1cf516aa1146",
   "metadata": {},
   "outputs": [
    {
     "name": "stdout",
     "output_type": "stream",
     "text": [
      "523 µs ± 292 µs per loop (mean ± std. dev. of 7 runs, 1,000 loops each)\n"
     ]
    }
   ],
   "source": [
    "selu_jit = jit(selu)\n",
    "%timeit selu_jit(x).block_until_ready()"
   ]
  },
  {
   "cell_type": "markdown",
   "id": "86351b18-a71b-4dd6-b679-32127d1b0d46",
   "metadata": {},
   "source": [
    "# 3. Taking derivatives with `grad()`"
   ]
  },
  {
   "cell_type": "code",
   "execution_count": 8,
   "id": "a51c4bd0-5f4c-43dc-891d-0344cd242d84",
   "metadata": {},
   "outputs": [
    {
     "name": "stdout",
     "output_type": "stream",
     "text": [
      "[0.25       0.19661194 0.10499357]\n"
     ]
    }
   ],
   "source": [
    "def sum_logistic(x):\n",
    "    return jnp.sum(1.0 / (1.0 + jnp.exp(-x)))\n",
    "\n",
    "x_small = jnp.arange(3.)\n",
    "derivative_fn = grad(sum_logistic)\n",
    "print(derivative_fn(x_small))"
   ]
  },
  {
   "cell_type": "code",
   "execution_count": 16,
   "id": "8b1e1c92-9efc-490e-8c94-7259fcb8a82d",
   "metadata": {},
   "outputs": [
    {
     "name": "stdout",
     "output_type": "stream",
     "text": [
      "[0.24998187 0.1965761  0.10502338]\n"
     ]
    }
   ],
   "source": [
    "# to verify the gradient\n",
    "def first_finite_differences(f, x):\n",
    "    eps = 1e-3\n",
    "    return jnp.array([\n",
    "        (f(x + eps * v) - f(x - eps * v)) / (2 * eps) for v in jnp.eye(len(x))\n",
    "    ])\n",
    "\n",
    "print(first_finite_differences(sum_logistic, x_small))"
   ]
  },
  {
   "cell_type": "markdown",
   "id": "90381f38-427f-4a5b-bcc5-9fbeaab409b9",
   "metadata": {},
   "source": [
    "# 4. Auto-vectorization with `vmap()`"
   ]
  },
  {
   "cell_type": "code",
   "execution_count": 24,
   "id": "d3c61a3d-a47e-49b7-be28-059e6eefc6ee",
   "metadata": {},
   "outputs": [],
   "source": [
    "mat = random.normal(key, (150, 100))\n",
    "batched_x = random.normal(key, (10, 100))\n",
    "\n",
    "def apply_matrix(v):\n",
    "  return jnp.dot(mat, v)"
   ]
  },
  {
   "cell_type": "code",
   "execution_count": 25,
   "id": "fdfdfaf4-a242-4b32-80fa-445f00a6ccdc",
   "metadata": {},
   "outputs": [
    {
     "name": "stdout",
     "output_type": "stream",
     "text": [
      "889 µs ± 32.8 µs per loop (mean ± std. dev. of 7 runs, 1,000 loops each)\n"
     ]
    }
   ],
   "source": [
    "@jit\n",
    "def batched_apply_matrix(v_batched):\n",
    "    return jnp.dot(v_batched, mat.T)\n",
    "\n",
    "%timeit batched_apply_matrix(batched_x).block_until_ready()"
   ]
  },
  {
   "cell_type": "code",
   "execution_count": 26,
   "id": "4ceaae06-f68f-4671-a957-718f532672cb",
   "metadata": {},
   "outputs": [
    {
     "name": "stdout",
     "output_type": "stream",
     "text": [
      "870 µs ± 29.4 µs per loop (mean ± std. dev. of 7 runs, 1,000 loops each)\n"
     ]
    }
   ],
   "source": [
    "@jit\n",
    "def vmap_batched_apply_matrix(v_batched):\n",
    "    return vmap(apply_matrix)(v_batched)\n",
    "\n",
    "%timeit vmap_batched_apply_matrix(batched_x).block_until_ready()"
   ]
  },
  {
   "cell_type": "code",
   "execution_count": null,
   "id": "f4dc6f92-130c-4c97-bc70-229e3319741c",
   "metadata": {},
   "outputs": [],
   "source": []
  }
 ],
 "metadata": {
  "kernelspec": {
   "display_name": "Python 3 (ipykernel)",
   "language": "python",
   "name": "python3"
  },
  "language_info": {
   "codemirror_mode": {
    "name": "ipython",
    "version": 3
   },
   "file_extension": ".py",
   "mimetype": "text/x-python",
   "name": "python",
   "nbconvert_exporter": "python",
   "pygments_lexer": "ipython3",
   "version": "3.9.16"
  }
 },
 "nbformat": 4,
 "nbformat_minor": 5
}
