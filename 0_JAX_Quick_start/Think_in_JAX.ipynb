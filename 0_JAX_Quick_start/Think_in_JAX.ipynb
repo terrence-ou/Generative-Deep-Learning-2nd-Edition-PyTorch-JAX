{
 "cells": [
  {
   "cell_type": "markdown",
   "id": "53fdf22e-9907-4cf2-a45b-19d93a9216ab",
   "metadata": {},
   "source": [
    "# 1. JAX vs. NumPy"
   ]
  },
  {
   "cell_type": "code",
   "execution_count": null,
   "id": "a6493472-e21a-4d58-9e46-52299dc6658f",
   "metadata": {},
   "outputs": [],
   "source": []
  }
 ],
 "metadata": {
  "kernelspec": {
   "display_name": "Python 3 (ipykernel)",
   "language": "python",
   "name": "python3"
  },
  "language_info": {
   "codemirror_mode": {
    "name": "ipython",
    "version": 3
   },
   "file_extension": ".py",
   "mimetype": "text/x-python",
   "name": "python",
   "nbconvert_exporter": "python",
   "pygments_lexer": "ipython3",
   "version": "3.9.16"
  }
 },
 "nbformat": 4,
 "nbformat_minor": 5
}
