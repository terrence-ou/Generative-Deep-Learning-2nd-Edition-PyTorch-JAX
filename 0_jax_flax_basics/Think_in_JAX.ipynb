{
 "cells": [
  {
   "cell_type": "markdown",
   "id": "836509c4",
   "metadata": {},
   "source": [
    "This notebook follows jax official website: https://jax.readthedocs.io/en/latest/notebooks/thinking_in_jax.html"
   ]
  },
  {
   "cell_type": "markdown",
   "id": "53fdf22e-9907-4cf2-a45b-19d93a9216ab",
   "metadata": {},
   "source": [
    "# 1. JAX vs. NumPy"
   ]
  },
  {
   "cell_type": "markdown",
   "id": "831202f6-b965-481e-9526-ef897e5922c1",
   "metadata": {},
   "source": [
    "JAX and NumPy are very similar, except that **JAX arrays are always immutable**"
   ]
  },
  {
   "cell_type": "code",
   "execution_count": 1,
   "id": "a6493472-e21a-4d58-9e46-52299dc6658f",
   "metadata": {},
   "outputs": [],
   "source": [
    "import jax\n",
    "import numpy as np\n",
    "import jax.numpy as jnp"
   ]
  },
  {
   "cell_type": "code",
   "execution_count": 2,
   "id": "914003b0-2d2b-4a13-a61c-489c1f6ae712",
   "metadata": {},
   "outputs": [
    {
     "data": {
      "text/plain": [
       "'gpu'"
      ]
     },
     "execution_count": 2,
     "metadata": {},
     "output_type": "execute_result"
    }
   ],
   "source": [
    "jax.default_backend()"
   ]
  },
  {
   "cell_type": "code",
   "execution_count": 3,
   "id": "06b44703-d3c4-462d-b5bc-14745fa8844a",
   "metadata": {},
   "outputs": [],
   "source": [
    "x_np = np.linspace(0, 10, 1000)\n",
    "x_jnp = jnp.linspace(0, 10, 1000)"
   ]
  },
  {
   "cell_type": "code",
   "execution_count": 4,
   "id": "0f39d956-6252-41b3-a9eb-6217e63aa90b",
   "metadata": {},
   "outputs": [
    {
     "name": "stdout",
     "output_type": "stream",
     "text": [
      "<class 'numpy.ndarray'>\n",
      "<class 'jaxlib.xla_extension.ArrayImpl'>\n"
     ]
    }
   ],
   "source": [
    "print(type(x_np))\n",
    "print(type(x_jnp))"
   ]
  },
  {
   "cell_type": "code",
   "execution_count": 5,
   "id": "c3369fad-e9c5-4e1b-86b2-736e216bb17a",
   "metadata": {},
   "outputs": [
    {
     "name": "stdout",
     "output_type": "stream",
     "text": [
      "[10  1  2  3  4  5  6  7  8  9]\n"
     ]
    }
   ],
   "source": [
    "# Numpy: mutable array\n",
    "x = np.arange(10)\n",
    "x[0] = 10\n",
    "print(x)"
   ]
  },
  {
   "cell_type": "code",
   "execution_count": 7,
   "id": "737c0ffd-2df8-4113-a622-fbfc233c3b9a",
   "metadata": {
    "scrolled": false
   },
   "outputs": [],
   "source": [
    "# JAX: immutable array\n",
    "x = jnp.arange(10)\n",
    "# x[0] = 10"
   ]
  },
  {
   "cell_type": "code",
   "execution_count": 8,
   "id": "e582d7a8-eeec-4383-a48e-7da7f4c64ec2",
   "metadata": {},
   "outputs": [
    {
     "name": "stdout",
     "output_type": "stream",
     "text": [
      "[0 1 2 3 4 5 6 7 8 9]\n",
      "[10  1  2  3  4  5  6  7  8  9]\n"
     ]
    }
   ],
   "source": [
    "y = x.at[0].set(10)\n",
    "print(x)\n",
    "print(y)"
   ]
  },
  {
   "cell_type": "markdown",
   "id": "febce4f0-febe-4dee-8870-16e55c41f0ec",
   "metadata": {},
   "source": [
    "# 2. JAX API Layering"
   ]
  },
  {
   "cell_type": "markdown",
   "id": "335ea81c-fd46-42f6-a244-11b264c4c1d8",
   "metadata": {},
   "source": [
    "`jax.numpy`: is a high-level wrapper that provides a familiar interface \\\n",
    "`jax.lax`: is a lower-level API that is stricter and often more powerful"
   ]
  },
  {
   "cell_type": "code",
   "execution_count": 9,
   "id": "b5cd7139-6afc-40ac-ac7c-8d2084643f77",
   "metadata": {},
   "outputs": [],
   "source": [
    "import jax.numpy as jnp\n",
    "import jax.lax as lax"
   ]
  },
  {
   "cell_type": "code",
   "execution_count": 10,
   "id": "cc902be0-2c5b-42d1-abdf-be292cfd0810",
   "metadata": {},
   "outputs": [
    {
     "data": {
      "text/plain": [
       "Array(2., dtype=float32, weak_type=True)"
      ]
     },
     "execution_count": 10,
     "metadata": {},
     "output_type": "execute_result"
    }
   ],
   "source": [
    "# jax.numpy API implicitly promotes mixed types\n",
    "jnp.add(1, 1.0)"
   ]
  },
  {
   "cell_type": "code",
   "execution_count": 11,
   "id": "a17430b7-1b60-46c8-bd8d-40eaf34b92f8",
   "metadata": {},
   "outputs": [],
   "source": [
    "# lax.add(1, 1.0) <- this won't working"
   ]
  },
  {
   "cell_type": "code",
   "execution_count": 12,
   "id": "b472b24c-e48a-48c4-8674-5aaa03f96dd8",
   "metadata": {},
   "outputs": [
    {
     "data": {
      "text/plain": [
       "Array(2., dtype=float32)"
      ]
     },
     "execution_count": 12,
     "metadata": {},
     "output_type": "execute_result"
    }
   ],
   "source": [
    "lax.add(jnp.float32(1), 1.0)"
   ]
  },
  {
   "cell_type": "code",
   "execution_count": 13,
   "id": "41facb03-4b20-4be5-b6fd-e81300f7b556",
   "metadata": {},
   "outputs": [
    {
     "data": {
      "text/plain": [
       "Array([1., 3., 4., 4., 4., 4., 4., 4., 4., 4., 3., 1.], dtype=float32)"
      ]
     },
     "execution_count": 13,
     "metadata": {},
     "output_type": "execute_result"
    }
   ],
   "source": [
    "x = jnp.array([1, 2, 1])\n",
    "y = jnp.ones(10)\n",
    "jnp.convolve(x, y)"
   ]
  },
  {
   "cell_type": "code",
   "execution_count": 14,
   "id": "9b2b164a-6e38-4499-9d2a-0448fe84ec5e",
   "metadata": {},
   "outputs": [
    {
     "data": {
      "text/plain": [
       "Array([1., 3., 4., 4., 4., 4., 4., 4., 4., 4., 3., 1.], dtype=float32)"
      ]
     },
     "execution_count": 14,
     "metadata": {},
     "output_type": "execute_result"
    }
   ],
   "source": [
    "# In lax, the convolution should be like:\n",
    "result = lax.conv_general_dilated(\n",
    "    x.reshape(1, 1, 3).astype(jnp.float32),\n",
    "    y.reshape(1, 1, 10),\n",
    "    window_strides=(1, ),\n",
    "    padding=[(len(y) - 1, len(y) - 1)]\n",
    ")\n",
    "result[0][0]"
   ]
  },
  {
   "cell_type": "markdown",
   "id": "4fc8778c-0e6f-42c6-97d8-da03bb4bdc84",
   "metadata": {},
   "source": [
    "# 3. JIT or not"
   ]
  },
  {
   "cell_type": "markdown",
   "id": "71a4e59f",
   "metadata": {},
   "source": [
    "- By default JAX executes operations one at a time, in sequence.\n",
    "- Using a just-in-time (JIT) compilation decorator, sequences of operations can be optimized together and run at once.\n",
    "- Not all JAX code can be JIT compiled, as it requires array shapes to be static & known at compile time."
   ]
  },
  {
   "cell_type": "code",
   "execution_count": 15,
   "id": "83c35abc",
   "metadata": {},
   "outputs": [],
   "source": [
    "import jax.numpy as jnp\n",
    "from jax import jit"
   ]
  },
  {
   "cell_type": "code",
   "execution_count": 16,
   "id": "2b5752fa",
   "metadata": {},
   "outputs": [],
   "source": [
    "def norm(X):\n",
    "    X = X - X.mean(0)\n",
    "    return X / X.std(0)\n",
    "\n",
    "norm_complied = jit(norm)"
   ]
  },
  {
   "cell_type": "code",
   "execution_count": 17,
   "id": "fc366f3c",
   "metadata": {},
   "outputs": [
    {
     "data": {
      "text/plain": [
       "True"
      ]
     },
     "execution_count": 17,
     "metadata": {},
     "output_type": "execute_result"
    }
   ],
   "source": [
    "np.random.seed(1701)\n",
    "X = jnp.array(np.random.rand(10000, 10))\n",
    "np.allclose(norm(X), norm_complied(X), atol=1E-6)"
   ]
  },
  {
   "cell_type": "code",
   "execution_count": 19,
   "id": "eba04166",
   "metadata": {},
   "outputs": [
    {
     "name": "stdout",
     "output_type": "stream",
     "text": [
      "1.06 ms ± 124 µs per loop (mean ± std. dev. of 7 runs, 1,000 loops each)\n",
      "1 ms ± 81.5 µs per loop (mean ± std. dev. of 7 runs, 1,000 loops each)\n"
     ]
    }
   ],
   "source": [
    "%timeit norm(X).block_until_ready()\n",
    "%timeit norm_complied(X).block_until_ready()"
   ]
  },
  {
   "cell_type": "markdown",
   "id": "335875cd",
   "metadata": {},
   "source": [
    "`jax.jit` does have limitations: in particular, it requires **all arrays to have static shapes**."
   ]
  },
  {
   "cell_type": "code",
   "execution_count": 20,
   "id": "ee618597",
   "metadata": {},
   "outputs": [
    {
     "data": {
      "text/plain": [
       "Array([0.34902555, 0.30862594, 0.16273628, 0.08442569, 0.19423719],      dtype=float32)"
      ]
     },
     "execution_count": 20,
     "metadata": {},
     "output_type": "execute_result"
    }
   ],
   "source": [
    "def get_negatives(x):\n",
    "    return x[x < 0.5]\n",
    "x = jnp.array(np.random.rand(10))\n",
    "# print(x)\n",
    "get_negatives(x)"
   ]
  },
  {
   "cell_type": "code",
   "execution_count": 21,
   "id": "3347309e",
   "metadata": {},
   "outputs": [],
   "source": [
    "# jit(get_negatives(x)) <- this won't working"
   ]
  },
  {
   "cell_type": "markdown",
   "id": "10e51339",
   "metadata": {},
   "source": [
    "# 4. JIT mechanics: tracing and static variables"
   ]
  },
  {
   "cell_type": "code",
   "execution_count": 22,
   "id": "f45bc59e",
   "metadata": {},
   "outputs": [
    {
     "name": "stdout",
     "output_type": "stream",
     "text": [
      "Running f():\n",
      "\tx = Traced<ShapedArray(float32[3,4])>with<DynamicJaxprTrace(level=1/0)>\n",
      "\ty = Traced<ShapedArray(float32[4])>with<DynamicJaxprTrace(level=1/0)>\n",
      "\tresult = Traced<ShapedArray(float32[3])>with<DynamicJaxprTrace(level=1/0)>\n"
     ]
    },
    {
     "data": {
      "text/plain": [
       "Array([ 3.9697716,  4.905651 , 10.853258 ], dtype=float32)"
      ]
     },
     "execution_count": 22,
     "metadata": {},
     "output_type": "execute_result"
    }
   ],
   "source": [
    "@jit\n",
    "def f(x, y):\n",
    "    print(\"Running f():\")\n",
    "    print(f\"\\tx = {x}\")\n",
    "    print(f\"\\ty = {y}\")\n",
    "    result = (x + 1) @ (y + 1)\n",
    "    print(f\"\\tresult = {result}\")\n",
    "    return result\n",
    "\n",
    "x = np.random.randn(3, 4)\n",
    "y = np.random.randn(4)\n",
    "f(x, y)"
   ]
  },
  {
   "cell_type": "markdown",
   "id": "74c44c6f",
   "metadata": {},
   "source": [
    "When we call the compiled function again on matching inputs, no re-compilation is required and nothing is printed because the result is computed in compiled XLA rather than in Python:"
   ]
  },
  {
   "cell_type": "code",
   "execution_count": 23,
   "id": "df691904",
   "metadata": {},
   "outputs": [
    {
     "data": {
      "text/plain": [
       "Array([1.1132462, 8.516753 , 3.0157707], dtype=float32)"
      ]
     },
     "execution_count": 23,
     "metadata": {},
     "output_type": "execute_result"
    }
   ],
   "source": [
    "x2 = np.random.randn(3, 4)\n",
    "y2 = np.random.randn(4)\n",
    "f(x2, y2)"
   ]
  },
  {
   "cell_type": "markdown",
   "id": "4dccef3e",
   "metadata": {},
   "source": [
    "If there are variables that you would not like to be traced, they can be marked as static for the purposes of JIT compilation:"
   ]
  },
  {
   "cell_type": "code",
   "execution_count": 24,
   "id": "f627480d",
   "metadata": {},
   "outputs": [
    {
     "data": {
      "text/plain": [
       "Array(-1, dtype=int32, weak_type=True)"
      ]
     },
     "execution_count": 24,
     "metadata": {},
     "output_type": "execute_result"
    }
   ],
   "source": [
    "from functools import partial\n",
    "\n",
    "@partial(jit, static_argnums=(1,))\n",
    "def f(x, neg):\n",
    "    return -x if neg else x\n",
    "\n",
    "f(1, True)"
   ]
  },
  {
   "cell_type": "code",
   "execution_count": 25,
   "id": "a276d163",
   "metadata": {},
   "outputs": [
    {
     "data": {
      "text/plain": [
       "Array(1, dtype=int32, weak_type=True)"
      ]
     },
     "execution_count": 25,
     "metadata": {},
     "output_type": "execute_result"
    }
   ],
   "source": [
    "f(1, False)"
   ]
  },
  {
   "cell_type": "markdown",
   "id": "16528199",
   "metadata": {},
   "source": [
    "# 5. Static vs Traced Operations"
   ]
  },
  {
   "cell_type": "markdown",
   "id": "476cb561",
   "metadata": {},
   "source": [
    "- Just as values can be either static or traced, operations can be static or traced.\n",
    "\n",
    "- Static operations are evaluated at compile-time in Python; traced operations are compiled & evaluated at run-time in XLA.\n",
    "\n",
    "- Use `numpy` for operations that you want to be static; use `jax.numpy` for operations that you want to be traced."
   ]
  },
  {
   "cell_type": "code",
   "execution_count": 26,
   "id": "d02221f2",
   "metadata": {},
   "outputs": [],
   "source": [
    "@jit\n",
    "def f(x):\n",
    "  return x.reshape(jnp.array(x.shape).prod())\n",
    "\n",
    "x = jnp.ones((2, 3))\n",
    "# f(x) <- this won't working so far"
   ]
  },
  {
   "cell_type": "code",
   "execution_count": 27,
   "id": "45649709",
   "metadata": {},
   "outputs": [
    {
     "name": "stdout",
     "output_type": "stream",
     "text": [
      "x = Traced<ShapedArray(float32[2,3])>with<DynamicJaxprTrace(level=1/0)>\n",
      "x.shape = (2, 3)\n",
      "jnp.array(x.shape).prod() = Traced<ShapedArray(int32[])>with<DynamicJaxprTrace(level=1/0)>\n"
     ]
    }
   ],
   "source": [
    "@jit\n",
    "def f(x):\n",
    "  print(f\"x = {x}\")\n",
    "  print(f\"x.shape = {x.shape}\")\n",
    "  print(f\"jnp.array(x.shape).prod() = {jnp.array(x.shape).prod()}\")\n",
    "  # comment this out to avoid the error:\n",
    "  # return x.reshape(jnp.array(x.shape).prod())\n",
    "\n",
    "f(x)"
   ]
  },
  {
   "cell_type": "markdown",
   "id": "bef8f9e2",
   "metadata": {},
   "source": [
    "Notice that although `x` is traced, `x.shape` is a static value. However, when we use `jnp.array` and `jnp.prod` on this static value, it becomes a traced value, at which point it cannot be used in a function like `reshape()` that requires a static input (recall: array shapes must be static).\n",
    "\n",
    "A useful pattern is to use `numpy` for operations that should be static (i.e. done at compile-time), and use `jax.numpy` for operations that should be traced (i.e. compiled and executed at run-time). For this function, it might look like this:"
   ]
  },
  {
   "cell_type": "code",
   "execution_count": 28,
   "id": "da1ad741",
   "metadata": {},
   "outputs": [
    {
     "data": {
      "text/plain": [
       "Array([1., 1., 1., 1., 1., 1.], dtype=float32)"
      ]
     },
     "execution_count": 28,
     "metadata": {},
     "output_type": "execute_result"
    }
   ],
   "source": [
    "@jit\n",
    "def f(x):\n",
    "  return x.reshape((np.prod(x.shape),))\n",
    "\n",
    "f(x)"
   ]
  },
  {
   "cell_type": "code",
   "execution_count": null,
   "id": "7729abc1",
   "metadata": {},
   "outputs": [],
   "source": []
  }
 ],
 "metadata": {
  "kernelspec": {
   "display_name": "Python 3 (ipykernel)",
   "language": "python",
   "name": "python3"
  },
  "language_info": {
   "codemirror_mode": {
    "name": "ipython",
    "version": 3
   },
   "file_extension": ".py",
   "mimetype": "text/x-python",
   "name": "python",
   "nbconvert_exporter": "python",
   "pygments_lexer": "ipython3",
   "version": "3.9.16"
  }
 },
 "nbformat": 4,
 "nbformat_minor": 5
}
