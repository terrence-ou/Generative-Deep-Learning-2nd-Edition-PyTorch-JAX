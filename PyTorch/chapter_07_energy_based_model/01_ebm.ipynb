{
 "cells": [
  {
   "cell_type": "markdown",
   "id": "d037be91-b62d-49d2-a6a0-e1e4470a61a7",
   "metadata": {},
   "source": [
    "# Energy-based Model (In-progress)\n",
    "\n",
    "**The notebook has been adapted from the notebook provided in David Foster's Generative Deep Learning, 2nd Edition.**\n",
    "\n",
    "- Book: [Amazon](https://www.amazon.com/Generative-Deep-Learning-Teaching-Machines/dp/1098134184?keywords=generative+deep+learning,+2nd+edition&qid=1684708209&sprefix=generative+de,aps,93&sr=8-1)\n",
    "- Original notebook (tensorflow and keras): [Github](https://github.com/davidADSP/Generative_Deep_Learning_2nd_Edition/blob/main/notebooks/07_ebm/01_ebm/ebm.ipynb)"
   ]
  },
  {
   "cell_type": "code",
   "execution_count": 1,
   "id": "17455117-10a3-4c32-aae4-357865356b9f",
   "metadata": {},
   "outputs": [
    {
     "name": "stdout",
     "output_type": "stream",
     "text": [
      "cuda\n"
     ]
    }
   ],
   "source": [
    "import random\n",
    "import collections\n",
    "from IPython import display\n",
    "from tqdm.notebook import tqdm\n",
    "\n",
    "import numpy as np\n",
    "\n",
    "import torch\n",
    "from torch import nn\n",
    "from torch.utils.data import DataLoader\n",
    "\n",
    "import torchvision\n",
    "from torchvision import transforms as Transforms\n",
    "from torchinfo import summary\n",
    "\n",
    "from torcheval import metrics as Metrics\n",
    "\n",
    "from matplotlib import pyplot as plt\n",
    "\n",
    "DEVICE = \"cuda\" if torch.cuda.is_available() else \"cpu\"\n",
    "# DEVICE = \"mps\" if torch.backends.mps.is_available() else \"cpu\" # this is only for Mac metal chips\n",
    "print(DEVICE)"
   ]
  },
  {
   "cell_type": "markdown",
   "id": "620f6abf-15c4-454a-9945-e7c3707c4b7a",
   "metadata": {},
   "source": [
    "## 0. Training Parameters"
   ]
  },
  {
   "cell_type": "code",
   "execution_count": 2,
   "id": "3d818e38-1314-4545-aa1e-fa8633e716b1",
   "metadata": {},
   "outputs": [],
   "source": [
    "IMAGE_SIZE = 32\n",
    "CHANNELS = 1\n",
    "STEP_SIZE = 10\n",
    "STEPS = 60\n",
    "NOISE = 5e-3\n",
    "ALPHA = 0.1\n",
    "GRADIENT_CLIP = 3e-2\n",
    "BATCH_SIZE = 128\n",
    "BUFFER_SIZE = 8192\n",
    "LEARNING_RATE = 1e-4\n",
    "EPOCHS = 60"
   ]
  },
  {
   "cell_type": "markdown",
   "id": "18d84158-5ed5-4bd1-bfd3-e847429a2ca7",
   "metadata": {},
   "source": [
    "## 1. MNIST Dataset"
   ]
  },
  {
   "cell_type": "code",
   "execution_count": 8,
   "id": "f0781de4-e5b4-416e-9094-bc2f7b580f97",
   "metadata": {},
   "outputs": [],
   "source": [
    "def get_dataloader():\n",
    "\n",
    "    transform = Transforms.Compose([\n",
    "                    Transforms.ToTensor(),\n",
    "                    Transforms.Resize(IMAGE_SIZE, antialias=True),\n",
    "                    Transforms.Normalize((0.0), (1.0)),])\n",
    "\n",
    "    train_ds = torchvision.datasets.MNIST(\"./data\", train=True,\n",
    "                                          download=True,\n",
    "                                          transform=transform)\n",
    "    test_ds = torchvision.datasets.MNIST(\"./data\", train=False,\n",
    "                                          download=True,\n",
    "                                          transform=transform)\n",
    "\n",
    "    train_loader = DataLoader(train_ds, batch_size=BATCH_SIZE, shuffle=True,\n",
    "                              num_workers=4)\n",
    "    test_loader = DataLoader(test_ds, batch_size=BATCH_SIZE, shuffle=False,\n",
    "                              num_workers=4)\n",
    "\n",
    "    return train_loader, test_loader"
   ]
  },
  {
   "cell_type": "code",
   "execution_count": 9,
   "id": "94e78af0-1b61-4bc3-9302-7418998abf3d",
   "metadata": {},
   "outputs": [
    {
     "name": "stdout",
     "output_type": "stream",
     "text": [
      "torch.Size([128, 1, 32, 32])\n"
     ]
    }
   ],
   "source": [
    "# check dataset and dataloader\n",
    "temp_loader, _ = get_dataloader()\n",
    "print(next(iter(temp_loader))[0].shape)"
   ]
  },
  {
   "cell_type": "code",
   "execution_count": 10,
   "id": "9bf25699-0eae-42a2-87de-973d96f29cf2",
   "metadata": {},
   "outputs": [],
   "source": [
    "test_imgs = next(iter(temp_loader))\n",
    "test_fig = test_imgs[0][0]\n",
    "test_fig = test_fig.data.clamp_(min=-1.0, max=1.0)"
   ]
  },
  {
   "cell_type": "markdown",
   "id": "5037158a-44c4-4d39-9226-ebd0dc77f4bf",
   "metadata": {},
   "source": [
    "## 2. Building Energy Function $E(x)$"
   ]
  },
  {
   "cell_type": "code",
   "execution_count": 11,
   "id": "4ff72095-8d40-4255-bf9f-00d90446666c",
   "metadata": {},
   "outputs": [],
   "source": [
    "class Energy(nn.Module):\n",
    "\n",
    "    conv_layers = 4\n",
    "    channels:list = [1, 16, 32, 64, 64]\n",
    "    kernels:list = [5, 3, 3, 3]\n",
    "    \n",
    "    def __init__(self):\n",
    "        super().__init__()\n",
    "        modules = []\n",
    "        # Adding convolutional layers + Swish activations\n",
    "        for i in range(self.conv_layers):\n",
    "            modules.append(nn.Conv2d(in_channels=self.channels[i], \n",
    "                                     out_channels=self.channels[i+1], \n",
    "                                     kernel_size=self.kernels[i],\n",
    "                                     stride=2,\n",
    "                                     padding=self.kernels[i] // 2))\n",
    "            modules.append(nn.SiLU())\n",
    "\n",
    "        # Adding linear layers\n",
    "        modules += [nn.Flatten(),\n",
    "                    nn.Linear(in_features=256, out_features=64),\n",
    "                    nn.SiLU(),\n",
    "                    nn.Linear(64, 1)]\n",
    "        self.model = nn.Sequential(*modules)\n",
    "\n",
    "    def forward(self, x):\n",
    "        return self.model(x)"
   ]
  },
  {
   "cell_type": "code",
   "execution_count": 12,
   "id": "b9b03911-f328-4b13-871d-dc0b80ddcd2c",
   "metadata": {},
   "outputs": [
    {
     "data": {
      "text/plain": [
       "==========================================================================================\n",
       "Layer (type:depth-idx)                   Output Shape              Param #\n",
       "==========================================================================================\n",
       "Energy                                   [32, 1]                   --\n",
       "├─Sequential: 1-1                        [32, 1]                   --\n",
       "│    └─Conv2d: 2-1                       [32, 16, 16, 16]          416\n",
       "│    └─SiLU: 2-2                         [32, 16, 16, 16]          --\n",
       "│    └─Conv2d: 2-3                       [32, 32, 8, 8]            4,640\n",
       "│    └─SiLU: 2-4                         [32, 32, 8, 8]            --\n",
       "│    └─Conv2d: 2-5                       [32, 64, 4, 4]            18,496\n",
       "│    └─SiLU: 2-6                         [32, 64, 4, 4]            --\n",
       "│    └─Conv2d: 2-7                       [32, 64, 2, 2]            36,928\n",
       "│    └─SiLU: 2-8                         [32, 64, 2, 2]            --\n",
       "│    └─Flatten: 2-9                      [32, 256]                 --\n",
       "│    └─Linear: 2-10                      [32, 64]                  16,448\n",
       "│    └─SiLU: 2-11                        [32, 64]                  --\n",
       "│    └─Linear: 2-12                      [32, 1]                   65\n",
       "==========================================================================================\n",
       "Total params: 76,993\n",
       "Trainable params: 76,993\n",
       "Non-trainable params: 0\n",
       "Total mult-adds (M): 27.64\n",
       "==========================================================================================\n",
       "Input size (MB): 0.13\n",
       "Forward/backward pass size (MB): 1.92\n",
       "Params size (MB): 0.31\n",
       "Estimated Total Size (MB): 2.36\n",
       "=========================================================================================="
      ]
     },
     "execution_count": 12,
     "metadata": {},
     "output_type": "execute_result"
    }
   ],
   "source": [
    "summary(Energy(), input_size=(32, 1, 32, 32))"
   ]
  },
  {
   "cell_type": "markdown",
   "id": "96287321-2940-4f2c-805b-2c4d65adc28f",
   "metadata": {},
   "source": [
    "## 3. Setting Up Langevin Sampler"
   ]
  },
  {
   "cell_type": "code",
   "execution_count": 27,
   "id": "fc00ff1d-87fb-4515-b9b1-bdeadbf7553b",
   "metadata": {},
   "outputs": [],
   "source": [
    "# Still a lot of uncertainty in this block\n",
    "\n",
    "def generate_samples(\n",
    "        model, input_imgs, steps, step_size, return_img_per_step=False):\n",
    "    \n",
    "    #turn off the gradient for the model; we only need gradients for the input image\n",
    "    model_state = model.training\n",
    "    grad_state = torch.is_grad_enabled()\n",
    "    torch.set_grad_enabled(True)\n",
    "    noise = torch.randn(input_imgs.shape, device=input_imgs.device)\n",
    "    \n",
    "    model.eval()\n",
    "    for params in model.parameters():\n",
    "        params.requires_grad = False\n",
    "    input_imgs.requires_grad = True\n",
    "        \n",
    "    imgs_per_step = []\n",
    "    for _ in range(steps):\n",
    "        # step 1: add noise to the input image\n",
    "        noise.normal_(0, NOISE)\n",
    "        input_imgs.data.add_(noise.data)\n",
    "        input_imgs.data.clamp_(min=-1.0, max=1.0)\n",
    "\n",
    "        # step 2: calculate gradients for the current input\n",
    "        output_imgs = -model(input_imgs)\n",
    "        output_imgs.sum().backward()\n",
    "        input_imgs.grad.data.clamp_(-GRADIENT_CLIP, GRADIENT_CLIP) # preventing gradient explosion or vanishing\n",
    "\n",
    "        # apply gradients to the current sample\n",
    "        input_imgs.data.add_(-step_size * input_imgs.grad.data)\n",
    "        input_imgs.grad.detach_()\n",
    "        input_imgs.grad.zero_()\n",
    "        input_imgs.data.clamp_(min=-1.0, max=1.0)\n",
    "\n",
    "        if return_img_per_step:\n",
    "            imgs_per_step.append(input_imgs.clone().detach())\n",
    "\n",
    "    # reset model states\n",
    "    for params in model.parameters():\n",
    "        params.requires_grad = True\n",
    "    \n",
    "    if model_state: model.train()\n",
    "    torch.set_grad_enabled(grad_state)\n",
    "\n",
    "    if return_img_per_step:\n",
    "        return torch.stack(imgs_per_step, dim=0)\n",
    "    else:\n",
    "        return input_imgs"
   ]
  },
  {
   "cell_type": "code",
   "execution_count": 40,
   "id": "f1101d73-c80d-43f1-955e-38a910d62ceb",
   "metadata": {},
   "outputs": [],
   "source": [
    "# display generative sequence\n",
    "def show_generative_process(num_samples=1):\n",
    "    # generate samples\n",
    "    start_imgs = torch.randn(size=(num_samples, 1, 32, 32)) * 2 - 1\n",
    "    start_imgs = start_imgs.to(DEVICE)\n",
    "    new_imgs = generate_samples(model, start_imgs, 1000, STEP_SIZE, True)\n",
    "    \n",
    "    # select the steps to display\n",
    "    sequence = (0, 1, 3, 5, 10, 30, 50, 100, 300, 999)\n",
    "    for i in range(num_samples):\n",
    "        selected_imgs = new_imgs[sequence, i, ].detach().cpu()\n",
    "        grid = torchvision.utils.make_grid(selected_imgs, nrow=len(sequence), normalize=True, value_range=(-1.0, 1.0))\n",
    "        plt.figure(figsize=(16, 3))\n",
    "        plt.imshow(grid.permute(1, 2, 0))\n",
    "        plt.yticks([])\n",
    "        plt.xticks([(IMAGE_SIZE + 2) * (0.5 + j) for j in range(10)],\n",
    "               labels= [0, 1, 3, 5, 10, 30, 50, 100, 300, 999])\n",
    "        plt.show()"
   ]
  },
  {
   "cell_type": "markdown",
   "id": "da1206fa-f318-450c-b1aa-c98df5b6d9bc",
   "metadata": {},
   "source": [
    "## 4. Setting up Buffer to Store Examples"
   ]
  },
  {
   "cell_type": "code",
   "execution_count": 20,
   "id": "b8746643-7a3e-4117-871a-951b246b6e4a",
   "metadata": {},
   "outputs": [],
   "source": [
    "class Buffer:\n",
    "\n",
    "    sample_size = BATCH_SIZE\n",
    "    channels = CHANNELS\n",
    "    img_size = IMAGE_SIZE\n",
    "    device = DEVICE\n",
    "    buffer_size = BUFFER_SIZE\n",
    "    \n",
    "    def __init__(self, model):\n",
    "        self.model = model\n",
    "        self.examples = [torch.rand(size=(1, self.channels, self.img_size, self.img_size)) * 2 - 1  \n",
    "                             for _ in range(self.sample_size)]\n",
    "\n",
    "    def sample_new_exmps(self, steps, step_size):\n",
    "        \n",
    "        n_new = np.random.binomial(self.sample_size, 0.05)\n",
    "        rand_imgs = torch.randn(size=(n_new, self.channels, self.img_size, self.img_size))\n",
    "        old_imgs = torch.cat(random.choices(self.examples, k=self.sample_size-n_new), dim=0)\n",
    "        input_imgs = torch.cat([old_imgs, rand_imgs], dim=0).detach().to(self.device)\n",
    "\n",
    "        input_imgs = generate_samples(self.model, input_imgs, steps, step_size)\n",
    "        self.examples = list(input_imgs.to(\"cpu\").chunk(self.sample_size, dim=0)) + self.examples\n",
    "        self.examples = self.examples[:self.buffer_size]\n",
    "        \n",
    "        return input_imgs"
   ]
  },
  {
   "cell_type": "markdown",
   "id": "622d90ba-b51e-4320-8af9-e4a45e069bd1",
   "metadata": {},
   "source": [
    "## 5. Setting up Energy-Based Model"
   ]
  },
  {
   "cell_type": "code",
   "execution_count": 21,
   "id": "5d748f91-c81b-4f1c-9cd5-81244b3e075e",
   "metadata": {},
   "outputs": [],
   "source": [
    "class EBM:\n",
    "\n",
    "    alpha = ALPHA\n",
    "    lr = LEARNING_RATE\n",
    "    steps = STEPS\n",
    "    step_size = STEP_SIZE\n",
    "    noise_scale = NOISE\n",
    "    device = DEVICE\n",
    "\n",
    "    def __init__(self, model):\n",
    "        self.model = model\n",
    "        self.buffer = Buffer(self.model)\n",
    "        # optimizer\n",
    "        self.optim = torch.optim.Adam(self.model.parameters(), lr=self.lr)\n",
    "        # metrics\n",
    "        self.train_metrics = {\n",
    "            \"loss\": Metrics.Mean(),\n",
    "            \"reg_loss\": Metrics.Mean(),\n",
    "            \"cdiv_loss\": Metrics.Mean(),\n",
    "            \"real\": Metrics.Mean(),\n",
    "            \"fake\": Metrics.Mean()\n",
    "        }\n",
    "        \n",
    "        self.valid_metrics = {\n",
    "            \"cdiv_loss\": Metrics.Mean(),\n",
    "            \"real\": Metrics.Mean(),\n",
    "            \"fake\": Metrics.Mean()\n",
    "        }\n",
    "\n",
    "    \n",
    "    def train_step(self, real_imgs):\n",
    "        self.model.train()\n",
    "        self.clear_metrics()\n",
    "\n",
    "        real_imgs = real_imgs.to(self.device)\n",
    "        noise = torch.randn_like(real_imgs) * self.noise_scale\n",
    "        real_imgs.add_(noise).clamp_(min=-1.0, max=1.0)\n",
    "        fake_imgs = self.buffer.sample_new_exmps(self.steps, self.step_size)\n",
    "        input_imgs = torch.cat([real_imgs, fake_imgs], dim=0)\n",
    "\n",
    "        self.optim.zero_grad()\n",
    "        real_out, fake_out = self.model(input_imgs).chunk(2, dim=0)\n",
    "\n",
    "        reg_loss = self.alpha * (real_out ** 2 + fake_out ** 2).mean()\n",
    "        cdiv_loss = fake_out.mean() - real_out.mean()\n",
    "        loss = reg_loss + cdiv_loss\n",
    "\n",
    "        loss.backward()\n",
    "        self.optim.step()\n",
    "\n",
    "        # update parameters\n",
    "        self.train_metrics[\"loss\"].update(loss.detach().cpu())\n",
    "        self.train_metrics[\"reg_loss\"].update(reg_loss.detach().cpu())\n",
    "        self.train_metrics[\"cdiv_loss\"].update(cdiv_loss.detach().cpu())\n",
    "        self.train_metrics[\"real\"].update(real_out.mean().detach().cpu())\n",
    "        self.train_metrics[\"fake\"].update(fake_out.mean().detach().cpu())\n",
    "        \n",
    "        return loss\n",
    "\n",
    "    \n",
    "    @torch.no_grad()\n",
    "    def validation_step(self, real_imgs):\n",
    "        self.model.eval()\n",
    "        \n",
    "        real_imgs = real_imgs.to(self.device)\n",
    "        fake_imgs = torch.rand_like(real_imgs) * 2 - 1\n",
    "\n",
    "        input_imgs = torch.cat([real_imgs, fake_imgs], dim=0)\n",
    "        real_out, fake_out = self.model(input_imgs).chunk(2, dim=0)\n",
    "\n",
    "        cdiv_loss = fake_out.mean() - real_out.mean()\n",
    "\n",
    "        self.valid_metrics[\"cdiv_loss\"].update(cdiv_loss.detach().cpu())\n",
    "        self.valid_metrics[\"real\"].update(real_out.mean().detach().cpu())\n",
    "        self.valid_metrics[\"fake\"].update(fake_out.mean().detach().cpu())\n",
    "\n",
    "\n",
    "    def clear_metrics(self):\n",
    "        for metric in self.train_metrics.values():\n",
    "            metric.reset()\n",
    "        for metric in self.valid_metrics.values():\n",
    "            metric.reset()"
   ]
  },
  {
   "cell_type": "markdown",
   "id": "4fb46e92-d415-4c57-851f-bfacc094f0a5",
   "metadata": {},
   "source": [
    "## 6. Train EBM"
   ]
  },
  {
   "cell_type": "code",
   "execution_count": 22,
   "id": "caa91825-b2fb-43c8-b63c-0a8d49501494",
   "metadata": {},
   "outputs": [],
   "source": [
    "train_loader, test_loader = get_dataloader()\n",
    "model = Energy().to(DEVICE)\n",
    "ebm = EBM(model)"
   ]
  },
  {
   "cell_type": "code",
   "execution_count": 12,
   "id": "d756a13c-21a6-4e78-9477-06ff680a56ea",
   "metadata": {},
   "outputs": [
    {
     "name": "stdout",
     "output_type": "stream",
     "text": [
      "Epoch:  60\n"
     ]
    },
    {
     "data": {
      "image/png": "[encoded data removed]",
      "text/plain": [
       "<Figure size 1600x300 with 5 Axes>"
      ]
     },
     "metadata": {},
     "output_type": "display_data"
    }
   ],
   "source": [
    "\n",
    "train_history = collections.defaultdict(list)\n",
    "valid_history = collections.defaultdict(list)\n",
    "\n",
    "for epoch in range(EPOCHS):\n",
    "\n",
    "    for _, (input_imgs, label) in enumerate(tqdm(train_loader)):\n",
    "        ebm.train_step(input_imgs)\n",
    "\n",
    "\n",
    "    for key, item in ebm.train_metrics.items():\n",
    "        val = item.compute().item()\n",
    "        train_history[key].append(val)\n",
    "        # print(key, \" | \", f\"{val:.6f}\")\n",
    "        \n",
    "    for _, (input_imgs, label) in enumerate(tqdm(test_loader)):\n",
    "        ebm.validation_step(input_imgs)\n",
    "    \n",
    "\n",
    "    for key, item in ebm.valid_metrics.items():\n",
    "        val = item.compute().item()\n",
    "        valid_history[key].append(val)\n",
    "        # print(key, \" | \", f\"{val:.6f}\")\n",
    "\n",
    "    display.clear_output(wait=True)\n",
    "    \n",
    "    print(\"Epoch: \", epoch + 1)\n",
    "    \n",
    "    plt.figure(figsize=(16, 3))\n",
    "    for i, key in enumerate(train_history):\n",
    "        ax = plt.subplot(1, len(train_history), i + 1)\n",
    "        ax.plot(train_history[key], c=\"tomato\")\n",
    "        if key in valid_history:\n",
    "            ax.plot(valid_history[key], c=\"steelblue\")\n",
    "        ax.set_title(key)\n",
    "    plt.show()\n",
    "\n",
    "    show_generative_process()\n"
   ]
  },
  {
   "cell_type": "code",
   "execution_count": 41,
   "id": "b2799872-8536-492c-8dbd-3be2c04f1126",
   "metadata": {},
   "outputs": [],
   "source": [
    "# start_imgs = torch.randn(size=(3, 1, 32, 32)) * 2 - 1\n",
    "# start_imgs = start_imgs.to(DEVICE)\n",
    "# new_imgs = generate_samples(model, start_imgs, 1000, STEP_SIZE, True)"
   ]
  },
  {
   "cell_type": "code",
   "execution_count": 42,
   "id": "bf2b423d-3a67-4ce5-9338-57aaa24eaf51",
   "metadata": {},
   "outputs": [],
   "source": [
    "# sequence = (0, 1, 3, 5, 10, 30, 50, 100, 300, 999)\n",
    "# for i in range(3):\n",
    "#     selected_imgs = new_imgs[sequence, i, ].detach().cpu()\n",
    "#     grid = torchvision.utils.make_grid(selected_imgs, nrow=len(sequence), normalize=True, value_range=(-1.0, 1.0))\n",
    "#     plt.figure(figsize=(15, 3))\n",
    "#     plt.imshow(grid.permute(1, 2, 0))\n",
    "#     plt.yticks([])\n",
    "#     plt.xticks([(IMAGE_SIZE + 2) * (0.5 + j) for j in range(10)],\n",
    "#            labels= [0, 1, 3, 5, 10, 30, 50, 100, 300, 999])\n",
    "#     plt.show()\n"
   ]
  },
  {
   "cell_type": "code",
   "execution_count": null,
   "id": "b929f4e1-2d01-4639-ae24-9a31c59b7dd6",
   "metadata": {},
   "outputs": [],
   "source": []
  }
 ],
 "metadata": {
  "kernelspec": {
   "display_name": "Python 3 (ipykernel)",
   "language": "python",
   "name": "python3"
  },
  "language_info": {
   "codemirror_mode": {
    "name": "ipython",
    "version": 3
   },
   "file_extension": ".py",
   "mimetype": "text/x-python",
   "name": "python",
   "nbconvert_exporter": "python",
   "pygments_lexer": "ipython3",
   "version": "3.9.17"
  }
 },
 "nbformat": 4,
 "nbformat_minor": 5
}
