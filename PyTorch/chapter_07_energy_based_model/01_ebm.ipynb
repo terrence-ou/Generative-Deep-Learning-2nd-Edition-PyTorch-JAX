{
 "cells": [
  {
   "cell_type": "markdown",
   "id": "d037be91-b62d-49d2-a6a0-e1e4470a61a7",
   "metadata": {},
   "source": [
    "# Energy-based Model (In-progress)\n",
    "\n",
    "**The notebook has been adapted from the notebook provided in David Foster's Generative Deep Learning, 2nd Edition.**\n",
    "\n",
    "- Book: [Amazon](https://www.amazon.com/Generative-Deep-Learning-Teaching-Machines/dp/1098134184?keywords=generative+deep+learning,+2nd+edition&qid=1684708209&sprefix=generative+de,aps,93&sr=8-1)\n",
    "- Original notebook (tensorflow and keras): [Github](https://github.com/davidADSP/Generative_Deep_Learning_2nd_Edition/blob/main/notebooks/07_ebm/01_ebm/ebm.ipynb)"
   ]
  },
  {
   "cell_type": "code",
   "execution_count": 1,
   "id": "17455117-10a3-4c32-aae4-357865356b9f",
   "metadata": {},
   "outputs": [],
   "source": [
    "import torch\n",
    "from torch import nn\n",
    "from torch.utils.data import DataLoader\n",
    "\n",
    "import torchvision\n",
    "from torchvision import transforms as Transforms\n",
    "from torchinfo import summary\n",
    "\n",
    "from matplotlib import pyplot as plt"
   ]
  },
  {
   "cell_type": "markdown",
   "id": "620f6abf-15c4-454a-9945-e7c3707c4b7a",
   "metadata": {},
   "source": [
    "## 0. Training Parameters"
   ]
  },
  {
   "cell_type": "code",
   "execution_count": 2,
   "id": "3d818e38-1314-4545-aa1e-fa8633e716b1",
   "metadata": {},
   "outputs": [],
   "source": [
    "IMAGE_SIZE = 32\n",
    "CHANNELS = 1\n",
    "STEP_SIZE = 10\n",
    "STEPS = 60\n",
    "NOISE = 5e-3\n",
    "ALPHA = 0.1\n",
    "GRADIENT_CLIP = 3e-2\n",
    "BATCH_SIZE = 128\n",
    "BUFFER_SIZE = 8192\n",
    "LEARNING_RATE = 1e-4\n",
    "EPOCHS = 60"
   ]
  },
  {
   "cell_type": "markdown",
   "id": "18d84158-5ed5-4bd1-bfd3-e847429a2ca7",
   "metadata": {},
   "source": [
    "## 1. MNIST Dataset"
   ]
  },
  {
   "cell_type": "code",
   "execution_count": 5,
   "id": "f0781de4-e5b4-416e-9094-bc2f7b580f97",
   "metadata": {},
   "outputs": [],
   "source": [
    "def get_dataloader():\n",
    "\n",
    "    transform = Transforms.Compose([\n",
    "                    Transforms.ToTensor(),\n",
    "                    Transforms.Resize(IMAGE_SIZE, antialias=True),\n",
    "                    Transforms.Normalize((0.5), (0.5)),\n",
    "                    Transforms.Pad(2),])\n",
    "\n",
    "    train_ds = torchvision.datasets.MNIST(\"./data\", train=True,\n",
    "                                          download=True,\n",
    "                                          transform=transform)\n",
    "    test_ds = torchvision.datasets.MNIST(\"./data\", train=False,\n",
    "                                          download=True,\n",
    "                                          transform=transform)\n",
    "\n",
    "    train_loader = DataLoader(train_ds, batch_size=BATCH_SIZE, shuffle=True,\n",
    "                              num_workers=4)\n",
    "    test_loader = DataLoader(test_ds, batch_size=BATCH_SIZE, shuffle=False,\n",
    "                              num_workers=4)\n",
    "\n",
    "    return train_loader, test_loader"
   ]
  },
  {
   "cell_type": "code",
   "execution_count": 4,
   "id": "94e78af0-1b61-4bc3-9302-7418998abf3d",
   "metadata": {},
   "outputs": [
    {
     "name": "stdout",
     "output_type": "stream",
     "text": [
      "torch.Size([128, 1, 36, 36])\n"
     ]
    }
   ],
   "source": [
    "# check dataset and dataloader\n",
    "temp_loader, _ = get_dataloader()\n",
    "print(next(iter(temp_loader))[0].shape)"
   ]
  },
  {
   "cell_type": "markdown",
   "id": "5037158a-44c4-4d39-9226-ebd0dc77f4bf",
   "metadata": {},
   "source": [
    "## 2. Building Energy Function $E(x)$"
   ]
  },
  {
   "cell_type": "code",
   "execution_count": 29,
   "id": "4ff72095-8d40-4255-bf9f-00d90446666c",
   "metadata": {},
   "outputs": [],
   "source": [
    "class Energy(nn.Module):\n",
    "\n",
    "    conv_layers = 4\n",
    "    channels:list = [1, 16, 32, 64, 64]\n",
    "    kernels:list = [5, 3, 3, 3]\n",
    "    \n",
    "    def __init__(self):\n",
    "        super().__init__()\n",
    "        modules = []\n",
    "        # Adding convolutional layers + Swish activations\n",
    "        for i in range(self.conv_layers):\n",
    "            modules.append(nn.Conv2d(in_channels=self.channels[i], \n",
    "                                     out_channels=self.channels[i+1], \n",
    "                                     kernel_size=self.kernels[i],\n",
    "                                     stride=2,\n",
    "                                     padding=self.kernels[i] // 2))\n",
    "            modules.append(nn.SiLU())\n",
    "\n",
    "        # Adding linear layers\n",
    "        modules += [nn.Flatten(),]\n",
    "                    #nn.Linear(in_features=36_928, out_features=64),\n",
    "                    #nn.SiLU(),\n",
    "                    #nn.Linear(64, 1)]\n",
    "        \n",
    "        self.model = nn.Sequential(*modules)\n",
    "\n",
    "    def forward(self, x):\n",
    "        return self.model(x)"
   ]
  },
  {
   "cell_type": "code",
   "execution_count": 30,
   "id": "b9b03911-f328-4b13-871d-dc0b80ddcd2c",
   "metadata": {},
   "outputs": [
    {
     "data": {
      "text/plain": [
       "==========================================================================================\n",
       "Layer (type:depth-idx)                   Output Shape              Param #\n",
       "==========================================================================================\n",
       "Energy                                   [32, 576]                 --\n",
       "├─Sequential: 1-1                        [32, 576]                 --\n",
       "│    └─Conv2d: 2-1                       [32, 16, 18, 18]          416\n",
       "│    └─SiLU: 2-2                         [32, 16, 18, 18]          --\n",
       "│    └─Conv2d: 2-3                       [32, 32, 9, 9]            4,640\n",
       "│    └─SiLU: 2-4                         [32, 32, 9, 9]            --\n",
       "│    └─Conv2d: 2-5                       [32, 64, 5, 5]            18,496\n",
       "│    └─SiLU: 2-6                         [32, 64, 5, 5]            --\n",
       "│    └─Conv2d: 2-7                       [32, 64, 3, 3]            36,928\n",
       "│    └─SiLU: 2-8                         [32, 64, 3, 3]            --\n",
       "│    └─Flatten: 2-9                      [32, 576]                 --\n",
       "==========================================================================================\n",
       "Total params: 60,480\n",
       "Trainable params: 60,480\n",
       "Non-trainable params: 0\n",
       "Total mult-adds (M): 41.77\n",
       "==========================================================================================\n",
       "Input size (MB): 0.17\n",
       "Forward/backward pass size (MB): 2.55\n",
       "Params size (MB): 0.24\n",
       "Estimated Total Size (MB): 2.96\n",
       "=========================================================================================="
      ]
     },
     "execution_count": 30,
     "metadata": {},
     "output_type": "execute_result"
    }
   ],
   "source": [
    "summary(Energy(), input_size=(32, 1, 36, 36))"
   ]
  },
  {
   "cell_type": "code",
   "execution_count": null,
   "id": "010e9581-f95e-410b-bd3a-4a15bca0c1dd",
   "metadata": {},
   "outputs": [],
   "source": []
  }
 ],
 "metadata": {
  "kernelspec": {
   "display_name": "Python 3 (ipykernel)",
   "language": "python",
   "name": "python3"
  },
  "language_info": {
   "codemirror_mode": {
    "name": "ipython",
    "version": 3
   },
   "file_extension": ".py",
   "mimetype": "text/x-python",
   "name": "python",
   "nbconvert_exporter": "python",
   "pygments_lexer": "ipython3",
   "version": "3.9.17"
  }
 },
 "nbformat": 4,
 "nbformat_minor": 5
}
