{
 "cells": [
  {
   "cell_type": "markdown",
   "id": "d037be91-b62d-49d2-a6a0-e1e4470a61a7",
   "metadata": {},
   "source": [
    "# Energy-based Model (In-progress)\n",
    "\n",
    "**The notebook has been adapted from the notebook provided in David Foster's Generative Deep Learning, 2nd Edition.**\n",
    "\n",
    "- Book: [Amazon](https://www.amazon.com/Generative-Deep-Learning-Teaching-Machines/dp/1098134184?keywords=generative+deep+learning,+2nd+edition&qid=1684708209&sprefix=generative+de,aps,93&sr=8-1)\n",
    "- Original notebook (tensorflow and keras): [Github](https://github.com/davidADSP/Generative_Deep_Learning_2nd_Edition/blob/main/notebooks/07_ebm/01_ebm/ebm.ipynb)"
   ]
  },
  {
   "cell_type": "code",
   "execution_count": 1,
   "id": "17455117-10a3-4c32-aae4-357865356b9f",
   "metadata": {},
   "outputs": [],
   "source": [
    "import torch\n",
    "from torch import nn\n",
    "from torch.utils.data import DataLoader\n",
    "\n",
    "import torchvision\n",
    "from torchvision import transforms as Transforms\n",
    "from torchinfo import summary\n",
    "\n",
    "from matplotlib import pyplot as plt"
   ]
  },
  {
   "cell_type": "markdown",
   "id": "620f6abf-15c4-454a-9945-e7c3707c4b7a",
   "metadata": {},
   "source": [
    "## 0. Training Parameters"
   ]
  },
  {
   "cell_type": "code",
   "execution_count": 2,
   "id": "3d818e38-1314-4545-aa1e-fa8633e716b1",
   "metadata": {},
   "outputs": [],
   "source": [
    "IMAGE_SIZE = 32\n",
    "CHANNELS = 1\n",
    "STEP_SIZE = 10\n",
    "STEPS = 60\n",
    "NOISE = 5e-3\n",
    "ALPHA = 0.1\n",
    "GRADIENT_CLIP = 3e-2\n",
    "BATCH_SIZE = 128\n",
    "BUFFER_SIZE = 8192\n",
    "LEARNING_RATE = 1e-4\n",
    "EPOCHS = 60"
   ]
  },
  {
   "cell_type": "markdown",
   "id": "18d84158-5ed5-4bd1-bfd3-e847429a2ca7",
   "metadata": {},
   "source": [
    "## 1. MNIST Dataset"
   ]
  },
  {
   "cell_type": "code",
   "execution_count": 9,
   "id": "f0781de4-e5b4-416e-9094-bc2f7b580f97",
   "metadata": {},
   "outputs": [],
   "source": [
    "def get_dataloader():\n",
    "\n",
    "    transform = Transforms.Compose([\n",
    "                    Transforms.ToTensor(),\n",
    "                    Transforms.Resize(IMAGE_SIZE, antialias=True),\n",
    "                    Transforms.Pad(2),])\n",
    "\n",
    "    train_ds = torchvision.datasets.MNIST(\"./data\", train=True,\n",
    "                                          download=True,\n",
    "                                          transform=transform)\n",
    "    test_ds = torchvision.datasets.MNIST(\"./data\", train=False,\n",
    "                                          download=True,\n",
    "                                          transform=transform)\n",
    "\n",
    "    train_loader = DataLoader(train_ds, batch_size=BATCH_SIZE, shuffle=True,\n",
    "                              num_workers=4)\n",
    "    test_loader = DataLoader(test_ds, batch_size=BATCH_SIZE, shuffle=False,\n",
    "                              num_workers=4)\n",
    "\n",
    "    return train_loader, test_loader"
   ]
  },
  {
   "cell_type": "code",
   "execution_count": 10,
   "id": "94e78af0-1b61-4bc3-9302-7418998abf3d",
   "metadata": {},
   "outputs": [],
   "source": [
    "train_loader, test_loader = get_dataloader()"
   ]
  },
  {
   "cell_type": "code",
   "execution_count": 12,
   "id": "14841ef3-7220-4280-9a04-865303806d9e",
   "metadata": {},
   "outputs": [
    {
     "data": {
      "text/plain": [
       "torch.Size([128, 1, 36, 36])"
      ]
     },
     "execution_count": 12,
     "metadata": {},
     "output_type": "execute_result"
    }
   ],
   "source": [
    "next(iter(train_loader))[0].shape"
   ]
  },
  {
   "cell_type": "code",
   "execution_count": null,
   "id": "6c92581c-17cf-45d5-b765-d5eb163c9620",
   "metadata": {},
   "outputs": [],
   "source": []
  }
 ],
 "metadata": {
  "kernelspec": {
   "display_name": "Python 3 (ipykernel)",
   "language": "python",
   "name": "python3"
  },
  "language_info": {
   "codemirror_mode": {
    "name": "ipython",
    "version": 3
   },
   "file_extension": ".py",
   "mimetype": "text/x-python",
   "name": "python",
   "nbconvert_exporter": "python",
   "pygments_lexer": "ipython3",
   "version": "3.9.17"
  }
 },
 "nbformat": 4,
 "nbformat_minor": 5
}
