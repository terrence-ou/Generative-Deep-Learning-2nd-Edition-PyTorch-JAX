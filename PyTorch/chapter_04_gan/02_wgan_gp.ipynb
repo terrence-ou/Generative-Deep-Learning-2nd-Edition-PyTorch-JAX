{
 "cells": [
  {
   "cell_type": "markdown",
   "id": "21ac02ed-39b6-450a-9cc3-e87f63612f86",
   "metadata": {},
   "source": [
    "# WGAN-GP on CelebA Dataset"
   ]
  },
  {
   "cell_type": "markdown",
   "id": "f0158ba5-8464-48bc-bb55-b7cdafd397cd",
   "metadata": {},
   "source": [
    "**The notebook has been adapted from the notebook provided in David Foster's Generative Deep Learning, 2nd Edition.**\n",
    "\n",
    "- Book: [Amazon](https://www.amazon.com/Generative-Deep-Learning-Teaching-Machines/dp/1098134184/ref=sr_1_1?keywords=generative+deep+learning%2C+2nd+edition&qid=1684708209&sprefix=generative+de%2Caps%2C93&sr=8-1)\n",
    "- Original notebook (tensorflow and keras): [Github](https://github.com/davidADSP/Generative_Deep_Learning_2nd_Edition/blob/main/notebooks/04_gan/02_wgan_gp/wgan_gp.ipynb)\n",
    "- Dataset: [Kaggle](https://www.kaggle.com/datasets/jessicali9530/celeba-dataset)"
   ]
  },
  {
   "cell_type": "code",
   "execution_count": 5,
   "id": "730e4aeb-8b38-4951-8c3e-c1b9e4918598",
   "metadata": {},
   "outputs": [],
   "source": [
    "import os\n",
    "from PIL import Image\n",
    "\n",
    "import torch\n",
    "from torch import nn\n",
    "from torch.utils.data import Dataset, DataLoader\n",
    "import torchvision.transforms as Transforms"
   ]
  },
  {
   "cell_type": "markdown",
   "id": "0837c6eb-367a-4035-8a80-841dfa5e2c96",
   "metadata": {},
   "source": [
    "## 0. Train parameters"
   ]
  },
  {
   "cell_type": "code",
   "execution_count": 2,
   "id": "74c2330e-84b4-4cc6-8dd7-facded15de60",
   "metadata": {},
   "outputs": [],
   "source": [
    "DATA_DIR = '../../data/CelebFaces/img_align_celeba/img_align_celeba/'\n",
    "IMAGE_SIZE = 64\n",
    "CHANNELS = 3\n",
    "BATCH_SIZE = 512\n",
    "Z_DIM = 128\n",
    "LR = 2e-4\n",
    "ADAM_BETA_1 = 0.5\n",
    "ADAM_BETA_2 = 0.9\n",
    "EPOCHS = 200\n",
    "CRITIC_STEPS = 3\n",
    "GP_WEIGHT = 10.0"
   ]
  },
  {
   "cell_type": "markdown",
   "id": "6dbe9a65-3309-410a-9d11-a218680300c9",
   "metadata": {},
   "source": [
    "## 1. Prepare dataset"
   ]
  },
  {
   "cell_type": "code",
   "execution_count": 6,
   "id": "ba34ebdd-57ae-4d67-a6bd-8bca5a77ef11",
   "metadata": {},
   "outputs": [],
   "source": [
    "class CelebA(Dataset):\n",
    "    def __init__(self, image_dir):\n",
    "        super().__init__(self)\n",
    "\n",
    "        self.transform = Transforms.Compose([\n",
    "                Transforms.ToTensor(),\n",
    "                Transforms.Resize(size=(IMAGE_SIZE, IMAGE_SIZE)),\n",
    "                Transforms.Normalize((0.5, 0.5, 0.5), (0.5, 0.5, 0.5))])\n",
    "\n",
    "        self.dir = image_dir\n",
    "        self.imgs = os.listdir(self.dir)\n",
    "        self.length = len(self.imgs)\n",
    "\n",
    "    def __len__(self):\n",
    "        return self.length\n",
    "\n",
    "    def __getitem(self, index):\n",
    "        output_img = self.transform(Image.open(self.dir + self.imgs[i]))\n",
    "        return output_img"
   ]
  },
  {
   "cell_type": "code",
   "execution_count": null,
   "id": "b6228654-0da9-4dd2-a4e0-c7034aeed1b5",
   "metadata": {},
   "outputs": [],
   "source": []
  }
 ],
 "metadata": {
  "kernelspec": {
   "display_name": "Python 3 (ipykernel)",
   "language": "python",
   "name": "python3"
  },
  "language_info": {
   "codemirror_mode": {
    "name": "ipython",
    "version": 3
   },
   "file_extension": ".py",
   "mimetype": "text/x-python",
   "name": "python",
   "nbconvert_exporter": "python",
   "pygments_lexer": "ipython3",
   "version": "3.9.0"
  }
 },
 "nbformat": 4,
 "nbformat_minor": 5
}
