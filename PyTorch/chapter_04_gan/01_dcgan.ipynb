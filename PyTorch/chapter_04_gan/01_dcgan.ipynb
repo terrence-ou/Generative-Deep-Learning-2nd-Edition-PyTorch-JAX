{
 "cells": [
  {
   "cell_type": "markdown",
   "id": "23c5057b-f290-4b41-b06a-ff73dc7040b2",
   "metadata": {},
   "source": [
    "# DCGAN on Bricks Dataset"
   ]
  },
  {
   "cell_type": "code",
   "execution_count": 11,
   "id": "5067dc54-5856-4af0-a52c-ce0be9e89999",
   "metadata": {},
   "outputs": [],
   "source": [
    "import os\n",
    "from PIL import Image\n",
    "\n",
    "import numpy as np\n",
    "\n",
    "import torch\n",
    "from torch import nn\n",
    "from torch.utils.data import Dataset, DataLoader\n",
    "from torchvision import transforms as Transforms\n",
    "\n",
    "from matplotlib import pyplot as plt"
   ]
  },
  {
   "cell_type": "markdown",
   "id": "1e080ea2-7a14-4b8d-b833-ae8d3cbd4242",
   "metadata": {},
   "source": [
    "## 0. Train Parameters"
   ]
  },
  {
   "cell_type": "code",
   "execution_count": 12,
   "id": "0910c1fc-2e93-414b-9148-1aef1efc656e",
   "metadata": {},
   "outputs": [
    {
     "data": {
      "text/plain": [
       "'cuda'"
      ]
     },
     "execution_count": 12,
     "metadata": {},
     "output_type": "execute_result"
    }
   ],
   "source": [
    "DATA_DIR = '../../data/Lego/dataset'\n",
    "IMAGE_SIZE = 64\n",
    "CHANNELS = 1\n",
    "BATCH_SIZE = 128\n",
    "\n",
    "DEVICE = 'cuda' if torch.cuda.is_available() else 'cpu'\n",
    "DEVICE"
   ]
  },
  {
   "cell_type": "markdown",
   "id": "590fa678-4eb7-4cb9-a271-5d1977473034",
   "metadata": {},
   "source": [
    "## 1. Prepare dataset"
   ]
  },
  {
   "cell_type": "code",
   "execution_count": null,
   "id": "074b3666-afd5-438c-8483-03753c813915",
   "metadata": {},
   "outputs": [],
   "source": [
    "class LegoData(Dataset):\n",
    "\n",
    "    def __init__(self, image_dir):\n",
    "        super().__init__()\n",
    "        self.image_dir = image_dir\n",
    "        self.imgs = os.listdir(self.image_dir)\n",
    "        self.length = len(self.imgs)\n",
    "\n",
    "        # Define transforms\n",
    "        self.transform = Transforms.Compose(\n",
    "                            Transforms.ToTensor(),\n",
    "                            Transforms.Resize(size=(IMAGE_SIZE, IMAGE_SIZE))\n",
    "        )\n",
    "\n",
    "    def __len__(self):\n",
    "        return self.length\n",
    "\n",
    "    def __getitem__(self, index):\n",
    "        pass"
   ]
  }
 ],
 "metadata": {
  "kernelspec": {
   "display_name": "Python 3 (ipykernel)",
   "language": "python",
   "name": "python3"
  },
  "language_info": {
   "codemirror_mode": {
    "name": "ipython",
    "version": 3
   },
   "file_extension": ".py",
   "mimetype": "text/x-python",
   "name": "python",
   "nbconvert_exporter": "python",
   "pygments_lexer": "ipython3",
   "version": "3.9.0"
  }
 },
 "nbformat": 4,
 "nbformat_minor": 5
}
