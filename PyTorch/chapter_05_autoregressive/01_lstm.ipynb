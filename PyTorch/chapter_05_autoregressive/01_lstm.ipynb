{
 "cells": [
  {
   "cell_type": "markdown",
   "id": "c12c6fab-b046-4739-884f-0a63b9298246",
   "metadata": {},
   "source": [
    "# LSTM on Recipe Data"
   ]
  },
  {
   "cell_type": "markdown",
   "id": "fce0db59-ce7c-432c-afda-2bd1f5a3f666",
   "metadata": {},
   "source": [
    "**The notebook has been adapted from the notebook provided in David Foster's Generative Deep Learning, 2nd Edition.**\n",
    "\n",
    "- Book: [Amazon](https://www.amazon.com/Generative-Deep-Learning-Teaching-Machines/dp/1098134184/ref=sr_1_1?keywords=generative+deep+learning%2C+2nd+edition&qid=1684708209&sprefix=generative+de%2Caps%2C93&sr=8-1)\n",
    "- Original notebook (tensorflow and keras): [Github](https://github.com/davidADSP/Generative_Deep_Learning_2nd_Edition/blob/main/notebooks/05_autoregressive/01_lstm/lstm.ipynb)\n",
    "- Dataset: [Kaggle](https://www.kaggle.com/datasets/hugodarwood/epirecipes)"
   ]
  },
  {
   "cell_type": "code",
   "execution_count": 1,
   "id": "18a75e59-1fd7-4879-8ddc-2534fbdcfc94",
   "metadata": {},
   "outputs": [],
   "source": [
    "import numpy as np\n",
    "import json\n",
    "import re\n",
    "import string\n",
    "import time\n",
    "\n",
    "import torch\n",
    "from torch import nn\n",
    "from torch.nn.functional import pad\n",
    "from torch.utils.data import Dataset, DataLoader, random_split\n",
    "\n",
    "from torchtext.vocab import build_vocab_from_iterator\n",
    "from torchtext.data.utils import get_tokenizer\n",
    "\n",
    "import torchinfo"
   ]
  },
  {
   "cell_type": "markdown",
   "id": "fedd03ec-0126-4d07-893e-dc454c6d16e2",
   "metadata": {},
   "source": [
    "## 0. Train parameters"
   ]
  },
  {
   "cell_type": "code",
   "execution_count": 2,
   "id": "5d4de63f-867b-4c6b-b0ea-335a385517a6",
   "metadata": {},
   "outputs": [],
   "source": [
    "DATA_DIR = '../../data/epirecipes/full_format_recipes.json'\n",
    "\n",
    "EMBEDDING_DIM = 100\n",
    "HIDDEN_DIM = 128\n",
    "VALIDATION_SPLIT = 0.2\n",
    "SEED = 1024\n",
    "BATCH_SIZE = 32\n",
    "EPOCHS = 30\n",
    "\n",
    "MAX_PAD_LEN = 200\n",
    "MAX_VAL_TOKENS = 100 # Max number of tokens when generating texts\n",
    "\n",
    "DEVICE = 'cuda' if torch.cuda.is_available() else 'cpu'"
   ]
  },
  {
   "cell_type": "markdown",
   "id": "c48ceccc-efd6-4b85-805a-d3bea8b72120",
   "metadata": {},
   "source": [
    "## 1. Load dataset"
   ]
  },
  {
   "cell_type": "code",
   "execution_count": 3,
   "id": "673da423-0772-4e13-9496-a22e5c5916f9",
   "metadata": {},
   "outputs": [],
   "source": [
    "def pad_punctuation(sentence):\n",
    "    sentence = re.sub(f'([{string.punctuation}])', r' \\1 ', sentence)\n",
    "    sentence = re.sub(' +', ' ', sentence)\n",
    "    return sentence"
   ]
  },
  {
   "cell_type": "code",
   "execution_count": 4,
   "id": "d47ce264-2543-43d3-8eef-7f24d3ecf019",
   "metadata": {},
   "outputs": [],
   "source": [
    "# Load dataset\n",
    "with open(DATA_DIR, 'r+') as f:\n",
    "    recipe_data = json.load(f)"
   ]
  },
  {
   "cell_type": "code",
   "execution_count": 5,
   "id": "b33cbc22-91c1-403b-a602-531cf47455b4",
   "metadata": {},
   "outputs": [
    {
     "name": "stdout",
     "output_type": "stream",
     "text": [
      "Total recipe loaded: 20098\n"
     ]
    }
   ],
   "source": [
    "# preprocess dataset\n",
    "filtered_data = [\n",
    "    'Recipe for ' + x['title'] + ' | ' + ' '.join(x['directions'])\n",
    "    for x in recipe_data\n",
    "    if 'title' in x and x['title']\n",
    "    and 'directions' in x and x['directions']\n",
    "]\n",
    "\n",
    "text_ds = [pad_punctuation(sentence) for sentence in filtered_data]\n",
    "\n",
    "print(f'Total recipe loaded: {len(text_ds)}')"
   ]
  },
  {
   "cell_type": "code",
   "execution_count": 6,
   "id": "bc7d7d85-b07c-4c64-a78e-b5ee38b16120",
   "metadata": {},
   "outputs": [
    {
     "name": "stdout",
     "output_type": "stream",
     "text": [
      "Sample data:\n",
      "Recipe for Ricotta Cheesecake | Preheat oven to 350°F . Pulse flour , sugar , salt , and butter in a food processor until mixture resembles coarse meal . Add yolk , vanilla , and lemon juice and pulse just until mixture begins to form a dough . Spread dough with a small offset spatula or back of a spoon over buttered bottom of a 24 - centimeter springform pan and prick all over with a fork . Chill 30 minutes . Bake crust in a shallow baking pan ( to catch drips ) in middle of oven until golden brown , about 25 minutes , and cool on a rack . Increase temperature to 375°F . Discard liquid and cheesecloth and force drained ricotta through sieve into bowl . Beat yolks and sugar with an electric mixer until thick and pale , then beat in ricotta , flour , and zests . Beat whites with salt in another bowl until they hold soft peaks , and fold into ricotta mixture . Butter side of springform pan and pour filling over crust ( pan will be completely full ) . Bake in baking pan in middle of oven until cake is puffed and golden and a tester inserted 1 inch from center comes out clean , about 1 hour . Run a knife around top edge of cake to loosen and cool completely in springform pan on rack . Chill , loosely covered , at least 4 hours . Remove side of pan and transfer cake to a plate . Bring to room temperature before serving . \n"
     ]
    }
   ],
   "source": [
    "print('Sample data:')\n",
    "sample_data = np.random.choice(text_ds)\n",
    "print(sample_data)"
   ]
  },
  {
   "cell_type": "markdown",
   "id": "c80f4e5d-fd9a-4c89-ab0e-d82c20d7b690",
   "metadata": {},
   "source": [
    "## 2. Build vocabularies"
   ]
  },
  {
   "cell_type": "code",
   "execution_count": 7,
   "id": "667a7462-74b1-43de-854b-0616f581facb",
   "metadata": {},
   "outputs": [],
   "source": [
    "# The iterator that yields tokenized data\n",
    "def yield_tokens(data_iter, tokenizer):\n",
    "    for sample in data_iter:\n",
    "        yield tokenizer(sample)\n",
    "\n",
    "# Building vocabulary\n",
    "def build_vocab(dataset, tokenizer):\n",
    "    vocab = build_vocab_from_iterator(\n",
    "        yield_tokens(dataset, tokenizer),\n",
    "        min_freq=2,\n",
    "        specials=['<pad>', '<unk>']\n",
    "    )\n",
    "    return vocab"
   ]
  },
  {
   "cell_type": "code",
   "execution_count": 8,
   "id": "30ecca2d-4340-441d-9c82-d9dde0ad2174",
   "metadata": {},
   "outputs": [],
   "source": [
    "tokenizer = get_tokenizer('basic_english')\n",
    "vocab = build_vocab(text_ds, tokenizer)\n",
    "vocab.set_default_index(vocab['<unk>'])\n",
    "\n",
    "# Create index-to-word mapping\n",
    "index_to_word = {index : word for word, index in vocab.get_stoi().items()}"
   ]
  },
  {
   "cell_type": "code",
   "execution_count": 9,
   "id": "ab021f66-5ca0-41bf-9b8e-f0121aaf20ab",
   "metadata": {},
   "outputs": [
    {
     "name": "stdout",
     "output_type": "stream",
     "text": [
      "0: <pad>\n",
      "1: <unk>\n",
      "2: .\n",
      "3: ,\n",
      "4: and\n",
      "5: to\n",
      "6: in\n",
      "7: the\n",
      "8: with\n",
      "9: a\n"
     ]
    }
   ],
   "source": [
    "# display some token-word mappings\n",
    "for i in range(10):\n",
    "    word = vocab.get_itos()[i]\n",
    "    print(f'{i}: {word}')"
   ]
  },
  {
   "cell_type": "code",
   "execution_count": 10,
   "id": "b7a952c5-43da-4428-8a53-6f76afa69974",
   "metadata": {},
   "outputs": [
    {
     "name": "stdout",
     "output_type": "stream",
     "text": [
      "Source text:\n",
      "Recipe for Ricotta Cheesecake | Preheat oven to 350°F . Pulse flour , sugar , salt , and butter in a food processor until mixture resembles coarse meal . Add yolk , vanilla , and lemon juice and pulse just until mixture begins to form a dough . Spread dough with a small offset spatula or back of a spoon over buttered bottom of a 24 - centimeter springform pan and prick all over with a fork . Chill 30 minutes . Bake crust in a shallow baking pan ( to catch drips ) in middle of oven until golden brown , about 25 minutes , and cool on a rack . Increase temperature to 375°F . Discard liquid and cheesecloth and force drained ricotta through sieve into bowl . Beat yolks and sugar with an electric mixer until thick and pale , then beat in ricotta , flour , and zests . Beat whites with salt in another bowl until they hold soft peaks , and fold into ricotta mixture . Butter side of springform pan and pour filling over crust ( pan will be completely full ) . Bake in baking pan in middle of oven until cake is puffed and golden and a tester inserted 1 inch from center comes out clean , about 1 hour . Run a knife around top edge of cake to loosen and cool completely in springform pan on rack . Chill , loosely covered , at least 4 hours . Remove side of pan and transfer cake to a plate . Bring to room temperature before serving . \n",
      "\n",
      "\n",
      "Mapped sample:\n",
      "[25, 16, 781, 1060, 26, 85, 46, 5, 215, 2, 434, 110, 3, 55, 3, 23, 3, 4, 49, 6, 9, 289, 187, 10, 30, 730, 409, 641, 2, 18, 697, 3, 257, 3, 4, 108, 103, 4, 434, 92, 10, 30, 546, 5, 236, 9, 93, 2, 165, 93, 8, 9, 64, 1610, 381, 40, 401, 14, 9, 97, 20, 671, 168, 14, 9, 982, 13, 5195, 902, 43, 4, 1318, 121, 20, 8, 9, 334, 2, 107, 125, 12, 2, 96, 241, 6, 9, 341, 57, 43, 33, 5, 1734, 2819, 34, 6, 253, 14, 46, 10, 99, 89, 3, 19, 353, 12, 3, 4, 59, 27, 9, 118, 2, 544, 111, 5, 421, 2, 205, 142, 4, 940, 4, 1151, 1193, 781, 101, 304, 24, 21, 2, 144, 430, 4, 55, 8, 177, 329, 287, 10, 196, 4, 500, 3, 45, 144, 6, 781, 3, 110, 3, 4, 2247, 2, 144, 380, 8, 23, 6, 255, 21, 10, 314, 530, 284, 396, 3, 4, 252, 24, 781, 30, 2, 49, 95, 14, 902, 43, 4, 106, 216, 20, 241, 33, 43, 190, 61, 222, 1254, 34, 2, 96, 6, 57, 43, 6, 253, 14, 46, 10, 136, 37, 743, 4, 99, 4, 9, 637, 366, 11, 52, 50, 167, 441, 124, 367, 3, 19, 11, 171, 2, 622, 9, 265, 274, 71, 422, 14, 136, 5, 664, 4, 59, 222, 6, 902, 43, 27, 118, 2, 107, 3, 516, 120, 3, 56, 203, 31, 105, 2, 70, 95, 14, 43, 4, 39, 136, 5, 9, 218, 2, 83, 5, 139, 111, 164, 223, 2]\n"
     ]
    }
   ],
   "source": [
    "# Check mappings\n",
    "mapped_sample = vocab(tokenizer(sample_data))\n",
    "print('Source text:')\n",
    "print(sample_data)\n",
    "print('\\n')\n",
    "print('Mapped sample:')\n",
    "print(mapped_sample)"
   ]
  },
  {
   "cell_type": "markdown",
   "id": "cd401c53-04a6-4cee-bf39-ae446e6ac2a9",
   "metadata": {},
   "source": [
    "# 3. Create DataLoader"
   ]
  },
  {
   "cell_type": "code",
   "execution_count": 11,
   "id": "1f3d9056-9364-4cb9-ae1c-e43e1fc84a6c",
   "metadata": {},
   "outputs": [],
   "source": [
    "class Collate():\n",
    "    def __init__(self, tokenizer, vocab, max_padding, pad_idx):\n",
    "        self.tokenizer = tokenizer\n",
    "        self.vocab = vocab\n",
    "\n",
    "        self.max_padding = max_padding\n",
    "        self.pad_idx = pad_idx\n",
    "\n",
    "    \n",
    "    def collate_fn(self, batch):\n",
    "        src_list = []\n",
    "        tgt_list = []\n",
    "\n",
    "        # Prepare source and target batch\n",
    "        for sentence in batch:\n",
    "            # convert text to vocab tensor\n",
    "            tokens = self.tokenizer(sentence)\n",
    "            src_mapping = torch.tensor(self.vocab(tokens[:-1]), dtype=torch.int64)\n",
    "            tgt_mapping = torch.tensor(self.vocab(tokens[1:]), dtype=torch.int64)\n",
    "            # pad sequence\n",
    "            src_padded = pad(src_mapping, [0, self.max_padding - len(src_mapping)], value=self.pad_idx)\n",
    "            tgt_padded = pad(tgt_mapping, [0, self.max_padding - len(tgt_mapping)], value=self.pad_idx)\n",
    "            # append padded sequence to corresponding lists\n",
    "            src_list.append(src_padded)\n",
    "            tgt_list.append(tgt_padded)\n",
    "\n",
    "        # stack batch\n",
    "        src = torch.stack(src_list)\n",
    "        tgt = torch.stack(tgt_list)\n",
    "\n",
    "        return (src, tgt)"
   ]
  },
  {
   "cell_type": "code",
   "execution_count": 12,
   "id": "a5aa5a77-c71f-469c-9bb6-681c0be398f7",
   "metadata": {},
   "outputs": [
    {
     "name": "stdout",
     "output_type": "stream",
     "text": [
      "Num. training data: \t 16079\n",
      "Num. validation data: \t 4019\n"
     ]
    }
   ],
   "source": [
    "# Split dataset into training and validation splits\n",
    "train_ds, valid_ds = random_split(text_ds, [1-VALIDATION_SPLIT, VALIDATION_SPLIT])\n",
    "print(\"Num. training data: \\t\", len(train_ds))\n",
    "print(\"Num. validation data: \\t\", len(valid_ds))"
   ]
  },
  {
   "cell_type": "code",
   "execution_count": 13,
   "id": "81a9fcdf-4830-4f63-a3e4-8cf9058ee28f",
   "metadata": {},
   "outputs": [
    {
     "name": "stdout",
     "output_type": "stream",
     "text": [
      "index of <pad> token:  0\n"
     ]
    }
   ],
   "source": [
    "pad_idx = vocab.get_stoi()['<pad>']\n",
    "print('index of <pad> token: ', pad_idx)\n",
    "\n",
    "collate = Collate(tokenizer, vocab, MAX_PAD_LEN+1, pad_idx)\n",
    "\n",
    "train_loader = DataLoader(train_ds, batch_size=BATCH_SIZE, \n",
    "                          shuffle=True, num_workers=8, pin_memory=True,\n",
    "                          collate_fn=collate.collate_fn)\n",
    "\n",
    "valid_loader = DataLoader(valid_ds, batch_size=BATCH_SIZE, \n",
    "                          shuffle=False, num_workers=8, pin_memory=True,\n",
    "                          collate_fn=collate.collate_fn)"
   ]
  },
  {
   "cell_type": "markdown",
   "id": "b251e235-0cdd-4c87-9c1e-75d2faa61997",
   "metadata": {},
   "source": [
    "## 4. Build LSTM model"
   ]
  },
  {
   "cell_type": "code",
   "execution_count": 14,
   "id": "cb877b2b-f1df-4ac6-a66f-b0d15bd37557",
   "metadata": {},
   "outputs": [
    {
     "data": {
      "text/plain": [
       "==========================================================================================\n",
       "Layer (type:depth-idx)                   Output Shape              Param #\n",
       "==========================================================================================\n",
       "LSTM_Net                                 [32, 201, 8628]           --\n",
       "├─Embedding: 1-1                         [32, 201, 100]            862,800\n",
       "├─LSTM: 1-2                              [32, 201, 128]            249,856\n",
       "├─Linear: 1-3                            [32, 201, 8628]           1,113,012\n",
       "==========================================================================================\n",
       "Total params: 2,225,668\n",
       "Trainable params: 2,225,668\n",
       "Non-trainable params: 0\n",
       "Total mult-adds (G): 1.67\n",
       "==========================================================================================\n",
       "Input size (MB): 0.05\n",
       "Forward/backward pass size (MB): 455.69\n",
       "Params size (MB): 8.90\n",
       "Estimated Total Size (MB): 464.65\n",
       "=========================================================================================="
      ]
     },
     "execution_count": 14,
     "metadata": {},
     "output_type": "execute_result"
    }
   ],
   "source": [
    "class LSTM_Net(nn.Module):\n",
    "\n",
    "    def __init__(self, vocab_size):\n",
    "        super().__init__()\n",
    "        self.embedding = nn.Embedding(num_embeddings=vocab_size,\n",
    "                                      embedding_dim=EMBEDDING_DIM,\n",
    "                                      padding_idx=pad_idx)\n",
    "        \n",
    "        self.lstm = nn.LSTM(input_size=EMBEDDING_DIM,\n",
    "                            hidden_size=HIDDEN_DIM,\n",
    "                            num_layers=2,\n",
    "                            batch_first=True)\n",
    "        \n",
    "        self.output = nn.Linear(in_features=HIDDEN_DIM,\n",
    "                                out_features=vocab_size)\n",
    "        \n",
    "    def forward(self, x):\n",
    "        x = self.embedding(x)\n",
    "        x, hidden_state = self.lstm(x)\n",
    "        return self.output(x)\n",
    "\n",
    "\n",
    "model = LSTM_Net(len(vocab))\n",
    "torchinfo.summary(model=model, input_size=(BATCH_SIZE, MAX_PAD_LEN+1), \n",
    "                  dtypes=[torch.int64], depth=3)"
   ]
  },
  {
   "cell_type": "markdown",
   "id": "44068c25-c912-4cfd-823d-b0368ca302e9",
   "metadata": {},
   "source": [
    "## 5. Train step functions"
   ]
  },
  {
   "cell_type": "code",
   "execution_count": 15,
   "id": "b9b80bb9-1b77-4ec2-9113-5caccdef4561",
   "metadata": {},
   "outputs": [],
   "source": [
    "class TextGenerator():\n",
    "    def __init__(self, index_to_word):\n",
    "        self.index_to_word = index_to_word\n",
    "\n",
    "    # Scaling the model's output probability with temperature\n",
    "    def sample_from(self, probs, temperature):\n",
    "        probs = probs ** (1 / temperature)\n",
    "        probs = probs / np.sum(probs)\n",
    "        return np.random.choice(len(probs), p=probs), probs\n",
    "\n",
    "    # Generate text\n",
    "    def generate(self, model, start_prompt, max_tokens, temperature, output_info=False):\n",
    "        model.eval()\n",
    "        \n",
    "        start_tokens = vocab(tokenizer(start_prompt))\n",
    "        sample_token = None\n",
    "        info = []\n",
    "        \n",
    "        while len(start_tokens) < max_tokens and sample_token != 0: # also avoid padding index\n",
    "            input_prompts = torch.tensor(start_tokens, device=DEVICE).unsqueeze(0)\n",
    "            probs = model(input_prompts)[0][-1]\n",
    "            probs = nn.functional.softmax(probs, dim=-1)\n",
    "            sample_token, probs = self.sample_from(probs.detach().cpu().numpy(), temperature)\n",
    "            \n",
    "            start_tokens.append(sample_token)\n",
    "            if output_info:\n",
    "                info.append({'token': np.copy(start_tokens), 'word_probs': probs})\n",
    "\n",
    "        output_text = [self.index_to_word[token] for token in start_tokens if token != 0]\n",
    "        print(' '.join(output_text))\n",
    "        return info"
   ]
  },
  {
   "cell_type": "code",
   "execution_count": 16,
   "id": "94b067d3-b05c-4440-be23-8aa533c24b37",
   "metadata": {},
   "outputs": [],
   "source": [
    "# Training function\n",
    "def train_step(model, dataloader, loss_fn, optimizer):\n",
    "    \n",
    "    model.train()\n",
    "    total_loss = 0\n",
    "    \n",
    "    for sources, targets in dataloader:    \n",
    "        optim.zero_grad()\n",
    "    \n",
    "        sources, targets = sources.to(DEVICE), targets.to(DEVICE)\n",
    "        preds = model(sources)\n",
    "        loss = loss_fn(preds.reshape(-1, preds.shape[-1]), targets.reshape(-1))\n",
    "        loss.backward()\n",
    "        optim.step()\n",
    "\n",
    "        total_loss += loss.item()\n",
    "\n",
    "    return total_loss / len(dataloader)\n",
    "\n",
    "\n",
    "# Evaluation function\n",
    "def eval(model, dataloader, loss_fn):\n",
    "\n",
    "    model.eval()\n",
    "    valid_loss = 0\n",
    "    \n",
    "    for sources, targets in dataloader:\n",
    "        sources, targets = sources.to(DEVICE), targets.to(DEVICE)\n",
    "        preds = model(sources)\n",
    "        loss = loss_fn(preds.reshape(-1, preds.shape[-1]), targets.reshape(-1))\n",
    "        valid_loss += loss.item()\n",
    "\n",
    "    return valid_loss / len(dataloader)"
   ]
  },
  {
   "cell_type": "markdown",
   "id": "9ca44dbf-52cf-4863-a696-45d7f24c37f0",
   "metadata": {},
   "source": [
    "## 6. Training"
   ]
  },
  {
   "cell_type": "code",
   "execution_count": 17,
   "id": "b7a4753f-1211-400f-942d-0c28b8dab770",
   "metadata": {},
   "outputs": [],
   "source": [
    "model = LSTM_Net(len(vocab)).to(DEVICE)\n",
    "\n",
    "# if torch.__version__.split('.')[0] == '2':\n",
    "#     torch.set_float32_matmul_precision('high')\n",
    "#     model = torch.compile(model, mode=\"max-autotune\")\n",
    "#     print('model compiled')\n",
    "\n",
    "loss_fn = nn.CrossEntropyLoss()\n",
    "optim = torch.optim.Adam(model.parameters())\n",
    "\n",
    "text_generator = TextGenerator(index_to_word)"
   ]
  },
  {
   "cell_type": "code",
   "execution_count": 18,
   "id": "c4b36ca0-c2ca-4701-9741-2d37041de665",
   "metadata": {},
   "outputs": [
    {
     "name": "stdout",
     "output_type": "stream",
     "text": [
      "Epoch: 1\tepoch time 0.11 min\n",
      "\ttrain loss: 4.2283, valid loss: 3.5230\n",
      "Epoch: 2\tepoch time 0.11 min\n",
      "\ttrain loss: 3.0208, valid loss: 2.7528\n",
      "Epoch: 3\tepoch time 0.11 min\n",
      "\ttrain loss: 2.5472, valid loss: 2.4550\n",
      "Epoch: 4\tepoch time 0.11 min\n",
      "\ttrain loss: 2.3142, valid loss: 2.2764\n",
      "Epoch: 5\tepoch time 0.11 min\n",
      "\ttrain loss: 2.1636, valid loss: 2.1592\n",
      "Epoch: 6\tepoch time 0.11 min\n",
      "\ttrain loss: 2.0621, valid loss: 2.0800\n",
      "Epoch: 7\tepoch time 0.11 min\n",
      "\ttrain loss: 1.9867, valid loss: 2.0197\n",
      "Epoch: 8\tepoch time 0.11 min\n",
      "\ttrain loss: 1.9275, valid loss: 1.9755\n",
      "Epoch: 9\tepoch time 0.11 min\n",
      "\ttrain loss: 1.8799, valid loss: 1.9377\n",
      "Epoch: 10\tepoch time 0.11 min\n",
      "\ttrain loss: 1.8382, valid loss: 1.9050\n",
      "\n",
      "Generated text:\n",
      "recipe for potato root vegetables | blend first 5 ingredients in processor . using electric mixer , beat shells in medium bowl until stiff peaks form . divide batter among parchment nonstick pans . fold 1 piece into pastry overhang until edges are hold cucumbers are golden brown bits . rub onto bottoms ( oil will be visible ) . bake meringues until lean on their sides , about 45 minutes . ( often into warm ) . drizzle 1 / 2 cup tomato cheese over tofu mixture . serve with tuna alongside . roast turkey until skin and cooked\n",
      "\n",
      "\n",
      "Epoch: 11\tepoch time 0.11 min\n",
      "\ttrain loss: 1.8028, valid loss: 1.8784\n",
      "Epoch: 12\tepoch time 0.11 min\n",
      "\ttrain loss: 1.7718, valid loss: 1.8569\n",
      "Epoch: 13\tepoch time 0.11 min\n",
      "\ttrain loss: 1.7438, valid loss: 1.8353\n",
      "Epoch: 14\tepoch time 0.11 min\n",
      "\ttrain loss: 1.7200, valid loss: 1.8229\n",
      "Epoch: 15\tepoch time 0.11 min\n",
      "\ttrain loss: 1.6980, valid loss: 1.8070\n",
      "Epoch: 16\tepoch time 0.11 min\n",
      "\ttrain loss: 1.6792, valid loss: 1.7945\n",
      "Epoch: 17\tepoch time 0.11 min\n",
      "\ttrain loss: 1.6613, valid loss: 1.7849\n",
      "Epoch: 18\tepoch time 0.11 min\n",
      "\ttrain loss: 1.6455, valid loss: 1.7723\n",
      "Epoch: 19\tepoch time 0.11 min\n",
      "\ttrain loss: 1.6299, valid loss: 1.7692\n",
      "Epoch: 20\tepoch time 0.11 min\n",
      "\ttrain loss: 1.6159, valid loss: 1.7581\n",
      "\n",
      "Generated text:\n",
      "recipe for tropical fruit soup | combine garlic and ginger in a bowl . coarsely crush both halves together with parchment paper and line with salt and wine , 1 1 / 2 teaspoons salt , and up to 1 / 2 cup . cut fat lengthwise into 1 / 8 - inch - thick slices . cut each egg crosswise into 4 1 - inch - thick slices , cut filling into 1 - inch pieces and cut slices into 1 / 4 - inch pieces . in a blender purée with remaining ingredients in a blender until smooth\n",
      "\n",
      "\n",
      "Epoch: 21\tepoch time 0.11 min\n",
      "\ttrain loss: 1.6030, valid loss: 1.7512\n",
      "Epoch: 22\tepoch time 0.11 min\n",
      "\ttrain loss: 1.5918, valid loss: 1.7453\n",
      "Epoch: 23\tepoch time 0.11 min\n",
      "\ttrain loss: 1.5798, valid loss: 1.7414\n",
      "Epoch: 24\tepoch time 0.11 min\n",
      "\ttrain loss: 1.5690, valid loss: 1.7365\n",
      "Epoch: 25\tepoch time 0.11 min\n",
      "\ttrain loss: 1.5594, valid loss: 1.7303\n",
      "Epoch: 26\tepoch time 0.11 min\n",
      "\ttrain loss: 1.5495, valid loss: 1.7276\n",
      "Epoch: 27\tepoch time 0.11 min\n",
      "\ttrain loss: 1.5407, valid loss: 1.7261\n",
      "Epoch: 28\tepoch time 0.11 min\n",
      "\ttrain loss: 1.5317, valid loss: 1.7214\n",
      "Epoch: 29\tepoch time 0.11 min\n",
      "\ttrain loss: 1.5236, valid loss: 1.7200\n",
      "Epoch: 30\tepoch time 0.11 min\n",
      "\ttrain loss: 1.5156, valid loss: 1.7185\n",
      "\n",
      "Generated text:\n",
      "recipe for scallops with coriander garlic sauce | season garlic with salt and pepper . heat a wok or heavy skillet over high heat . meanwhile , pat steaks dry and cut them into 1 / 4 - inch - wide pieces . wrap crushed pepper in paper or under the broiler tray over moderate heat . add the greens and transfer it to a plate . if you don ' t serve as the poaching liquid can be served immediately immediately add more toasted scallion leaves . taste for seasoning blend the soup or or serving of cold .\n",
      "\n",
      "\n"
     ]
    }
   ],
   "source": [
    "loss_hist = {'train':[], 'valid':[]}\n",
    "\n",
    "for i in range(EPOCHS):\n",
    "    prev_time = time.time()\n",
    "    train_loss = train_step(model, train_loader, loss_fn, optim)\n",
    "    valid_loss = eval(model, valid_loader, loss_fn)\n",
    "\n",
    "    loss_hist['train'].append(train_loss)\n",
    "    loss_hist['valid'].append(valid_loss)\n",
    "    \n",
    "    curr_time = time.time()\n",
    "    print(f'Epoch: {i+1}\\tepoch time {(curr_time - prev_time) / 60:.2f} min')\n",
    "    print(f'\\ttrain loss: {train_loss:.4f}, valid loss: {valid_loss:.4f}')\n",
    "\n",
    "    if (i + 1) % 10 == 0:\n",
    "        print('\\nGenerated text:')\n",
    "        text_generator.generate(model, 'recipe for', MAX_VAL_TOKENS, 1.0)\n",
    "        print('\\n')"
   ]
  },
  {
   "cell_type": "markdown",
   "id": "676da91c-d20f-4d0f-a6c5-98f73e6a887a",
   "metadata": {},
   "source": [
    "## 7. Generate texts"
   ]
  },
  {
   "cell_type": "code",
   "execution_count": 19,
   "id": "ab6bbcdf-40ba-439b-a3f4-adfc604a2504",
   "metadata": {},
   "outputs": [],
   "source": [
    "# print prompt and top k candidate words probability\n",
    "def print_probs(info, index_to_word, top_k=5):\n",
    "    assert len(info) > 0, 'Please make `output_info=True`'\n",
    "    for i in range(len(info)):\n",
    "        start_tokens, word_probs = info[i].values()\n",
    "        start_prompts = [index_to_word[token] for token in start_tokens if token != 0]\n",
    "        start_prompts = ' '.join(start_prompts)\n",
    "        print(f'\\nPrompt: {start_prompts}')\n",
    "        # word_probs\n",
    "        probs_sorted = np.argsort(word_probs)[::-1][:top_k]\n",
    "        for idx in probs_sorted:\n",
    "            print(f'{index_to_word[idx]}\\t{word_probs[idx] * 100:.2f}%')"
   ]
  },
  {
   "cell_type": "code",
   "execution_count": 20,
   "id": "4b9b3d33-793a-4c33-b387-58e1caa356ef",
   "metadata": {},
   "outputs": [
    {
     "name": "stdout",
     "output_type": "stream",
     "text": [
      "recipe for roast duck lo mein\n",
      "\n",
      "Prompt: recipe for roast duck\n",
      "chicken\t21.73%\n",
      "turkey\t19.65%\n",
      "pork\t11.71%\n",
      "beef\t11.62%\n",
      "rack\t4.90%\n",
      "\n",
      "Prompt: recipe for roast duck lo\n",
      "with\t46.12%\n",
      "breasts\t15.77%\n",
      "legs\t9.92%\n",
      "breast\t9.39%\n",
      "|\t2.87%\n",
      "\n",
      "Prompt: recipe for roast duck lo mein\n",
      "mein\t93.91%\n",
      "with\t1.38%\n",
      "|\t0.26%\n",
      "<unk>\t0.22%\n",
      "lamb\t0.11%\n"
     ]
    }
   ],
   "source": [
    "# Candidate words probability with temperature = 1.0\n",
    "info = text_generator.generate(model, \n",
    "                               'recipe for roast', \n",
    "                               max_tokens=6, \n",
    "                               temperature=1.0, \n",
    "                               output_info=True)\n",
    "\n",
    "print_probs(info, index_to_word, 5)"
   ]
  },
  {
   "cell_type": "code",
   "execution_count": 21,
   "id": "36b3ecf1-b896-4c30-8293-499b10b8d8a7",
   "metadata": {},
   "outputs": [
    {
     "name": "stdout",
     "output_type": "stream",
     "text": [
      "recipe for roast chicken with fresh\n",
      "\n",
      "Prompt: recipe for roast chicken\n",
      "chicken\t59.02%\n",
      "turkey\t35.69%\n",
      "pork\t2.68%\n",
      "beef\t2.58%\n",
      "rack\t0.03%\n",
      "\n",
      "Prompt: recipe for roast chicken with\n",
      "with\t100.00%\n",
      "breasts\t0.00%\n",
      "|\t0.00%\n",
      "thighs\t0.00%\n",
      "legs\t0.00%\n",
      "\n",
      "Prompt: recipe for roast chicken with fresh\n",
      "fresh\t56.15%\n",
      "rosemary\t19.81%\n",
      "lemon\t13.31%\n",
      "roasted\t3.59%\n",
      "garlic\t1.65%\n"
     ]
    }
   ],
   "source": [
    "# Candidate words probability distribution with temperature = 1.0\n",
    "info = text_generator.generate(model, \n",
    "                               'recipe for roast', \n",
    "                               max_tokens=6, \n",
    "                               temperature=0.2, \n",
    "                               output_info=True)\n",
    "\n",
    "print_probs(info, index_to_word, 5)"
   ]
  },
  {
   "cell_type": "code",
   "execution_count": 22,
   "id": "86f03bbb-a19c-441a-bf7b-06d5fc077943",
   "metadata": {},
   "outputs": [
    {
     "name": "stdout",
     "output_type": "stream",
     "text": [
      "recipe for roast chicken breasts | preheat oven to 425°f . halve onions lengthwise , reserving soaking seeds . toss scallions with garlic , salt , and 1 / 2 teaspoon pepper . in a small saucepan combine lemongrass , scallions , and scallions and toss with lime juice , parmesan , salt , and pepper to taste until combined . season with salt , pepper , and remaining herb mixture . garnish with lemon wedges and chives and serve immediately , passing olive oils . ( older chorizo peas can be made 2 hours ahead and refrigerated , punched\n"
     ]
    }
   ],
   "source": [
    "# generate text with temperature = 1.0\n",
    "info = text_generator.generate(model, \n",
    "                               'recipe for roast', \n",
    "                               max_tokens=100, \n",
    "                               temperature=1.0, \n",
    "                               output_info=True)"
   ]
  },
  {
   "cell_type": "code",
   "execution_count": 23,
   "id": "a8334679-0dae-4132-8709-544b8c67f282",
   "metadata": {},
   "outputs": [
    {
     "name": "stdout",
     "output_type": "stream",
     "text": [
      "recipe for roast turkey with creamy mushroom - wine glaze | preheat oven to 350°f . butter 13x9x2 - inch glass baking dish . mix first 4 ingredients in small bowl . season with salt and pepper . place 1 / 4 cup cheese in center of each . sprinkle with salt and pepper . bake until golden brown , about 15 minutes . cool slightly . cut into wedges . ( can be made 1 day ahead . cover and refrigerate . ) preheat oven to 400°f . place 1 / 4 of cheese in center of each of\n"
     ]
    }
   ],
   "source": [
    "# generate text with temperature = 0.2\n",
    "info = text_generator.generate(model, \n",
    "                               'recipe for roast', \n",
    "                               max_tokens=100, \n",
    "                               temperature=0.2, \n",
    "                               output_info=True)"
   ]
  }
 ],
 "metadata": {
  "kernelspec": {
   "display_name": "Python 3 (ipykernel)",
   "language": "python",
   "name": "python3"
  },
  "language_info": {
   "codemirror_mode": {
    "name": "ipython",
    "version": 3
   },
   "file_extension": ".py",
   "mimetype": "text/x-python",
   "name": "python",
   "nbconvert_exporter": "python",
   "pygments_lexer": "ipython3",
   "version": "3.9.17"
  }
 },
 "nbformat": 4,
 "nbformat_minor": 5
}
