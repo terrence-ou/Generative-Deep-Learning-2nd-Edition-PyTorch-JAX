{
 "cells": [
  {
   "cell_type": "markdown",
   "id": "c12c6fab-b046-4739-884f-0a63b9298246",
   "metadata": {},
   "source": [
    "# LSTM on Recipe Data"
   ]
  },
  {
   "cell_type": "markdown",
   "id": "fce0db59-ce7c-432c-afda-2bd1f5a3f666",
   "metadata": {},
   "source": [
    "**The notebook has been adapted from the notebook provided in David Foster's Generative Deep Learning, 2nd Edition.**\n",
    "\n",
    "- Book: [Amazon](https://www.amazon.com/Generative-Deep-Learning-Teaching-Machines/dp/1098134184/ref=sr_1_1?keywords=generative+deep+learning%2C+2nd+edition&qid=1684708209&sprefix=generative+de%2Caps%2C93&sr=8-1)\n",
    "- Original notebook (tensorflow and keras): [Github](https://github.com/davidADSP/Generative_Deep_Learning_2nd_Edition/blob/main/notebooks/05_autoregressive/01_lstm/lstm.ipynb)\n",
    "- Dataset: [Kaggle](https://www.kaggle.com/datasets/hugodarwood/epirecipes)"
   ]
  },
  {
   "cell_type": "code",
   "execution_count": 1,
   "id": "18a75e59-1fd7-4879-8ddc-2534fbdcfc94",
   "metadata": {},
   "outputs": [],
   "source": [
    "import numpy as np\n",
    "import json\n",
    "import re\n",
    "import string\n",
    "\n",
    "import torch\n",
    "from torch import nn\n",
    "from torch.nn.functional import pad\n",
    "from torch.utils.data import Dataset, DataLoader, random_split\n",
    "\n",
    "from torchtext.vocab import build_vocab_from_iterator\n",
    "from torchtext.data.utils import get_tokenizer\n",
    "\n",
    "import torchinfo"
   ]
  },
  {
   "cell_type": "markdown",
   "id": "fedd03ec-0126-4d07-893e-dc454c6d16e2",
   "metadata": {},
   "source": [
    "## 0. Train parameters"
   ]
  },
  {
   "cell_type": "code",
   "execution_count": 2,
   "id": "5d4de63f-867b-4c6b-b0ea-335a385517a6",
   "metadata": {},
   "outputs": [],
   "source": [
    "DATA_DIR = '../../data/epirecipes/full_format_recipes.json'\n",
    "\n",
    "VOCAB_SIZE = 10_000\n",
    "MAX_LEN = 200\n",
    "EMBEDDING_DIM = 100\n",
    "HIDDEN_DIM = 128\n",
    "VALIDATION_SPLIT = 0.2\n",
    "SEED = 1024\n",
    "LOAD_MODEL = False\n",
    "BATCH_SIZE = 32\n",
    "EPOCHS = 25\n",
    "\n",
    "DEVICE = 'cuda' if torch.cuda.is_available() else 'cpu'"
   ]
  },
  {
   "cell_type": "markdown",
   "id": "c48ceccc-efd6-4b85-805a-d3bea8b72120",
   "metadata": {},
   "source": [
    "## 1. Load dataset"
   ]
  },
  {
   "cell_type": "code",
   "execution_count": 3,
   "id": "673da423-0772-4e13-9496-a22e5c5916f9",
   "metadata": {},
   "outputs": [],
   "source": [
    "def pad_punctuation(sentence):\n",
    "    sentence = re.sub(f'([{string.punctuation}])', r' \\1 ', sentence)\n",
    "    sentence = re.sub(' +', ' ', sentence)\n",
    "    return sentence"
   ]
  },
  {
   "cell_type": "code",
   "execution_count": 4,
   "id": "d47ce264-2543-43d3-8eef-7f24d3ecf019",
   "metadata": {},
   "outputs": [],
   "source": [
    "# Load dataset\n",
    "with open(DATA_DIR, 'r+') as f:\n",
    "    recipe_data = json.load(f)"
   ]
  },
  {
   "cell_type": "code",
   "execution_count": 5,
   "id": "b33cbc22-91c1-403b-a602-531cf47455b4",
   "metadata": {},
   "outputs": [
    {
     "name": "stdout",
     "output_type": "stream",
     "text": [
      "Total recipe loaded: 20098\n"
     ]
    }
   ],
   "source": [
    "# preprocess dataset\n",
    "filtered_data = [\n",
    "    'Recipe for ' + x['title'] + ' | ' + ' '.join(x['directions'])\n",
    "    for x in recipe_data\n",
    "    if 'title' in x and x['title']\n",
    "    and 'directions' in x and x['directions']\n",
    "]\n",
    "\n",
    "text_ds = [pad_punctuation(sentence) for sentence in filtered_data]\n",
    "\n",
    "print(f'Total recipe loaded: {len(text_ds)}')"
   ]
  },
  {
   "cell_type": "code",
   "execution_count": 6,
   "id": "bc7d7d85-b07c-4c64-a78e-b5ee38b16120",
   "metadata": {},
   "outputs": [
    {
     "name": "stdout",
     "output_type": "stream",
     "text": [
      "Sample data:\n",
      "Recipe for Meatballs in Tomato Garlic Sauce | In a 9 - inch heavy well - seasoned skillet ( preferably cast - iron ) cook onion and bell pepper in 2 tablespoons oil over moderately low heat , stirring occasionally , until softened and cool mixture . In a large bowl combine well onion mixture , ground meat , bread crumbs , salt , nutmeg , and parsley . Form level tablespoons of mixture into balls ( about 90 ) . In skillet heat 1 tablespoon oil over moderately high heat until hot but not smoking and brown meatballs in batches ( about 16 at a time ) , shaking skillet frequently so that meatballs maintain their shape and adding remaining 3 tablespoons oil as necessary . Transfer meatballs with a slotted spoon as browned to a bowl . In a heavy kettle ( at least 6 quarts ) cook garlic in oil over moderately low heat , stirring , until fragrant , about 15 seconds . Add tomatoes with juice and oregano and simmer , breaking up tomatoes . Add meatballs and simmer , covered , gently stirring occasionally , 25 minutes , or until meatballs are tender and sauce is thickened slightly . Transfer meatballs with slotted spoon to heated serving dish . If sauce seems thin , boil gently , stirring frequently , until thickened to desired consistency . Season sauce with salt and pepper and spoon over meatballs . Meatballs and sauce may be made 2 days ahead , cooled , uncovered , and chilled , covered . Reheat meatballs before serving . \n"
     ]
    }
   ],
   "source": [
    "print('Sample data:')\n",
    "sample_data = np.random.choice(text_ds)\n",
    "print(sample_data)"
   ]
  },
  {
   "cell_type": "markdown",
   "id": "c80f4e5d-fd9a-4c89-ab0e-d82c20d7b690",
   "metadata": {},
   "source": [
    "## 2. Build vocabularies"
   ]
  },
  {
   "cell_type": "code",
   "execution_count": 7,
   "id": "667a7462-74b1-43de-854b-0616f581facb",
   "metadata": {},
   "outputs": [],
   "source": [
    "# The iterator that yields tokenized data\n",
    "def yield_tokens(data_iter, tokenizer):\n",
    "    for sample in data_iter:\n",
    "        yield tokenizer(sample)\n",
    "\n",
    "# Building vocabulary\n",
    "def build_vocab(dataset, tokenizer):\n",
    "    vocab = build_vocab_from_iterator(\n",
    "        yield_tokens(dataset, tokenizer),\n",
    "        min_freq=2,\n",
    "        specials=['<pad>', '<unk>']\n",
    "    )\n",
    "    return vocab"
   ]
  },
  {
   "cell_type": "code",
   "execution_count": 8,
   "id": "30ecca2d-4340-441d-9c82-d9dde0ad2174",
   "metadata": {},
   "outputs": [],
   "source": [
    "tokenizer = get_tokenizer('basic_english')\n",
    "vocab = build_vocab(text_ds, tokenizer)\n",
    "vocab.set_default_index(vocab['<unk>'])"
   ]
  },
  {
   "cell_type": "code",
   "execution_count": 9,
   "id": "ab021f66-5ca0-41bf-9b8e-f0121aaf20ab",
   "metadata": {},
   "outputs": [
    {
     "name": "stdout",
     "output_type": "stream",
     "text": [
      "0: <pad>\n",
      "1: <unk>\n",
      "2: .\n",
      "3: ,\n",
      "4: and\n",
      "5: to\n",
      "6: in\n",
      "7: the\n",
      "8: with\n",
      "9: a\n"
     ]
    }
   ],
   "source": [
    "# display some token-word mappings\n",
    "for i in range(10):\n",
    "    word = vocab.get_itos()[i]\n",
    "    print(f'{i}: {word}')"
   ]
  },
  {
   "cell_type": "code",
   "execution_count": 10,
   "id": "b7a952c5-43da-4428-8a53-6f76afa69974",
   "metadata": {},
   "outputs": [
    {
     "name": "stdout",
     "output_type": "stream",
     "text": [
      "Source text:\n",
      "Recipe for Meatballs in Tomato Garlic Sauce | In a 9 - inch heavy well - seasoned skillet ( preferably cast - iron ) cook onion and bell pepper in 2 tablespoons oil over moderately low heat , stirring occasionally , until softened and cool mixture . In a large bowl combine well onion mixture , ground meat , bread crumbs , salt , nutmeg , and parsley . Form level tablespoons of mixture into balls ( about 90 ) . In skillet heat 1 tablespoon oil over moderately high heat until hot but not smoking and brown meatballs in batches ( about 16 at a time ) , shaking skillet frequently so that meatballs maintain their shape and adding remaining 3 tablespoons oil as necessary . Transfer meatballs with a slotted spoon as browned to a bowl . In a heavy kettle ( at least 6 quarts ) cook garlic in oil over moderately low heat , stirring , until fragrant , about 15 seconds . Add tomatoes with juice and oregano and simmer , breaking up tomatoes . Add meatballs and simmer , covered , gently stirring occasionally , 25 minutes , or until meatballs are tender and sauce is thickened slightly . Transfer meatballs with slotted spoon to heated serving dish . If sauce seems thin , boil gently , stirring frequently , until thickened to desired consistency . Season sauce with salt and pepper and spoon over meatballs . Meatballs and sauce may be made 2 days ahead , cooled , uncovered , and chilled , covered . Reheat meatballs before serving . \n",
      "\n",
      "\n",
      "Mapped sample:\n",
      "[25, 16, 1022, 6, 263, 80, 53, 26, 6, 9, 332, 13, 52, 77, 127, 13, 1058, 54, 33, 1035, 972, 13, 904, 34, 42, 114, 4, 377, 32, 6, 15, 88, 36, 20, 242, 133, 17, 3, 47, 90, 3, 10, 358, 4, 59, 30, 2, 6, 9, 29, 21, 102, 127, 114, 30, 3, 449, 228, 3, 194, 488, 3, 23, 3, 721, 3, 4, 234, 2, 236, 1431, 88, 14, 30, 24, 716, 33, 19, 2922, 34, 2, 6, 54, 17, 11, 132, 36, 20, 242, 74, 17, 10, 135, 156, 143, 438, 4, 89, 1022, 6, 301, 33, 19, 942, 56, 9, 272, 34, 3, 843, 54, 458, 468, 400, 1022, 1104, 775, 702, 4, 365, 44, 35, 88, 36, 150, 397, 2, 39, 1022, 8, 9, 306, 97, 150, 275, 5, 9, 21, 2, 6, 9, 77, 624, 33, 56, 203, 117, 1013, 34, 42, 80, 6, 36, 20, 242, 133, 17, 3, 47, 3, 10, 554, 3, 19, 126, 293, 2, 18, 181, 8, 103, 4, 636, 4, 69, 3, 887, 98, 181, 2, 18, 1022, 4, 69, 3, 120, 3, 184, 47, 90, 3, 353, 12, 3, 40, 10, 1022, 78, 84, 4, 53, 37, 423, 157, 2, 39, 1022, 8, 306, 97, 5, 393, 223, 154, 2, 91, 53, 2077, 352, 3, 68, 184, 3, 47, 458, 3, 10, 423, 5, 316, 714, 2, 62, 53, 8, 23, 4, 32, 4, 97, 20, 1022, 2, 1022, 4, 53, 319, 61, 134, 15, 240, 76, 3, 749, 3, 249, 3, 4, 226, 3, 120, 2, 815, 1022, 164, 223, 2]\n"
     ]
    }
   ],
   "source": [
    "# Check mappings\n",
    "mapped_sample = vocab(tokenizer(sample_data))\n",
    "print('Source text:')\n",
    "print(sample_data)\n",
    "print('\\n')\n",
    "print('Mapped sample:')\n",
    "print(mapped_sample)"
   ]
  },
  {
   "cell_type": "markdown",
   "id": "cd401c53-04a6-4cee-bf39-ae446e6ac2a9",
   "metadata": {},
   "source": [
    "# 3. Create DataLoader"
   ]
  },
  {
   "cell_type": "code",
   "execution_count": 11,
   "id": "1f3d9056-9364-4cb9-ae1c-e43e1fc84a6c",
   "metadata": {},
   "outputs": [],
   "source": [
    "class Collate():\n",
    "    def __init__(self, tokenizer, vocab, max_padding, pad_idx):\n",
    "        self.tokenizer = tokenizer\n",
    "        self.vocab = vocab\n",
    "\n",
    "        self.max_padding = max_padding\n",
    "        self.pad_idx = pad_idx\n",
    "\n",
    "    \n",
    "    def collate_fn(self, batch):\n",
    "        src_list = []\n",
    "        tgt_list = []\n",
    "\n",
    "        # Prepare source and target batch\n",
    "        for sentence in batch:\n",
    "            # convert text to vocab tensor\n",
    "            tokens = self.tokenizer(sentence)\n",
    "            src_mapping = torch.tensor(self.vocab(tokens[:-1]), dtype=torch.int64)\n",
    "            tgt_mapping = torch.tensor(self.vocab(tokens[1:]), dtype=torch.int64)\n",
    "            # pad sequence\n",
    "            src_padded = pad(src_mapping, [0, self.max_padding - len(src_mapping)], value=self.pad_idx)\n",
    "            tgt_padded = pad(tgt_mapping, [0, self.max_padding - len(tgt_mapping)], value=self.pad_idx)\n",
    "            # append padded sequence to corresponding lists\n",
    "            src_list.append(src_padded)\n",
    "            tgt_list.append(tgt_padded)\n",
    "\n",
    "        # stack batch\n",
    "        src = torch.stack(src_list)\n",
    "        tgt = torch.stack(tgt_list)\n",
    "\n",
    "        return (src, tgt)"
   ]
  },
  {
   "cell_type": "code",
   "execution_count": 12,
   "id": "a5aa5a77-c71f-469c-9bb6-681c0be398f7",
   "metadata": {},
   "outputs": [
    {
     "name": "stdout",
     "output_type": "stream",
     "text": [
      "Num. training data: \t 16079\n",
      "Num. validation data: \t 4019\n"
     ]
    }
   ],
   "source": [
    "# Split dataset into training and validation splits\n",
    "train_ds, valid_ds = random_split(text_ds, [1-VALIDATION_SPLIT, VALIDATION_SPLIT])\n",
    "print(\"Num. training data: \\t\", len(train_ds))\n",
    "print(\"Num. validation data: \\t\", len(valid_ds))"
   ]
  },
  {
   "cell_type": "code",
   "execution_count": 13,
   "id": "81a9fcdf-4830-4f63-a3e4-8cf9058ee28f",
   "metadata": {},
   "outputs": [
    {
     "name": "stdout",
     "output_type": "stream",
     "text": [
      "index of <pad> token:  0\n"
     ]
    }
   ],
   "source": [
    "pad_idx = vocab.get_stoi()['<pad>']\n",
    "print('index of <pad> token: ', pad_idx)\n",
    "\n",
    "collate = Collate(tokenizer, vocab, MAX_LEN+1, pad_idx)\n",
    "\n",
    "train_loader = DataLoader(train_ds, batch_size=BATCH_SIZE, \n",
    "                          shuffle=True, num_workers=8, pin_memory=True,\n",
    "                          collate_fn=collate.collate_fn)\n",
    "\n",
    "valid_loader = DataLoader(valid_ds, batch_size=BATCH_SIZE, \n",
    "                          shuffle=False, num_workers=8, pin_memory=True,\n",
    "                          collate_fn=collate.collate_fn)"
   ]
  },
  {
   "cell_type": "markdown",
   "id": "b251e235-0cdd-4c87-9c1e-75d2faa61997",
   "metadata": {},
   "source": [
    "## 4. Build LSTM model"
   ]
  },
  {
   "cell_type": "code",
   "execution_count": 18,
   "id": "cb877b2b-f1df-4ac6-a66f-b0d15bd37557",
   "metadata": {},
   "outputs": [
    {
     "data": {
      "text/plain": [
       "==========================================================================================\n",
       "Layer (type:depth-idx)                   Output Shape              Param #\n",
       "==========================================================================================\n",
       "LSTM_Net                                 [32, 201, 8628]           --\n",
       "├─Embedding: 1-1                         [32, 201, 100]            862,800\n",
       "├─LSTM: 1-2                              [32, 201, 128]            117,760\n",
       "├─Linear: 1-3                            [32, 201, 8628]           1,113,012\n",
       "==========================================================================================\n",
       "Total params: 2,093,572\n",
       "Trainable params: 2,093,572\n",
       "Non-trainable params: 0\n",
       "Total mult-adds (M): 820.66\n",
       "==========================================================================================\n",
       "Input size (MB): 0.05\n",
       "Forward/backward pass size (MB): 455.69\n",
       "Params size (MB): 8.37\n",
       "Estimated Total Size (MB): 464.12\n",
       "=========================================================================================="
      ]
     },
     "execution_count": 18,
     "metadata": {},
     "output_type": "execute_result"
    }
   ],
   "source": [
    "class LSTM_Net(nn.Module):\n",
    "\n",
    "    def __init__(self, vocab_size):\n",
    "        super().__init__()\n",
    "        self.embedding = nn.Embedding(num_embeddings=vocab_size,\n",
    "                                      embedding_dim=EMBEDDING_DIM,\n",
    "                                      padding_idx=pad_idx)\n",
    "        \n",
    "        self.lstm = nn.LSTM(input_size=EMBEDDING_DIM,\n",
    "                            hidden_size=HIDDEN_DIM,\n",
    "                            num_layers=1,\n",
    "                            batch_first=True)\n",
    "        \n",
    "        self.output = nn.Linear(in_features=HIDDEN_DIM,\n",
    "                                out_features=vocab_size)\n",
    "        \n",
    "    def forward(self, x):\n",
    "        x = self.embedding(x)\n",
    "        x, hidden_state = self.lstm(x)\n",
    "        return self.output(x)\n",
    "\n",
    "\n",
    "model = LSTM_Net(len(vocab))\n",
    "torchinfo.summary(model=model, input_size=(BATCH_SIZE, MAX_LEN+1), dtypes=[torch.int64])"
   ]
  },
  {
   "cell_type": "code",
   "execution_count": null,
   "id": "5798aa16-1ba6-470c-8d82-75e43d51d785",
   "metadata": {},
   "outputs": [],
   "source": []
  }
 ],
 "metadata": {
  "kernelspec": {
   "display_name": "Python 3",
   "language": "python",
   "name": "python3"
  },
  "language_info": {
   "codemirror_mode": {
    "name": "ipython",
    "version": 3
   },
   "file_extension": ".py",
   "mimetype": "text/x-python",
   "name": "python",
   "nbconvert_exporter": "python",
   "pygments_lexer": "ipython3",
   "version": "3.9.0"
  }
 },
 "nbformat": 4,
 "nbformat_minor": 5
}
