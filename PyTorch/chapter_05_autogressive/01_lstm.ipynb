{
 "cells": [
  {
   "cell_type": "markdown",
   "id": "c12c6fab-b046-4739-884f-0a63b9298246",
   "metadata": {},
   "source": [
    "# LSTM on Recipe Data"
   ]
  },
  {
   "cell_type": "markdown",
   "id": "fce0db59-ce7c-432c-afda-2bd1f5a3f666",
   "metadata": {},
   "source": [
    "**The notebook has been adapted from the notebook provided in David Foster's Generative Deep Learning, 2nd Edition.**\n",
    "\n",
    "- Book: [Amazon](https://www.amazon.com/Generative-Deep-Learning-Teaching-Machines/dp/1098134184/ref=sr_1_1?keywords=generative+deep+learning%2C+2nd+edition&qid=1684708209&sprefix=generative+de%2Caps%2C93&sr=8-1)\n",
    "- Original notebook (tensorflow and keras): [Github](https://github.com/davidADSP/Generative_Deep_Learning_2nd_Edition/blob/main/notebooks/05_autoregressive/01_lstm/lstm.ipynb)\n",
    "- Dataset: [Kaggle](https://www.kaggle.com/datasets/hugodarwood/epirecipes)"
   ]
  },
  {
   "cell_type": "code",
   "execution_count": 1,
   "id": "18a75e59-1fd7-4879-8ddc-2534fbdcfc94",
   "metadata": {},
   "outputs": [],
   "source": [
    "import numpy as np\n",
    "import json\n",
    "import re\n",
    "import string\n",
    "import time\n",
    "\n",
    "import torch\n",
    "from torch import nn\n",
    "from torch.nn.functional import pad\n",
    "from torch.utils.data import Dataset, DataLoader, random_split\n",
    "\n",
    "from torchtext.vocab import build_vocab_from_iterator\n",
    "from torchtext.data.utils import get_tokenizer\n",
    "\n",
    "import torchinfo"
   ]
  },
  {
   "cell_type": "markdown",
   "id": "fedd03ec-0126-4d07-893e-dc454c6d16e2",
   "metadata": {},
   "source": [
    "## 0. Train parameters"
   ]
  },
  {
   "cell_type": "code",
   "execution_count": 2,
   "id": "5d4de63f-867b-4c6b-b0ea-335a385517a6",
   "metadata": {},
   "outputs": [],
   "source": [
    "DATA_DIR = '../../data/epirecipes/full_format_recipes.json'\n",
    "\n",
    "EMBEDDING_DIM = 100\n",
    "HIDDEN_DIM = 128\n",
    "VALIDATION_SPLIT = 0.2\n",
    "SEED = 1024\n",
    "BATCH_SIZE = 32\n",
    "EPOCHS = 30\n",
    "\n",
    "MAX_PAD_LEN = 200\n",
    "MAX_VAL_TOKENS = 100 # Max number of tokens when generating texts\n",
    "\n",
    "DEVICE = 'cuda' if torch.cuda.is_available() else 'cpu'"
   ]
  },
  {
   "cell_type": "markdown",
   "id": "c48ceccc-efd6-4b85-805a-d3bea8b72120",
   "metadata": {},
   "source": [
    "## 1. Load dataset"
   ]
  },
  {
   "cell_type": "code",
   "execution_count": 3,
   "id": "673da423-0772-4e13-9496-a22e5c5916f9",
   "metadata": {},
   "outputs": [],
   "source": [
    "def pad_punctuation(sentence):\n",
    "    sentence = re.sub(f'([{string.punctuation}])', r' \\1 ', sentence)\n",
    "    sentence = re.sub(' +', ' ', sentence)\n",
    "    return sentence"
   ]
  },
  {
   "cell_type": "code",
   "execution_count": 4,
   "id": "d47ce264-2543-43d3-8eef-7f24d3ecf019",
   "metadata": {},
   "outputs": [],
   "source": [
    "# Load dataset\n",
    "with open(DATA_DIR, 'r+') as f:\n",
    "    recipe_data = json.load(f)"
   ]
  },
  {
   "cell_type": "code",
   "execution_count": 5,
   "id": "b33cbc22-91c1-403b-a602-531cf47455b4",
   "metadata": {},
   "outputs": [
    {
     "name": "stdout",
     "output_type": "stream",
     "text": [
      "Total recipe loaded: 20098\n"
     ]
    }
   ],
   "source": [
    "# preprocess dataset\n",
    "filtered_data = [\n",
    "    'Recipe for ' + x['title'] + ' | ' + ' '.join(x['directions'])\n",
    "    for x in recipe_data\n",
    "    if 'title' in x and x['title']\n",
    "    and 'directions' in x and x['directions']\n",
    "]\n",
    "\n",
    "text_ds = [pad_punctuation(sentence) for sentence in filtered_data]\n",
    "\n",
    "print(f'Total recipe loaded: {len(text_ds)}')"
   ]
  },
  {
   "cell_type": "code",
   "execution_count": 6,
   "id": "bc7d7d85-b07c-4c64-a78e-b5ee38b16120",
   "metadata": {},
   "outputs": [
    {
     "name": "stdout",
     "output_type": "stream",
     "text": [
      "Sample data:\n",
      "Recipe for Tomato Barbecue Baby Back Ribs | Put oven rack in lower third of oven and preheat oven to 350°F . Line a 17 - by 12 - by 1 - inch shallow baking pan with foil . Stir together all sauce ingredients in a 2 - quart heavy saucepan and bring to a boil over moderate heat . Reduce heat and simmer , covered , 15 minutes . Transfer sauce to a food processor and purée until smooth . Coat both sides of ribs with sauce . Arrange ribs , meaty side up , in 1 layer in baking pan , overlapping if necessary . Cover pan tightly with foil and bake ribs 1 hour . Remove foil ( from top ) and bake ribs 1 hour more . \n"
     ]
    }
   ],
   "source": [
    "print('Sample data:')\n",
    "sample_data = np.random.choice(text_ds)\n",
    "print(sample_data)"
   ]
  },
  {
   "cell_type": "markdown",
   "id": "c80f4e5d-fd9a-4c89-ab0e-d82c20d7b690",
   "metadata": {},
   "source": [
    "## 2. Build vocabularies"
   ]
  },
  {
   "cell_type": "code",
   "execution_count": 7,
   "id": "667a7462-74b1-43de-854b-0616f581facb",
   "metadata": {},
   "outputs": [],
   "source": [
    "# The iterator that yields tokenized data\n",
    "def yield_tokens(data_iter, tokenizer):\n",
    "    for sample in data_iter:\n",
    "        yield tokenizer(sample)\n",
    "\n",
    "# Building vocabulary\n",
    "def build_vocab(dataset, tokenizer):\n",
    "    vocab = build_vocab_from_iterator(\n",
    "        yield_tokens(dataset, tokenizer),\n",
    "        min_freq=2,\n",
    "        specials=['<pad>', '<unk>']\n",
    "    )\n",
    "    return vocab"
   ]
  },
  {
   "cell_type": "code",
   "execution_count": 8,
   "id": "30ecca2d-4340-441d-9c82-d9dde0ad2174",
   "metadata": {},
   "outputs": [],
   "source": [
    "tokenizer = get_tokenizer('basic_english')\n",
    "vocab = build_vocab(text_ds, tokenizer)\n",
    "vocab.set_default_index(vocab['<unk>'])\n",
    "\n",
    "# Create index-to-word mapping\n",
    "index_to_word = {index : word for word, index in vocab.get_stoi().items()}"
   ]
  },
  {
   "cell_type": "code",
   "execution_count": 9,
   "id": "ab021f66-5ca0-41bf-9b8e-f0121aaf20ab",
   "metadata": {},
   "outputs": [
    {
     "name": "stdout",
     "output_type": "stream",
     "text": [
      "0: <pad>\n",
      "1: <unk>\n",
      "2: .\n",
      "3: ,\n",
      "4: and\n",
      "5: to\n",
      "6: in\n",
      "7: the\n",
      "8: with\n",
      "9: a\n"
     ]
    }
   ],
   "source": [
    "# display some token-word mappings\n",
    "for i in range(10):\n",
    "    word = vocab.get_itos()[i]\n",
    "    print(f'{i}: {word}')"
   ]
  },
  {
   "cell_type": "code",
   "execution_count": 10,
   "id": "b7a952c5-43da-4428-8a53-6f76afa69974",
   "metadata": {},
   "outputs": [
    {
     "name": "stdout",
     "output_type": "stream",
     "text": [
      "Source text:\n",
      "Recipe for Tomato Barbecue Baby Back Ribs | Put oven rack in lower third of oven and preheat oven to 350°F . Line a 17 - by 12 - by 1 - inch shallow baking pan with foil . Stir together all sauce ingredients in a 2 - quart heavy saucepan and bring to a boil over moderate heat . Reduce heat and simmer , covered , 15 minutes . Transfer sauce to a food processor and purée until smooth . Coat both sides of ribs with sauce . Arrange ribs , meaty side up , in 1 layer in baking pan , overlapping if necessary . Cover pan tightly with foil and bake ribs 1 hour . Remove foil ( from top ) and bake ribs 1 hour more . \n",
      "\n",
      "\n",
      "Mapped sample:\n",
      "[25, 16, 263, 531, 1321, 401, 453, 26, 239, 46, 118, 6, 585, 435, 14, 46, 4, 85, 46, 5, 215, 2, 327, 9, 1460, 13, 179, 193, 13, 179, 11, 13, 52, 341, 57, 43, 8, 166, 2, 41, 109, 121, 53, 130, 6, 9, 15, 13, 248, 77, 79, 4, 83, 5, 9, 68, 20, 267, 17, 2, 152, 17, 4, 69, 3, 120, 3, 126, 12, 2, 39, 53, 5, 9, 289, 187, 4, 322, 10, 140, 2, 162, 405, 128, 14, 453, 8, 53, 2, 158, 453, 3, 2635, 95, 98, 3, 6, 11, 229, 6, 57, 43, 3, 1002, 91, 397, 2, 48, 43, 474, 8, 166, 4, 96, 453, 11, 171, 2, 70, 166, 33, 50, 71, 34, 4, 96, 453, 11, 171, 146, 2]\n"
     ]
    }
   ],
   "source": [
    "# Check mappings\n",
    "mapped_sample = vocab(tokenizer(sample_data))\n",
    "print('Source text:')\n",
    "print(sample_data)\n",
    "print('\\n')\n",
    "print('Mapped sample:')\n",
    "print(mapped_sample)"
   ]
  },
  {
   "cell_type": "markdown",
   "id": "cd401c53-04a6-4cee-bf39-ae446e6ac2a9",
   "metadata": {},
   "source": [
    "# 3. Create DataLoader"
   ]
  },
  {
   "cell_type": "code",
   "execution_count": 11,
   "id": "1f3d9056-9364-4cb9-ae1c-e43e1fc84a6c",
   "metadata": {},
   "outputs": [],
   "source": [
    "class Collate():\n",
    "    def __init__(self, tokenizer, vocab, max_padding, pad_idx):\n",
    "        self.tokenizer = tokenizer\n",
    "        self.vocab = vocab\n",
    "\n",
    "        self.max_padding = max_padding\n",
    "        self.pad_idx = pad_idx\n",
    "\n",
    "    \n",
    "    def collate_fn(self, batch):\n",
    "        src_list = []\n",
    "        tgt_list = []\n",
    "\n",
    "        # Prepare source and target batch\n",
    "        for sentence in batch:\n",
    "            # convert text to vocab tensor\n",
    "            tokens = self.tokenizer(sentence)\n",
    "            src_mapping = torch.tensor(self.vocab(tokens[:-1]), dtype=torch.int64)\n",
    "            tgt_mapping = torch.tensor(self.vocab(tokens[1:]), dtype=torch.int64)\n",
    "            # pad sequence\n",
    "            src_padded = pad(src_mapping, [0, self.max_padding - len(src_mapping)], value=self.pad_idx)\n",
    "            tgt_padded = pad(tgt_mapping, [0, self.max_padding - len(tgt_mapping)], value=self.pad_idx)\n",
    "            # append padded sequence to corresponding lists\n",
    "            src_list.append(src_padded)\n",
    "            tgt_list.append(tgt_padded)\n",
    "\n",
    "        # stack batch\n",
    "        src = torch.stack(src_list)\n",
    "        tgt = torch.stack(tgt_list)\n",
    "\n",
    "        return (src, tgt)"
   ]
  },
  {
   "cell_type": "code",
   "execution_count": 12,
   "id": "a5aa5a77-c71f-469c-9bb6-681c0be398f7",
   "metadata": {},
   "outputs": [
    {
     "name": "stdout",
     "output_type": "stream",
     "text": [
      "Num. training data: \t 16079\n",
      "Num. validation data: \t 4019\n"
     ]
    }
   ],
   "source": [
    "# Split dataset into training and validation splits\n",
    "train_ds, valid_ds = random_split(text_ds, [1-VALIDATION_SPLIT, VALIDATION_SPLIT])\n",
    "print(\"Num. training data: \\t\", len(train_ds))\n",
    "print(\"Num. validation data: \\t\", len(valid_ds))"
   ]
  },
  {
   "cell_type": "code",
   "execution_count": 13,
   "id": "81a9fcdf-4830-4f63-a3e4-8cf9058ee28f",
   "metadata": {},
   "outputs": [
    {
     "name": "stdout",
     "output_type": "stream",
     "text": [
      "index of <pad> token:  0\n"
     ]
    }
   ],
   "source": [
    "pad_idx = vocab.get_stoi()['<pad>']\n",
    "print('index of <pad> token: ', pad_idx)\n",
    "\n",
    "collate = Collate(tokenizer, vocab, MAX_PAD_LEN+1, pad_idx)\n",
    "\n",
    "train_loader = DataLoader(train_ds, batch_size=BATCH_SIZE, \n",
    "                          shuffle=True, num_workers=8, pin_memory=True,\n",
    "                          collate_fn=collate.collate_fn)\n",
    "\n",
    "valid_loader = DataLoader(valid_ds, batch_size=BATCH_SIZE, \n",
    "                          shuffle=False, num_workers=8, pin_memory=True,\n",
    "                          collate_fn=collate.collate_fn)"
   ]
  },
  {
   "cell_type": "markdown",
   "id": "b251e235-0cdd-4c87-9c1e-75d2faa61997",
   "metadata": {},
   "source": [
    "## 4. Build LSTM model"
   ]
  },
  {
   "cell_type": "code",
   "execution_count": 14,
   "id": "cb877b2b-f1df-4ac6-a66f-b0d15bd37557",
   "metadata": {},
   "outputs": [
    {
     "data": {
      "text/plain": [
       "==========================================================================================\n",
       "Layer (type:depth-idx)                   Output Shape              Param #\n",
       "==========================================================================================\n",
       "LSTM_Net                                 [32, 201, 8628]           --\n",
       "├─Embedding: 1-1                         [32, 201, 100]            862,800\n",
       "├─LSTM: 1-2                              [32, 201, 128]            249,856\n",
       "├─Linear: 1-3                            [32, 201, 8628]           1,113,012\n",
       "==========================================================================================\n",
       "Total params: 2,225,668\n",
       "Trainable params: 2,225,668\n",
       "Non-trainable params: 0\n",
       "Total mult-adds (G): 1.67\n",
       "==========================================================================================\n",
       "Input size (MB): 0.05\n",
       "Forward/backward pass size (MB): 455.69\n",
       "Params size (MB): 8.90\n",
       "Estimated Total Size (MB): 464.65\n",
       "=========================================================================================="
      ]
     },
     "execution_count": 14,
     "metadata": {},
     "output_type": "execute_result"
    }
   ],
   "source": [
    "class LSTM_Net(nn.Module):\n",
    "\n",
    "    def __init__(self, vocab_size):\n",
    "        super().__init__()\n",
    "        self.embedding = nn.Embedding(num_embeddings=vocab_size,\n",
    "                                      embedding_dim=EMBEDDING_DIM,\n",
    "                                      padding_idx=pad_idx)\n",
    "        \n",
    "        self.lstm = nn.LSTM(input_size=EMBEDDING_DIM,\n",
    "                            hidden_size=HIDDEN_DIM,\n",
    "                            num_layers=2,\n",
    "                            batch_first=True)\n",
    "        \n",
    "        self.output = nn.Linear(in_features=HIDDEN_DIM,\n",
    "                                out_features=vocab_size)\n",
    "        \n",
    "    def forward(self, x):\n",
    "        x = self.embedding(x)\n",
    "        x, hidden_state = self.lstm(x)\n",
    "        return self.output(x)\n",
    "\n",
    "\n",
    "model = LSTM_Net(len(vocab))\n",
    "torchinfo.summary(model=model, input_size=(BATCH_SIZE, MAX_PAD_LEN+1), dtypes=[torch.int64])"
   ]
  },
  {
   "cell_type": "markdown",
   "id": "44068c25-c912-4cfd-823d-b0368ca302e9",
   "metadata": {},
   "source": [
    "## 5. Train step functions"
   ]
  },
  {
   "cell_type": "code",
   "execution_count": 15,
   "id": "b9b80bb9-1b77-4ec2-9113-5caccdef4561",
   "metadata": {},
   "outputs": [],
   "source": [
    "class TextGenerator():\n",
    "    def __init__(self, index_to_word):\n",
    "        self.index_to_word = index_to_word\n",
    "\n",
    "    # Scaling the model's output probability with temperature\n",
    "    def sample_from(self, probs, temperature):\n",
    "        probs = probs ** (1 / temperature)\n",
    "        probs = probs / np.sum(probs)\n",
    "        return np.random.choice(len(probs), p=probs), probs\n",
    "\n",
    "    # Generate text\n",
    "    def generate(self, model, start_prompt, max_tokens, temperature, output_info=False):\n",
    "        start_tokens = vocab(tokenizer(start_prompt))\n",
    "        sample_token = None\n",
    "        info = []\n",
    "        \n",
    "        while len(start_tokens) < max_tokens and sample_token != 0: # also avoid padding index\n",
    "            input_prompts = torch.tensor(start_tokens, device=DEVICE).unsqueeze(0)\n",
    "            probs = model(input_prompts)[0][-1]\n",
    "            probs = nn.functional.softmax(probs, dim=-1)\n",
    "            sample_token, probs = self.sample_from(probs.detach().cpu().numpy(), temperature)\n",
    "            \n",
    "            start_tokens.append(sample_token)\n",
    "            if output_info:\n",
    "                info.append({'token': np.copy(start_tokens), 'word_probs': probs})\n",
    "            \n",
    "            del input_prompts\n",
    "\n",
    "        output_text = [self.index_to_word[token] for token in start_tokens if token != 0]\n",
    "        print(' '.join(output_text))\n",
    "        return info"
   ]
  },
  {
   "cell_type": "code",
   "execution_count": 16,
   "id": "94b067d3-b05c-4440-be23-8aa533c24b37",
   "metadata": {},
   "outputs": [],
   "source": [
    "# Training function\n",
    "def train_step(model, dataloader, loss_fn, optimizer):\n",
    "    \n",
    "    model.train()\n",
    "    total_loss = 0\n",
    "    \n",
    "    for sources, targets in dataloader:    \n",
    "        optim.zero_grad()\n",
    "    \n",
    "        sources, targets = sources.to(DEVICE), targets.to(DEVICE)\n",
    "        preds = model(sources)\n",
    "        loss = loss_fn(preds.reshape(-1, preds.shape[-1]), targets.reshape(-1))\n",
    "        loss.backward()\n",
    "        optim.step()\n",
    "\n",
    "        total_loss += loss.item()\n",
    "\n",
    "    return total_loss / len(dataloader)\n",
    "\n",
    "\n",
    "# Evaluation function\n",
    "def eval(model, dataloader, loss_fn):\n",
    "\n",
    "    model.eval()\n",
    "    valid_loss = 0\n",
    "    \n",
    "    for sources, targets in dataloader:\n",
    "        sources, targets = sources.to(DEVICE), targets.to(DEVICE)\n",
    "        preds = model(sources)\n",
    "        loss = loss_fn(preds.reshape(-1, preds.shape[-1]), targets.reshape(-1))\n",
    "        valid_loss += loss.item()\n",
    "\n",
    "    return valid_loss / len(dataloader)"
   ]
  },
  {
   "cell_type": "markdown",
   "id": "9ca44dbf-52cf-4863-a696-45d7f24c37f0",
   "metadata": {},
   "source": [
    "## 6. Training"
   ]
  },
  {
   "cell_type": "code",
   "execution_count": 17,
   "id": "b7a4753f-1211-400f-942d-0c28b8dab770",
   "metadata": {},
   "outputs": [],
   "source": [
    "model = LSTM_Net(len(vocab)).to(DEVICE)\n",
    "loss_fn = nn.CrossEntropyLoss()\n",
    "optim = torch.optim.Adam(model.parameters())\n",
    "\n",
    "text_generator = TextGenerator(index_to_word)"
   ]
  },
  {
   "cell_type": "code",
   "execution_count": 18,
   "id": "c4b36ca0-c2ca-4701-9741-2d37041de665",
   "metadata": {},
   "outputs": [
    {
     "name": "stdout",
     "output_type": "stream",
     "text": [
      "Epoch: 1\tepoch time 0.10 min\n",
      "\ttrain loss: 4.3229, valid loss: 3.6531\n",
      "Epoch: 2\tepoch time 0.10 min\n",
      "\ttrain loss: 3.1213, valid loss: 2.8040\n",
      "Epoch: 3\tepoch time 0.10 min\n",
      "\ttrain loss: 2.6016, valid loss: 2.4894\n",
      "Epoch: 4\tepoch time 0.10 min\n",
      "\ttrain loss: 2.3598, valid loss: 2.3052\n",
      "Epoch: 5\tepoch time 0.10 min\n",
      "\ttrain loss: 2.2058, valid loss: 2.1854\n",
      "Epoch: 6\tepoch time 0.10 min\n",
      "\ttrain loss: 2.0972, valid loss: 2.0987\n",
      "Epoch: 7\tepoch time 0.10 min\n",
      "\ttrain loss: 2.0166, valid loss: 2.0337\n",
      "Epoch: 8\tepoch time 0.10 min\n",
      "\ttrain loss: 1.9530, valid loss: 1.9825\n",
      "Epoch: 9\tepoch time 0.10 min\n",
      "\ttrain loss: 1.8996, valid loss: 1.9395\n",
      "Epoch: 10\tepoch time 0.10 min\n",
      "\ttrain loss: 1.8554, valid loss: 1.9064\n",
      "\n",
      "Generated text:\n",
      "recipe for earl shrimp | preheat oven to 350°f . brush grill lightly . melt oil in heavy large wide pot over high heat . add sear until browned on it . add eggs , flour , gochujang , and remaining 3 / 4 teaspoon salt and simmer just until tender but still evaporate and grains . 4 to 12 1 / 2 - quart shallow slits mixture . spoon mint into bowls . sprinkle salad with 2 lamb cheddar . top with cucumber and chutney . raw egg dates and into two bowls . spoon sparkling sauce over .\n",
      "\n",
      "\n",
      "Epoch: 11\tepoch time 0.10 min\n",
      "\ttrain loss: 1.8176, valid loss: 1.8776\n",
      "Epoch: 12\tepoch time 0.10 min\n",
      "\ttrain loss: 1.7849, valid loss: 1.8547\n",
      "Epoch: 13\tepoch time 0.10 min\n",
      "\ttrain loss: 1.7572, valid loss: 1.8332\n",
      "Epoch: 14\tepoch time 0.10 min\n",
      "\ttrain loss: 1.7327, valid loss: 1.8160\n",
      "Epoch: 15\tepoch time 0.10 min\n",
      "\ttrain loss: 1.7105, valid loss: 1.8027\n",
      "Epoch: 16\tepoch time 0.10 min\n",
      "\ttrain loss: 1.6907, valid loss: 1.7887\n",
      "Epoch: 17\tepoch time 0.10 min\n",
      "\ttrain loss: 1.6721, valid loss: 1.7790\n",
      "Epoch: 18\tepoch time 0.10 min\n",
      "\ttrain loss: 1.6558, valid loss: 1.7686\n",
      "Epoch: 19\tepoch time 0.10 min\n",
      "\ttrain loss: 1.6409, valid loss: 1.7593\n",
      "Epoch: 20\tepoch time 0.10 min\n",
      "\ttrain loss: 1.6263, valid loss: 1.7510\n",
      "\n",
      "Generated text:\n",
      "recipe for creamy sesame soup with broccoli rabe and baby olives , leek , and onion sauces | sprinkle prosciutto with salt and pepper . heat heavy large pot over high heat . add shallots and chives until fresh , about 6 seconds . mix in green onions and green onion sauté 1 minute . add shrimp , broth and green onions and simmer until sauce thickens slightly , about 5 minutes . mix in beef , then watercress and tomato . sprinkle with salt , whisking until top . pour 1 / 3 cup sauce over saute . layer\n",
      "\n",
      "\n",
      "Epoch: 21\tepoch time 0.10 min\n",
      "\ttrain loss: 1.6130, valid loss: 1.7441\n",
      "Epoch: 22\tepoch time 0.10 min\n",
      "\ttrain loss: 1.6005, valid loss: 1.7370\n",
      "Epoch: 23\tepoch time 0.10 min\n",
      "\ttrain loss: 1.5891, valid loss: 1.7316\n",
      "Epoch: 24\tepoch time 0.10 min\n",
      "\ttrain loss: 1.5782, valid loss: 1.7277\n",
      "Epoch: 25\tepoch time 0.10 min\n",
      "\ttrain loss: 1.5682, valid loss: 1.7239\n",
      "Epoch: 26\tepoch time 0.10 min\n",
      "\ttrain loss: 1.5579, valid loss: 1.7187\n",
      "Epoch: 27\tepoch time 0.10 min\n",
      "\ttrain loss: 1.5487, valid loss: 1.7132\n",
      "Epoch: 28\tepoch time 0.10 min\n",
      "\ttrain loss: 1.5403, valid loss: 1.7096\n",
      "Epoch: 29\tepoch time 0.10 min\n",
      "\ttrain loss: 1.5315, valid loss: 1.7092\n",
      "Epoch: 30\tepoch time 0.10 min\n",
      "\ttrain loss: 1.5239, valid loss: 1.7044\n",
      "\n",
      "Generated text:\n",
      "recipe for thyme - monsieur skirt carnitas | combine all remaining ingredients except lemon peel in blender and process until semi - looking form . season to taste with salt and pepper . ( can be made 1 day ahead . cover and chop to keep refrigerated . ) preheat oven to 350°f . bake fish until golden brown , about 15 minutes . tent loosely with foil and let stand 5 minutes . set rack at lowest position in oven and preheat to 400°f . butter 1 1 / 2 - inch - diameter heavy - duty aluminum foil\n",
      "\n",
      "\n"
     ]
    }
   ],
   "source": [
    "loss_hist = {'train':[], 'valid':[]}\n",
    "\n",
    "for i in range(EPOCHS):\n",
    "    prev_time = time.time()\n",
    "    train_loss = train_step(model, train_loader, loss_fn, optim)\n",
    "    valid_loss = eval(model, valid_loader, loss_fn)\n",
    "\n",
    "    loss_hist['train'].append(train_loss)\n",
    "    loss_hist['valid'].append(valid_loss)\n",
    "    \n",
    "    curr_time = time.time()\n",
    "    print(f'Epoch: {i+1}\\tepoch time {(curr_time - prev_time) / 60:.2f} min')\n",
    "    print(f'\\ttrain loss: {train_loss:.4f}, valid loss: {valid_loss:.4f}')\n",
    "\n",
    "    if (i + 1) % 10 == 0:\n",
    "        print('\\nGenerated text:')\n",
    "        text_generator.generate(model, 'recipe for', MAX_VAL_TOKENS, 1.0)\n",
    "        print('\\n')"
   ]
  },
  {
   "cell_type": "markdown",
   "id": "676da91c-d20f-4d0f-a6c5-98f73e6a887a",
   "metadata": {},
   "source": [
    "## 7. Generate texts"
   ]
  },
  {
   "cell_type": "code",
   "execution_count": 19,
   "id": "ab6bbcdf-40ba-439b-a3f4-adfc604a2504",
   "metadata": {},
   "outputs": [],
   "source": [
    "# print prompt and top k candidate words probability\n",
    "def print_probs(info, index_to_word, top_k=5):\n",
    "    assert len(info) > 0, 'Please make `output_info=True`'\n",
    "    for i in range(len(info)):\n",
    "        start_tokens, word_probs = info[i].values()\n",
    "        start_prompts = [index_to_word[token] for token in start_tokens if token != 0]\n",
    "        start_prompts = ' '.join(start_prompts)\n",
    "        print(f'\\nPrompt: {start_prompts}')\n",
    "        # word_probs\n",
    "        probs_sorted = np.argsort(word_probs)[::-1][:top_k]\n",
    "        for idx in probs_sorted:\n",
    "            print(f'{index_to_word[idx]}\\t{word_probs[idx] * 100:.2f}%')"
   ]
  },
  {
   "cell_type": "code",
   "execution_count": 20,
   "id": "4b9b3d33-793a-4c33-b387-58e1caa356ef",
   "metadata": {},
   "outputs": [
    {
     "name": "stdout",
     "output_type": "stream",
     "text": [
      "recipe for roast - and -\n",
      "\n",
      "Prompt: recipe for roast -\n",
      "turkey\t25.32%\n",
      "chicken\t14.07%\n",
      "pork\t13.27%\n",
      "beef\t10.08%\n",
      "leg\t3.44%\n",
      "\n",
      "Prompt: recipe for roast - and\n",
      "roast\t9.22%\n",
      "roasted\t5.77%\n",
      "spiced\t3.94%\n",
      "vegetable\t3.40%\n",
      "turkey\t2.65%\n",
      "\n",
      "Prompt: recipe for roast - and -\n",
      "-\t84.59%\n",
      "vegetable\t0.79%\n",
      "red\t0.38%\n",
      "smoky\t0.37%\n",
      "spicy\t0.31%\n"
     ]
    }
   ],
   "source": [
    "# Candidate words probability with temperature = 1.0\n",
    "info = text_generator.generate(model, \n",
    "                               'recipe for roast', \n",
    "                               max_tokens=6, \n",
    "                               temperature=1.0, \n",
    "                               output_info=True)\n",
    "\n",
    "print_probs(info, index_to_word, 5)"
   ]
  },
  {
   "cell_type": "code",
   "execution_count": 21,
   "id": "36b3ecf1-b896-4c30-8293-499b10b8d8a7",
   "metadata": {},
   "outputs": [
    {
     "name": "stdout",
     "output_type": "stream",
     "text": [
      "recipe for roast turkey with port\n",
      "\n",
      "Prompt: recipe for roast turkey\n",
      "turkey\t90.69%\n",
      "chicken\t4.81%\n",
      "pork\t3.59%\n",
      "beef\t0.90%\n",
      "leg\t0.00%\n",
      "\n",
      "Prompt: recipe for roast turkey with\n",
      "with\t100.00%\n",
      "and\t0.00%\n",
      "breast\t0.00%\n",
      ",\t0.00%\n",
      "stock\t0.00%\n",
      "\n",
      "Prompt: recipe for roast turkey with port\n",
      "port\t74.78%\n",
      "gravy\t12.70%\n",
      "rosemary\t5.40%\n",
      "sage\t3.00%\n",
      "garlic\t1.03%\n"
     ]
    }
   ],
   "source": [
    "# Candidate words probability distribution with temperature = 1.0\n",
    "info = text_generator.generate(model, \n",
    "                               'recipe for roast', \n",
    "                               max_tokens=6, \n",
    "                               temperature=0.2, \n",
    "                               output_info=True)\n",
    "\n",
    "print_probs(info, index_to_word, 5)"
   ]
  },
  {
   "cell_type": "code",
   "execution_count": 22,
   "id": "86f03bbb-a19c-441a-bf7b-06d5fc077943",
   "metadata": {},
   "outputs": [
    {
     "name": "stdout",
     "output_type": "stream",
     "text": [
      "recipe for roast duck with black bean purée with chiles and shiitake reduction | trim excess fat from potatoes and line a finely chop potatoes , then chop and add to large bowl . pour beans into flour and mix with rubber fork . sprinkle with crabmeat . mix cheese and peanut butter in a medium bowl . mash coarse with salt in cream . add flour in another medium bowl , breaking side comes with a wooden thin to a paste . leaving oil by 1 - inch shoot - size pieces of your hands to avoid lifting shredding\n"
     ]
    }
   ],
   "source": [
    "# generate text with temperature = 1.0\n",
    "info = text_generator.generate(model, \n",
    "                               'recipe for roast', \n",
    "                               max_tokens=100, \n",
    "                               temperature=1.0, \n",
    "                               output_info=True)"
   ]
  },
  {
   "cell_type": "code",
   "execution_count": 23,
   "id": "a8334679-0dae-4132-8709-544b8c67f282",
   "metadata": {},
   "outputs": [
    {
     "name": "stdout",
     "output_type": "stream",
     "text": [
      "recipe for roast turkey with port gravy | preheat oven to 350°f . butter and flour 13x9x2 - inch glass baking dish . whisk egg yolks , salt , and pepper in large bowl to blend . add butter and rub in with fingertips until mixture resembles coarse meal . add 1 / 2 cup oil and 1 / 4 cup parmesan cheese blend until moist clumps form . transfer to large bowl . add 1 / 4 cup oil and 1 / 2 cup oil . season with salt and pepper . place 1 bread slices on work surface\n"
     ]
    }
   ],
   "source": [
    "# generate text with temperature = 0.2\n",
    "info = text_generator.generate(model, \n",
    "                               'recipe for roast', \n",
    "                               max_tokens=100, \n",
    "                               temperature=0.2, \n",
    "                               output_info=True)"
   ]
  }
 ],
 "metadata": {
  "kernelspec": {
   "display_name": "Python 3",
   "language": "python",
   "name": "python3"
  },
  "language_info": {
   "codemirror_mode": {
    "name": "ipython",
    "version": 3
   },
   "file_extension": ".py",
   "mimetype": "text/x-python",
   "name": "python",
   "nbconvert_exporter": "python",
   "pygments_lexer": "ipython3",
   "version": "3.9.0"
  }
 },
 "nbformat": 4,
 "nbformat_minor": 5
}
