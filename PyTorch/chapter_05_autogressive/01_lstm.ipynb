{
 "cells": [
  {
   "cell_type": "markdown",
   "id": "c12c6fab-b046-4739-884f-0a63b9298246",
   "metadata": {},
   "source": [
    "# LSTM on Recipe Data"
   ]
  },
  {
   "cell_type": "markdown",
   "id": "fce0db59-ce7c-432c-afda-2bd1f5a3f666",
   "metadata": {},
   "source": [
    "**The notebook has been adapted from the notebook provided in David Foster's Generative Deep Learning, 2nd Edition.**\n",
    "\n",
    "- Book: [Amazon](https://www.amazon.com/Generative-Deep-Learning-Teaching-Machines/dp/1098134184/ref=sr_1_1?keywords=generative+deep+learning%2C+2nd+edition&qid=1684708209&sprefix=generative+de%2Caps%2C93&sr=8-1)\n",
    "- Original notebook (tensorflow and keras): [Github](https://github.com/davidADSP/Generative_Deep_Learning_2nd_Edition/blob/main/notebooks/05_autoregressive/01_lstm/lstm.ipynb)\n",
    "- Dataset: [Kaggle](https://www.kaggle.com/datasets/hugodarwood/epirecipes)"
   ]
  },
  {
   "cell_type": "code",
   "execution_count": 1,
   "id": "18a75e59-1fd7-4879-8ddc-2534fbdcfc94",
   "metadata": {},
   "outputs": [],
   "source": [
    "import numpy as np\n",
    "import json\n",
    "import re\n",
    "import string\n",
    "\n",
    "import torch\n",
    "from torch import nn\n",
    "from torch.nn.functional import pad\n",
    "from torch.utils.data import Dataset, DataLoader, random_split\n",
    "\n",
    "from torchtext.vocab import build_vocab_from_iterator\n",
    "from torchtext.data.utils import get_tokenizer\n",
    "\n",
    "import torchinfo"
   ]
  },
  {
   "cell_type": "markdown",
   "id": "fedd03ec-0126-4d07-893e-dc454c6d16e2",
   "metadata": {},
   "source": [
    "## 0. Train parameters"
   ]
  },
  {
   "cell_type": "code",
   "execution_count": 56,
   "id": "5d4de63f-867b-4c6b-b0ea-335a385517a6",
   "metadata": {},
   "outputs": [],
   "source": [
    "DATA_DIR = '../../data/epirecipes/full_format_recipes.json'\n",
    "\n",
    "VOCAB_SIZE = 10_000\n",
    "MAX_LEN = 200\n",
    "EMBEDDING_DIM = 100\n",
    "HIDDEN_DIM = 128\n",
    "VALIDATION_SPLIT = 0.2\n",
    "SEED = 1024\n",
    "LOAD_MODEL = False\n",
    "BATCH_SIZE = 32\n",
    "EPOCHS = 25\n",
    "\n",
    "MAX_VAL_TOKENS = 100 # Max number of tokens when generating texts\n",
    "\n",
    "DEVICE = 'cuda' if torch.cuda.is_available() else 'cpu'"
   ]
  },
  {
   "cell_type": "markdown",
   "id": "c48ceccc-efd6-4b85-805a-d3bea8b72120",
   "metadata": {},
   "source": [
    "## 1. Load dataset"
   ]
  },
  {
   "cell_type": "code",
   "execution_count": 3,
   "id": "673da423-0772-4e13-9496-a22e5c5916f9",
   "metadata": {},
   "outputs": [],
   "source": [
    "def pad_punctuation(sentence):\n",
    "    sentence = re.sub(f'([{string.punctuation}])', r' \\1 ', sentence)\n",
    "    sentence = re.sub(' +', ' ', sentence)\n",
    "    return sentence"
   ]
  },
  {
   "cell_type": "code",
   "execution_count": 4,
   "id": "d47ce264-2543-43d3-8eef-7f24d3ecf019",
   "metadata": {},
   "outputs": [],
   "source": [
    "# Load dataset\n",
    "with open(DATA_DIR, 'r+') as f:\n",
    "    recipe_data = json.load(f)"
   ]
  },
  {
   "cell_type": "code",
   "execution_count": 5,
   "id": "b33cbc22-91c1-403b-a602-531cf47455b4",
   "metadata": {},
   "outputs": [
    {
     "name": "stdout",
     "output_type": "stream",
     "text": [
      "Total recipe loaded: 20098\n"
     ]
    }
   ],
   "source": [
    "# preprocess dataset\n",
    "filtered_data = [\n",
    "    'Recipe for ' + x['title'] + ' | ' + ' '.join(x['directions'])\n",
    "    for x in recipe_data\n",
    "    if 'title' in x and x['title']\n",
    "    and 'directions' in x and x['directions']\n",
    "]\n",
    "\n",
    "text_ds = [pad_punctuation(sentence) for sentence in filtered_data]\n",
    "\n",
    "print(f'Total recipe loaded: {len(text_ds)}')"
   ]
  },
  {
   "cell_type": "code",
   "execution_count": 8,
   "id": "bc7d7d85-b07c-4c64-a78e-b5ee38b16120",
   "metadata": {},
   "outputs": [
    {
     "name": "stdout",
     "output_type": "stream",
     "text": [
      "Sample data:\n",
      "Recipe for Chicken with Lemon and Spices | Mix chicken , lemon juice and turmeric in medium bowl . Marinate 30 minutes . Heat oil in large skillet over medium heat . Add onion , ginger and cumin seeds and sauté until onion is tender , about 5 minutes . Add chicken with marinade ; sauté until most of marinade evaporates , about 3 minutes . Add tomatoes with juices , chili powder , salt and paprika . Cover ; simmer 7 minutes . Uncover ; simmer until chicken is cooked through and sauce thickens , about 8 minutes longer . Remove from heat . Mix in sour cream . Season with salt and pepper . \n"
     ]
    }
   ],
   "source": [
    "print('Sample data:')\n",
    "sample_data = np.random.choice(text_ds)\n",
    "print(sample_data)"
   ]
  },
  {
   "cell_type": "markdown",
   "id": "c80f4e5d-fd9a-4c89-ab0e-d82c20d7b690",
   "metadata": {},
   "source": [
    "## 2. Build vocabularies"
   ]
  },
  {
   "cell_type": "code",
   "execution_count": 9,
   "id": "667a7462-74b1-43de-854b-0616f581facb",
   "metadata": {},
   "outputs": [],
   "source": [
    "# The iterator that yields tokenized data\n",
    "def yield_tokens(data_iter, tokenizer):\n",
    "    for sample in data_iter:\n",
    "        yield tokenizer(sample)\n",
    "\n",
    "# Building vocabulary\n",
    "def build_vocab(dataset, tokenizer):\n",
    "    vocab = build_vocab_from_iterator(\n",
    "        yield_tokens(dataset, tokenizer),\n",
    "        min_freq=2,\n",
    "        specials=['<pad>', '<unk>']\n",
    "    )\n",
    "    return vocab"
   ]
  },
  {
   "cell_type": "code",
   "execution_count": 10,
   "id": "30ecca2d-4340-441d-9c82-d9dde0ad2174",
   "metadata": {},
   "outputs": [],
   "source": [
    "tokenizer = get_tokenizer('basic_english')\n",
    "vocab = build_vocab(text_ds, tokenizer)\n",
    "vocab.set_default_index(vocab['<unk>'])"
   ]
  },
  {
   "cell_type": "code",
   "execution_count": 11,
   "id": "ab021f66-5ca0-41bf-9b8e-f0121aaf20ab",
   "metadata": {},
   "outputs": [
    {
     "name": "stdout",
     "output_type": "stream",
     "text": [
      "0: <pad>\n",
      "1: <unk>\n",
      "2: .\n",
      "3: ,\n",
      "4: and\n",
      "5: to\n",
      "6: in\n",
      "7: the\n",
      "8: with\n",
      "9: a\n"
     ]
    }
   ],
   "source": [
    "# display some token-word mappings\n",
    "for i in range(10):\n",
    "    word = vocab.get_itos()[i]\n",
    "    print(f'{i}: {word}')"
   ]
  },
  {
   "cell_type": "code",
   "execution_count": 12,
   "id": "b7a952c5-43da-4428-8a53-6f76afa69974",
   "metadata": {},
   "outputs": [
    {
     "name": "stdout",
     "output_type": "stream",
     "text": [
      "Source text:\n",
      "Recipe for Chicken with Lemon and Spices | Mix chicken , lemon juice and turmeric in medium bowl . Marinate 30 minutes . Heat oil in large skillet over medium heat . Add onion , ginger and cumin seeds and sauté until onion is tender , about 5 minutes . Add chicken with marinade ; sauté until most of marinade evaporates , about 3 minutes . Add tomatoes with juices , chili powder , salt and paprika . Cover ; simmer 7 minutes . Uncover ; simmer until chicken is cooked through and sauce thickens , about 8 minutes longer . Remove from heat . Mix in sour cream . Season with salt and pepper . \n",
      "\n",
      "\n",
      "Mapped sample:\n",
      "[25, 16, 82, 8, 108, 4, 802, 26, 115, 82, 3, 108, 103, 4, 1198, 6, 28, 21, 2, 715, 125, 12, 2, 17, 36, 6, 29, 54, 20, 28, 17, 2, 18, 114, 3, 270, 4, 445, 233, 4, 129, 10, 114, 37, 84, 3, 19, 58, 12, 2, 18, 82, 8, 355, 129, 10, 778, 14, 355, 1207, 3, 19, 35, 12, 2, 18, 181, 8, 231, 3, 539, 300, 3, 23, 4, 735, 2, 48, 69, 340, 12, 2, 758, 69, 10, 82, 37, 182, 101, 4, 53, 524, 3, 19, 112, 12, 364, 2, 70, 50, 17, 2, 115, 6, 466, 75, 2, 62, 8, 23, 4, 32, 2]\n"
     ]
    }
   ],
   "source": [
    "# Check mappings\n",
    "mapped_sample = vocab(tokenizer(sample_data))\n",
    "print('Source text:')\n",
    "print(sample_data)\n",
    "print('\\n')\n",
    "print('Mapped sample:')\n",
    "print(mapped_sample)"
   ]
  },
  {
   "cell_type": "code",
   "execution_count": 13,
   "id": "4a02fc07-c608-489a-8928-86436d92c9be",
   "metadata": {},
   "outputs": [],
   "source": [
    "# Create index-to-word mapping\n",
    "index_to_word = {index : word for word, index in vocab.get_stoi().items()}"
   ]
  },
  {
   "cell_type": "markdown",
   "id": "cd401c53-04a6-4cee-bf39-ae446e6ac2a9",
   "metadata": {},
   "source": [
    "# 3. Create DataLoader"
   ]
  },
  {
   "cell_type": "code",
   "execution_count": 14,
   "id": "1f3d9056-9364-4cb9-ae1c-e43e1fc84a6c",
   "metadata": {},
   "outputs": [],
   "source": [
    "class Collate():\n",
    "    def __init__(self, tokenizer, vocab, max_padding, pad_idx):\n",
    "        self.tokenizer = tokenizer\n",
    "        self.vocab = vocab\n",
    "\n",
    "        self.max_padding = max_padding\n",
    "        self.pad_idx = pad_idx\n",
    "\n",
    "    \n",
    "    def collate_fn(self, batch):\n",
    "        src_list = []\n",
    "        tgt_list = []\n",
    "\n",
    "        # Prepare source and target batch\n",
    "        for sentence in batch:\n",
    "            # convert text to vocab tensor\n",
    "            tokens = self.tokenizer(sentence)\n",
    "            src_mapping = torch.tensor(self.vocab(tokens[:-1]), dtype=torch.int64)\n",
    "            tgt_mapping = torch.tensor(self.vocab(tokens[1:]), dtype=torch.int64)\n",
    "            # pad sequence\n",
    "            src_padded = pad(src_mapping, [0, self.max_padding - len(src_mapping)], value=self.pad_idx)\n",
    "            tgt_padded = pad(tgt_mapping, [0, self.max_padding - len(tgt_mapping)], value=self.pad_idx)\n",
    "            # append padded sequence to corresponding lists\n",
    "            src_list.append(src_padded)\n",
    "            tgt_list.append(tgt_padded)\n",
    "\n",
    "        # stack batch\n",
    "        src = torch.stack(src_list)\n",
    "        tgt = torch.stack(tgt_list)\n",
    "\n",
    "        return (src, tgt)"
   ]
  },
  {
   "cell_type": "code",
   "execution_count": 15,
   "id": "a5aa5a77-c71f-469c-9bb6-681c0be398f7",
   "metadata": {},
   "outputs": [
    {
     "name": "stdout",
     "output_type": "stream",
     "text": [
      "Num. training data: \t 16079\n",
      "Num. validation data: \t 4019\n"
     ]
    }
   ],
   "source": [
    "# Split dataset into training and validation splits\n",
    "train_ds, valid_ds = random_split(text_ds, [1-VALIDATION_SPLIT, VALIDATION_SPLIT])\n",
    "print(\"Num. training data: \\t\", len(train_ds))\n",
    "print(\"Num. validation data: \\t\", len(valid_ds))"
   ]
  },
  {
   "cell_type": "code",
   "execution_count": 16,
   "id": "81a9fcdf-4830-4f63-a3e4-8cf9058ee28f",
   "metadata": {},
   "outputs": [
    {
     "name": "stdout",
     "output_type": "stream",
     "text": [
      "index of <pad> token:  0\n"
     ]
    }
   ],
   "source": [
    "pad_idx = vocab.get_stoi()['<pad>']\n",
    "print('index of <pad> token: ', pad_idx)\n",
    "\n",
    "collate = Collate(tokenizer, vocab, MAX_LEN+1, pad_idx)\n",
    "\n",
    "train_loader = DataLoader(train_ds, batch_size=BATCH_SIZE, \n",
    "                          shuffle=True, num_workers=8, pin_memory=True,\n",
    "                          collate_fn=collate.collate_fn)\n",
    "\n",
    "valid_loader = DataLoader(valid_ds, batch_size=BATCH_SIZE, \n",
    "                          shuffle=False, num_workers=8, pin_memory=True,\n",
    "                          collate_fn=collate.collate_fn)"
   ]
  },
  {
   "cell_type": "markdown",
   "id": "b251e235-0cdd-4c87-9c1e-75d2faa61997",
   "metadata": {},
   "source": [
    "## 4. Build LSTM model"
   ]
  },
  {
   "cell_type": "code",
   "execution_count": 17,
   "id": "cb877b2b-f1df-4ac6-a66f-b0d15bd37557",
   "metadata": {},
   "outputs": [
    {
     "data": {
      "text/plain": [
       "==========================================================================================\n",
       "Layer (type:depth-idx)                   Output Shape              Param #\n",
       "==========================================================================================\n",
       "LSTM_Net                                 [32, 201, 8628]           --\n",
       "├─Embedding: 1-1                         [32, 201, 100]            862,800\n",
       "├─LSTM: 1-2                              [32, 201, 128]            249,856\n",
       "├─Linear: 1-3                            [32, 201, 8628]           1,113,012\n",
       "==========================================================================================\n",
       "Total params: 2,225,668\n",
       "Trainable params: 2,225,668\n",
       "Non-trainable params: 0\n",
       "Total mult-adds (G): 1.67\n",
       "==========================================================================================\n",
       "Input size (MB): 0.05\n",
       "Forward/backward pass size (MB): 455.69\n",
       "Params size (MB): 8.90\n",
       "Estimated Total Size (MB): 464.65\n",
       "=========================================================================================="
      ]
     },
     "execution_count": 17,
     "metadata": {},
     "output_type": "execute_result"
    }
   ],
   "source": [
    "class LSTM_Net(nn.Module):\n",
    "\n",
    "    def __init__(self, vocab_size):\n",
    "        super().__init__()\n",
    "        self.embedding = nn.Embedding(num_embeddings=vocab_size,\n",
    "                                      embedding_dim=EMBEDDING_DIM,\n",
    "                                      padding_idx=pad_idx)\n",
    "        \n",
    "        self.lstm = nn.LSTM(input_size=EMBEDDING_DIM,\n",
    "                            hidden_size=HIDDEN_DIM,\n",
    "                            num_layers=2,\n",
    "                            batch_first=True)\n",
    "        \n",
    "        self.output = nn.Linear(in_features=HIDDEN_DIM,\n",
    "                                out_features=vocab_size)\n",
    "        \n",
    "    def forward(self, x):\n",
    "        x = self.embedding(x)\n",
    "        x, hidden_state = self.lstm(x)\n",
    "        return self.output(x)\n",
    "\n",
    "\n",
    "model = LSTM_Net(len(vocab))\n",
    "torchinfo.summary(model=model, input_size=(BATCH_SIZE, MAX_LEN+1), dtypes=[torch.int64])"
   ]
  },
  {
   "cell_type": "markdown",
   "id": "44068c25-c912-4cfd-823d-b0368ca302e9",
   "metadata": {},
   "source": [
    "## 5. Train step"
   ]
  },
  {
   "cell_type": "code",
   "execution_count": 48,
   "id": "b9b80bb9-1b77-4ec2-9113-5caccdef4561",
   "metadata": {},
   "outputs": [],
   "source": [
    "class TextGenerator():\n",
    "    def __init__(self, index_to_word):\n",
    "        self.index_to_word = index_to_word\n",
    "\n",
    "    # Scaling the model's output probability with temperature\n",
    "    def sample_from(self, probs, temperature):\n",
    "        probs = probs ** (1 / temperature)\n",
    "        probs = probs / np.sum(probs)\n",
    "        return np.random.choice(len(probs), p=probs), probs\n",
    "\n",
    "    # Generate text\n",
    "    def generate(self, model, start_prompt, max_tokens, temperature, output_info=False):\n",
    "        start_tokens = vocab(tokenizer(start_prompt))\n",
    "        sample_token = None\n",
    "        info = []\n",
    "        \n",
    "        while len(start_tokens) < max_tokens and sample_token != 0: # also avoid padding index\n",
    "            input_prompts = torch.tensor(start_tokens, device=DEVICE).unsqueeze(0)\n",
    "            probs = model(input_prompts)[0][-1]\n",
    "            probs = nn.functional.softmax(probs, dim=-1)\n",
    "            sample_token, probs = self.sample_from(probs.detach().cpu().numpy(), temperature)\n",
    "            \n",
    "            start_tokens.append(sample_token)\n",
    "            if output_info:\n",
    "                info.append({'token': start_tokens, 'word_probs': probs})\n",
    "            \n",
    "            del input_prompts\n",
    "\n",
    "        output_text = [self.index_to_word[token] for token in start_tokens if token != 0]\n",
    "        print(' '.join(output_text))\n",
    "        return info"
   ]
  },
  {
   "cell_type": "code",
   "execution_count": 57,
   "id": "94b067d3-b05c-4440-be23-8aa533c24b37",
   "metadata": {},
   "outputs": [],
   "source": [
    "# Training function\n",
    "def train_step(model, dataloader, loss_fn, optimizer):\n",
    "    \n",
    "    model.train()\n",
    "    total_loss = 0\n",
    "    \n",
    "    for sources, targets in dataloader:    \n",
    "        optim.zero_grad()\n",
    "    \n",
    "        sources, targets = sources.to(DEVICE), targets.to(DEVICE)\n",
    "        preds = model(sources)\n",
    "        loss = loss_fn(preds.reshape(-1, preds.shape[-1]), targets.reshape(-1))\n",
    "        loss.backward()\n",
    "        optim.step()\n",
    "\n",
    "        total_loss += loss.item()\n",
    "\n",
    "    return total_loss / len(dataloader)\n",
    "\n",
    "\n",
    "# Evaluation function\n",
    "def eval(model, dataloader, loss_fn, text_generator):\n",
    "\n",
    "    model.eval()\n",
    "    valid_loss = 0\n",
    "    \n",
    "    for sources, targets in dataloader:\n",
    "        sources, targets = sources.to(DEVICE), targets.to(DEVICE)\n",
    "        preds = model(sources)\n",
    "        loss = loss_fn(preds.reshape(-1, preds.shape[1]), targets.reshape(-1))\n",
    "        valid_loss += loss.item()\n",
    "\n",
    "    print('Generated text:')\n",
    "    text_generator.generate(model, 'recipe for', MAX_VAL_TOKENS, 1.0)\n",
    "\n",
    "    return valid_loss / len(dataloader)"
   ]
  },
  {
   "cell_type": "code",
   "execution_count": 20,
   "id": "b7a4753f-1211-400f-942d-0c28b8dab770",
   "metadata": {},
   "outputs": [],
   "source": [
    "model = LSTM_Net(len(vocab)).to(DEVICE)\n",
    "loss_fn = nn.CrossEntropyLoss()\n",
    "optim = torch.optim.Adam(model.parameters())"
   ]
  },
  {
   "cell_type": "code",
   "execution_count": 21,
   "id": "c4b36ca0-c2ca-4701-9741-2d37041de665",
   "metadata": {},
   "outputs": [
    {
     "name": "stdout",
     "output_type": "stream",
     "text": [
      "4.294210517382764\n",
      "3.0403269398994524\n",
      "2.5794293543927473\n",
      "2.3473440361307345\n",
      "2.1972070854179426\n"
     ]
    }
   ],
   "source": [
    "for i in range(5):\n",
    "    train_step(model, train_loader, loss_fn, optim)"
   ]
  },
  {
   "cell_type": "code",
   "execution_count": 49,
   "id": "a8c69991-b4f9-4eb5-a700-61c38f58952d",
   "metadata": {},
   "outputs": [],
   "source": [
    "text_generator = TextGenerator(index_to_word)"
   ]
  },
  {
   "cell_type": "code",
   "execution_count": 54,
   "id": "5a709306-7632-45e8-9cf2-82c097a537c4",
   "metadata": {},
   "outputs": [
    {
     "name": "stdout",
     "output_type": "stream",
     "text": [
      "recipe for lamb salad | cook pork in about 4 of salted water in prepared dish until less forms , about 2 hours . seed chicken and remaining 1 / 4 cup basil and sugar in large bowl to blend . season to taste with salt and pepper . heat a large nonstick skillet over medium , then shape out onto 2 8 is slightly meld . using generous shredded hands , open side up to 18 , 24 side breast or every 1 / 3 inch apart , drizzle quinoa tightly . pour slices over brisket . line 1\n"
     ]
    },
    {
     "data": {
      "text/plain": [
       "[]"
      ]
     },
     "execution_count": 54,
     "metadata": {},
     "output_type": "execute_result"
    }
   ],
   "source": [
    "text_generator.generate(model, 'recipe for', max_tokens=100, temperature=1.0)"
   ]
  },
  {
   "cell_type": "code",
   "execution_count": null,
   "id": "cbf4f7c0-a082-4e7d-9617-2c7eb7e8fdaf",
   "metadata": {},
   "outputs": [],
   "source": []
  }
 ],
 "metadata": {
  "kernelspec": {
   "display_name": "Python 3",
   "language": "python",
   "name": "python3"
  },
  "language_info": {
   "codemirror_mode": {
    "name": "ipython",
    "version": 3
   },
   "file_extension": ".py",
   "mimetype": "text/x-python",
   "name": "python",
   "nbconvert_exporter": "python",
   "pygments_lexer": "ipython3",
   "version": "3.9.0"
  }
 },
 "nbformat": 4,
 "nbformat_minor": 5
}
